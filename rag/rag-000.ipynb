{
 "cells": [
  {
   "cell_type": "markdown",
   "id": "ed515b03-c2e2-449f-87f1-f58a6855657b",
   "metadata": {},
   "source": [
    "# Developer quickstart"
   ]
  },
  {
   "cell_type": "markdown",
   "id": "c97f2115-419d-4dd8-ba13-3dfc12fe875d",
   "metadata": {},
   "source": [
    "## Initialize a client\n",
    "Initialize a client connection to Pinecone and begin managing your data."
   ]
  },
  {
   "cell_type": "markdown",
   "id": "d4e19829-6e63-4cc2-9ea0-0474dec4233a",
   "metadata": {},
   "source": [
    "### Install the SDK\n",
    "Use an official Pinecone SDK for convenient access to the Pinecone API:"
   ]
  },
  {
   "cell_type": "code",
   "execution_count": 1,
   "id": "468404cb-0148-4acb-87e1-f49e6a0240aa",
   "metadata": {},
   "outputs": [],
   "source": [
    "# !pip install pinecone"
   ]
  },
  {
   "cell_type": "markdown",
   "id": "9265b07f-bc53-4d24-bd7b-ec141aba81a3",
   "metadata": {},
   "source": [
    "### Uninstall pinecone-client (DEPRECATED)\n",
    "- https://pypi.org/project/pinecone-client/\n",
    "- https://pypi.org/project/pinecone/"
   ]
  },
  {
   "cell_type": "code",
   "execution_count": 2,
   "id": "ed43dc9f-39d4-4a63-bed2-335344d90a7a",
   "metadata": {},
   "outputs": [],
   "source": [
    "# !pip show pinecone\n",
    "# !pip show pinecone-client\n",
    "\n",
    "# !pip uninstall pinecone-client pinecone\n",
    "# !pip install pinecone"
   ]
  },
  {
   "cell_type": "markdown",
   "id": "23d2c162-f6c7-4510-890d-edd02a17b1d8",
   "metadata": {},
   "source": [
    "### Get your API key\n",
    "You need an API key to make API calls to your Pinecone project."
   ]
  },
  {
   "cell_type": "code",
   "execution_count": 3,
   "id": "d0429f5f-cc3c-46c1-8c50-d51e83c59079",
   "metadata": {},
   "outputs": [],
   "source": [
    "import os\n",
    "from dotenv import load_dotenv"
   ]
  },
  {
   "cell_type": "code",
   "execution_count": 4,
   "id": "c555dd8b-713d-451e-945d-192948fd2713",
   "metadata": {},
   "outputs": [
    {
     "name": "stdout",
     "output_type": "stream",
     "text": [
      "us-east-1\n"
     ]
    }
   ],
   "source": [
    "# Load environment variables from .env file\n",
    "load_dotenv()\n",
    "\n",
    "pinecone_api_key = os.getenv('PINECONE_API_KEY')\n",
    "pinecone_environment = os.getenv('PINECONE_ENVIRONMENT')\n",
    "\n",
    "# print(pinecone_api_key)\n",
    "print(pinecone_environment)  # region"
   ]
  },
  {
   "cell_type": "markdown",
   "id": "cef2db7c-2f15-4cd2-8f0b-0a6fadc8c62d",
   "metadata": {},
   "source": [
    "### Initialize a client\n",
    "Using your API key, initialize your client connection to Pinecone:"
   ]
  },
  {
   "cell_type": "code",
   "execution_count": 5,
   "id": "98780a76-e7fa-4570-842c-20d70c8db25a",
   "metadata": {},
   "outputs": [],
   "source": [
    "from pinecone import Pinecone, ServerlessSpec\n",
    "\n",
    "pc = Pinecone(api_key=pinecone_api_key)"
   ]
  },
  {
   "cell_type": "code",
   "execution_count": 6,
   "id": "251638d3-ed15-4276-875b-b7b19a9b55c7",
   "metadata": {},
   "outputs": [
    {
     "name": "stdout",
     "output_type": "stream",
     "text": [
      "[]\n"
     ]
    }
   ],
   "source": [
    "print(pc.list_indexes().names())"
   ]
  },
  {
   "cell_type": "markdown",
   "id": "3599a426-8d7b-4ef5-b47d-6dd8e48336bc",
   "metadata": {},
   "source": [
    "## Upsert data\n",
    "Now that you are connected to Pinecone, the next critical step is to set up an index to store your data."
   ]
  },
  {
   "cell_type": "markdown",
   "id": "e74d45dc-1d97-4494-8527-0cfe1abcb146",
   "metadata": {},
   "source": [
    "### Create a serverless index\n",
    "An index defines the dimension of vectors to be stored and the similarity metric to be used when querying them.\n",
    "\n",
    "Create a serverless index with a dimension and similarity metric based on the embedding model you’ll use to create the vector embeddings:"
   ]
  },
  {
   "cell_type": "code",
   "execution_count": 7,
   "id": "41478d94-0066-48c5-a7cf-ab04fe8cfedf",
   "metadata": {},
   "outputs": [
    {
     "data": {
      "text/plain": [
       "{\n",
       "    \"name\": \"quickstart\",\n",
       "    \"metric\": \"cosine\",\n",
       "    \"host\": \"quickstart-4dhlx64.svc.aped-4627-b74a.pinecone.io\",\n",
       "    \"spec\": {\n",
       "        \"serverless\": {\n",
       "            \"cloud\": \"aws\",\n",
       "            \"region\": \"us-east-1\"\n",
       "        }\n",
       "    },\n",
       "    \"status\": {\n",
       "        \"ready\": true,\n",
       "        \"state\": \"Ready\"\n",
       "    },\n",
       "    \"vector_type\": \"dense\",\n",
       "    \"dimension\": 1024,\n",
       "    \"deletion_protection\": \"disabled\",\n",
       "    \"tags\": null\n",
       "}"
      ]
     },
     "execution_count": 7,
     "metadata": {},
     "output_type": "execute_result"
    }
   ],
   "source": [
    "index_name = \"quickstart\"\n",
    "\n",
    "pc.create_index(\n",
    "    name=index_name,\n",
    "    dimension=1024, # Replace with your model dimensions\n",
    "    metric=\"cosine\", # Replace with your model metric\n",
    "    spec=ServerlessSpec(\n",
    "        cloud=\"aws\",\n",
    "        # region=\"us-east-1\"\n",
    "        region=pinecone_environment # \"us-east-1\"\n",
    "    ) \n",
    ")"
   ]
  },
  {
   "cell_type": "markdown",
   "id": "fe4d23d6-f26a-4f58-aa54-2cd08d70a604",
   "metadata": {},
   "source": [
    "### Create vector embeddings\n",
    "A vector embedding is a series of numerical values that represent the meaning and relationships of words, sentences, and other data.\n",
    "\n",
    "Use Pinecone Inference to generate embeddings from sentences related to the word \"apple\":"
   ]
  },
  {
   "cell_type": "code",
   "execution_count": 8,
   "id": "e54c4b1c-66c1-4f93-a5d6-1bb11ed1db37",
   "metadata": {},
   "outputs": [
    {
     "name": "stdout",
     "output_type": "stream",
     "text": [
      "{'vector_type': dense, 'values': [0.04931640625, -0.01328277587890625, ..., -0.0196380615234375, -0.010955810546875]}\n"
     ]
    }
   ],
   "source": [
    "data = [\n",
    "    {\"id\": \"vec1\", \"text\": \"Apple is a popular fruit known for its sweetness and crisp texture.\"},\n",
    "    {\"id\": \"vec2\", \"text\": \"The tech company Apple is known for its innovative products like the iPhone.\"},\n",
    "    {\"id\": \"vec3\", \"text\": \"Many people enjoy eating apples as a healthy snack.\"},\n",
    "    {\"id\": \"vec4\", \"text\": \"Apple Inc. has revolutionized the tech industry with its sleek designs and user-friendly interfaces.\"},\n",
    "    {\"id\": \"vec5\", \"text\": \"An apple a day keeps the doctor away, as the saying goes.\"},\n",
    "    {\"id\": \"vec6\", \"text\": \"Apple Computer Company was founded on April 1, 1976, by Steve Jobs, Steve Wozniak, and Ronald Wayne as a partnership.\"}\n",
    "]\n",
    "\n",
    "embeddings = pc.inference.embed(\n",
    "    model=\"multilingual-e5-large\",\n",
    "    inputs=[d['text'] for d in data],\n",
    "    parameters={\"input_type\": \"passage\", \"truncate\": \"END\"}\n",
    ")\n",
    "print(embeddings[0])"
   ]
  },
  {
   "cell_type": "markdown",
   "id": "601a0416-10a7-4297-9fb1-d24498b769aa",
   "metadata": {},
   "source": [
    "### Upsert data\n",
    "Upsert the six generated vector embeddings into a new ns1 namespace in your index:"
   ]
  },
  {
   "cell_type": "code",
   "execution_count": 9,
   "id": "2180ebae-9ec0-4fb0-84c4-8549a5edfbe7",
   "metadata": {},
   "outputs": [
    {
     "data": {
      "text/plain": [
       "{'upserted_count': 6}"
      ]
     },
     "execution_count": 9,
     "metadata": {},
     "output_type": "execute_result"
    }
   ],
   "source": [
    "# Wait for the index to be ready\n",
    "while not pc.describe_index(index_name).status['ready']:\n",
    "    time.sleep(1)\n",
    "\n",
    "index = pc.Index(index_name)\n",
    "\n",
    "vectors = []\n",
    "for d, e in zip(data, embeddings):\n",
    "    vectors.append({\n",
    "        \"id\": d['id'],\n",
    "        \"values\": e['values'],\n",
    "        \"metadata\": {'text': d['text']}\n",
    "    })\n",
    "\n",
    "index.upsert(\n",
    "    vectors=vectors,\n",
    "    namespace=\"ns1\"\n",
    ")"
   ]
  },
  {
   "cell_type": "markdown",
   "id": "4a0c2c52-8744-42a6-af18-e154d23828c3",
   "metadata": {},
   "source": [
    "### Check the index\n",
    "Use the describe_index_stats operation to check if the current vector count matches the number of vectors you upserted (6):"
   ]
  },
  {
   "cell_type": "code",
   "execution_count": 10,
   "id": "858fe7f7-8a0a-4f3d-94bf-f0b80b2d6c5f",
   "metadata": {},
   "outputs": [
    {
     "name": "stdout",
     "output_type": "stream",
     "text": [
      "{'dimension': 1024,\n",
      " 'index_fullness': 0.0,\n",
      " 'metric': 'cosine',\n",
      " 'namespaces': {'ns1': {'vector_count': 6}},\n",
      " 'total_vector_count': 6,\n",
      " 'vector_type': 'dense'}\n"
     ]
    }
   ],
   "source": [
    "print(index.describe_index_stats())"
   ]
  },
  {
   "cell_type": "markdown",
   "id": "a5eb6e83-edc0-4938-90d6-d21a8acfafa9",
   "metadata": {},
   "source": [
    "## Query\n",
    "Search through the data to find items that are semantically similar to a query vector."
   ]
  },
  {
   "cell_type": "markdown",
   "id": "193e7523-60d2-4cdd-8e44-1df9528acba2",
   "metadata": {},
   "source": [
    "### Create a query vector\n",
    "Use Pinecone Inference to convert a question about the tech company \"Apple\" into a query vector:"
   ]
  },
  {
   "cell_type": "code",
   "execution_count": 11,
   "id": "40e31b90-c54e-43e0-b0a0-0108acf542d6",
   "metadata": {},
   "outputs": [],
   "source": [
    "query = \"Tell me about the tech company known as Apple.\"\n",
    "\n",
    "embedding = pc.inference.embed(\n",
    "    model=\"multilingual-e5-large\",\n",
    "    inputs=[query],\n",
    "    parameters={\n",
    "        \"input_type\": \"query\"\n",
    "    }\n",
    ")"
   ]
  },
  {
   "cell_type": "markdown",
   "id": "a4b8dc1b-1e8d-4cf7-b0c5-5d23bb9a2ce0",
   "metadata": {},
   "source": [
    "### Run a similarity search\n",
    "Query the ns1 namespace for the three vectors that are most similar to the query vector, i.e., the vectors that represent the most relevant answers to your question:"
   ]
  },
  {
   "cell_type": "code",
   "execution_count": 13,
   "id": "bc7c021c-557b-4be8-bd4f-dfc9a73c6c85",
   "metadata": {},
   "outputs": [
    {
     "name": "stdout",
     "output_type": "stream",
     "text": [
      "{'matches': [{'id': 'vec2',\n",
      "              'metadata': {'text': 'The tech company Apple is known for its '\n",
      "                                   'innovative products like the iPhone.'},\n",
      "              'score': 0.872664154,\n",
      "              'values': []},\n",
      "             {'id': 'vec4',\n",
      "              'metadata': {'text': 'Apple Inc. has revolutionized the tech '\n",
      "                                   'industry with its sleek designs and '\n",
      "                                   'user-friendly interfaces.'},\n",
      "              'score': 0.851996362,\n",
      "              'values': []},\n",
      "             {'id': 'vec6',\n",
      "              'metadata': {'text': 'Apple Computer Company was founded on '\n",
      "                                   'April 1, 1976, by Steve Jobs, Steve '\n",
      "                                   'Wozniak, and Ronald Wayne as a '\n",
      "                                   'partnership.'},\n",
      "              'score': 0.850099862,\n",
      "              'values': []}],\n",
      " 'namespace': 'ns1',\n",
      " 'usage': {'read_units': 6}}\n"
     ]
    }
   ],
   "source": [
    "results = index.query(\n",
    "    namespace=\"ns1\",\n",
    "    vector=embedding[0].values,\n",
    "    top_k=3,\n",
    "    include_values=False,\n",
    "    include_metadata=True\n",
    ")\n",
    "\n",
    "print(results)"
   ]
  },
  {
   "cell_type": "code",
   "execution_count": 14,
   "id": "c0354747-6005-4c0c-81ac-5afe12c69931",
   "metadata": {},
   "outputs": [
    {
     "name": "stdout",
     "output_type": "stream",
     "text": [
      "['quickstart']\n"
     ]
    }
   ],
   "source": [
    "print(pc.list_indexes().names())"
   ]
  }
 ],
 "metadata": {
  "kernelspec": {
   "display_name": "Python 3 (ipykernel)",
   "language": "python",
   "name": "python3"
  },
  "language_info": {
   "codemirror_mode": {
    "name": "ipython",
    "version": 3
   },
   "file_extension": ".py",
   "mimetype": "text/x-python",
   "name": "python",
   "nbconvert_exporter": "python",
   "pygments_lexer": "ipython3",
   "version": "3.11.4"
  }
 },
 "nbformat": 4,
 "nbformat_minor": 5
}
