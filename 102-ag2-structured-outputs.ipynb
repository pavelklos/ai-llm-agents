{
 "cells": [
  {
   "cell_type": "markdown",
   "id": "accbde67-9c7e-41b0-9329-8052e2ef365b",
   "metadata": {},
   "source": [
    "# AG2: Structured outputs"
   ]
  },
  {
   "cell_type": "markdown",
   "id": "5cb42466-306d-49b1-b814-6674b60451e4",
   "metadata": {},
   "source": [
    "- Structured outputs<br>\n",
    "  https://docs.ag2.ai/docs/user-guide/basic-concepts/llm-configuration/structured-outputs"
   ]
  },
  {
   "cell_type": "markdown",
   "id": "fa1039ae-8255-4ec0-8c3a-2757a8f0ae95",
   "metadata": {
    "jp-MarkdownHeadingCollapsed": true
   },
   "source": [
    "## SETUP"
   ]
  },
  {
   "cell_type": "code",
   "execution_count": 1,
   "id": "0ce6eafa-f6ef-4ff1-8d54-17b4fcb71612",
   "metadata": {},
   "outputs": [],
   "source": [
    "import os\n",
    "from dotenv import load_dotenv\n",
    "\n",
    "# Load environment variables (for API key)\n",
    "load_dotenv()\n",
    "\n",
    "# Set up OpenAI API key\n",
    "api_key = os.getenv(\"OPENAI_API_KEY\")\n",
    "if not api_key:\n",
    "    raise ValueError(\"Please set the OPENAI_API_KEY environment variable or add it to a .env file\")\n",
    "\n",
    "# Define the model to use\n",
    "MODEL_GPT = \"gpt-4o-mini\""
   ]
  },
  {
   "cell_type": "markdown",
   "id": "93e474d7-bcde-4849-bd5c-78e1b8fd7a66",
   "metadata": {
    "jp-MarkdownHeadingCollapsed": true
   },
   "source": [
    "## Installing AG2\n",
    "We recommended using a virtual environment for your project to keep your packages contained.<br>\n",
    "See **venv**<br>\n",
    "https://docs.python.org/3/library/venv.html"
   ]
  },
  {
   "cell_type": "markdown",
   "id": "64d89c57-5fe9-492a-b7e5-e3458a7cfe2c",
   "metadata": {},
   "source": [
    "Install AG2 with your preferred model provider(s), for example:\n",
    "```\n",
    "pip install ag2[openai]\n",
    "pip install ag2[gemini]\n",
    "pip install ag2[anthropic,cohere,mistral]\n",
    "```"
   ]
  },
  {
   "cell_type": "markdown",
   "id": "dd1ce09e-02c6-484b-ad6c-74e3de0603a0",
   "metadata": {},
   "source": [
    "If you have been using autogen or pyautogen, all you need to do is upgrade it using:\n",
    "```\n",
    "pip install -U autogen[openai]\n",
    "pip install -U pyautogen[openai]\n",
    "```\n",
    "as **pyautogen**, **autogen**, and **ag2** are aliases for the same PyPI package."
   ]
  },
  {
   "cell_type": "markdown",
   "id": "02969098-f3e1-48ca-983a-68f4d9b9415e",
   "metadata": {
    "jp-MarkdownHeadingCollapsed": true
   },
   "source": [
    "## LLM Configuration"
   ]
  },
  {
   "cell_type": "markdown",
   "id": "3cdfd9f8-226f-4b13-9c21-612e34f509dc",
   "metadata": {},
   "source": [
    "```\n",
    "import os\n",
    "\n",
    "llm_config = {\n",
    "  \"config_list\": [\n",
    "    {\n",
    "      \"api_type\": \"openai\",\n",
    "      \"model\": \"gpt-4o-mini\",\n",
    "      \"api_key\": os.environ[\"OPENAI_API_KEY\"]\n",
    "    }\n",
    "  ],\n",
    "}\n",
    "\n",
    "my_agent = ConversableAgent(\n",
    "    name=\"helpful_agent\",\n",
    "    llm_config=llm_config,\n",
    "    system_message=\"You are a poetic AI assistant\",\n",
    ")\n",
    "```"
   ]
  },
  {
   "cell_type": "markdown",
   "id": "7f7342fb-edc8-424e-8cdc-c53012533685",
   "metadata": {
    "jp-MarkdownHeadingCollapsed": true
   },
   "source": [
    "## Create lesson plan (using structured outputs)"
   ]
  },
  {
   "cell_type": "code",
   "execution_count": 2,
   "id": "eb5c1a8e-3c52-4fd2-bb28-00ca02604308",
   "metadata": {},
   "outputs": [],
   "source": [
    "import json\n",
    "from pydantic import BaseModel\n",
    "from autogen import ConversableAgent"
   ]
  },
  {
   "cell_type": "code",
   "execution_count": 3,
   "id": "c59122ec-8511-4a73-97e7-fd1adc103433",
   "metadata": {},
   "outputs": [],
   "source": [
    "# 1. Define our lesson plan structure, a lesson with a number of objectives\n",
    "class LearningObjective(BaseModel):\n",
    "    title: str\n",
    "    description: str\n",
    "\n",
    "\n",
    "class LessonPlan(BaseModel):\n",
    "    title: str\n",
    "    learning_objectives: list[LearningObjective]\n",
    "    script: str\n",
    "\n",
    "\n",
    "# 2. Add our lesson plan structure to the LLM configuration\n",
    "llm_config = {\n",
    "    \"api_type\": \"openai\",\n",
    "    \"model\": \"gpt-4o-mini\",\n",
    "    \"response_format\": LessonPlan,\n",
    "}\n",
    "\n",
    "# 3. The agent's system message doesn't need any formatting instructions\n",
    "system_message = \"\"\"You are a classroom lesson agent.\n",
    "Given a topic, write a lesson plan for a fourth grade class.\n",
    "\"\"\"\n",
    "\n",
    "my_agent = ConversableAgent(\n",
    "    name=\"lesson_agent\",\n",
    "    llm_config=llm_config,\n",
    "    system_message=system_message\n",
    "    )"
   ]
  },
  {
   "cell_type": "code",
   "execution_count": 4,
   "id": "e50a5c99-10bf-45a8-b38c-7a30e779ae3a",
   "metadata": {},
   "outputs": [
    {
     "name": "stdout",
     "output_type": "stream",
     "text": [
      "\u001b[33muser\u001b[0m (to lesson_agent):\n",
      "\n",
      "In one sentence, what's the big deal about AI?\n",
      "\n",
      "--------------------------------------------------------------------------------\n",
      "\u001b[31m\n",
      ">>>>>>>> USING AUTO REPLY...\u001b[0m\n",
      "\u001b[33mlesson_agent\u001b[0m (to user):\n",
      "\n",
      "{\"title\":\"Understanding Artificial Intelligence\",\"learning_objectives\":[{\"title\":\"Identify AI in Daily Life\",\"description\":\"Students will be able to recognize examples of artificial intelligence they encounter in their daily lives.\"},{\"title\":\"Explain How AI Works\",\"description\":\"Students will understand the basic principles of how artificial intelligence operates.\"},{\"title\":\"Discuss the Impact of AI\",\"description\":\"Students will reflect on the positive and negative impacts of artificial intelligence on society.\"}],\"script\":\"Today, we will explore the exciting world of artificial intelligence, or AI. Many of you might have already encountered AI in some form, whether it's through smart assistants like Siri or Alexa, recommendation systems for your favorite shows, or even when you're playing video games. We will begin by discussing what AI is and how it's become a part of our everyday lives. Then, we'll look at how AI is created, including concepts like machine learning and algorithms. Finally, we’ll talk about the implications of AI in our society – what it can do for us and the challenges it may bring. Let’s start with some examples of AI that you have noticed around you!\"}\n",
      "\n",
      "--------------------------------------------------------------------------------\n"
     ]
    },
    {
     "name": "stdin",
     "output_type": "stream",
     "text": [
      "Replying as user. Provide feedback to lesson_agent. Press enter to skip and use auto-reply, or type 'exit' to end the conversation:  exit\n"
     ]
    }
   ],
   "source": [
    "# 4. Chat directly with our agent\n",
    "chat_result = my_agent.run(\"In one sentence, what's the big deal about AI?\")"
   ]
  },
  {
   "cell_type": "code",
   "execution_count": 5,
   "id": "ac214a86-fa36-44ee-9a7a-d5e945d95b98",
   "metadata": {},
   "outputs": [
    {
     "name": "stdout",
     "output_type": "stream",
     "text": [
      "{\n",
      "  \"title\": \"Understanding Artificial Intelligence\",\n",
      "  \"learning_objectives\": [\n",
      "    {\n",
      "      \"title\": \"Identify AI in Daily Life\",\n",
      "      \"description\": \"Students will be able to recognize examples of artificial intelligence they encounter in their daily lives.\"\n",
      "    },\n",
      "    {\n",
      "      \"title\": \"Explain How AI Works\",\n",
      "      \"description\": \"Students will understand the basic principles of how artificial intelligence operates.\"\n",
      "    },\n",
      "    {\n",
      "      \"title\": \"Discuss the Impact of AI\",\n",
      "      \"description\": \"Students will reflect on the positive and negative impacts of artificial intelligence on society.\"\n",
      "    }\n",
      "  ],\n",
      "  \"script\": \"Today, we will explore the exciting world of artificial intelligence, or AI. Many of you might have already encountered AI in some form, whether it's through smart assistants like Siri or Alexa, recommendation systems for your favorite shows, or even when you're playing video games. We will begin by discussing what AI is and how it's become a part of our everyday lives. Then, we'll look at how AI is created, including concepts like machine learning and algorithms. Finally, we\\u2019ll talk about the implications of AI in our society \\u2013 what it can do for us and the challenges it may bring. Let\\u2019s start with some examples of AI that you have noticed around you!\"\n",
      "}\n"
     ]
    }
   ],
   "source": [
    "# 5. Get and print our lesson plan\n",
    "lesson_plan_json = json.loads(chat_result.chat_history[-1][\"content\"])\n",
    "print(json.dumps(lesson_plan_json, indent=2))"
   ]
  }
 ],
 "metadata": {
  "kernelspec": {
   "display_name": "Python 3 (ipykernel)",
   "language": "python",
   "name": "python3"
  },
  "language_info": {
   "codemirror_mode": {
    "name": "ipython",
    "version": 3
   },
   "file_extension": ".py",
   "mimetype": "text/x-python",
   "name": "python",
   "nbconvert_exporter": "python",
   "pygments_lexer": "ipython3",
   "version": "3.11.4"
  }
 },
 "nbformat": 4,
 "nbformat_minor": 5
}
