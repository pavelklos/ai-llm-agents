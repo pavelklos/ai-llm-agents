{
 "cells": [
  {
   "cell_type": "markdown",
   "id": "5ab3af41-4403-47af-874d-9fad67fb05b7",
   "metadata": {},
   "source": [
    "**by DeepSeek**"
   ]
  },
  {
   "cell_type": "markdown",
   "id": "55b3e754-98f4-429e-a4fa-5c41da774503",
   "metadata": {},
   "source": [
    "##  CrewAI AI Agents Example\n",
    "Here's a simple Python application with two different CrewAI agents communicating with each other:"
   ]
  },
  {
   "cell_type": "markdown",
   "id": "0f9210f4-5e9d-4cfb-b115-9b20126b8c48",
   "metadata": {
    "jp-MarkdownHeadingCollapsed": true
   },
   "source": [
    "## GENERATED CODE"
   ]
  },
  {
   "cell_type": "code",
   "execution_count": null,
   "id": "9d62f075-173a-41f6-80c2-8b651fbd634d",
   "metadata": {},
   "outputs": [],
   "source": [
    "# # Install necessary packages\n",
    "# # Run these commands in your terminal or command prompt before running the script\n",
    "# # pip install crewai openai\n",
    "\n",
    "# # Import necessary libraries\n",
    "# from crewai import Agent, Crew\n",
    "# import os\n",
    "\n",
    "# # Set up OpenAI API key\n",
    "# os.environ[\"OPENAI_API_KEY\"] = \"your_openai_api_key_here\"  # Replace with your OpenAI API key\n",
    "\n",
    "# # Define the first agent\n",
    "# researcher = Agent(\n",
    "#     role=\"Researcher\",\n",
    "#     goal=\"Conduct thorough research on given topics and provide detailed insights.\",\n",
    "#     backstory=\"You are a knowledgeable researcher with expertise in analyzing data and extracting key information.\",\n",
    "#     verbose=True,\n",
    "#     model=\"gpt-4\"  # Use GPT-4 model\n",
    "# )\n",
    "\n",
    "# # Define the second agent\n",
    "# writer = Agent(\n",
    "#     role=\"Writer\",\n",
    "#     goal=\"Write engaging and well-structured content based on the research provided.\",\n",
    "#     backstory=\"You are a talented writer with a flair for creating compelling narratives and clear explanations.\",\n",
    "#     verbose=True,\n",
    "#     model=\"gpt-4\"  # Use GPT-4 model\n",
    "# )\n",
    "\n",
    "# # Create a crew with the two agents\n",
    "# crew = Crew(\n",
    "#     agents=[researcher, writer],\n",
    "#     tasks=[\n",
    "#         {\n",
    "#             \"description\": \"Research the latest advancements in AI and machine learning.\",\n",
    "#             \"agent\": researcher\n",
    "#         },\n",
    "#         {\n",
    "#             \"description\": \"Write a blog post summarizing the research findings.\",\n",
    "#             \"agent\": writer\n",
    "#         }\n",
    "#     ],\n",
    "#     verbose=2  # Set verbosity level for debugging\n",
    "# )\n",
    "\n",
    "# # Execute the crew's tasks\n",
    "# result = crew.kickoff()\n",
    "\n",
    "# # Print the result\n",
    "# print(\"Final Output:\")\n",
    "# print(result)"
   ]
  }
 ],
 "metadata": {
  "kernelspec": {
   "display_name": "Python 3 (ipykernel)",
   "language": "python",
   "name": "python3"
  },
  "language_info": {
   "codemirror_mode": {
    "name": "ipython",
    "version": 3
   },
   "file_extension": ".py",
   "mimetype": "text/x-python",
   "name": "python",
   "nbconvert_exporter": "python",
   "pygments_lexer": "ipython3",
   "version": "3.11.4"
  }
 },
 "nbformat": 4,
 "nbformat_minor": 5
}
