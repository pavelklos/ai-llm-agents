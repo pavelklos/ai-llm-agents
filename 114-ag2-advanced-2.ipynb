{
 "cells": [
  {
   "cell_type": "markdown",
   "id": "accbde67-9c7e-41b0-9329-8052e2ef365b",
   "metadata": {},
   "source": [
    "# AG2: GroupChat (Overview)"
   ]
  },
  {
   "cell_type": "markdown",
   "id": "5cb42466-306d-49b1-b814-6674b60451e4",
   "metadata": {},
   "source": [
    "Overview\n",
    "- https://docs.ag2.ai/docs/user-guide/advanced-concepts/groupchat/groupchat"
   ]
  },
  {
   "cell_type": "markdown",
   "id": "fa1039ae-8255-4ec0-8c3a-2757a8f0ae95",
   "metadata": {},
   "source": [
    "## SETUP"
   ]
  },
  {
   "cell_type": "code",
   "execution_count": 1,
   "id": "0ce6eafa-f6ef-4ff1-8d54-17b4fcb71612",
   "metadata": {},
   "outputs": [],
   "source": [
    "import os\n",
    "from dotenv import load_dotenv\n",
    "\n",
    "# Load environment variables (for API key)\n",
    "load_dotenv()\n",
    "\n",
    "# Set up OpenAI API key\n",
    "api_key = os.getenv(\"OPENAI_API_KEY\")\n",
    "if not api_key:\n",
    "    raise ValueError(\"Please set the OPENAI_API_KEY environment variable or add it to a .env file\")\n",
    "\n",
    "# Define the model to use\n",
    "MODEL_GPT = \"gpt-4o-mini\""
   ]
  },
  {
   "cell_type": "markdown",
   "id": "9a1fafae-744f-4334-9670-a33c527d9ca3",
   "metadata": {},
   "source": [
    "## GroupChat"
   ]
  },
  {
   "cell_type": "code",
   "execution_count": 2,
   "id": "a5bf9008-fba0-48fc-8e66-852d242f2e23",
   "metadata": {},
   "outputs": [],
   "source": [
    "# from autogen import ConversableAgent, GroupChat, GroupChatManager, LLMConfig\n",
    "from autogen import ConversableAgent, GroupChat, GroupChatManager\n",
    "\n",
    "# Put your key in the OPENAI_API_KEY environment variable\n",
    "# llm_config = LLMConfig(api_type=\"openai\", model=\"gpt-4o-mini\")\n",
    "llm_config = {\"api_type\": \"openai\", \"model\": \"gpt-4o-mini\", \"api_key\": os.environ[\"OPENAI_API_KEY\"]}\n",
    "\n",
    "planner_message = \"\"\"You are a classroom lesson agent.\n",
    "Given a topic, write a lesson plan for a fourth grade class.\n",
    "Use the following format:\n",
    "<title>Lesson plan title</title>\n",
    "<learning_objectives>Key learning objectives</learning_objectives>\n",
    "<script>How to introduce the topic to the kids</script>\n",
    "\"\"\"\n",
    "\n",
    "# 1. Add a separate 'description' for our planner and reviewer agents\n",
    "planner_description = \"Creates or revises lesson plans.\"\n",
    "\n",
    "lesson_planner = ConversableAgent(\n",
    "    name=\"planner_agent\",\n",
    "    llm_config=llm_config,\n",
    "    system_message=planner_message,\n",
    "    description=planner_description,\n",
    ")\n",
    "\n",
    "reviewer_message = \"\"\"You are a classroom lesson reviewer.\n",
    "You compare the lesson plan to the fourth grade curriculum and provide a maximum of 3 recommended changes.\n",
    "Provide only one round of reviews to a lesson plan.\n",
    "\"\"\"\n",
    "\n",
    "reviewer_description = \"\"\"Provides one round of reviews to a lesson plan\n",
    "for the lesson_planner to revise.\"\"\"\n",
    "\n",
    "lesson_reviewer = ConversableAgent(\n",
    "    name=\"reviewer_agent\",\n",
    "    llm_config=llm_config,\n",
    "    system_message=reviewer_message,\n",
    "    description=reviewer_description,\n",
    ")\n",
    "\n",
    "# 2. The teacher's system message can also be used as a description, so we don't define it\n",
    "teacher_message = \"\"\"You are a classroom teacher.\n",
    "You decide topics for lessons and work with a lesson planner.\n",
    "and reviewer to create and finalise lesson plans.\n",
    "When you are happy with a lesson plan, output \"DONE!\".\n",
    "\"\"\"\n",
    "\n",
    "teacher = ConversableAgent(\n",
    "    name=\"teacher_agent\",\n",
    "    llm_config=llm_config,\n",
    "    system_message=teacher_message,\n",
    "    # 3. Our teacher can end the conversation by saying DONE!\n",
    "    is_termination_msg=lambda x: \"DONE!\" in (x.get(\"content\", \"\") or \"\").upper(),\n",
    ")\n",
    "\n",
    "# 4. Create the GroupChat with agents and selection method\n",
    "groupchat = GroupChat(\n",
    "    agents=[teacher, lesson_planner, lesson_reviewer],\n",
    "    speaker_selection_method=\"auto\",\n",
    "    messages=[],\n",
    ")\n",
    "\n",
    "# 5. Our GroupChatManager will manage the conversation and uses an LLM to select the next agent\n",
    "manager = GroupChatManager(\n",
    "    name=\"group_manager\",\n",
    "    groupchat=groupchat,\n",
    "    llm_config=llm_config,\n",
    ")"
   ]
  },
  {
   "cell_type": "code",
   "execution_count": 3,
   "id": "3ad0eb53-9045-49fa-b726-63af7cda415a",
   "metadata": {},
   "outputs": [
    {
     "name": "stdout",
     "output_type": "stream",
     "text": [
      "\u001b[33mteacher_agent\u001b[0m (to group_manager):\n",
      "\n",
      "Today, let's introduce our kids to the solar system.\n",
      "\n",
      "--------------------------------------------------------------------------------\n",
      "\u001b[32m\n",
      "Next speaker: planner_agent\n",
      "\u001b[0m\n",
      "\u001b[31m\n",
      ">>>>>>>> USING AUTO REPLY...\u001b[0m\n",
      "\u001b[33mplanner_agent\u001b[0m (to group_manager):\n",
      "\n",
      "<title>Exploring the Solar System</title>\n",
      "<learning_objectives>\n",
      "1. Students will be able to identify and name the planets in our solar system.\n",
      "2. Students will understand the basic characteristics of each planet.\n",
      "3. Students will create a simple model of the solar system to demonstrate their understanding.\n",
      "</learning_objectives>\n",
      "<script>\n",
      "\"Good morning, class! Today we’re going to embark on an exciting journey through our solar system! Have you ever looked up at the night sky and wondered about the stars and planets? Today, we’ll learn about the amazing planets that revolve around our sun. \n",
      "\n",
      "Let’s start with a few questions to get everyone thinking: Can anyone name one of the planets in our solar system? How about the sun — what do you think it is? Great answers! \n",
      "\n",
      "Now, I want you all to imagine what it must be like living on a different planet. Would it be hot like Mercury, or cold like Neptune? We will be exploring these different planets, their unique features, and some interesting facts. \n",
      "\n",
      "By the end of our lesson, you’ll be able to name all the planets and even create a model of the solar system! So, are you ready to blast off into space? Let’s get started!\" \n",
      "</script>\n",
      "\n",
      "--------------------------------------------------------------------------------\n",
      "\u001b[32m\n",
      "Next speaker: reviewer_agent\n",
      "\u001b[0m\n",
      "\u001b[31m\n",
      ">>>>>>>> USING AUTO REPLY...\u001b[0m\n",
      "\u001b[33mreviewer_agent\u001b[0m (to group_manager):\n",
      "\n",
      "1. **Reference to the Sun**: It's important to clarify that while the sun is a star at the center of the solar system, the focus of the lesson should primarily be on the planets. You could adjust the lesson to minimize confusion by stating that the focus will be on the planets and briefly explaining the sun's role as a star before transitioning to the planets.\n",
      "\n",
      "2. **Hands-On Activity**: To enhance engagement and align with curriculum standards, consider incorporating a more specific hands-on activity beyond creating a simple model. For example, you might have students create a planet fact card for each of the planets they learn about, which can then be displayed alongside their models. This would reinforce key characteristics and encourage further research.\n",
      "\n",
      "3. **Assessment of Understanding**: There is no mention of how students' understanding will be assessed beyond the creation of a model. Integrate a quick formative assessment, such as a short quiz or a group discussion at the end of the lesson, to evaluate comprehension of the material covered. This will align with common curriculum requirements for assessing learning objectives.\n",
      "\n",
      "--------------------------------------------------------------------------------\n",
      "\u001b[32m\n",
      "Next speaker: planner_agent\n",
      "\u001b[0m\n",
      "\u001b[31m\n",
      ">>>>>>>> USING AUTO REPLY...\u001b[0m\n",
      "\u001b[33mplanner_agent\u001b[0m (to group_manager):\n",
      "\n",
      "<title>Exploring the Solar System</title>\n",
      "<learning_objectives>\n",
      "1. Students will be able to identify and name the planets in our solar system.\n",
      "2. Students will understand the basic characteristics of each planet.\n",
      "3. Students will create a planet fact card for each planet to reinforce learning.\n",
      "4. Students will demonstrate their understanding through a brief group discussion and/or quiz.\n",
      "</learning_objectives>\n",
      "<script>\n",
      "\"Good morning, class! Today we’re going to embark on an exciting journey through our solar system! Have you ever looked up at the night sky and wondered about the stars and planets? Today, our main focus will be on the incredible planets that revolve around our sun, which is the bright star at the center of our solar system. \n",
      "\n",
      "Let’s start with a few questions to get everyone thinking: Can anyone name one of the planets in our solar system? How about the sun — do you know what it is? Wonderful answers! \n",
      "\n",
      "I want you all to imagine living on a different planet. Would it be hot like Mercury, or cold like Neptune? By the end of our lesson, you’ll be able to name all the planets and understand their unique features.\n",
      "\n",
      "To help us remember what we learn, each of you will create a planet fact card. On your card, you’ll write down important information about one of the planets, like what it looks like, any interesting facts, and its position from the sun. These cards will help us share what we find out and display our knowledge alongside the models we will make of the solar system.\n",
      "\n",
      "Finally, we’ll wrap up our lesson with a group discussion to share what we learned or take a quick quiz to see how much information has sunk in. Are you ready to blast off into space? Let’s get started!\" \n",
      "</script>\n",
      "\n",
      "--------------------------------------------------------------------------------\n",
      "\u001b[32m\n",
      "Next speaker: teacher_agent\n",
      "\u001b[0m\n",
      "\u001b[31m\n",
      ">>>>>>>> USING AUTO REPLY...\u001b[0m\n",
      "\u001b[33mteacher_agent\u001b[0m (to group_manager):\n",
      "\n",
      "DONE!\n",
      "\n",
      "--------------------------------------------------------------------------------\n",
      "\u001b[32m\n",
      "Next speaker: teacher_agent\n",
      "\u001b[0m\n"
     ]
    },
    {
     "name": "stdin",
     "output_type": "stream",
     "text": [
      "Please give feedback to group_manager. Press enter or type 'exit' to stop the conversation:  exit\n"
     ]
    }
   ],
   "source": [
    "# 6. Initiate the chat with the GroupChatManager as the recipient\n",
    "chat_result = teacher.initiate_chat(\n",
    "    recipient=manager,\n",
    "    message=\"Today, let's introduce our kids to the solar system.\"\n",
    ")"
   ]
  },
  {
   "cell_type": "code",
   "execution_count": 4,
   "id": "2ccb3fc6-b538-4680-b8d9-39af62e92edd",
   "metadata": {},
   "outputs": [
    {
     "name": "stdout",
     "output_type": "stream",
     "text": [
      "DONE!\n"
     ]
    }
   ],
   "source": [
    "print(chat_result.summary)"
   ]
  },
  {
   "cell_type": "code",
   "execution_count": 5,
   "id": "d0061cdf-bede-4178-bed6-9051fe9fa521",
   "metadata": {},
   "outputs": [
    {
     "name": "stdout",
     "output_type": "stream",
     "text": [
      "5\n",
      "[{'content': \"Today, let's introduce our kids to the solar system.\", 'role': 'assistant', 'name': 'teacher_agent'}, {'content': '<title>Exploring the Solar System</title>\\n<learning_objectives>\\n1. Students will be able to identify and name the planets in our solar system.\\n2. Students will understand the basic characteristics of each planet.\\n3. Students will create a simple model of the solar system to demonstrate their understanding.\\n</learning_objectives>\\n<script>\\n\"Good morning, class! Today we’re going to embark on an exciting journey through our solar system! Have you ever looked up at the night sky and wondered about the stars and planets? Today, we’ll learn about the amazing planets that revolve around our sun. \\n\\nLet’s start with a few questions to get everyone thinking: Can anyone name one of the planets in our solar system? How about the sun — what do you think it is? Great answers! \\n\\nNow, I want you all to imagine what it must be like living on a different planet. Would it be hot like Mercury, or cold like Neptune? We will be exploring these different planets, their unique features, and some interesting facts. \\n\\nBy the end of our lesson, you’ll be able to name all the planets and even create a model of the solar system! So, are you ready to blast off into space? Let’s get started!\" \\n</script>', 'name': 'planner_agent', 'role': 'user'}, {'content': \"1. **Reference to the Sun**: It's important to clarify that while the sun is a star at the center of the solar system, the focus of the lesson should primarily be on the planets. You could adjust the lesson to minimize confusion by stating that the focus will be on the planets and briefly explaining the sun's role as a star before transitioning to the planets.\\n\\n2. **Hands-On Activity**: To enhance engagement and align with curriculum standards, consider incorporating a more specific hands-on activity beyond creating a simple model. For example, you might have students create a planet fact card for each of the planets they learn about, which can then be displayed alongside their models. This would reinforce key characteristics and encourage further research.\\n\\n3. **Assessment of Understanding**: There is no mention of how students' understanding will be assessed beyond the creation of a model. Integrate a quick formative assessment, such as a short quiz or a group discussion at the end of the lesson, to evaluate comprehension of the material covered. This will align with common curriculum requirements for assessing learning objectives.\", 'name': 'reviewer_agent', 'role': 'user'}, {'content': '<title>Exploring the Solar System</title>\\n<learning_objectives>\\n1. Students will be able to identify and name the planets in our solar system.\\n2. Students will understand the basic characteristics of each planet.\\n3. Students will create a planet fact card for each planet to reinforce learning.\\n4. Students will demonstrate their understanding through a brief group discussion and/or quiz.\\n</learning_objectives>\\n<script>\\n\"Good morning, class! Today we’re going to embark on an exciting journey through our solar system! Have you ever looked up at the night sky and wondered about the stars and planets? Today, our main focus will be on the incredible planets that revolve around our sun, which is the bright star at the center of our solar system. \\n\\nLet’s start with a few questions to get everyone thinking: Can anyone name one of the planets in our solar system? How about the sun — do you know what it is? Wonderful answers! \\n\\nI want you all to imagine living on a different planet. Would it be hot like Mercury, or cold like Neptune? By the end of our lesson, you’ll be able to name all the planets and understand their unique features.\\n\\nTo help us remember what we learn, each of you will create a planet fact card. On your card, you’ll write down important information about one of the planets, like what it looks like, any interesting facts, and its position from the sun. These cards will help us share what we find out and display our knowledge alongside the models we will make of the solar system.\\n\\nFinally, we’ll wrap up our lesson with a group discussion to share what we learned or take a quick quiz to see how much information has sunk in. Are you ready to blast off into space? Let’s get started!\" \\n</script>', 'name': 'planner_agent', 'role': 'user'}, {'content': 'DONE!', 'role': 'assistant', 'name': 'teacher_agent'}]\n"
     ]
    }
   ],
   "source": [
    "print(len(chat_result.chat_history))\n",
    "# print(chat_result.chat_history[0])\n",
    "# print(chat_result.chat_history[-1])\n",
    "print(chat_result.chat_history)"
   ]
  }
 ],
 "metadata": {
  "kernelspec": {
   "display_name": "Python 3 (ipykernel)",
   "language": "python",
   "name": "python3"
  },
  "language_info": {
   "codemirror_mode": {
    "name": "ipython",
    "version": 3
   },
   "file_extension": ".py",
   "mimetype": "text/x-python",
   "name": "python",
   "nbconvert_exporter": "python",
   "pygments_lexer": "ipython3",
   "version": "3.11.4"
  }
 },
 "nbformat": 4,
 "nbformat_minor": 5
}
