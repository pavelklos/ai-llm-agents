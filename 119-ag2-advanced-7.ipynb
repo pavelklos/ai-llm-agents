{
 "cells": [
  {
   "cell_type": "markdown",
   "id": "accbde67-9c7e-41b0-9329-8052e2ef365b",
   "metadata": {},
   "source": [
    "# AG2: Swarm (Nested chats)"
   ]
  },
  {
   "cell_type": "markdown",
   "id": "5cb42466-306d-49b1-b814-6674b60451e4",
   "metadata": {},
   "source": [
    "Nested chats\n",
    "- https://docs.ag2.ai/docs/user-guide/advanced-concepts/swarm/nested-chat"
   ]
  },
  {
   "cell_type": "markdown",
   "id": "fa1039ae-8255-4ec0-8c3a-2757a8f0ae95",
   "metadata": {},
   "source": [
    "## SETUP"
   ]
  },
  {
   "cell_type": "code",
   "execution_count": 1,
   "id": "0ce6eafa-f6ef-4ff1-8d54-17b4fcb71612",
   "metadata": {},
   "outputs": [],
   "source": [
    "import os\n",
    "from dotenv import load_dotenv\n",
    "\n",
    "# Load environment variables (for API key)\n",
    "load_dotenv()\n",
    "\n",
    "# Set up OpenAI API key\n",
    "api_key = os.getenv(\"OPENAI_API_KEY\")\n",
    "if not api_key:\n",
    "    raise ValueError(\"Please set the OPENAI_API_KEY environment variable or add it to a .env file\")\n",
    "\n",
    "# Define the model to use\n",
    "MODEL_GPT = \"gpt-4o-mini\""
   ]
  },
  {
   "cell_type": "markdown",
   "id": "d32cb9c8-d0da-418e-b170-248bb1dc37b8",
   "metadata": {},
   "source": [
    "## Registering Handoffs to a nested chat"
   ]
  },
  {
   "cell_type": "markdown",
   "id": "2691ac8f-24f8-4cba-96f5-38cac56cd82a",
   "metadata": {},
   "source": [
    "```python\n",
    "nested_chats = [\n",
    " {\n",
    "        \"recipient\": my_first_agent,\n",
    "        \"summary_method\": \"reflection_with_llm\",\n",
    "        \"summary_prompt\": \"Summarize the conversation into bullet points.\",\n",
    " },\n",
    " {\n",
    "        \"recipient\": poetry_agent,\n",
    "        \"message\": \"Write a poem about the context.\",\n",
    "        \"max_turns\": 1,\n",
    "        \"summary_method\": \"last_msg\",\n",
    " },\n",
    "]\n",
    "```"
   ]
  },
  {
   "cell_type": "markdown",
   "id": "62b1b323-8a0e-4bb0-a62e-4db06da4509d",
   "metadata": {},
   "source": [
    "```python\n",
    "my_carryover_config = {\n",
    "    \"summary_method\": \"reflection_with_llm\",\n",
    "    \"summary_args\": {\"summary_prompt\": \"Summarise the conversation into bullet points.\"}\n",
    " }\n",
    "```"
   ]
  },
  {
   "cell_type": "markdown",
   "id": "21a8c34c-f8c4-4bf9-bc62-9defc295cd85",
   "metadata": {},
   "source": [
    "```python\n",
    "nested_chats = [\n",
    " {\n",
    "        \"recipient\": my_first_agent,\n",
    "        \"summary_method\": \"reflection_with_llm\",\n",
    "        \"summary_prompt\": \"Summarize the conversation into bullet points.\",\n",
    "        \"carryover_config\": my_carryover_config,\n",
    " },\n",
    " {\n",
    "        \"recipient\": poetry_agent,\n",
    "        \"message\": \"Write a poem about the context.\",\n",
    "        \"max_turns\": 1,\n",
    "        \"summary_method\": \"last_msg\",\n",
    " },\n",
    "]\n",
    "```"
   ]
  },
  {
   "cell_type": "markdown",
   "id": "25d3109b-a94f-4f2d-b418-ce3ff2fc8222",
   "metadata": {},
   "source": [
    "```python\n",
    "register_hand_off(\n",
    "    agent=agent_1,\n",
    "    hand_to=[OnCondition(\n",
    "        target={\n",
    "            \"chat_queue\": [nested_chats],\n",
    "            \"config\": Any,\n",
    "            \"reply_func_from_nested_chats\": None,\n",
    "            \"use_async\": False\n",
    "        },\n",
    "        condition=\"condition_1\")\n",
    "])\n",
    "```"
   ]
  }
 ],
 "metadata": {
  "kernelspec": {
   "display_name": "Python 3 (ipykernel)",
   "language": "python",
   "name": "python3"
  },
  "language_info": {
   "codemirror_mode": {
    "name": "ipython",
    "version": 3
   },
   "file_extension": ".py",
   "mimetype": "text/x-python",
   "name": "python",
   "nbconvert_exporter": "python",
   "pygments_lexer": "ipython3",
   "version": "3.11.4"
  }
 },
 "nbformat": 4,
 "nbformat_minor": 5
}
