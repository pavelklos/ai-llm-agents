{
 "cells": [
  {
   "cell_type": "markdown",
   "id": "accbde67-9c7e-41b0-9329-8052e2ef365b",
   "metadata": {},
   "source": [
    "# LangGraph: Code Assistant"
   ]
  },
  {
   "cell_type": "markdown",
   "id": "c7d6dd1d-c374-4eb5-bedd-2e6a0b602198",
   "metadata": {},
   "source": [
    "## Code generation with RAG and self-correction"
   ]
  },
  {
   "cell_type": "markdown",
   "id": "5cb42466-306d-49b1-b814-6674b60451e4",
   "metadata": {},
   "source": [
    "- Code Assistant<br>\n",
    "  https://langchain-ai.github.io/langgraph/tutorials/code_assistant/langgraph_code_assistant/\n",
    "- All models overview<br>\n",
    "  https://docs.anthropic.com/en/docs/about-claude/models/all-models"
   ]
  },
  {
   "cell_type": "markdown",
   "id": "fa1039ae-8255-4ec0-8c3a-2757a8f0ae95",
   "metadata": {},
   "source": [
    "## SETUP"
   ]
  },
  {
   "cell_type": "code",
   "execution_count": 1,
   "id": "0ce6eafa-f6ef-4ff1-8d54-17b4fcb71612",
   "metadata": {},
   "outputs": [],
   "source": [
    "import os\n",
    "from dotenv import load_dotenv\n",
    "\n",
    "# Load environment variables (for API key)\n",
    "load_dotenv()\n",
    "\n",
    "# Set up OpenAI API key\n",
    "api_key = os.getenv(\"OPENAI_API_KEY\")\n",
    "if not api_key:\n",
    "    raise ValueError(\"Please set the OPENAI_API_KEY environment variable or add it to a .env file\")\n",
    "\n",
    "# Define the model to use\n",
    "MODEL_GPT = \"gpt-4o-mini\""
   ]
  },
  {
   "cell_type": "markdown",
   "id": "6786139e-b132-4b37-871f-36d7f6030f1d",
   "metadata": {},
   "source": [
    "## SETUP (LangGraph)"
   ]
  },
  {
   "cell_type": "code",
   "execution_count": 2,
   "id": "89f7e784-68f5-45a2-9068-274ff00ac7a5",
   "metadata": {},
   "outputs": [],
   "source": [
    "# ! pip install -U langchain_community langchain-openai langchain-anthropic langchain langgraph bs4"
   ]
  },
  {
   "cell_type": "code",
   "execution_count": 3,
   "id": "7494aa80-e300-4af8-8c28-17ea79d4cacf",
   "metadata": {},
   "outputs": [],
   "source": [
    "import getpass\n",
    "import os\n",
    "\n",
    "def _set_env(var: str):\n",
    "    if not os.environ.get(var):\n",
    "        os.environ[var] = getpass.getpass(f\"{var}: \")\n",
    "\n",
    "_set_env(\"OPENAI_API_KEY\")\n",
    "_set_env(\"ANTHROPIC_API_KEY\")\n",
    "\n",
    "MODEL_GPT = \"gpt-4o-mini\"\n",
    "MODEL_CLAUDE = \"claude-3-5-haiku-latest\"  # claude-3-5-haiku-20241022\n",
    "# MODEL_CLAUDE = \"claude-3-7-sonnet-latest\"  # claude-3-7-sonnet-20250219"
   ]
  },
  {
   "cell_type": "markdown",
   "id": "5488c612-8d8b-43a0-9995-f48639df5f54",
   "metadata": {},
   "source": [
    "## Docs"
   ]
  },
  {
   "cell_type": "code",
   "execution_count": 4,
   "id": "83be9886-b1a6-477a-9218-b9d3ff4e12cf",
   "metadata": {},
   "outputs": [],
   "source": [
    "from bs4 import BeautifulSoup as Soup\n",
    "from langchain_community.document_loaders.recursive_url_loader import RecursiveUrlLoader\n",
    "\n",
    "# LCEL docs\n",
    "url = \"https://python.langchain.com/docs/concepts/lcel/\"\n",
    "loader = RecursiveUrlLoader(\n",
    "    url=url, max_depth=20, extractor=lambda x: Soup(x, \"html.parser\").text\n",
    ")\n",
    "docs = loader.load()\n",
    "\n",
    "# Sort the list based on the URLs and get the text\n",
    "d_sorted = sorted(docs, key=lambda x: x.metadata[\"source\"])\n",
    "d_reversed = list(reversed(d_sorted))\n",
    "concatenated_content = \"\\n\\n\\n --- \\n\\n\\n\".join(\n",
    "    [doc.page_content for doc in d_reversed]\n",
    ")"
   ]
  },
  {
   "cell_type": "code",
   "execution_count": 5,
   "id": "a9002842-8e4b-418c-9b2d-edc963d7bf92",
   "metadata": {},
   "outputs": [
    {
     "name": "stdout",
     "output_type": "stream",
     "text": [
      "page_content='\n",
      "\n",
      "\n",
      "\n",
      "\n",
      "LangChain Expression Language (LCEL) | 🦜️🔗 LangChain\n",
      "\n",
      "\n",
      "\n",
      "\n",
      "\n",
      "\n",
      "Skip to main contentJoin us at  Interrupt: The Agent AI Conference by LangChain on May 13 & 14 in San Francisco!IntegrationsAPI ReferenceMoreContributingPeopleError referenceLangSmithLangGraphLangChain HubLangChain JS/TSv0.3v0.3v0.2v0.1💬SearchIntroductionTutorialsBuild a Question Answering application over a Graph DatabaseTutorialsBuild a simple LLM application with chat models and prompt templatesBuild a ChatbotBuild a Retrieval Augmented Generation (RAG) App: Part 2Build an Extraction ChainBuild an AgentTaggingBuild a Retrieval Augmented Generation (RAG) App: Part 1Build a semantic search engineBuild a Question/Answering system over SQL dataSummarize TextHow-to guidesHow-to guidesHow to use tools in a chainHow to use a vectorstore as a retrieverHow to add memory to chatbotsHow to use example selectorsHow to add a semantic layer over graph databaseHow to invoke runnables in parallelHow to stream chat model responsesHow to add default invocation args to a RunnableHow to add retrieval to chatbotsHow to use few shot examples in chat modelsHow to do tool/function callingHow to install LangChain packagesHow to add examples to the prompt for query analysisHow to use few shot examplesHow to run custom functionsHow to use output parsers to parse an LLM response into structured formatHow to handle cases where no queries are generatedHow to route between sub-chainsHow to return structured data from a modelHow to summarize text through parallelizationHow to summarize text through iterative refinementHow to summarize text in a single LLM callHow to use toolkitsHow to add ad-hoc tool calling capability to LLMs and Chat ModelsBuild an Agent with AgentExecutor (Legacy)How to construct knowledge graphsHow to partially format prompt templatesHow to handle multiple queries when doing query analysisHow to use built-in tools and toolkitsHow to pass through arguments from one step to the nextHow to compose prompts togetherHow to handle multiple retrievers when doing query analysisHow to add values to a chain's stateHow to construct filters for query analysisHow to configure runtime chain internalsHow deal with high cardinality categoricals when doing query analysisCustom Document LoaderHow to use the MultiQueryRetrieverHow to add scores to retriever resultsCachingHow to use callbacks in async environmentsHow to attach callbacks to a runnableHow to propagate callbacks  constructorHow to dispatch custom callback eventsHow to pass callbacks in at runtimeHow to split by characterHow to cache chat model responsesHow to handle rate limitsHow to init any model in one lineHow to track token usage in ChatModelsHow to add tools to chatbotsHow to split codeHow to do retrieval with contextual compressionHow to convert Runnables to ToolsHow to create custom callback handlersHow to create a custom chat model classCustom EmbeddingsHow to create a custom LLM classCustom RetrieverHow to create toolsHow to debug your LLM appsHow to load CSVsHow to load documents from a directoryHow to load HTMLHow to load JSONHow to load MarkdownHow to load Microsoft Office filesHow to load PDFsHow to load web pagesHow to create a dynamic (self-constructing) chainText embedding modelsHow to combine results from multiple retrieversHow to select examples from a LangSmith datasetHow to select examples by lengthHow to select examples by maximal marginal relevance (MMR)How to select examples by n-gram overlapHow to select examples by similarityHow to use reference examples when doing extractionHow to handle long text when doing extractionHow to use prompting alone (no tool calling) to do extractionHow to add fallbacks to a runnableHow to filter messagesHybrid SearchHow to use the LangChain indexing APIHow to inspect runnablesLangChain Expression Language CheatsheetHow to cache LLM responsesHow to track token usage for LLMsRun models locallyHow to get log probabilitiesHow to reorder retrieved results to mitigate the \"lost in the middle\" effectHow to split Markdown by HeadersHow to merge consecutive messages of the same typeHow to add message historyHow to migrate from legacy LangChain agents to LangGraphHow to retrieve using multiple vectors per documentHow to pass multimodal data directly to modelsHow to use multimodal promptsHow to create a custom Output ParserHow to use the output-fixing parserHow to parse JSON outputHow to retry when a parsing error occursHow to parse text from message objectsHow to parse XML outputHow to parse YAML outputHow to use the Parent Document RetrieverHow to use LangChain with different Pydantic versionsHow to add chat historyHow to get a RAG application to add citationsHow to do per-user retrievalHow to get your RAG application to return sourcesHow to stream results from your RAG applicationHow to split JSON dataHow to recursively split text by charactersResponse metadataHow to pass runtime secrets to runnablesHow to do \"self-querying\" retrievalHow to split text based on semantic similarityHow to chain runnablesHow to save and load LangChain objectsHow to split text by tokensHow to split HTMLHow to do question answering over CSVsHow to deal with large databases when doing SQL question-answeringHow to better prompt when doing SQL question-answeringHow to do query validation as part of SQL question-answeringHow to stream runnablesHow to stream responses from an LLMHow to use a time-weighted vector store retrieverHow to return artifacts from a toolHow to use chat models to call toolsHow to disable parallel tool callingHow to force models to call a toolHow to access the RunnableConfig from a toolHow to pass tool outputs to chat modelsHow to pass run time values to toolsHow to stream events from a toolHow to stream tool callsHow to convert tools to OpenAI FunctionsHow to handle tool errorsHow to use few-shot prompting with tool callingHow to add a human-in-the-loop for toolsHow to bind model-specific toolsHow to trim messagesHow to create and query vector storesConceptual guideAgentsArchitectureAsync programming with langchainCallbacksChat historyChat modelsDocument loadersEmbedding modelsEvaluationExample selectorsFew-shot promptingConceptual guideKey-value storesLangChain Expression Language (LCEL)MessagesMultimodalityOutput parsersPrompt TemplatesRetrieval augmented generation (RAG)RetrievalRetrieversRunnable interfaceStreamingStructured outputsTestingString-in, string-out llmsText splittersTokensTool callingToolsTracingVector storesWhy LangChain?Ecosystem🦜🛠️ LangSmith🦜🕸️ LangGraphVersionsv0.3v0.2Pydantic compatibilityMigrating from v0.0 chainsHow to migrate from v0.0 chainsMigrating from ConstitutionalChainMigrating from ConversationalChainMigrating from ConversationalRetrievalChainMigrating from LLMChainMigrating from LLMMathChainMigrating from LLMRouterChainMigrating from MapReduceDocumentsChainMigrating from MapRerankDocumentsChainMigrating from MultiPromptChainMigrating from RefineDocumentsChainMigrating from RetrievalQAMigrating from StuffDocumentsChainUpgrading to LangGraph memoryHow to migrate to LangGraph memoryHow to use BaseChatMessageHistory with LangGraphMigrating off ConversationBufferMemory or ConversationStringBufferMemoryMigrating off ConversationBufferWindowMemory or ConversationTokenBufferMemoryMigrating off ConversationSummaryMemory or ConversationSummaryBufferMemoryA Long-Term Memory AgentRelease policySecurity PolicyConceptual guideLangChain Expression Language (LCEL)On this pageLangChain Expression Language (LCEL)\n",
      "Prerequisites\n",
      "Runnable Interface\n",
      "\n",
      "The LangChain Expression Language (LCEL) takes a declarative approach to building new Runnables from existing Runnables.\n",
      "This means that you describe what should happen, rather than how it should happen, allowing LangChain to optimize the run-time execution of the chains.\n",
      "We often refer to a Runnable created using LCEL as a \"chain\". It's important to remember that a \"chain\" is Runnable and it implements the full Runnable Interface.\n",
      "note\n",
      "The LCEL cheatsheet shows common patterns that involve the Runnable interface and LCEL expressions.\n",
      "Please see the following list of how-to guides that cover common tasks with LCEL.\n",
      "A list of built-in Runnables can be found in the LangChain Core API Reference. Many of these Runnables are useful when composing custom \"chains\" in LangChain using LCEL.\n",
      "\n",
      "Benefits of LCEL​\n",
      "LangChain optimizes the run-time execution of chains built with LCEL in a number of ways:\n",
      "\n",
      "Optimized parallel execution: Run Runnables in parallel using RunnableParallel or run multiple inputs through a given chain in parallel using the Runnable Batch API. Parallel execution can significantly reduce the latency as processing can be done in parallel instead of sequentially.\n",
      "Guaranteed Async support: Any chain built with LCEL can be run asynchronously using the Runnable Async API. This can be useful when running chains in a server environment where you want to handle large number of requests concurrently.\n",
      "Simplify streaming: LCEL chains can be streamed, allowing for incremental output as the chain is executed. LangChain can optimize the streaming of the output to minimize the time-to-first-token(time elapsed until the first chunk of output from a chat model or llm comes out).\n",
      "\n",
      "Other benefits include:\n",
      "\n",
      "Seamless LangSmith tracing\n",
      "As your chains get more and more complex, it becomes increasingly important to understand what exactly is happening at every step.\n",
      "With LCEL, all steps are automatically logged to LangSmith for maximum observability and debuggability.\n",
      "Standard API: Because all chains are built using the Runnable interface, they can be used in the same way as any other Runnable.\n",
      "Deployable with LangServe: Chains built with LCEL can be deployed using for production use.\n",
      "\n",
      "Should I use LCEL?​\n",
      "LCEL is an orchestration solution -- it allows LangChain to handle run-time execution of chains in an optimized way.\n",
      "While we have seen users run chains with hundreds of steps in production, we generally recommend using LCEL for simpler orchestration tasks. When the application requires complex state management, branching, cycles or multiple agents, we recommend that users take advantage of LangGraph.\n",
      "In LangGraph, users define graphs that specify the application's flow. This allows users to keep using LCEL within individual nodes when LCEL is needed, while making it easy to define complex orchestration logic that is more readable and maintainable.\n",
      "Here are some guidelines:\n",
      "\n",
      "If you are making a single LLM call, you don't need LCEL; instead call the underlying chat model directly.\n",
      "If you have a simple chain (e.g., prompt + llm + parser, simple retrieval set up etc.), LCEL is a reasonable fit, if you're taking advantage of the LCEL benefits.\n",
      "If you're building a complex chain (e.g., with branching, cycles, multiple agents, etc.) use LangGraph instead. Remember that you can always use LCEL within individual nodes in LangGraph.\n",
      "\n",
      "Composition Primitives​\n",
      "LCEL chains are built by composing existing Runnables together. The two main composition primitives are RunnableSequence and RunnableParallel.\n",
      "Many other composition primitives (e.g., RunnableAssign) can be thought of as variations of these two primitives.\n",
      "noteYou can find a list of all composition primitives in the LangChain Core API Reference.\n",
      "RunnableSequence​\n",
      "RunnableSequence is a composition primitive that allows you \"chain\" multiple runnables sequentially, with the output of one runnable serving as the input to the next.\n",
      "from langchain_core.runnables import RunnableSequencechain = RunnableSequence([runnable1, runnable2])API Reference:RunnableSequence\n",
      "Invoking the chain with some input:\n",
      "final_output = chain.invoke(some_input)\n",
      "corresponds to the following:\n",
      "output1 = runnable1.invoke(some_input)final_output = runnable2.invoke(output1)\n",
      "noterunnable1 and runnable2 are placeholders for any Runnable that you want to chain together.\n",
      "RunnableParallel​\n",
      "RunnableParallel is a composition primitive that allows you to run multiple runnables concurrently, with the same input provided to each.\n",
      "from langchain_core.runnables import RunnableParallelchain = RunnableParallel({    \"key1\": runnable1,    \"key2\": runnable2,})API Reference:RunnableParallel\n",
      "Invoking the chain with some input:\n",
      "final_output = chain.invoke(some_input)\n",
      "Will yield a final_output dictionary with the same keys as the input dictionary, but with the values replaced by the output of the corresponding runnable.\n",
      "{    \"key1\": runnable1.invoke(some_input),    \"key2\": runnable2.invoke(some_input),}\n",
      "Recall, that the runnables are executed in parallel, so while the result is the same as\n",
      "dictionary comprehension shown above, the execution time is much faster.\n",
      "noteRunnableParallelsupports both synchronous and asynchronous execution (as all Runnables do).\n",
      "For synchronous execution, RunnableParallel uses a ThreadPoolExecutor to run the runnables concurrently.\n",
      "For asynchronous execution, RunnableParallel uses asyncio.gather to run the runnables concurrently.\n",
      "\n",
      "Composition Syntax​\n",
      "The usage of RunnableSequence and RunnableParallel is so common that we created a shorthand syntax for using them. This helps\n",
      "to make the code more readable and concise.\n",
      "The | operator​\n",
      "We have overloaded the | operator to create a RunnableSequence from two Runnables.\n",
      "chain = runnable1 | runnable2\n",
      "is Equivalent to:\n",
      "chain = RunnableSequence([runnable1, runnable2])\n",
      "The .pipe method​\n",
      "If you have moral qualms with operator overloading, you can use the .pipe method instead. This is equivalent to the | operator.\n",
      "chain = runnable1.pipe(runnable2)\n",
      "Coercion​\n",
      "LCEL applies automatic type coercion to make it easier to compose chains.\n",
      "If you do not understand the type coercion, you can always use the RunnableSequence and RunnableParallel classes directly.\n",
      "This will make the code more verbose, but it will also make it more explicit.\n",
      "Dictionary to RunnableParallel​\n",
      "Inside an LCEL expression, a dictionary is automatically converted to a RunnableParallel.\n",
      "For example, the following code:\n",
      "mapping = {    \"key1\": runnable1,    \"key2\": runnable2,}chain = mapping | runnable3\n",
      "It gets automatically converted to the following:\n",
      "chain = RunnableSequence([RunnableParallel(mapping), runnable3])\n",
      "cautionYou have to be careful because the mapping dictionary is not a RunnableParallel object, it is just a dictionary. This means that the following code will raise an AttributeError:mapping.invoke(some_input)\n",
      "Function to RunnableLambda​\n",
      "Inside an LCEL expression, a function is automatically converted to a RunnableLambda.\n",
      "def some_func(x):    return xchain = some_func | runnable1\n",
      "It gets automatically converted to the following:\n",
      "chain = RunnableSequence([RunnableLambda(some_func), runnable1])\n",
      "cautionYou have to be careful because the lambda function is not a RunnableLambda object, it is just a function. This means that the following code will raise an AttributeError:lambda x: x + 1.invoke(some_input)\n",
      "Legacy chains​\n",
      "LCEL aims to provide consistency around behavior and customization over legacy subclassed chains such as LLMChain and\n",
      "ConversationalRetrievalChain. Many of these legacy chains hide important details like prompts, and as a wider variety\n",
      "of viable models emerge, customization has become more and more important.\n",
      "If you are currently using one of these legacy chains, please see this guide for guidance on how to migrate.\n",
      "For guides on how to do specific tasks with LCEL, check out the relevant how-to guides.Edit this pageWas this page helpful?PreviousKey-value storesNextMessagesBenefits of LCELShould I use LCEL?Composition PrimitivesRunnableSequenceRunnableParallelComposition SyntaxThe | operatorThe .pipe methodCoercionLegacy chainsCommunityTwitterGitHubOrganizationPythonJS/TSMoreHomepageBlogYouTubeCopyright © 2025 LangChain, Inc.\n",
      "\n",
      "' metadata={'source': 'https://python.langchain.com/docs/concepts/lcel/', 'content_type': 'text/html; charset=utf-8', 'title': 'LangChain Expression Language (LCEL) | 🦜️🔗 LangChain', 'description': '* Runnable Interface', 'language': 'en'}\n"
     ]
    }
   ],
   "source": [
    "# docs\n",
    "# len(docs)\n",
    "# print(docs[0].page_content)\n",
    "print(docs[0])"
   ]
  },
  {
   "cell_type": "markdown",
   "id": "4d623091-d39d-4da5-bbb2-fa09e7eebe96",
   "metadata": {},
   "source": [
    "## LLMs"
   ]
  },
  {
   "cell_type": "markdown",
   "id": "0f9181e5-7d77-4c1c-9491-474577500fb7",
   "metadata": {},
   "source": [
    "### OpenAI (gpt-4o-mini)"
   ]
  },
  {
   "cell_type": "code",
   "execution_count": 6,
   "id": "781dc137-4eb5-43f1-825c-801fb0a37618",
   "metadata": {},
   "outputs": [
    {
     "data": {
      "text/plain": [
       "code(prefix='To build a Retrieval Augmented Generation (RAG) chain in LCEL, you can utilize the combination of a retriever and a language model (LLM) to generate responses based on retrieved documents. The RAG chain typically involves first retrieving relevant documents based on a query and then using those documents to generate a response. In LCEL, you can achieve this by composing a sequence of runnables that includes the retriever and the LLM. Here’s how you can do it:', imports='from langchain_core.runnables import RunnableSequence\\nfrom langchain_core.runnables import RunnableParallel\\nfrom langchain_core.runnables import RunnableLambda\\n\\n# Assuming you have a retriever and an LLM defined as retriever and llm respectively', code='# Define the RAG chain\\nrag_chain = RunnableSequence([\\n    retriever,  # Step 1: Retrieve relevant documents\\n    llm          # Step 2: Generate response using the retrieved documents\\n])\\n\\n# Invoke the RAG chain with a query\\nquery = \"What are the benefits of using LCEL?\"\\nfinal_output = rag_chain.invoke(query)')"
      ]
     },
     "execution_count": 6,
     "metadata": {},
     "output_type": "execute_result"
    }
   ],
   "source": [
    "from langchain_core.prompts import ChatPromptTemplate\n",
    "from langchain_openai import ChatOpenAI\n",
    "from pydantic import BaseModel, Field\n",
    "\n",
    "### OpenAI\n",
    "\n",
    "# Grader prompt\n",
    "code_gen_prompt = ChatPromptTemplate.from_messages(\n",
    "    [\n",
    "        (\n",
    "            \"system\",\n",
    "            \"\"\"You are a coding assistant with expertise in LCEL, LangChain expression language. \\n \n",
    "    Here is a full set of LCEL documentation:  \\n ------- \\n  {context} \\n ------- \\n Answer the user \n",
    "    question based on the above provided documentation. Ensure any code you provide can be executed \\n \n",
    "    with all required imports and variables defined. Structure your answer with a description of the code solution. \\n\n",
    "    Then list the imports. And finally list the functioning code block. Here is the user question:\"\"\",\n",
    "        ),\n",
    "        (\"placeholder\", \"{messages}\"),\n",
    "    ]\n",
    ")\n",
    "\n",
    "# Data model\n",
    "class code(BaseModel):\n",
    "    \"\"\"Schema for code solutions to questions about LCEL.\"\"\"\n",
    "\n",
    "    prefix: str = Field(description=\"Description of the problem and approach\")\n",
    "    imports: str = Field(description=\"Code block import statements\")\n",
    "    code: str = Field(description=\"Code block not including import statements\")\n",
    "\n",
    "expt_llm = \"gpt-4o-mini\"\n",
    "llm = ChatOpenAI(temperature=0, model=expt_llm)\n",
    "code_gen_chain_oai = code_gen_prompt | llm.with_structured_output(code)\n",
    "question = \"How do I build a RAG chain in LCEL?\"\n",
    "solution = code_gen_chain_oai.invoke(\n",
    "    {\"context\": concatenated_content, \"messages\": [(\"user\", question)]}\n",
    ")\n",
    "solution"
   ]
  },
  {
   "cell_type": "markdown",
   "id": "468b354c-bf0f-4360-bfc7-fdfa9dd84234",
   "metadata": {},
   "source": [
    "### Anthropic (claude-3-5-haiku-latest)"
   ]
  },
  {
   "cell_type": "code",
   "execution_count": 7,
   "id": "80311b62-ef0a-4379-b0ed-adac3050e95d",
   "metadata": {},
   "outputs": [],
   "source": [
    "from langchain_anthropic import ChatAnthropic\n",
    "from langchain_core.prompts import ChatPromptTemplate\n",
    "\n",
    "### Anthropic\n",
    "\n",
    "# Prompt to enforce tool use\n",
    "code_gen_prompt_claude = ChatPromptTemplate.from_messages(\n",
    "    [\n",
    "        (\n",
    "            \"system\",\n",
    "            \"\"\"<instructions> You are a coding assistant with expertise in LCEL, LangChain expression language. \\n \n",
    "    Here is the LCEL documentation:  \\n ------- \\n  {context} \\n ------- \\n Answer the user  question based on the \\n \n",
    "    above provided documentation. Ensure any code you provide can be executed with all required imports and variables \\n\n",
    "    defined. Structure your answer: 1) a prefix describing the code solution, 2) the imports, 3) the functioning code block. \\n\n",
    "    Invoke the code tool to structure the output correctly. </instructions> \\n Here is the user question:\"\"\",\n",
    "        ),\n",
    "        (\"placeholder\", \"{messages}\"),\n",
    "    ]\n",
    ")\n",
    "\n",
    "# LLM\n",
    "# expt_llm = \"claude-3-opus-20240229\"\n",
    "expt_llm = MODEL_CLAUDE\n",
    "llm = ChatAnthropic(\n",
    "    model=expt_llm,\n",
    "    default_headers={\"anthropic-beta\": \"tools-2024-04-04\"},\n",
    ")\n",
    "\n",
    "structured_llm_claude = llm.with_structured_output(code, include_raw=True)\n",
    "\n",
    "# Optional: Check for errors in case tool use is flaky\n",
    "def check_claude_output(tool_output):\n",
    "    \"\"\"Check for parse error or failure to call the tool\"\"\"\n",
    "\n",
    "    # Error with parsing\n",
    "    if tool_output[\"parsing_error\"]:\n",
    "        # Report back output and parsing errors\n",
    "        print(\"Parsing error!\")\n",
    "        raw_output = str(tool_output[\"raw\"].content)\n",
    "        error = tool_output[\"parsing_error\"]\n",
    "        raise ValueError(\n",
    "            f\"Error parsing your output! Be sure to invoke the tool. Output: {raw_output}. \\n Parse error: {error}\"\n",
    "        )\n",
    "\n",
    "    # Tool was not invoked\n",
    "    elif not tool_output[\"parsed\"]:\n",
    "        print(\"Failed to invoke tool!\")\n",
    "        raise ValueError(\n",
    "            \"You did not use the provided tool! Be sure to invoke the tool to structure the output.\"\n",
    "        )\n",
    "    return tool_output\n",
    "\n",
    "# Chain with output check\n",
    "code_chain_claude_raw = (\n",
    "    code_gen_prompt_claude | structured_llm_claude | check_claude_output\n",
    ")\n",
    "\n",
    "def insert_errors(inputs):\n",
    "    \"\"\"Insert errors for tool parsing in the messages\"\"\"\n",
    "\n",
    "    # Get errors\n",
    "    error = inputs[\"error\"]\n",
    "    messages = inputs[\"messages\"]\n",
    "    messages += [\n",
    "        (\n",
    "            \"assistant\",\n",
    "            f\"Retry. You are required to fix the parsing errors: {error} \\n\\n You must invoke the provided tool.\",\n",
    "        )\n",
    "    ]\n",
    "    return {\n",
    "        \"messages\": messages,\n",
    "        \"context\": inputs[\"context\"],\n",
    "    }\n",
    "\n",
    "# This will be run as a fallback chain\n",
    "fallback_chain = insert_errors | code_chain_claude_raw\n",
    "N = 3  # Max re-tries\n",
    "code_gen_chain_re_try = code_chain_claude_raw.with_fallbacks(\n",
    "    fallbacks=[fallback_chain] * N, exception_key=\"error\"\n",
    ")\n",
    "\n",
    "def parse_output(solution):\n",
    "    \"\"\"When we add 'include_raw=True' to structured output,\n",
    "    it will return a dict w 'raw', 'parsed', 'parsing_error'.\"\"\"\n",
    "\n",
    "    return solution[\"parsed\"]\n",
    "\n",
    "# Optional: With re-try to correct for failure to invoke tool\n",
    "code_gen_chain = code_gen_chain_re_try | parse_output\n",
    "\n",
    "# No re-try\n",
    "code_gen_chain = code_gen_prompt_claude | structured_llm_claude | parse_output"
   ]
  },
  {
   "cell_type": "code",
   "execution_count": 8,
   "id": "6f34bdd4-8458-4ccb-8853-e508514e2b0d",
   "metadata": {},
   "outputs": [
    {
     "data": {
      "text/plain": [
       "code(prefix='This example demonstrates building a Retrieval Augmented Generation (RAG) chain using LangChain Expression Language (LCEL). The chain will:\\n1. Use a vector store retriever to find relevant documents\\n2. Create a prompt that combines the query and retrieved context\\n3. Use a chat model to generate a response based on the retrieved context\\n4. Optionally parse the output', imports='from langchain_community.vectorstores import FAISS\\nfrom langchain_openai import OpenAIEmbeddings, ChatOpenAI\\nfrom langchain_core.prompts import ChatPromptTemplate\\nfrom langchain_core.output_parsers import StrOutputParser\\nfrom langchain_core.runnables import RunnablePassthrough', code='# Create embeddings and vector store\\nembeddings = OpenAIEmbeddings()\\nvectorstore = FAISS.from_texts(\\n    [\"LangChain is a framework for developing LLM applications\", \\n     \"RAG helps provide context to language models\"],\\n    embedding=embeddings\\n)\\n\\n# Create retriever\\nretriever = vectorstore.as_retriever()\\n\\n# Create prompt template\\nprompt = ChatPromptTemplate.from_template(\\n    \"\"\"Answer the question based only on the following context:\\n{context}\\n\\nQuestion: {question}\"\"\"\\n)\\n\\n# Create the RAG chain\\nmodel = ChatOpenAI()\\nrag_chain = (\\n    {\"context\": retriever, \"question\": RunnablePassthrough()} \\n    | prompt \\n    | model \\n    | StrOutputParser()\\n)\\n\\n# Example usage\\nresult = rag_chain.invoke(\"What is LangChain?\")')"
      ]
     },
     "execution_count": 8,
     "metadata": {},
     "output_type": "execute_result"
    }
   ],
   "source": [
    "# Test\n",
    "question = \"How do I build a RAG chain in LCEL?\"\n",
    "solution = code_gen_chain.invoke(\n",
    "    {\"context\": concatenated_content, \"messages\": [(\"user\", question)]}\n",
    ")\n",
    "solution"
   ]
  },
  {
   "cell_type": "markdown",
   "id": "a24f522c-8c79-4077-908a-f4788c1fa909",
   "metadata": {},
   "source": [
    "## State"
   ]
  },
  {
   "cell_type": "code",
   "execution_count": 9,
   "id": "ed017de3-ff63-4e08-9882-3df528b118a9",
   "metadata": {},
   "outputs": [],
   "source": [
    "from typing import List\n",
    "from typing_extensions import TypedDict\n",
    "\n",
    "class GraphState(TypedDict):\n",
    "    \"\"\"\n",
    "    Represents the state of our graph.\n",
    "\n",
    "    Attributes:\n",
    "        error : Binary flag for control flow to indicate whether test error was tripped\n",
    "        messages : With user question, error messages, reasoning\n",
    "        generation : Code solution\n",
    "        iterations : Number of tries\n",
    "    \"\"\"\n",
    "\n",
    "    error: str\n",
    "    messages: List\n",
    "    generation: str\n",
    "    iterations: int"
   ]
  },
  {
   "cell_type": "markdown",
   "id": "574db578-e77b-440b-86e7-5e8fa1d1388d",
   "metadata": {},
   "source": [
    "## Graph"
   ]
  },
  {
   "cell_type": "code",
   "execution_count": 10,
   "id": "9d126f4a-77a9-46e5-8153-d69242dd9592",
   "metadata": {},
   "outputs": [],
   "source": [
    "### Parameter\n",
    "\n",
    "# Max tries\n",
    "max_iterations = 3\n",
    "# Reflect\n",
    "# flag = 'reflect'\n",
    "flag = \"do not reflect\"\n",
    "\n",
    "### Nodes\n",
    "\n",
    "def generate(state: GraphState):\n",
    "    \"\"\"\n",
    "    Generate a code solution\n",
    "\n",
    "    Args:\n",
    "        state (dict): The current graph state\n",
    "\n",
    "    Returns:\n",
    "        state (dict): New key added to state, generation\n",
    "    \"\"\"\n",
    "\n",
    "    print(\"---GENERATING CODE SOLUTION---\")\n",
    "\n",
    "    # State\n",
    "    messages = state[\"messages\"]\n",
    "    iterations = state[\"iterations\"]\n",
    "    error = state[\"error\"]\n",
    "\n",
    "    # We have been routed back to generation with an error\n",
    "    if error == \"yes\":\n",
    "        messages += [\n",
    "            (\n",
    "                \"user\",\n",
    "                \"Now, try again. Invoke the code tool to structure the output with a prefix, imports, and code block:\",\n",
    "            )\n",
    "        ]\n",
    "\n",
    "    # Solution\n",
    "    code_solution = code_gen_chain.invoke(\n",
    "        {\"context\": concatenated_content, \"messages\": messages}\n",
    "    )\n",
    "    messages += [\n",
    "        (\n",
    "            \"assistant\",\n",
    "            f\"{code_solution.prefix} \\n Imports: {code_solution.imports} \\n Code: {code_solution.code}\",\n",
    "        )\n",
    "    ]\n",
    "\n",
    "    # Increment\n",
    "    iterations = iterations + 1\n",
    "    return {\"generation\": code_solution, \"messages\": messages, \"iterations\": iterations}\n",
    "\n",
    "def code_check(state: GraphState):\n",
    "    \"\"\"\n",
    "    Check code\n",
    "\n",
    "    Args:\n",
    "        state (dict): The current graph state\n",
    "\n",
    "    Returns:\n",
    "        state (dict): New key added to state, error\n",
    "    \"\"\"\n",
    "\n",
    "    print(\"---CHECKING CODE---\")\n",
    "\n",
    "    # State\n",
    "    messages = state[\"messages\"]\n",
    "    code_solution = state[\"generation\"]\n",
    "    iterations = state[\"iterations\"]\n",
    "\n",
    "    # Get solution components\n",
    "    imports = code_solution.imports\n",
    "    code = code_solution.code\n",
    "\n",
    "    # Check imports\n",
    "    try:\n",
    "        exec(imports)\n",
    "    except Exception as e:\n",
    "        print(\"---CODE IMPORT CHECK: FAILED---\")\n",
    "        error_message = [(\"user\", f\"Your solution failed the import test: {e}\")]\n",
    "        messages += error_message\n",
    "        return {\n",
    "            \"generation\": code_solution,\n",
    "            \"messages\": messages,\n",
    "            \"iterations\": iterations,\n",
    "            \"error\": \"yes\",\n",
    "        }\n",
    "\n",
    "    # Check execution\n",
    "    try:\n",
    "        exec(imports + \"\\n\" + code)\n",
    "    except Exception as e:\n",
    "        print(\"---CODE BLOCK CHECK: FAILED---\")\n",
    "        error_message = [(\"user\", f\"Your solution failed the code execution test: {e}\")]\n",
    "        messages += error_message\n",
    "        return {\n",
    "            \"generation\": code_solution,\n",
    "            \"messages\": messages,\n",
    "            \"iterations\": iterations,\n",
    "            \"error\": \"yes\",\n",
    "        }\n",
    "\n",
    "    # No errors\n",
    "    print(\"---NO CODE TEST FAILURES---\")\n",
    "    return {\n",
    "        \"generation\": code_solution,\n",
    "        \"messages\": messages,\n",
    "        \"iterations\": iterations,\n",
    "        \"error\": \"no\",\n",
    "    }\n",
    "\n",
    "def reflect(state: GraphState):\n",
    "    \"\"\"\n",
    "    Reflect on errors\n",
    "\n",
    "    Args:\n",
    "        state (dict): The current graph state\n",
    "\n",
    "    Returns:\n",
    "        state (dict): New key added to state, generation\n",
    "    \"\"\"\n",
    "\n",
    "    print(\"---GENERATING CODE SOLUTION---\")\n",
    "\n",
    "    # State\n",
    "    messages = state[\"messages\"]\n",
    "    iterations = state[\"iterations\"]\n",
    "    code_solution = state[\"generation\"]\n",
    "\n",
    "    # Prompt reflection\n",
    "\n",
    "    # Add reflection\n",
    "    reflections = code_gen_chain.invoke(\n",
    "        {\"context\": concatenated_content, \"messages\": messages}\n",
    "    )\n",
    "    messages += [(\"assistant\", f\"Here are reflections on the error: {reflections}\")]\n",
    "    return {\"generation\": code_solution, \"messages\": messages, \"iterations\": iterations}\n",
    "\n",
    "### Edges\n",
    "\n",
    "def decide_to_finish(state: GraphState):\n",
    "    \"\"\"\n",
    "    Determines whether to finish.\n",
    "\n",
    "    Args:\n",
    "        state (dict): The current graph state\n",
    "\n",
    "    Returns:\n",
    "        str: Next node to call\n",
    "    \"\"\"\n",
    "    error = state[\"error\"]\n",
    "    iterations = state[\"iterations\"]\n",
    "\n",
    "    if error == \"no\" or iterations == max_iterations:\n",
    "        print(\"---DECISION: FINISH---\")\n",
    "        return \"end\"\n",
    "    else:\n",
    "        print(\"---DECISION: RE-TRY SOLUTION---\")\n",
    "        if flag == \"reflect\":\n",
    "            return \"reflect\"\n",
    "        else:\n",
    "            return \"generate\""
   ]
  },
  {
   "cell_type": "code",
   "execution_count": 11,
   "id": "2654c565-2a24-4053-8c55-6d163e6b9fca",
   "metadata": {},
   "outputs": [],
   "source": [
    "from langgraph.graph import END, StateGraph, START\n",
    "\n",
    "workflow = StateGraph(GraphState)\n",
    "\n",
    "# Define the nodes\n",
    "workflow.add_node(\"generate\", generate)  # generation solution\n",
    "workflow.add_node(\"check_code\", code_check)  # check code\n",
    "workflow.add_node(\"reflect\", reflect)  # reflect\n",
    "\n",
    "# Build graph\n",
    "workflow.add_edge(START, \"generate\")\n",
    "workflow.add_edge(\"generate\", \"check_code\")\n",
    "workflow.add_conditional_edges(\n",
    "    \"check_code\",\n",
    "    decide_to_finish,\n",
    "    {\n",
    "        \"end\": END,\n",
    "        \"reflect\": \"reflect\",\n",
    "        \"generate\": \"generate\",\n",
    "    },\n",
    ")\n",
    "workflow.add_edge(\"reflect\", \"generate\")\n",
    "app = workflow.compile()"
   ]
  },
  {
   "cell_type": "code",
   "execution_count": 12,
   "id": "d116c4f4-4e50-4dd4-9539-54b028620402",
   "metadata": {},
   "outputs": [
    {
     "name": "stdout",
     "output_type": "stream",
     "text": [
      "---GENERATING CODE SOLUTION---\n",
      "---CHECKING CODE---\n",
      "content='Artificial intelligence (AI) is a branch of computer science that focuses on creating intelligent machines that can perform tasks that typically require human intelligence. AI technology enables machines to learn from data, make decisions, and solve complex problems without direct human intervention. AI applications include speech recognition, image recognition, self-driving cars, virtual assistants, and more. Despite the potential benefits of AI, there are also concerns about its impact on jobs, privacy, and ethics. Ongoing research and development are key to harnessing the power of AI while addressing these challenges.' additional_kwargs={'refusal': None} response_metadata={'token_usage': {'completion_tokens': 110, 'prompt_tokens': 14, 'total_tokens': 124, 'completion_tokens_details': {'accepted_prediction_tokens': 0, 'audio_tokens': 0, 'reasoning_tokens': 0, 'rejected_prediction_tokens': 0}, 'prompt_tokens_details': {'audio_tokens': 0, 'cached_tokens': 0}}, 'model_name': 'gpt-3.5-turbo-0125', 'system_fingerprint': None, 'id': 'chatcmpl-BFGH8SRlwzMgWi5xrI7yNoP1ack6I', 'finish_reason': 'stop', 'logprobs': None} id='run-07ce75ba-9d09-413f-8af4-42222f8839d6-0' usage_metadata={'input_tokens': 14, 'output_tokens': 110, 'total_tokens': 124, 'input_token_details': {'audio': 0, 'cache_read': 0}, 'output_token_details': {'audio': 0, 'reasoning': 0}}\n",
      "---NO CODE TEST FAILURES---\n",
      "---DECISION: FINISH---\n"
     ]
    }
   ],
   "source": [
    "question = \"How can I directly pass a string to a runnable and use it to construct the input needed for my prompt?\"\n",
    "solution = app.invoke({\"messages\": [(\"user\", question)], \"iterations\": 0, \"error\": \"\"})"
   ]
  },
  {
   "cell_type": "code",
   "execution_count": 13,
   "id": "d1c846d2-5fec-405b-a7e0-0fdbb955bbca",
   "metadata": {},
   "outputs": [
    {
     "data": {
      "text/plain": [
       "code(prefix=\"This example demonstrates how to pass a string directly to a runnable and use it to construct input for a prompt template. We'll use RunnableLambda to transform the input string and then pass it to a prompt template.\", imports='from langchain_core.prompts import PromptTemplate\\nfrom langchain_core.runnables import RunnableLambda\\nfrom langchain_openai import ChatOpenAI', code='# Create a function to transform the input string\\ndef format_input(input_str):\\n    return {\"topic\": input_str}\\n\\n# Create a prompt template\\nprompt = PromptTemplate.from_template(\\n    \"Write a short summary about {topic}\"\\n)\\n\\n# Create a chain that transforms the input and then uses it in the prompt\\nchain = (\\n    RunnableLambda(format_input)  # Convert string to dict with \\'topic\\' key\\n    | prompt  # Pass the formatted input to the prompt template\\n    | ChatOpenAI()  # Use an OpenAI chat model to generate the summary\\n)\\n\\n# Example usage\\nresult = chain.invoke(\"artificial intelligence\")\\nprint(result)')"
      ]
     },
     "execution_count": 13,
     "metadata": {},
     "output_type": "execute_result"
    }
   ],
   "source": [
    "solution[\"generation\"]"
   ]
  },
  {
   "cell_type": "markdown",
   "id": "f0f314e3-0376-44e7-9696-bb905029deea",
   "metadata": {},
   "source": [
    "## Eval"
   ]
  },
  {
   "cell_type": "markdown",
   "id": "eb52e681-105e-4e48-9cef-bbcea6e0e0b9",
   "metadata": {},
   "source": [
    "Public dataset of LCEL questions\n",
    "- [lcel-teacher-eval](https://smith.langchain.com/public/326674a6-62bd-462d-88ae-eea49d503f9d/d)\n",
    "- as CSV [eval.csv](https://github.com/langchain-ai/lcel-teacher/blob/main/eval/eval.csv)"
   ]
  },
  {
   "cell_type": "code",
   "execution_count": 14,
   "id": "5bfd2e33-f2e3-41e2-90fd-804e380d5246",
   "metadata": {},
   "outputs": [],
   "source": [
    "import langsmith\n",
    "\n",
    "client = langsmith.Client()"
   ]
  },
  {
   "cell_type": "code",
   "execution_count": 15,
   "id": "4433d3e1-631e-407e-9ca9-a2b6ad174190",
   "metadata": {},
   "outputs": [],
   "source": [
    "# Clone the dataset to your tenant to use it\n",
    "try:\n",
    "    public_dataset = (\n",
    "        \"https://smith.langchain.com/public/326674a6-62bd-462d-88ae-eea49d503f9d/d\"\n",
    "    )\n",
    "    client.clone_public_dataset(public_dataset)\n",
    "except:\n",
    "    print(\"Please setup LangSmith\")"
   ]
  },
  {
   "attachments": {},
   "cell_type": "markdown",
   "id": "72cc61af-6bac-4ec9-bf25-2191448c70a7",
   "metadata": {},
   "source": [
    "### Custom evals"
   ]
  },
  {
   "cell_type": "code",
   "execution_count": 16,
   "id": "de77d395-e310-4013-862b-566564df91b9",
   "metadata": {},
   "outputs": [],
   "source": [
    "from langsmith.schemas import Example, Run\n",
    "\n",
    "def check_import(run: Run, example: Example) -> dict:\n",
    "    imports = run.outputs.get(\"imports\")\n",
    "    try:\n",
    "        exec(imports)\n",
    "        return {\"key\": \"import_check\", \"score\": 1}\n",
    "    except Exception:\n",
    "        return {\"key\": \"import_check\", \"score\": 0}\n",
    "\n",
    "def check_execution(run: Run, example: Example) -> dict:\n",
    "    imports = run.outputs.get(\"imports\")\n",
    "    code = run.outputs.get(\"code\")\n",
    "    try:\n",
    "        exec(imports + \"\\n\" + code)\n",
    "        return {\"key\": \"code_execution_check\", \"score\": 1}\n",
    "    except Exception:\n",
    "        return {\"key\": \"code_execution_check\", \"score\": 0}"
   ]
  },
  {
   "cell_type": "markdown",
   "id": "894cbe60-fd2d-4bd6-884d-f8c230957c4e",
   "metadata": {},
   "source": [
    "### Compare LangGraph to Context Stuffing"
   ]
  },
  {
   "cell_type": "code",
   "execution_count": 17,
   "id": "896868e5-88f4-497e-a4e8-cfa4bb2647d8",
   "metadata": {},
   "outputs": [],
   "source": [
    "def predict_base_case(example: dict):\n",
    "    \"\"\"Context stuffing\"\"\"\n",
    "    solution = code_gen_chain.invoke(\n",
    "        {\"context\": concatenated_content, \"messages\": [(\"user\", example[\"question\"])]}\n",
    "    )\n",
    "    return {\"imports\": solution.imports, \"code\": solution.code}\n",
    "\n",
    "def predict_langgraph(example: dict):\n",
    "    \"\"\"LangGraph\"\"\"\n",
    "    graph = app.invoke(\n",
    "        {\"messages\": [(\"user\", example[\"question\"])], \"iterations\": 0, \"error\": \"\"}\n",
    "    )\n",
    "    solution = graph[\"generation\"]\n",
    "    return {\"imports\": solution.imports, \"code\": solution.code}"
   ]
  },
  {
   "cell_type": "code",
   "execution_count": 18,
   "id": "05325f15-0c63-48eb-a595-c196944effcb",
   "metadata": {},
   "outputs": [],
   "source": [
    "from langsmith.evaluation import evaluate\n",
    "\n",
    "# Evaluator\n",
    "code_evalulator = [check_import, check_execution]\n",
    "\n",
    "# Dataset\n",
    "dataset_name = \"lcel-teacher-eval\""
   ]
  },
  {
   "cell_type": "code",
   "execution_count": 19,
   "id": "0357bfc1-3095-4819-a9ff-fb7b876fe612",
   "metadata": {},
   "outputs": [
    {
     "name": "stderr",
     "output_type": "stream",
     "text": [
      "C:\\Users\\Pavel\\projects\\ai-llm-agents\\.venv\\Lib\\site-packages\\tqdm\\auto.py:21: TqdmWarning: IProgress not found. Please update jupyter and ipywidgets. See https://ipywidgets.readthedocs.io/en/stable/user_install.html\n",
      "  from .autonotebook import tqdm as notebook_tqdm\n"
     ]
    },
    {
     "name": "stdout",
     "output_type": "stream",
     "text": [
      "View the evaluation results for experiment: 'test-without-langgraph-claude-3-5-haiku-latest-14683ff2' at:\n",
      "https://smith.langchain.com/o/a616d0a1-f75e-4fa3-bbfd-b7fbabf719b6/datasets/35dec0a3-3633-4bd5-bae2-739f53da6a1b/compare?selectedSessions=0c2a0219-0ffc-400b-8549-73ebf2b49f2f\n",
      "\n",
      "\n"
     ]
    },
    {
     "name": "stderr",
     "output_type": "stream",
     "text": [
      "4it [00:27,  6.84s/it]"
     ]
    },
    {
     "name": "stdout",
     "output_type": "stream",
     "text": [
      "\"HELLO\" is a common greeting used to acknowledge someone's presence or to initiate a conversation. It is often used as a friendly way to say hi or to begin a conversation with someone.\n"
     ]
    },
    {
     "name": "stderr",
     "output_type": "stream",
     "text": [
      "5it [00:30,  5.53s/it]"
     ]
    },
    {
     "name": "stdout",
     "output_type": "stream",
     "text": [
      "{'a': 1, 'b': 2, 'c': 3}\n"
     ]
    },
    {
     "name": "stderr",
     "output_type": "stream",
     "text": [
      "6it [00:34,  5.08s/it]"
     ]
    },
    {
     "name": "stdout",
     "output_type": "stream",
     "text": [
      "<class 'langchain_core.utils.pydantic.PromptInput'>\n",
      "\n",
      "# Schema type:\n",
      "<class 'pydantic._internal._model_construction.ModelMetaclass'>\n"
     ]
    },
    {
     "name": "stderr",
     "output_type": "stream",
     "text": [
      "8it [00:45,  5.20s/it]"
     ]
    },
    {
     "name": "stdout",
     "output_type": "stream",
     "text": [
      "Result 1 (full output as string): content='Why do programmers prefer dark mode? Because the light attracts bugs!' additional_kwargs={'refusal': None} response_metadata={'token_usage': {'completion_tokens': 14, 'prompt_tokens': 14, 'total_tokens': 28, 'completion_tokens_details': {'accepted_prediction_tokens': 0, 'audio_tokens': 0, 'reasoning_tokens': 0, 'rejected_prediction_tokens': 0}, 'prompt_tokens_details': {'audio_tokens': 0, 'cached_tokens': 0}}, 'model_name': 'gpt-3.5-turbo-0125', 'system_fingerprint': None, 'id': 'chatcmpl-BFGQOo8Xwe5GxalqQRN9YU3ODY0xG', 'finish_reason': 'stop', 'logprobs': None} id='run-d3aeb2c9-61b3-4418-a2d2-e0110b97a89e-0' usage_metadata={'input_tokens': 14, 'output_tokens': 14, 'total_tokens': 28, 'input_token_details': {'audio': 0, 'cache_read': 0}, 'output_token_details': {'audio': 0, 'reasoning': 0}}\n",
      "Result 2 (content as string): Why do programmers prefer dark mode? Because the light attracts too many bugs!\n",
      "Type of result1: <class 'str'>\n",
      "Type of result2: <class 'str'>\n"
     ]
    },
    {
     "name": "stderr",
     "output_type": "stream",
     "text": [
      "9it [00:50,  5.26s/it]"
     ]
    },
    {
     "name": "stdout",
     "output_type": "stream",
     "text": [
      "Method 1 (itemgetter): What is LCEL?\n",
      "Method 2 (lambda): What is LCEL?\n",
      "Method 3 (.get()): What is LCEL?\n",
      "itemgetter KeyError: 'nonexistent'\n",
      "lambda KeyError: 'nonexistent'\n",
      "Safe retrieval with .get(): None\n",
      "Safe retrieval with default value: Default Question\n"
     ]
    },
    {
     "name": "stderr",
     "output_type": "stream",
     "text": [
      "12it [01:08,  5.47s/it]"
     ]
    },
    {
     "name": "stdout",
     "output_type": "stream",
     "text": [
      "name='John Doe' age=30 hobbies=['hiking', 'camping', 'rock climbing']\n",
      "<class '__main__.Person'>\n"
     ]
    },
    {
     "name": "stderr",
     "output_type": "stream",
     "text": [
      "13it [01:14,  5.81s/it]"
     ]
    },
    {
     "name": "stdout",
     "output_type": "stream",
     "text": [
      "\"HELLO WORLD\" is a common phrase used in computer programming as a simple introductory message printed to the screen. It is often the first program that new programmers write as a way to learn the basics of coding. This phrase serves as a standard starting point to test that a program is functioning correctly and to signal the beginning of a new coding project.\n"
     ]
    },
    {
     "name": "stderr",
     "output_type": "stream",
     "text": [
      "14it [01:21,  6.12s/it]"
     ]
    },
    {
     "name": "stdout",
     "output_type": "stream",
     "text": [
      "Why do programmers prefer dark mode? Because the light attracts bugs!\n"
     ]
    },
    {
     "name": "stderr",
     "output_type": "stream",
     "text": [
      "16it [01:26,  4.53s/it]"
     ]
    },
    {
     "name": "stdout",
     "output_type": "stream",
     "text": [
      "content='Sure, here you go: \"Why did the scarecrow win an award? Because he was outstanding in his field!\"' additional_kwargs={'refusal': None} response_metadata={'token_usage': {'completion_tokens': 25, 'prompt_tokens': 22, 'total_tokens': 47, 'completion_tokens_details': {'accepted_prediction_tokens': 0, 'audio_tokens': 0, 'reasoning_tokens': 0, 'rejected_prediction_tokens': 0}, 'prompt_tokens_details': {'audio_tokens': 0, 'cached_tokens': 0}}, 'model_name': 'gpt-3.5-turbo-0125', 'system_fingerprint': None, 'id': 'chatcmpl-BFGR2EgVGwrXZsLxwJV5B571SeswH', 'finish_reason': 'stop', 'logprobs': None} id='run-ce590dac-dabf-4755-8346-6e4c8bbc73dc-0' usage_metadata={'input_tokens': 22, 'output_tokens': 25, 'total_tokens': 47, 'input_token_details': {'audio': 0, 'cache_read': 0}, 'output_token_details': {'audio': 0, 'reasoning': 0}}\n",
      "Sure, here you go: \"Why did the scarecrow win an award? Because he was outstanding in his field!\"\n"
     ]
    },
    {
     "name": "stderr",
     "output_type": "stream",
     "text": [
      "17it [01:30,  4.32s/it]"
     ]
    },
    {
     "name": "stdout",
     "output_type": "stream",
     "text": [
      "{'first_result': 'Processed first chain: Hello, parallel processing!', 'second_result': 'Processed second chain: Hello, parallel processing!'}\n"
     ]
    },
    {
     "name": "stderr",
     "output_type": "stream",
     "text": [
      "18it [01:37,  4.95s/it]"
     ]
    },
    {
     "name": "stdout",
     "output_type": "stream",
     "text": [
      "content='Artificial intelligence, or AI, refers to the simulation of human intelligence by computers and machines. This technology allows computers to perform tasks that would normally require human intelligence, such as problem-solving, decision-making, and learning. AI is used in various fields, including healthcare, finance, and transportation, and is continuing to advance at a rapid pace. While AI has the potential to greatly benefit society by improving efficiency and productivity, there are also concerns about its impact on the job market and ethical implications.' additional_kwargs={'refusal': None} response_metadata={'token_usage': {'completion_tokens': 100, 'prompt_tokens': 14, 'total_tokens': 114, 'completion_tokens_details': {'accepted_prediction_tokens': 0, 'audio_tokens': 0, 'reasoning_tokens': 0, 'rejected_prediction_tokens': 0}, 'prompt_tokens_details': {'audio_tokens': 0, 'cached_tokens': 0}}, 'model_name': 'gpt-3.5-turbo-0125', 'system_fingerprint': None, 'id': 'chatcmpl-BFGRCJXMNRwBMnWMicoivlnh4ls5C', 'finish_reason': 'stop', 'logprobs': None} id='run-774fbe69-7cf1-46d2-b96f-ae747ad1f017-0' usage_metadata={'input_tokens': 14, 'output_tokens': 100, 'total_tokens': 114, 'input_token_details': {'audio': 0, 'cache_read': 0}, 'output_token_details': {'audio': 0, 'reasoning': 0}}\n"
     ]
    },
    {
     "name": "stderr",
     "output_type": "stream",
     "text": [
      "20it [01:39,  4.98s/it]\n"
     ]
    }
   ],
   "source": [
    "# Run base case\n",
    "try:\n",
    "    experiment_results_ = evaluate(\n",
    "        predict_base_case,\n",
    "        data=dataset_name,\n",
    "        evaluators=code_evalulator,\n",
    "        experiment_prefix=f\"test-without-langgraph-{expt_llm}\",\n",
    "        max_concurrency=2,\n",
    "        metadata={\n",
    "            \"llm\": expt_llm,\n",
    "        },\n",
    "    )\n",
    "except:\n",
    "    print(\"Please setup LangSmith\")"
   ]
  },
  {
   "cell_type": "code",
   "execution_count": 20,
   "id": "539b1d90-50d8-4d6a-ac06-22dcd5af1391",
   "metadata": {},
   "outputs": [
    {
     "name": "stdout",
     "output_type": "stream",
     "text": [
      "View the evaluation results for experiment: 'test-with-langgraph-claude-3-5-haiku-latest-do not reflect-ac329c6b' at:\n",
      "https://smith.langchain.com/o/a616d0a1-f75e-4fa3-bbfd-b7fbabf719b6/datasets/35dec0a3-3633-4bd5-bae2-739f53da6a1b/compare?selectedSessions=32e94265-b723-4a8c-b4e0-2acc1ca496d7\n",
      "\n",
      "\n"
     ]
    },
    {
     "name": "stderr",
     "output_type": "stream",
     "text": [
      "0it [00:00, ?it/s]"
     ]
    },
    {
     "name": "stdout",
     "output_type": "stream",
     "text": [
      "---GENERATING CODE SOLUTION---\n",
      "---GENERATING CODE SOLUTION---\n"
     ]
    },
    {
     "name": "stderr",
     "output_type": "stream",
     "text": [
      "1it [00:09,  9.60s/it]"
     ]
    },
    {
     "name": "stdout",
     "output_type": "stream",
     "text": [
      "---CHECKING CODE---\n",
      "Lambda serves three key purposes in LCEL:\n",
      "1. Extracts specific key from input dictionary\n",
      "2. Transforms input for the next step in the chain\n",
      "3. Enables automatic type coercion to RunnableLambda\n",
      "Extracted value: how do I use Anthropic?\n",
      "---NO CODE TEST FAILURES---\n",
      "---DECISION: FINISH---\n",
      "Lambda serves three key purposes in LCEL:\n",
      "1. Extracts specific key from input dictionary\n",
      "2. Transforms input for the next step in the chain\n",
      "3. Enables automatic type coercion to RunnableLambda\n",
      "Extracted value: how do I use Anthropic?\n",
      "---GENERATING CODE SOLUTION---\n",
      "---CHECKING CODE---\n",
      "---CODE BLOCK CHECK: FAILED---\n",
      "---DECISION: RE-TRY SOLUTION---\n",
      "---GENERATING CODE SOLUTION---\n",
      "---CHECKING CODE---\n",
      "---CODE BLOCK CHECK: FAILED---\n",
      "---DECISION: RE-TRY SOLUTION---\n",
      "---GENERATING CODE SOLUTION---\n",
      "---CHECKING CODE---\n",
      "---CODE BLOCK CHECK: FAILED---\n",
      "---DECISION: RE-TRY SOLUTION---\n",
      "---GENERATING CODE SOLUTION---\n"
     ]
    },
    {
     "name": "stderr",
     "output_type": "stream",
     "text": [
      "2it [00:24, 12.65s/it]"
     ]
    },
    {
     "name": "stdout",
     "output_type": "stream",
     "text": [
      "---CHECKING CODE---\n",
      "---CODE BLOCK CHECK: FAILED---\n",
      "---DECISION: FINISH---\n",
      "---GENERATING CODE SOLUTION---\n",
      "---CHECKING CODE---\n",
      "content='Dove ha lavorato Harrison?' additional_kwargs={'refusal': None} response_metadata={'token_usage': {'completion_tokens': 8, 'prompt_tokens': 19, 'total_tokens': 27, 'completion_tokens_details': {'accepted_prediction_tokens': 0, 'audio_tokens': 0, 'reasoning_tokens': 0, 'rejected_prediction_tokens': 0}, 'prompt_tokens_details': {'audio_tokens': 0, 'cached_tokens': 0}}, 'model_name': 'gpt-3.5-turbo-0125', 'system_fingerprint': None, 'id': 'chatcmpl-BFGS0g1AaeJkOaWO28JCiVTBWCi8J', 'finish_reason': 'stop', 'logprobs': None} id='run-db087540-f5a9-4ad6-aa69-ca3ec192e1b6-0' usage_metadata={'input_tokens': 19, 'output_tokens': 8, 'total_tokens': 27, 'input_token_details': {'audio': 0, 'cache_read': 0}, 'output_token_details': {'audio': 0, 'reasoning': 0}}\n",
      "---NO CODE TEST FAILURES---\n",
      "---DECISION: FINISH---\n",
      "---GENERATING CODE SOLUTION---\n",
      "---CHECKING CODE---\n",
      "---CODE BLOCK CHECK: FAILED---\n",
      "---DECISION: RE-TRY SOLUTION---\n",
      "---GENERATING CODE SOLUTION---\n",
      "content='Dove lavorava Harrison?' additional_kwargs={'refusal': None} response_metadata={'token_usage': {'completion_tokens': 7, 'prompt_tokens': 19, 'total_tokens': 26, 'completion_tokens_details': {'accepted_prediction_tokens': 0, 'audio_tokens': 0, 'reasoning_tokens': 0, 'rejected_prediction_tokens': 0}, 'prompt_tokens_details': {'audio_tokens': 0, 'cached_tokens': 0}}, 'model_name': 'gpt-3.5-turbo-0125', 'system_fingerprint': None, 'id': 'chatcmpl-BFGS1kyGH7SkrGCoPPa07n8mbpw8Y', 'finish_reason': 'stop', 'logprobs': None} id='run-6c06b7fe-1ead-4b34-a018-c66e9968df6e-0' usage_metadata={'input_tokens': 19, 'output_tokens': 7, 'total_tokens': 26, 'input_token_details': {'audio': 0, 'cache_read': 0}, 'output_token_details': {'audio': 0, 'reasoning': 0}}\n"
     ]
    },
    {
     "name": "stderr",
     "output_type": "stream",
     "text": [
      "3it [00:39, 13.91s/it]"
     ]
    },
    {
     "name": "stdout",
     "output_type": "stream",
     "text": [
      "---CHECKING CODE---\n",
      "---CODE BLOCK CHECK: FAILED---\n",
      "---DECISION: FINISH---\n",
      "---GENERATING CODE SOLUTION---\n",
      "---CHECKING CODE---\n",
      "\"HELLO WORLD\" is a common phrase used as an example when learning programming languages. It is often the first message displayed when writing a simple program to learn the basics of coding.\n",
      "---NO CODE TEST FAILURES---\n",
      "---DECISION: FINISH---\n",
      "---GENERATING CODE SOLUTION---\n",
      "\"HELLO WORLD\" is a common phrase used in computer programming to signify the beginning of a program or as a simple test message to check if code is working correctly. It is often used as a first program for beginners to learn the basics of coding.\n",
      "---CHECKING CODE---\n",
      "---CODE BLOCK CHECK: FAILED---\n",
      "---DECISION: RE-TRY SOLUTION---\n",
      "---GENERATING CODE SOLUTION---\n"
     ]
    },
    {
     "name": "stderr",
     "output_type": "stream",
     "text": [
      "5it [00:49,  8.65s/it]"
     ]
    },
    {
     "name": "stdout",
     "output_type": "stream",
     "text": [
      "---CHECKING CODE---\n",
      "<class 'langchain_core.utils.pydantic.PromptInput'>\n",
      "\n",
      "Input schema type: <class 'pydantic._internal._model_construction.ModelMetaclass'>\n",
      "---NO CODE TEST FAILURES---\n",
      "---DECISION: FINISH---\n",
      "---GENERATING CODE SOLUTION---\n",
      "<class 'langchain_core.utils.pydantic.PromptInput'>\n",
      "\n",
      "Input schema type: <class 'pydantic._internal._model_construction.ModelMetaclass'>\n",
      "---CHECKING CODE---\n",
      "---CODE BLOCK CHECK: FAILED---\n",
      "---DECISION: RE-TRY SOLUTION---\n",
      "---GENERATING CODE SOLUTION---\n"
     ]
    },
    {
     "name": "stderr",
     "output_type": "stream",
     "text": [
      "6it [00:56,  8.17s/it]"
     ]
    },
    {
     "name": "stdout",
     "output_type": "stream",
     "text": [
      "---CHECKING CODE---\n",
      "{'a': 1, 'b': 2, 'c': 3}\n",
      "---NO CODE TEST FAILURES---\n",
      "---DECISION: FINISH---\n",
      "---GENERATING CODE SOLUTION---\n",
      "{'a': 1, 'b': 2, 'c': 3}\n",
      "---CHECKING CODE---\n",
      "---CODE BLOCK CHECK: FAILED---\n",
      "---DECISION: RE-TRY SOLUTION---\n",
      "---GENERATING CODE SOLUTION---\n"
     ]
    },
    {
     "name": "stderr",
     "output_type": "stream",
     "text": [
      "7it [01:04,  8.40s/it]"
     ]
    },
    {
     "name": "stdout",
     "output_type": "stream",
     "text": [
      "---CHECKING CODE---\n",
      "---NO CODE TEST FAILURES---\n",
      "---DECISION: FINISH---\n",
      "---GENERATING CODE SOLUTION---\n",
      "---CHECKING CODE---\n",
      "---CODE BLOCK CHECK: FAILED---\n",
      "---DECISION: RE-TRY SOLUTION---\n",
      "---GENERATING CODE SOLUTION---\n"
     ]
    },
    {
     "name": "stderr",
     "output_type": "stream",
     "text": [
      "8it [01:15,  8.88s/it]"
     ]
    },
    {
     "name": "stdout",
     "output_type": "stream",
     "text": [
      "---CHECKING CODE---\n",
      "itemgetter result: What is LCEL?\n",
      "lambda result: What is LCEL?\n",
      "get() result: What is LCEL?\n",
      "itemgetter KeyError: 'question'\n",
      "lambda KeyError: 'question'\n",
      "get() with missing key: None\n",
      "---NO CODE TEST FAILURES---\n",
      "---DECISION: FINISH---\n",
      "itemgetter result: What is LCEL?\n",
      "lambda result: What is LCEL?\n",
      "get() result: What is LCEL?\n",
      "itemgetter KeyError: 'question'\n",
      "lambda KeyError: 'question'\n",
      "get() with missing key: None\n",
      "---GENERATING CODE SOLUTION---\n"
     ]
    },
    {
     "name": "stderr",
     "output_type": "stream",
     "text": [
      "9it [01:21,  8.12s/it]"
     ]
    },
    {
     "name": "stdout",
     "output_type": "stream",
     "text": [
      "---CHECKING CODE---\n",
      "---CODE BLOCK CHECK: FAILED---\n",
      "---DECISION: FINISH---\n",
      "---GENERATING CODE SOLUTION---\n",
      "---CHECKING CODE---\n",
      "---CODE BLOCK CHECK: FAILED---\n",
      "---DECISION: RE-TRY SOLUTION---\n",
      "---GENERATING CODE SOLUTION---\n",
      "---CHECKING CODE---\n",
      "---CODE BLOCK CHECK: FAILED---\n",
      "---DECISION: RE-TRY SOLUTION---\n",
      "---GENERATING CODE SOLUTION---\n"
     ]
    },
    {
     "name": "stderr",
     "output_type": "stream",
     "text": [
      "10it [01:33,  9.41s/it]"
     ]
    },
    {
     "name": "stdout",
     "output_type": "stream",
     "text": [
      "---CHECKING CODE---\n",
      "{'output': {'num': 1, 'num2': 2}}\n",
      "---NO CODE TEST FAILURES---\n",
      "---DECISION: FINISH---\n",
      "---GENERATING CODE SOLUTION---\n",
      "{'output': {'num': 1, 'num2': 2}}\n",
      "---CHECKING CODE---\n",
      "---CODE BLOCK CHECK: FAILED---\n",
      "---DECISION: RE-TRY SOLUTION---\n",
      "---GENERATING CODE SOLUTION---\n"
     ]
    },
    {
     "name": "stderr",
     "output_type": "stream",
     "text": [
      "11it [01:43,  9.40s/it]"
     ]
    },
    {
     "name": "stdout",
     "output_type": "stream",
     "text": [
      "---CHECKING CODE---\n",
      "---CODE BLOCK CHECK: FAILED---\n",
      "---DECISION: FINISH---\n",
      "---GENERATING CODE SOLUTION---\n",
      "---CHECKING CODE---\n"
     ]
    },
    {
     "name": "stderr",
     "output_type": "stream",
     "text": [
      "12it [01:44,  7.00s/it]"
     ]
    },
    {
     "name": "stdout",
     "output_type": "stream",
     "text": [
      "name='John Doe' age=30 city='San Francisco'\n",
      "<class '__main__.Person'>\n",
      "---NO CODE TEST FAILURES---\n",
      "---DECISION: FINISH---\n",
      "---GENERATING CODE SOLUTION---\n",
      "name='John Doe' age=30 city='San Francisco'\n",
      "<class '__main__.Person'>\n",
      "---CHECKING CODE---\n",
      "---CODE BLOCK CHECK: FAILED---\n",
      "---DECISION: RE-TRY SOLUTION---\n",
      "---GENERATING CODE SOLUTION---\n",
      "---CHECKING CODE---\n"
     ]
    },
    {
     "name": "stderr",
     "output_type": "stream",
     "text": [
      "<string>:30: LangChainDeprecationWarning: The class `OpenAI` was deprecated in LangChain 0.0.10 and will be removed in 1.0. An updated version of the class exists in the :class:`~langchain-openai package and should be used instead. To use it run `pip install -U :class:`~langchain-openai` and import as `from :class:`~langchain_openai import OpenAI``.\n"
     ]
    },
    {
     "name": "stdout",
     "output_type": "stream",
     "text": [
      "---CODE BLOCK CHECK: FAILED---\n",
      "---DECISION: RE-TRY SOLUTION---\n",
      "---GENERATING CODE SOLUTION---\n",
      "---CHECKING CODE---\n"
     ]
    },
    {
     "name": "stderr",
     "output_type": "stream",
     "text": [
      "13it [01:59,  9.53s/it]"
     ]
    },
    {
     "name": "stdout",
     "output_type": "stream",
     "text": [
      "WHY COULDN'T THE BICYCLE STAND UP BY ITSELF?\n",
      "\n",
      "BECAUSE IT WAS TWO TIRED!\n",
      "---NO CODE TEST FAILURES---\n",
      "---DECISION: FINISH---\n",
      "---GENERATING CODE SOLUTION---\n",
      "WHY COULDN'T THE BICYCLE FIND ITS WAY HOME?\n",
      "\n",
      "BECAUSE IT HAD LOST ITS BEARINGS!\n",
      "---CHECKING CODE---\n",
      "---CODE BLOCK CHECK: FAILED---\n",
      "---DECISION: RE-TRY SOLUTION---\n",
      "---GENERATING CODE SOLUTION---\n",
      "---CHECKING CODE---\n"
     ]
    },
    {
     "name": "stderr",
     "output_type": "stream",
     "text": [
      "14it [02:08,  9.12s/it]"
     ]
    },
    {
     "name": "stdout",
     "output_type": "stream",
     "text": [
      "Why do programmers prefer dark mode? Because the light attracts bugs!\n",
      "---NO CODE TEST FAILURES---\n",
      "---DECISION: FINISH---\n",
      "---GENERATING CODE SOLUTION---\n",
      "Why do programmers prefer dark mode? Because the light attracts bugs!\n"
     ]
    },
    {
     "name": "stderr",
     "output_type": "stream",
     "text": [
      "15it [02:14,  8.23s/it]"
     ]
    },
    {
     "name": "stdout",
     "output_type": "stream",
     "text": [
      "---CHECKING CODE---\n",
      "There are 5 users in the database.\n",
      "---NO CODE TEST FAILURES---\n",
      "---DECISION: FINISH---\n",
      "---GENERATING CODE SOLUTION---\n",
      "There are 5 users in the database.\n",
      "---CHECKING CODE---\n"
     ]
    },
    {
     "name": "stderr",
     "output_type": "stream",
     "text": [
      "16it [02:15,  6.26s/it]"
     ]
    },
    {
     "name": "stdout",
     "output_type": "stream",
     "text": [
      "content=\"Sure, here's one for you: Why did the scarecrow win an award? Because he was outstanding in his field!\" additional_kwargs={'refusal': None} response_metadata={'token_usage': {'completion_tokens': 26, 'prompt_tokens': 22, 'total_tokens': 48, 'completion_tokens_details': {'accepted_prediction_tokens': 0, 'audio_tokens': 0, 'reasoning_tokens': 0, 'rejected_prediction_tokens': 0}, 'prompt_tokens_details': {'audio_tokens': 0, 'cached_tokens': 0}}, 'model_name': 'gpt-3.5-turbo-0125', 'system_fingerprint': None, 'id': 'chatcmpl-BFGTf028opBPgZWCImgYF7fTmSAio', 'finish_reason': 'stop', 'logprobs': None} id='run-d9652576-5f8a-49d4-bf03-c48376613759-0' usage_metadata={'input_tokens': 22, 'output_tokens': 26, 'total_tokens': 48, 'input_token_details': {'audio': 0, 'cache_read': 0}, 'output_token_details': {'audio': 0, 'reasoning': 0}}\n",
      "---NO CODE TEST FAILURES---\n",
      "---DECISION: FINISH---\n",
      "---GENERATING CODE SOLUTION---\n",
      "content='Sure! How does a penguin build its house? Igloos it together!' additional_kwargs={'refusal': None} response_metadata={'token_usage': {'completion_tokens': 18, 'prompt_tokens': 22, 'total_tokens': 40, 'completion_tokens_details': {'accepted_prediction_tokens': 0, 'audio_tokens': 0, 'reasoning_tokens': 0, 'rejected_prediction_tokens': 0}, 'prompt_tokens_details': {'audio_tokens': 0, 'cached_tokens': 0}}, 'model_name': 'gpt-3.5-turbo-0125', 'system_fingerprint': None, 'id': 'chatcmpl-BFGTgtR3UIXCA8TKNH95eVrBqCgBF', 'finish_reason': 'stop', 'logprobs': None} id='run-672c9455-d2b1-409e-919f-41ee32bfbaef-0' usage_metadata={'input_tokens': 22, 'output_tokens': 18, 'total_tokens': 40, 'input_token_details': {'audio': 0, 'cache_read': 0}, 'output_token_details': {'audio': 0, 'reasoning': 0}}\n"
     ]
    },
    {
     "name": "stderr",
     "output_type": "stream",
     "text": [
      "17it [02:22,  6.24s/it]"
     ]
    },
    {
     "name": "stdout",
     "output_type": "stream",
     "text": [
      "---CHECKING CODE---\n",
      "{'uppercase': 'HELLO WORLD', 'length': 11}\n",
      "---NO CODE TEST FAILURES---\n",
      "---DECISION: FINISH---\n",
      "---GENERATING CODE SOLUTION---\n",
      "{'uppercase': 'HELLO WORLD', 'length': 11}\n",
      "---CHECKING CODE---\n",
      "---CODE IMPORT CHECK: FAILED---\n",
      "---DECISION: RE-TRY SOLUTION---\n",
      "---GENERATING CODE SOLUTION---\n",
      "---CHECKING CODE---\n"
     ]
    },
    {
     "name": "stderr",
     "output_type": "stream",
     "text": [
      "18it [02:31,  7.13s/it]"
     ]
    },
    {
     "name": "stdout",
     "output_type": "stream",
     "text": [
      "Artificial intelligence is a rapidly advancing technology that aims to create machines capable of performing tasks that typically require human intelligence, such as learning, problem-solving, and decision-making. AI systems utilize algorithms and data to analyze information, make predictions, and adjust their actions accordingly. The potential applications of AI are vast and diverse, encompassing industries such as healthcare, finance, transportation, and entertainment. However, there are also concerns about the ethical implications and potential risks of AI, such as privacy violations, job displacement, and biases in decision-making. As AI continues to evolve and integrate into our daily lives, it is essential to carefully consider the implications and ensure that it is developed and deployed responsibly.\n",
      "---NO CODE TEST FAILURES---\n",
      "---DECISION: FINISH---\n",
      "Artificial intelligence refers to the development of computer systems capable of performing tasks that typically require human intelligence, such as decision making, problem solving, and speech recognition. AI has made significant advancements in recent years, impacting various industries including healthcare, finance, and transportation. While AI has the potential to improve efficiency and productivity, there are concerns about ethics, bias, and job displacement. As researchers continue to study and develop AI technology, it will be important to prioritize ethical considerations and ensure that it is used in a responsible and beneficial way.\n",
      "---CHECKING CODE---\n",
      "---CODE IMPORT CHECK: FAILED---\n",
      "---DECISION: RE-TRY SOLUTION---\n",
      "---GENERATING CODE SOLUTION---\n"
     ]
    },
    {
     "name": "stderr",
     "output_type": "stream",
     "text": [
      "19it [02:48, 10.22s/it]"
     ]
    },
    {
     "name": "stdout",
     "output_type": "stream",
     "text": [
      "---CHECKING CODE---\n",
      "---NO CODE TEST FAILURES---\n",
      "---DECISION: FINISH---\n"
     ]
    },
    {
     "name": "stderr",
     "output_type": "stream",
     "text": [
      "20it [02:49,  8.46s/it]\n"
     ]
    }
   ],
   "source": [
    "# Run with langgraph\n",
    "try:\n",
    "    experiment_results = evaluate(\n",
    "        predict_langgraph,\n",
    "        data=dataset_name,\n",
    "        evaluators=code_evalulator,\n",
    "        experiment_prefix=f\"test-with-langgraph-{expt_llm}-{flag}\",\n",
    "        max_concurrency=2,\n",
    "        metadata={\n",
    "            \"llm\": expt_llm,\n",
    "            \"feedback\": flag,\n",
    "        },\n",
    "    )\n",
    "except:\n",
    "    print(\"Please setup LangSmith\")"
   ]
  },
  {
   "cell_type": "markdown",
   "id": "cba05950-f1f9-41bc-a249-541293a310c8",
   "metadata": {},
   "source": [
    "### Results:"
   ]
  },
  {
   "cell_type": "markdown",
   "id": "fa74b2f7-df38-4799-8cbf-008cf9482cf5",
   "metadata": {},
   "source": [
    "- **LangGraph outperforms base case**: adding re-try loop improve performance\n",
    "- **Reflection did not help**: reflection prior to re-try regression vs just passing errors directly back to the LLM\n",
    "- **GPT-4 outperforms Claude3**: Claude3 had 3 and 1 run fail due to tool-use error for Opus and Haiku, respectively\n",
    "\n",
    "Code gen on LCEL docs:\n",
    "- [test-LCEL-code-gen](https://smith.langchain.com/public/78a3d858-c811-4e46-91cb-0f10ef56260b/d)"
   ]
  },
  {
   "cell_type": "markdown",
   "id": "14cbdc81-9485-4079-be39-d9a2b5c0c4bc",
   "metadata": {},
   "source": [
    "Evaluation results for experiment:<br>\n",
    "- [test-with-langgraph-claude-3-5-haiku-latest-do not reflect-ac329c6b](https://smith.langchain.com/o/a616d0a1-f75e-4fa3-bbfd-b7fbabf719b6/datasets/35dec0a3-3633-4bd5-bae2-739f53da6a1b/compare?selectedSessions=32e94265-b723-4a8c-b4e0-2acc1ca496d7)"
   ]
  },
  {
   "cell_type": "markdown",
   "id": "547edc16-794d-4242-8608-fcf638aa2e20",
   "metadata": {},
   "source": [
    "### Drawable representation of computation graph"
   ]
  },
  {
   "cell_type": "code",
   "execution_count": 21,
   "id": "6fc3552a-9d85-4c98-96ad-96af846b6736",
   "metadata": {},
   "outputs": [
    {
     "data": {
      "image/png": "[encoded data removed]",
      "text/plain": [
       "<IPython.core.display.Image object>"
      ]
     },
     "metadata": {},
     "output_type": "display_data"
    }
   ],
   "source": [
    "from IPython.display import Image, display\n",
    "\n",
    "try:\n",
    "    # display(Image(graph.get_graph(xray=True).draw_mermaid_png()))\n",
    "    display(Image(app.get_graph(xray=True).draw_mermaid_png()))\n",
    "except Exception:\n",
    "    # This requires some extra dependencies and is optional\n",
    "    pass"
   ]
  }
 ],
 "metadata": {
  "kernelspec": {
   "display_name": "Python 3 (ipykernel)",
   "language": "python",
   "name": "python3"
  },
  "language_info": {
   "codemirror_mode": {
    "name": "ipython",
    "version": 3
   },
   "file_extension": ".py",
   "mimetype": "text/x-python",
   "name": "python",
   "nbconvert_exporter": "python",
   "pygments_lexer": "ipython3",
   "version": "3.11.4"
  }
 },
 "nbformat": 4,
 "nbformat_minor": 5
}
