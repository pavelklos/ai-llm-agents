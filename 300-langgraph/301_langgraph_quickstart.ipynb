{
 "cells": [
  {
   "cell_type": "markdown",
   "id": "accbde67-9c7e-41b0-9329-8052e2ef365b",
   "metadata": {},
   "source": [
    "# LangGraph: Quickstart"
   ]
  },
  {
   "cell_type": "markdown",
   "id": "5cb42466-306d-49b1-b814-6674b60451e4",
   "metadata": {},
   "source": [
    "- Quickstart<br>\n",
    "  https://langchain-ai.github.io/langgraph/tutorials/introduction/\n",
    "- All models overview<br>\n",
    "  https://docs.anthropic.com/en/docs/about-claude/models/all-models"
   ]
  },
  {
   "cell_type": "markdown",
   "id": "fa1039ae-8255-4ec0-8c3a-2757a8f0ae95",
   "metadata": {},
   "source": [
    "## SETUP"
   ]
  },
  {
   "cell_type": "code",
   "execution_count": 1,
   "id": "0ce6eafa-f6ef-4ff1-8d54-17b4fcb71612",
   "metadata": {},
   "outputs": [],
   "source": [
    "import os\n",
    "from dotenv import load_dotenv\n",
    "\n",
    "# Load environment variables (for API key)\n",
    "load_dotenv()\n",
    "\n",
    "# Set up OpenAI API key\n",
    "api_key = os.getenv(\"OPENAI_API_KEY\")\n",
    "if not api_key:\n",
    "    raise ValueError(\"Please set the OPENAI_API_KEY environment variable or add it to a .env file\")\n",
    "\n",
    "# Define the model to use\n",
    "MODEL_GPT = \"gpt-4o-mini\""
   ]
  },
  {
   "cell_type": "markdown",
   "id": "fb685017-b8e5-4af7-bde3-f98ccec842fc",
   "metadata": {},
   "source": [
    "## SETUP (LangGraph)"
   ]
  },
  {
   "cell_type": "code",
   "execution_count": 2,
   "id": "9f8af7e7-b677-4d82-9fe7-686620c3310b",
   "metadata": {},
   "outputs": [],
   "source": [
    "# %%capture --no-stderr\n",
    "# %pip install -U langgraph langsmith langchain_anthropic"
   ]
  },
  {
   "cell_type": "code",
   "execution_count": 3,
   "id": "86319f71-8145-4915-975c-164ffce0a75e",
   "metadata": {},
   "outputs": [],
   "source": [
    "import getpass\n",
    "import os\n",
    "\n",
    "def _set_env(var: str):\n",
    "    if not os.environ.get(var):\n",
    "        os.environ[var] = getpass.getpass(f\"{var}: \")\n",
    "\n",
    "_set_env(\"ANTHROPIC_API_KEY\")\n",
    "\n",
    "MODEL_CLAUDE = \"claude-3-5-haiku-latest\"  # claude-3-5-haiku-20241022\n",
    "# MODEL_CLAUDE = \"claude-3-7-sonnet-latest\"  # claude-3-7-sonnet-20250219\n",
    "\n",
    "QUESTION_PART_1 = \"What do you know about LangGraph?\"\n",
    "QUESTION_PART_2 = \"What do you know about LangGraph?\"\n",
    "QUESTION_PART_3_1 = \"Hi there! My name is Will.\"\n",
    "QUESTION_PART_3_2 = \"Remember my name?\""
   ]
  },
  {
   "cell_type": "markdown",
   "id": "c751be8e-797e-4588-a9fa-483149ffd528",
   "metadata": {},
   "source": [
    "## Part 1: Build a Basic Chatbot"
   ]
  },
  {
   "cell_type": "code",
   "execution_count": 4,
   "id": "c9b82534-fdf2-4b00-af4e-4e0ce6e2f9a1",
   "metadata": {},
   "outputs": [],
   "source": [
    "from typing import Annotated\n",
    "from typing_extensions import TypedDict\n",
    "from langgraph.graph import StateGraph, START, END\n",
    "from langgraph.graph.message import add_messages\n",
    "\n",
    "class State(TypedDict):\n",
    "    # Messages have the type \"list\". The `add_messages` function\n",
    "    # in the annotation defines how this state key should be updated\n",
    "    # (in this case, it appends messages to the list, rather than overwriting them)\n",
    "    messages: Annotated[list, add_messages]\n",
    "\n",
    "graph_builder = StateGraph(State)"
   ]
  },
  {
   "cell_type": "code",
   "execution_count": 5,
   "id": "5d64518a-67c9-40dc-9b5e-0082509e4317",
   "metadata": {},
   "outputs": [
    {
     "data": {
      "text/plain": [
       "<langgraph.graph.state.StateGraph at 0x23bc11fd710>"
      ]
     },
     "execution_count": 5,
     "metadata": {},
     "output_type": "execute_result"
    }
   ],
   "source": [
    "from langchain_anthropic import ChatAnthropic\n",
    "\n",
    "# llm = ChatAnthropic(model=\"claude-3-5-sonnet-20240620\")\n",
    "llm = ChatAnthropic(model=MODEL_CLAUDE)\n",
    "\n",
    "def chatbot(state: State):\n",
    "    return {\"messages\": [llm.invoke(state[\"messages\"])]}\n",
    "\n",
    "# The first argument is the unique node name\n",
    "# The second argument is the function or object that will be called whenever\n",
    "# the node is used.\n",
    "graph_builder.add_node(\"chatbot\", chatbot)"
   ]
  },
  {
   "cell_type": "code",
   "execution_count": 6,
   "id": "0a5e322a-ed83-4d33-ac4e-fa222f41b465",
   "metadata": {},
   "outputs": [
    {
     "data": {
      "text/plain": [
       "<langgraph.graph.state.StateGraph at 0x23bc11fd710>"
      ]
     },
     "execution_count": 6,
     "metadata": {},
     "output_type": "execute_result"
    }
   ],
   "source": [
    "graph_builder.add_edge(START, \"chatbot\")"
   ]
  },
  {
   "cell_type": "code",
   "execution_count": 7,
   "id": "c67b0848-6c5f-4d5e-b6ea-71b9e1b4bf96",
   "metadata": {},
   "outputs": [
    {
     "data": {
      "text/plain": [
       "<langgraph.graph.state.StateGraph at 0x23bc11fd710>"
      ]
     },
     "execution_count": 7,
     "metadata": {},
     "output_type": "execute_result"
    }
   ],
   "source": [
    "graph_builder.add_edge(\"chatbot\", END)"
   ]
  },
  {
   "cell_type": "code",
   "execution_count": 8,
   "id": "3b5e56af-456e-41d5-ae20-35e22637c5a0",
   "metadata": {},
   "outputs": [],
   "source": [
    "graph = graph_builder.compile()"
   ]
  },
  {
   "cell_type": "code",
   "execution_count": 9,
   "id": "6184dffb-54ea-47ea-ace7-03782e70b31a",
   "metadata": {},
   "outputs": [
    {
     "data": {
      "image/png": "[encoded data removed]",
      "text/plain": [
       "<IPython.core.display.Image object>"
      ]
     },
     "metadata": {},
     "output_type": "display_data"
    }
   ],
   "source": [
    "from IPython.display import Image, display\n",
    "\n",
    "try:\n",
    "    display(Image(graph.get_graph().draw_mermaid_png()))\n",
    "except Exception:\n",
    "    # This requires some extra dependencies and is optional\n",
    "    pass"
   ]
  },
  {
   "cell_type": "code",
   "execution_count": 10,
   "id": "94f0eb5f-bb14-464b-bde8-ac18cb0fbd04",
   "metadata": {},
   "outputs": [],
   "source": [
    "def stream_graph_updates(user_input: str):\n",
    "    for event in graph.stream({\"messages\": [{\"role\": \"user\", \"content\": user_input}]}):\n",
    "        for value in event.values():\n",
    "            print(\"Assistant:\", value[\"messages\"][-1].content)"
   ]
  },
  {
   "cell_type": "code",
   "execution_count": 11,
   "id": "77c99c6b-5e2c-4fd2-b338-f0ab140c46ef",
   "metadata": {},
   "outputs": [
    {
     "name": "stdin",
     "output_type": "stream",
     "text": [
      "User:  \n"
     ]
    },
    {
     "name": "stdout",
     "output_type": "stream",
     "text": [
      "User: What do you know about LangGraph?\n",
      "Assistant: LangGraph is a library developed by LangChain that allows you to create and manage stateful, multi-actor computational graphs for building complex AI workflows and agents. Here are some key details:\n",
      "\n",
      "1. Purpose:\n",
      "- Enables creation of cyclical and more complex AI workflows\n",
      "- Allows for persistent state management between agent steps\n",
      "- Supports building agent systems with multiple actors or components\n",
      "\n",
      "2. Key Features:\n",
      "- Stateful computational graphs\n",
      "- Cycle-enabled graph structure\n",
      "- Ability to create branching and converging workflows\n",
      "- Integration with LangChain's ecosystem\n",
      "- Support for custom state management\n",
      "\n",
      "3. Use Cases:\n",
      "- Multi-agent systems\n",
      "- Complex reasoning workflows\n",
      "- Interactive AI assistants\n",
      "- Collaborative problem-solving scenarios\n",
      "\n",
      "4. Technical Characteristics:\n",
      "- Built on top of NetworkX for graph management\n",
      "- Allows for custom state transitions\n",
      "- Supports different types of nodes and edges\n",
      "- Enables programmatic control of agent behavior\n",
      "\n",
      "5. Programming Support:\n",
      "- Primarily designed for Python\n",
      "- Integrates well with LangChain and language models like GPT\n",
      "\n",
      "It's a relatively new library that provides more advanced workflow capabilities compared to traditional linear AI agent implementations.\n"
     ]
    }
   ],
   "source": [
    "while True:\n",
    "    try:\n",
    "        user_input = input(\"User: \")\n",
    "        if user_input.lower() in [\"quit\", \"exit\", \"q\"]:\n",
    "            print(\"Goodbye!\")\n",
    "            break\n",
    "        stream_graph_updates(user_input)\n",
    "    except:\n",
    "        # fallback if input() is not available\n",
    "        user_input = \"What do you know about LangGraph?\"\n",
    "        print(\"User: \" + user_input)\n",
    "        stream_graph_updates(user_input)\n",
    "        break"
   ]
  },
  {
   "cell_type": "markdown",
   "id": "ec448504-94ba-4373-b762-54b18d1dacda",
   "metadata": {},
   "source": [
    "## Part 2: 🛠️ Enhancing the Chatbot with Tools"
   ]
  },
  {
   "cell_type": "code",
   "execution_count": 12,
   "id": "312d03aa-feea-4de3-bdce-fea0de08ec58",
   "metadata": {},
   "outputs": [],
   "source": [
    "# %%capture --no-stderr\n",
    "# %pip install -U tavily-python langchain_community"
   ]
  },
  {
   "cell_type": "code",
   "execution_count": 13,
   "id": "9613515e-7bf0-4429-bb20-88e127b0a2c0",
   "metadata": {},
   "outputs": [],
   "source": [
    "_set_env(\"TAVILY_API_KEY\")"
   ]
  },
  {
   "cell_type": "code",
   "execution_count": 14,
   "id": "d3067eec-bb73-49ca-bdac-5fc00d7fac99",
   "metadata": {},
   "outputs": [
    {
     "data": {
      "text/plain": [
       "[{'title': 'LangGraph Glossary - GitHub Pages',\n",
       "  'url': 'https://langchain-ai.github.io/langgraph/concepts/low_level/',\n",
       "  'content': 'In LangGraph, nodes are typically python functions (sync or async) where the first positional argument is the state, and (optionally), the second positional argument is a \"config\", containing optional configurable parameters (such as a thread_id).\\nSimilar to NetworkX, you add these nodes to a graph using the add_node method:\\n[](https://langchain-ai.github.io/langgraph/concepts/low_level/#__codelineno-7-1)from langchain_core.runnables import RunnableConfig [...] By composing Nodes and Edges, you can create complex, looping workflows that evolve the State over time. The real power, though, comes from how LangGraph manages that State. To emphasize: Nodes and Edges are nothing more than Python functions - they can contain an LLM or just good ol\\' Python code.\\nIn short: nodes do the work. edges tell what to do next. [...] Nodes: Python functions that encode the logic of your agents. They receive the current State as input, perform some computation or side-effect, and return an updated State.\\n\\n\\nEdges: Python functions that determine which Node to execute next based on the current State. They can be conditional branches or fixed transitions.',\n",
       "  'score': 0.9008183},\n",
       " {'title': 'LangGraph Glossary - GitHub Pages',\n",
       "  'url': 'https://langchain-ai.github.io/langgraphjs/concepts/low_level/',\n",
       "  'content': 'In LangGraph, nodes are typically JavaScript/TypeScript functions (sync or async) where the first positional argument is the state, and (optionally), the second positional argument is a \"config\", containing optional configurable parameters (such as a thread_id).\\nSimilar to NetworkX, you add these nodes to a graph using the addNode method:\\n[](https://langchain-ai.github.io/langgraphjs/concepts/low_level/#__codelineno-10-1)import{RunnableConfig}from\"@langchain/core/runnables\"; [...] By composing Nodes and Edges, you can create complex, looping workflows that evolve the State over time. The real power, though, comes from how LangGraph manages that State. To emphasize: Nodes and Edges are nothing more than JavaScript/TypeScript functions - they can contain an LLM or just good ol\\' JavaScript/TypeScript code.\\nIn short: nodes do the work. edges tell what to do next. [...] Nodes: JavaScript/TypeScript functions that encode the logic of your agents. They receive the current State as input, perform some computation or side-effect, and return an updated State.\\n\\n\\nEdges: JavaScript/TypeScript functions that determine which Node to execute next based on the current State. They can be conditional branches or fixed transitions.',\n",
       "  'score': 0.8974172}]"
      ]
     },
     "execution_count": 14,
     "metadata": {},
     "output_type": "execute_result"
    }
   ],
   "source": [
    "from langchain_community.tools.tavily_search import TavilySearchResults\n",
    "\n",
    "tool = TavilySearchResults(max_results=2)\n",
    "tools = [tool]\n",
    "tool.invoke(\"What's a 'node' in LangGraph?\")"
   ]
  },
  {
   "cell_type": "code",
   "execution_count": 15,
   "id": "58df0995-7716-47fa-80a2-3f8dca09b960",
   "metadata": {},
   "outputs": [
    {
     "data": {
      "text/plain": [
       "<langgraph.graph.state.StateGraph at 0x23bcee59e50>"
      ]
     },
     "execution_count": 15,
     "metadata": {},
     "output_type": "execute_result"
    }
   ],
   "source": [
    "from typing import Annotated\n",
    "from langchain_anthropic import ChatAnthropic\n",
    "from typing_extensions import TypedDict\n",
    "from langgraph.graph import StateGraph, START, END\n",
    "from langgraph.graph.message import add_messages\n",
    "\n",
    "class State(TypedDict):\n",
    "    messages: Annotated[list, add_messages]\n",
    "\n",
    "graph_builder = StateGraph(State)\n",
    "\n",
    "# llm = ChatAnthropic(model=\"claude-3-5-sonnet-20240620\")\n",
    "llm = ChatAnthropic(model=MODEL_CLAUDE)\n",
    "# Modification: tell the LLM which tools it can call\n",
    "llm_with_tools = llm.bind_tools(tools)\n",
    "\n",
    "def chatbot(state: State):\n",
    "    return {\"messages\": [llm_with_tools.invoke(state[\"messages\"])]}\n",
    "\n",
    "graph_builder.add_node(\"chatbot\", chatbot)"
   ]
  },
  {
   "cell_type": "code",
   "execution_count": 16,
   "id": "21c263de-0cbb-4226-8465-b52be5ccef1a",
   "metadata": {},
   "outputs": [
    {
     "data": {
      "text/plain": [
       "<langgraph.graph.state.StateGraph at 0x23bcee59e50>"
      ]
     },
     "execution_count": 16,
     "metadata": {},
     "output_type": "execute_result"
    }
   ],
   "source": [
    "import json\n",
    "from langchain_core.messages import ToolMessage\n",
    "\n",
    "class BasicToolNode:\n",
    "    \"\"\"A node that runs the tools requested in the last AIMessage.\"\"\"\n",
    "\n",
    "    def __init__(self, tools: list) -> None:\n",
    "        self.tools_by_name = {tool.name: tool for tool in tools}\n",
    "\n",
    "    def __call__(self, inputs: dict):\n",
    "        if messages := inputs.get(\"messages\", []):\n",
    "            message = messages[-1]\n",
    "        else:\n",
    "            raise ValueError(\"No message found in input\")\n",
    "        outputs = []\n",
    "        for tool_call in message.tool_calls:\n",
    "            tool_result = self.tools_by_name[tool_call[\"name\"]].invoke(\n",
    "                tool_call[\"args\"]\n",
    "            )\n",
    "            outputs.append(\n",
    "                ToolMessage(\n",
    "                    content=json.dumps(tool_result),\n",
    "                    name=tool_call[\"name\"],\n",
    "                    tool_call_id=tool_call[\"id\"],\n",
    "                )\n",
    "            )\n",
    "        return {\"messages\": outputs}\n",
    "\n",
    "tool_node = BasicToolNode(tools=[tool])\n",
    "graph_builder.add_node(\"tools\", tool_node)"
   ]
  },
  {
   "cell_type": "code",
   "execution_count": 17,
   "id": "c95daf41-7962-4646-818f-3a3bca29c828",
   "metadata": {},
   "outputs": [],
   "source": [
    "def route_tools(\n",
    "    state: State,\n",
    "):\n",
    "    \"\"\"\n",
    "    Use in the conditional_edge to route to the ToolNode if the last message\n",
    "    has tool calls. Otherwise, route to the end.\n",
    "    \"\"\"\n",
    "    if isinstance(state, list):\n",
    "        ai_message = state[-1]\n",
    "    elif messages := state.get(\"messages\", []):\n",
    "        ai_message = messages[-1]\n",
    "    else:\n",
    "        raise ValueError(f\"No messages found in input state to tool_edge: {state}\")\n",
    "    if hasattr(ai_message, \"tool_calls\") and len(ai_message.tool_calls) > 0:\n",
    "        return \"tools\"\n",
    "    return END\n",
    "\n",
    "# The `tools_condition` function returns \"tools\" if the chatbot asks to use a tool, and \"END\" if\n",
    "# it is fine directly responding. This conditional routing defines the main agent loop.\n",
    "graph_builder.add_conditional_edges(\n",
    "    \"chatbot\",\n",
    "    route_tools,\n",
    "    # The following dictionary lets you tell the graph to interpret the condition's outputs as a specific node\n",
    "    # It defaults to the identity function, but if you\n",
    "    # want to use a node named something else apart from \"tools\",\n",
    "    # You can update the value of the dictionary to something else\n",
    "    # e.g., \"tools\": \"my_tools\"\n",
    "    {\"tools\": \"tools\", END: END},\n",
    ")\n",
    "# Any time a tool is called, we return to the chatbot to decide the next step\n",
    "graph_builder.add_edge(\"tools\", \"chatbot\")\n",
    "graph_builder.add_edge(START, \"chatbot\")\n",
    "graph = graph_builder.compile()"
   ]
  },
  {
   "cell_type": "code",
   "execution_count": 18,
   "id": "8decfdca-a8e5-49a2-8987-9099ec125b16",
   "metadata": {},
   "outputs": [
    {
     "data": {
      "image/png": "[encoded data removed]",
      "text/plain": [
       "<IPython.core.display.Image object>"
      ]
     },
     "metadata": {},
     "output_type": "display_data"
    }
   ],
   "source": [
    "from IPython.display import Image, display\n",
    "\n",
    "try:\n",
    "    display(Image(graph.get_graph().draw_mermaid_png()))\n",
    "except Exception:\n",
    "    # This requires some extra dependencies and is optional\n",
    "    pass"
   ]
  },
  {
   "cell_type": "code",
   "execution_count": 19,
   "id": "2ab23067-c06f-4823-8883-ee948640a110",
   "metadata": {},
   "outputs": [
    {
     "name": "stdin",
     "output_type": "stream",
     "text": [
      "User:  \n"
     ]
    },
    {
     "name": "stdout",
     "output_type": "stream",
     "text": [
      "User: What do you know about LangGraph?\n",
      "Assistant: [{'text': 'Let me search for some up-to-date information about LangGraph.', 'type': 'text'}, {'id': 'toolu_01Y6qmcQtvqvV7XsJs9FbSHi', 'input': {'query': 'LangGraph library LangChain AI development framework'}, 'name': 'tavily_search_results_json', 'type': 'tool_use'}]\n",
      "Assistant: [{\"title\": \"LangGraph Quickstart - GitHub Pages\", \"url\": \"https://langchain-ai.github.io/langgraph/tutorials/introduction/\", \"content\": \"[](https://langchain-ai.github.io/langgraph/tutorials/introduction/#__codelineno-9-1)Assistant: LangGraph is a library designed to help build stateful multi-agent applications using language models. It provides tools for creating workflows and state machines to coordinate multiple AI agents or language model interactions. LangGraph is built on top of LangChain, leveraging its components while adding graph-based coordination capabilities. It's particularly useful for developing more complex, [...] solution ...\\\"}, {\\\"url\\\": \\\"https://github.com/langchain-ai/langgraph\\\", \\\"content\\\": \\\"Overview. LangGraph is a library for building stateful, multi-actor applications with LLMs, used to create agent and multi-agent workflows. Compared to other LLM frameworks, it offers these core benefits: cycles, controllability, and persistence. LangGraph allows you to define flows that involve cycles, essential for most agentic architectures ...\\\"}] [...] [](https://langchain-ai.github.io/langgraph/tutorials/introduction/#__codelineno-21-6)   LangGraph is a library designed for building stateful, multi-actor applications with Large Language Models (LLMs). It's particularly useful for creating agent and multi-agent workflows.\\n[](https://langchain-ai.github.io/langgraph/tutorials/introduction/#__codelineno-21-7)\\n[](https://langchain-ai.github.io/langgraph/tutorials/introduction/#__codelineno-21-8)2. Developer:\", \"score\": 0.9049283}, {\"title\": \"langchain-ai/langgraph: Build resilient language agents as graphs.\", \"url\": \"https://github.com/langchain-ai/langgraph\", \"content\": \"Note\\nLooking for the JS version? See the JS repo and the JS docs.\\nLangGraph \\u2014 used by Replit, Uber, LinkedIn, GitLab and more \\u2014 is a low-level orchestration framework for building controllable agents. While langchain provides integrations and composable components to streamline LLM application development, the LangGraph library enables agent orchestration \\u2014 offering customizable architectures, long-term memory, and human-in-the-loop to reliably handle complex tasks.\\nshell\", \"score\": 0.87681407}]\n",
      "Assistant: [{'text': 'Let me search for more details:', 'type': 'text'}, {'id': 'toolu_01M9GRsKWKFZZaeoJyXhZtEj', 'input': {'query': 'LangGraph key features multi-agent workflows AI development'}, 'name': 'tavily_search_results_json', 'type': 'tool_use'}]\n",
      "Assistant: [{\"title\": \"LangGraph: The Future of Advanced Multi-Agent Workflows - Medium\", \"url\": \"https://medium.com/@piyushkashyap045/langgraph-the-future-of-advanced-multi-agent-workflows-2449df6fdf3a\", \"content\": \"3. Key Features of LangGraph\\nLangGraph is packed with features designed to streamline your AI development process: [...] LangGraph is ideal for multi-agent systems and complex AI workflows.\\nIt offers advanced features like conditional edges, visualization, and state management.\\nPerfect for developers looking to scale beyond simple applications.\\n\\nResources\\n\\nLangChain Documentation\\nLangGraph GitHub Repository [...] 1. What is LangGraph?\\nLangGraph is a framework built on top of LangChain that allows developers to create complex workflows using graph-based models. A graph in this context consists of nodes (representing functions or tools) and edges (representing connections between those nodes). This structure enables LangGraph to handle complex AI-driven applications with ease.\\nKey Definition:\\n\\nLangGraph: A framework within LangChain for creating workflows using Directed Cyclic Graphs (DCGs).\", \"score\": 0.9154545}, {\"title\": \"Creating Multi-Agent Workflows Using LangGraph and LangChain ...\", \"url\": \"https://vijaykumarkartha.medium.com/multiple-ai-agents-creating-multi-agent-workflows-using-langgraph-and-langchain-0587406ec4e6\", \"content\": \"LangGraph is well-suited for creating multi-agent workflows because it allows two or more agents to be connected as a graph. Each agent is an independent actor, and the connections between agents are represented by edges. Each connecting edge can have a control condition that guides the flow of information from one agent to another. Each agent has a state that can be updated with information during each flow.\\nCollaborative Multi-Agents [...] The LangGraph framework can also be used to create multi-agent workflows. Just like in the self-reflecting AI agent, the LLM can take on multiple roles, each acting as a different AI agent. This is the concept of multi-agents.\\nMulti-Agent\\nA multi-agent system involves connecting independent actors, each powered by a large language model, in a specific arrangement.\", \"score\": 0.8332299}]\n",
      "Assistant: Based on the search results, here's a comprehensive overview of LangGraph:\n",
      "\n",
      "1. Core Definition:\n",
      "- LangGraph is a library built on top of LangChain for building stateful, multi-agent applications using Large Language Models (LLMs)\n",
      "- It allows developers to create complex workflows using graph-based models (Directed Cyclic Graphs or DCGs)\n",
      "\n",
      "2. Key Features:\n",
      "- Enables creation of multi-agent workflows\n",
      "- Supports cyclic interactions between agents\n",
      "- Provides advanced state management\n",
      "- Offers conditional edges for controlling information flow\n",
      "- Allows visualization of workflow structures\n",
      "- Supports long-term memory and human-in-the-loop interactions\n",
      "\n",
      "3. Unique Capabilities:\n",
      "- Designed for building more complex AI applications beyond simple linear interactions\n",
      "- Each agent can be an independent actor with its own state\n",
      "- Edges between agents can have control conditions\n",
      "- Useful for creating sophisticated AI systems with multiple interacting components\n",
      "\n",
      "4. Use Cases:\n",
      "- Complex AI-driven applications\n",
      "- Multi-agent systems\n",
      "- Workflows requiring adaptive and interconnected AI interactions\n",
      "\n",
      "5. Adoption:\n",
      "The library is already being used by notable companies like Replit, Uber, LinkedIn, and GitLab.\n",
      "\n",
      "6. Technical Approach:\n",
      "- Nodes represent functions or tools\n",
      "- Edges represent connections between nodes\n",
      "- Enables creation of more dynamic and interactive AI workflows\n",
      "\n",
      "LangGraph is particularly exciting for developers looking to create more advanced, flexible, and intelligent AI applications that go beyond simple prompt-response models.\n"
     ]
    }
   ],
   "source": [
    "while True:\n",
    "    try:\n",
    "        user_input = input(\"User: \")\n",
    "        if user_input.lower() in [\"quit\", \"exit\", \"q\"]:\n",
    "            print(\"Goodbye!\")\n",
    "            break\n",
    "\n",
    "        stream_graph_updates(user_input)\n",
    "    except:\n",
    "        # fallback if input() is not available\n",
    "        user_input = \"What do you know about LangGraph?\"\n",
    "        print(\"User: \" + user_input)\n",
    "        stream_graph_updates(user_input)\n",
    "        break"
   ]
  },
  {
   "cell_type": "markdown",
   "id": "87e3f969-7f6d-4342-a6c0-7f04b517bd7a",
   "metadata": {},
   "source": [
    "## Part 3: Adding Memory to the Chatbot"
   ]
  },
  {
   "cell_type": "code",
   "execution_count": 20,
   "id": "f4f755f1-de14-4949-b33c-e2c934c8c325",
   "metadata": {},
   "outputs": [],
   "source": [
    "from langgraph.checkpoint.memory import MemorySaver\n",
    "\n",
    "memory = MemorySaver()"
   ]
  },
  {
   "cell_type": "code",
   "execution_count": 21,
   "id": "cdb47dea-a9df-4801-8662-192a99b99045",
   "metadata": {},
   "outputs": [
    {
     "data": {
      "text/plain": [
       "<langgraph.graph.state.StateGraph at 0x23bc3d6d590>"
      ]
     },
     "execution_count": 21,
     "metadata": {},
     "output_type": "execute_result"
    }
   ],
   "source": [
    "from typing import Annotated\n",
    "from langchain_anthropic import ChatAnthropic\n",
    "from langchain_community.tools.tavily_search import TavilySearchResults\n",
    "from langchain_core.messages import BaseMessage\n",
    "from typing_extensions import TypedDict\n",
    "from langgraph.graph import StateGraph, START, END\n",
    "from langgraph.graph.message import add_messages\n",
    "from langgraph.prebuilt import ToolNode, tools_condition\n",
    "\n",
    "class State(TypedDict):\n",
    "    messages: Annotated[list, add_messages]\n",
    "\n",
    "graph_builder = StateGraph(State)\n",
    "\n",
    "tool = TavilySearchResults(max_results=2)\n",
    "tools = [tool]\n",
    "# llm = ChatAnthropic(model=\"claude-3-5-sonnet-20240620\")\n",
    "llm = ChatAnthropic(model=MODEL_CLAUDE)\n",
    "llm_with_tools = llm.bind_tools(tools)\n",
    "\n",
    "def chatbot(state: State):\n",
    "    return {\"messages\": [llm_with_tools.invoke(state[\"messages\"])]}\n",
    "\n",
    "graph_builder.add_node(\"chatbot\", chatbot)\n",
    "\n",
    "tool_node = ToolNode(tools=[tool])\n",
    "graph_builder.add_node(\"tools\", tool_node)\n",
    "\n",
    "graph_builder.add_conditional_edges(\n",
    "    \"chatbot\",\n",
    "    tools_condition,\n",
    ")\n",
    "# Any time a tool is called, we return to the chatbot to decide the next step\n",
    "graph_builder.add_edge(\"tools\", \"chatbot\")\n",
    "graph_builder.add_edge(START, \"chatbot\")"
   ]
  },
  {
   "cell_type": "code",
   "execution_count": 22,
   "id": "a1fc4a2d-bd82-4814-886c-1735c5f3c46c",
   "metadata": {},
   "outputs": [],
   "source": [
    "graph = graph_builder.compile(checkpointer=memory)"
   ]
  },
  {
   "cell_type": "code",
   "execution_count": 23,
   "id": "9059a1ab-de99-4f13-8da9-e7964bbf4d18",
   "metadata": {},
   "outputs": [
    {
     "data": {
      "image/png": "[encoded data removed]",
      "text/plain": [
       "<IPython.core.display.Image object>"
      ]
     },
     "metadata": {},
     "output_type": "display_data"
    }
   ],
   "source": [
    "from IPython.display import Image, display\n",
    "\n",
    "try:\n",
    "    display(Image(graph.get_graph().draw_mermaid_png()))\n",
    "except Exception:\n",
    "    # This requires some extra dependencies and is optional\n",
    "    pass"
   ]
  },
  {
   "cell_type": "code",
   "execution_count": 24,
   "id": "f7ff1537-d712-4f88-a4f1-2f57e4d4d221",
   "metadata": {},
   "outputs": [],
   "source": [
    "config = {\"configurable\": {\"thread_id\": \"1\"}}"
   ]
  },
  {
   "cell_type": "code",
   "execution_count": 25,
   "id": "dca3e13e-b6fd-49a5-aebe-87abc67b59c3",
   "metadata": {},
   "outputs": [
    {
     "name": "stdout",
     "output_type": "stream",
     "text": [
      "================================\u001b[1m Human Message \u001b[0m=================================\n",
      "\n",
      "Hi there! My name is Will.\n",
      "==================================\u001b[1m Ai Message \u001b[0m==================================\n",
      "\n",
      "Hello Will! It's nice to meet you. I'm an AI assistant ready to help you with any questions or tasks you might have. Is there anything specific I can help you with today?\n"
     ]
    }
   ],
   "source": [
    "user_input = \"Hi there! My name is Will.\"\n",
    "\n",
    "# The config is the **second positional argument** to stream() or invoke()!\n",
    "events = graph.stream(\n",
    "    {\"messages\": [{\"role\": \"user\", \"content\": user_input}]},\n",
    "    config,\n",
    "    stream_mode=\"values\",\n",
    ")\n",
    "for event in events:\n",
    "    event[\"messages\"][-1].pretty_print()"
   ]
  },
  {
   "cell_type": "code",
   "execution_count": 26,
   "id": "1df1e285-7ca9-47f3-847b-17a0a3656807",
   "metadata": {},
   "outputs": [
    {
     "name": "stdout",
     "output_type": "stream",
     "text": [
      "================================\u001b[1m Human Message \u001b[0m=================================\n",
      "\n",
      "Remember my name?\n",
      "==================================\u001b[1m Ai Message \u001b[0m==================================\n",
      "\n",
      "Yes, Will! I'll remember your name during our conversation. Is there something I can help you with today?\n"
     ]
    }
   ],
   "source": [
    "user_input = \"Remember my name?\"\n",
    "\n",
    "# The config is the **second positional argument** to stream() or invoke()!\n",
    "events = graph.stream(\n",
    "    {\"messages\": [{\"role\": \"user\", \"content\": user_input}]},\n",
    "    config,\n",
    "    stream_mode=\"values\",\n",
    ")\n",
    "for event in events:\n",
    "    event[\"messages\"][-1].pretty_print()"
   ]
  },
  {
   "cell_type": "code",
   "execution_count": 27,
   "id": "cb3f595b-a9fa-497e-a594-7c308dbd5e29",
   "metadata": {},
   "outputs": [
    {
     "name": "stdout",
     "output_type": "stream",
     "text": [
      "================================\u001b[1m Human Message \u001b[0m=================================\n",
      "\n",
      "Remember my name?\n",
      "==================================\u001b[1m Ai Message \u001b[0m==================================\n",
      "\n",
      "I apologize, but I do not have the ability to remember your name from previous conversations. Each interaction starts fresh, and I do not retain personal information between chat sessions. If you'd like, you can tell me your name in this conversation, and I'll be happy to address you by it during our current interaction.\n"
     ]
    }
   ],
   "source": [
    "# The only difference is we change the `thread_id` here to \"2\" instead of \"1\"\n",
    "events = graph.stream(\n",
    "    {\"messages\": [{\"role\": \"user\", \"content\": user_input}]},\n",
    "    {\"configurable\": {\"thread_id\": \"2\"}},\n",
    "    stream_mode=\"values\",\n",
    ")\n",
    "for event in events:\n",
    "    event[\"messages\"][-1].pretty_print()"
   ]
  },
  {
   "cell_type": "code",
   "execution_count": 28,
   "id": "9497352e-d0fe-406a-8221-b4f97a45e5d8",
   "metadata": {},
   "outputs": [
    {
     "data": {
      "text/plain": [
       "StateSnapshot(values={'messages': [HumanMessage(content='Hi there! My name is Will.', additional_kwargs={}, response_metadata={}, id='b7fc9f3d-e2d2-4395-aa87-4086ef3a9534'), AIMessage(content=\"Hello Will! It's nice to meet you. I'm an AI assistant ready to help you with any questions or tasks you might have. Is there anything specific I can help you with today?\", additional_kwargs={}, response_metadata={'id': 'msg_014Hoi41tcYtpT3SFVXVV8hJ', 'model': 'claude-3-5-haiku-20241022', 'stop_reason': 'end_turn', 'stop_sequence': None, 'usage': {'cache_creation_input_tokens': 0, 'cache_read_input_tokens': 0, 'input_tokens': 375, 'output_tokens': 42}, 'model_name': 'claude-3-5-haiku-20241022'}, id='run-299eac50-ff6f-47e9-a5e2-e8512780f773-0', usage_metadata={'input_tokens': 375, 'output_tokens': 42, 'total_tokens': 417, 'input_token_details': {'cache_creation': 0, 'cache_read': 0}}), HumanMessage(content='Remember my name?', additional_kwargs={}, response_metadata={}, id='e31683d4-ce0e-43f9-929d-0f5869b2f69d'), AIMessage(content=\"Yes, Will! I'll remember your name during our conversation. Is there something I can help you with today?\", additional_kwargs={}, response_metadata={'id': 'msg_016cjqV6sJXkNuACZAsfEpLe', 'model': 'claude-3-5-haiku-20241022', 'stop_reason': 'end_turn', 'stop_sequence': None, 'usage': {'cache_creation_input_tokens': 0, 'cache_read_input_tokens': 0, 'input_tokens': 424, 'output_tokens': 26}, 'model_name': 'claude-3-5-haiku-20241022'}, id='run-50c87548-5769-465d-921e-e3b6d24ebd2f-0', usage_metadata={'input_tokens': 424, 'output_tokens': 26, 'total_tokens': 450, 'input_token_details': {'cache_creation': 0, 'cache_read': 0}})]}, next=(), config={'configurable': {'thread_id': '1', 'checkpoint_ns': '', 'checkpoint_id': '1f009782-1038-6c35-8004-71430b4670fc'}}, metadata={'source': 'loop', 'writes': {'chatbot': {'messages': [AIMessage(content=\"Yes, Will! I'll remember your name during our conversation. Is there something I can help you with today?\", additional_kwargs={}, response_metadata={'id': 'msg_016cjqV6sJXkNuACZAsfEpLe', 'model': 'claude-3-5-haiku-20241022', 'stop_reason': 'end_turn', 'stop_sequence': None, 'usage': {'cache_creation_input_tokens': 0, 'cache_read_input_tokens': 0, 'input_tokens': 424, 'output_tokens': 26}, 'model_name': 'claude-3-5-haiku-20241022'}, id='run-50c87548-5769-465d-921e-e3b6d24ebd2f-0', usage_metadata={'input_tokens': 424, 'output_tokens': 26, 'total_tokens': 450, 'input_token_details': {'cache_creation': 0, 'cache_read': 0}})]}}, 'thread_id': '1', 'step': 4, 'parents': {}}, created_at='2025-03-25T12:53:20.309150+00:00', parent_config={'configurable': {'thread_id': '1', 'checkpoint_ns': '', 'checkpoint_id': '1f009781-f4cc-6cd9-8003-fb1a8456d207'}}, tasks=())"
      ]
     },
     "execution_count": 28,
     "metadata": {},
     "output_type": "execute_result"
    }
   ],
   "source": [
    "snapshot = graph.get_state(config)\n",
    "snapshot"
   ]
  },
  {
   "cell_type": "code",
   "execution_count": 29,
   "id": "dec61f14-f7fb-4474-987d-412b97f44cee",
   "metadata": {},
   "outputs": [
    {
     "data": {
      "text/plain": [
       "()"
      ]
     },
     "execution_count": 29,
     "metadata": {},
     "output_type": "execute_result"
    }
   ],
   "source": [
    "snapshot.next  # (since the graph ended this turn, `next` is empty. If you fetch a state from within a graph invocation, next tells which node will execute next)"
   ]
  },
  {
   "cell_type": "markdown",
   "id": "4a5ca8ae-95d2-44c1-b932-b25593f3b496",
   "metadata": {},
   "source": [
    "## Part 4: Human-in-the-loop"
   ]
  },
  {
   "cell_type": "code",
   "execution_count": 30,
   "id": "6c078aef-a12f-4aa0-8088-9e3ab39c1500",
   "metadata": {},
   "outputs": [
    {
     "data": {
      "text/plain": [
       "<langgraph.graph.state.StateGraph at 0x23bcdc39e90>"
      ]
     },
     "execution_count": 30,
     "metadata": {},
     "output_type": "execute_result"
    }
   ],
   "source": [
    "from typing import Annotated\n",
    "from langchain_anthropic import ChatAnthropic\n",
    "from langchain_community.tools.tavily_search import TavilySearchResults\n",
    "from langchain_core.tools import tool\n",
    "from typing_extensions import TypedDict\n",
    "from langgraph.checkpoint.memory import MemorySaver\n",
    "from langgraph.graph import StateGraph, START, END\n",
    "from langgraph.graph.message import add_messages\n",
    "from langgraph.prebuilt import ToolNode, tools_condition\n",
    "from langgraph.types import Command, interrupt\n",
    "\n",
    "class State(TypedDict):\n",
    "    messages: Annotated[list, add_messages]\n",
    "\n",
    "graph_builder = StateGraph(State)\n",
    "\n",
    "@tool\n",
    "def human_assistance(query: str) -> str:\n",
    "    \"\"\"Request assistance from a human.\"\"\"\n",
    "    human_response = interrupt({\"query\": query})\n",
    "    return human_response[\"data\"]\n",
    "\n",
    "tool = TavilySearchResults(max_results=2)\n",
    "tools = [tool, human_assistance]\n",
    "# llm = ChatAnthropic(model=\"claude-3-5-sonnet-20240620\")\n",
    "llm = ChatAnthropic(model=MODEL_CLAUDE)\n",
    "llm_with_tools = llm.bind_tools(tools)\n",
    "\n",
    "def chatbot(state: State):\n",
    "    message = llm_with_tools.invoke(state[\"messages\"])\n",
    "    # Because we will be interrupting during tool execution,\n",
    "    # we disable parallel tool calling to avoid repeating any\n",
    "    # tool invocations when we resume.\n",
    "    assert len(message.tool_calls) <= 1\n",
    "    return {\"messages\": [message]}\n",
    "\n",
    "graph_builder.add_node(\"chatbot\", chatbot)\n",
    "\n",
    "tool_node = ToolNode(tools=tools)\n",
    "graph_builder.add_node(\"tools\", tool_node)\n",
    "\n",
    "graph_builder.add_conditional_edges(\n",
    "    \"chatbot\",\n",
    "    tools_condition,\n",
    ")\n",
    "graph_builder.add_edge(\"tools\", \"chatbot\")\n",
    "graph_builder.add_edge(START, \"chatbot\")"
   ]
  },
  {
   "cell_type": "code",
   "execution_count": 31,
   "id": "12a3e919-bd75-4a5a-b2d7-5b92b21a7ffe",
   "metadata": {},
   "outputs": [],
   "source": [
    "memory = MemorySaver()\n",
    "\n",
    "graph = graph_builder.compile(checkpointer=memory)"
   ]
  },
  {
   "cell_type": "code",
   "execution_count": 32,
   "id": "630943ce-7bcb-4492-b265-198bf5105da2",
   "metadata": {},
   "outputs": [
    {
     "data": {
      "image/png": "[encoded data removed]",
      "text/plain": [
       "<IPython.core.display.Image object>"
      ]
     },
     "metadata": {},
     "output_type": "display_data"
    }
   ],
   "source": [
    "from IPython.display import Image, display\n",
    "\n",
    "try:\n",
    "    display(Image(graph.get_graph().draw_mermaid_png()))\n",
    "except Exception:\n",
    "    # This requires some extra dependencies and is optional\n",
    "    pass"
   ]
  },
  {
   "cell_type": "code",
   "execution_count": 33,
   "id": "92a17dda-471c-40a9-bed9-47165d147e53",
   "metadata": {},
   "outputs": [
    {
     "name": "stdout",
     "output_type": "stream",
     "text": [
      "================================\u001b[1m Human Message \u001b[0m=================================\n",
      "\n",
      "I need some expert guidance for building an AI agent. Could you request assistance for me?\n",
      "==================================\u001b[1m Ai Message \u001b[0m==================================\n",
      "\n",
      "[{'text': \"I'll help you request human assistance for guidance on building an AI agent.\", 'type': 'text'}, {'id': 'toolu_0166RWBsuD67CL9koQhGsZ91', 'input': {'query': \"I'm looking for expert guidance on building an AI agent. Could you provide insights on:\\n1. Best practices for AI agent design\\n2. Key considerations for agent architecture\\n3. Recommended technologies and frameworks\\n4. Potential challenges and how to overcome them\\n5. Advice on ensuring the agent's reliability and performance\\n\\nWhat specific recommendations would you have for someone looking to develop an advanced AI agent?\"}, 'name': 'human_assistance', 'type': 'tool_use'}]\n",
      "Tool Calls:\n",
      "  human_assistance (toolu_0166RWBsuD67CL9koQhGsZ91)\n",
      " Call ID: toolu_0166RWBsuD67CL9koQhGsZ91\n",
      "  Args:\n",
      "    query: I'm looking for expert guidance on building an AI agent. Could you provide insights on:\n",
      "1. Best practices for AI agent design\n",
      "2. Key considerations for agent architecture\n",
      "3. Recommended technologies and frameworks\n",
      "4. Potential challenges and how to overcome them\n",
      "5. Advice on ensuring the agent's reliability and performance\n",
      "\n",
      "What specific recommendations would you have for someone looking to develop an advanced AI agent?\n"
     ]
    }
   ],
   "source": [
    "user_input = \"I need some expert guidance for building an AI agent. Could you request assistance for me?\"\n",
    "config = {\"configurable\": {\"thread_id\": \"1\"}}\n",
    "\n",
    "events = graph.stream(\n",
    "    {\"messages\": [{\"role\": \"user\", \"content\": user_input}]},\n",
    "    config,\n",
    "    stream_mode=\"values\",\n",
    ")\n",
    "for event in events:\n",
    "    if \"messages\" in event:\n",
    "        event[\"messages\"][-1].pretty_print()"
   ]
  },
  {
   "cell_type": "code",
   "execution_count": 34,
   "id": "47461c56-5a4a-4277-bddd-e756132bfd27",
   "metadata": {},
   "outputs": [
    {
     "data": {
      "text/plain": [
       "('tools',)"
      ]
     },
     "execution_count": 34,
     "metadata": {},
     "output_type": "execute_result"
    }
   ],
   "source": [
    "snapshot = graph.get_state(config)\n",
    "snapshot.next"
   ]
  },
  {
   "cell_type": "code",
   "execution_count": 35,
   "id": "77208c12-b489-46c2-9bba-3871c68faa7b",
   "metadata": {},
   "outputs": [
    {
     "name": "stdout",
     "output_type": "stream",
     "text": [
      "==================================\u001b[1m Ai Message \u001b[0m==================================\n",
      "\n",
      "[{'text': \"I'll help you request human assistance for guidance on building an AI agent.\", 'type': 'text'}, {'id': 'toolu_0166RWBsuD67CL9koQhGsZ91', 'input': {'query': \"I'm looking for expert guidance on building an AI agent. Could you provide insights on:\\n1. Best practices for AI agent design\\n2. Key considerations for agent architecture\\n3. Recommended technologies and frameworks\\n4. Potential challenges and how to overcome them\\n5. Advice on ensuring the agent's reliability and performance\\n\\nWhat specific recommendations would you have for someone looking to develop an advanced AI agent?\"}, 'name': 'human_assistance', 'type': 'tool_use'}]\n",
      "Tool Calls:\n",
      "  human_assistance (toolu_0166RWBsuD67CL9koQhGsZ91)\n",
      " Call ID: toolu_0166RWBsuD67CL9koQhGsZ91\n",
      "  Args:\n",
      "    query: I'm looking for expert guidance on building an AI agent. Could you provide insights on:\n",
      "1. Best practices for AI agent design\n",
      "2. Key considerations for agent architecture\n",
      "3. Recommended technologies and frameworks\n",
      "4. Potential challenges and how to overcome them\n",
      "5. Advice on ensuring the agent's reliability and performance\n",
      "\n",
      "What specific recommendations would you have for someone looking to develop an advanced AI agent?\n",
      "=================================\u001b[1m Tool Message \u001b[0m=================================\n",
      "Name: human_assistance\n",
      "\n",
      "We, the experts are here to help! We'd recommend you check out LangGraph to build your agent. It's much more reliable and extensible than simple autonomous agents.\n",
      "==================================\u001b[1m Ai Message \u001b[0m==================================\n",
      "\n",
      "Based on the expert recommendation, LangGraph seems to be a promising framework for building AI agents. LangGraph is a library that allows you to create more reliable and sophisticated AI agents with better control and extensibility. \n",
      "\n",
      "Some key advantages of using LangGraph include:\n",
      "1. More structured agent design\n",
      "2. Better state management\n",
      "3. Improved control flow\n",
      "4. Easier to debug and modify agent behavior\n",
      "\n",
      "Would you like me to provide more details about LangGraph or help you understand the next steps in building your AI agent? I can search for more specific information about LangGraph and AI agent development if you'd like.\n"
     ]
    }
   ],
   "source": [
    "human_response = (\n",
    "    \"We, the experts are here to help! We'd recommend you check out LangGraph to build your agent.\"\n",
    "    \" It's much more reliable and extensible than simple autonomous agents.\"\n",
    ")\n",
    "\n",
    "human_command = Command(resume={\"data\": human_response})\n",
    "\n",
    "events = graph.stream(human_command, config, stream_mode=\"values\")\n",
    "for event in events:\n",
    "    if \"messages\" in event:\n",
    "        event[\"messages\"][-1].pretty_print()"
   ]
  },
  {
   "cell_type": "markdown",
   "id": "c1d82631-0fea-4557-8e80-29576d29124e",
   "metadata": {},
   "source": [
    "## Part 5: Customizing State"
   ]
  },
  {
   "cell_type": "code",
   "execution_count": 36,
   "id": "1b64f932-16da-4e94-bd6f-bd9e97a6ebce",
   "metadata": {},
   "outputs": [],
   "source": [
    "from typing import Annotated\n",
    "from typing_extensions import TypedDict\n",
    "from langgraph.graph.message import add_messages\n",
    "\n",
    "class State(TypedDict):\n",
    "    messages: Annotated[list, add_messages]\n",
    "    name: str\n",
    "    birthday: str"
   ]
  },
  {
   "cell_type": "code",
   "execution_count": 37,
   "id": "489a047c-6e73-4439-8762-3e53e93950b3",
   "metadata": {},
   "outputs": [],
   "source": [
    "from langchain_core.messages import ToolMessage\n",
    "from langchain_core.tools import InjectedToolCallId, tool\n",
    "from langgraph.types import Command, interrupt\n",
    "\n",
    "@tool\n",
    "# Note that because we are generating a ToolMessage for a state update, we\n",
    "# generally require the ID of the corresponding tool call. We can use\n",
    "# LangChain's InjectedToolCallId to signal that this argument should not\n",
    "# be revealed to the model in the tool's schema.\n",
    "def human_assistance(\n",
    "    name: str, birthday: str, tool_call_id: Annotated[str, InjectedToolCallId]\n",
    ") -> str:\n",
    "    \"\"\"Request assistance from a human.\"\"\"\n",
    "    human_response = interrupt(\n",
    "        {\n",
    "            \"question\": \"Is this correct?\",\n",
    "            \"name\": name,\n",
    "            \"birthday\": birthday,\n",
    "        },\n",
    "    )\n",
    "    # If the information is correct, update the state as-is.\n",
    "    if human_response.get(\"correct\", \"\").lower().startswith(\"y\"):\n",
    "        verified_name = name\n",
    "        verified_birthday = birthday\n",
    "        response = \"Correct\"\n",
    "    # Otherwise, receive information from the human reviewer.\n",
    "    else:\n",
    "        verified_name = human_response.get(\"name\", name)\n",
    "        verified_birthday = human_response.get(\"birthday\", birthday)\n",
    "        response = f\"Made a correction: {human_response}\"\n",
    "\n",
    "    # This time we explicitly update the state with a ToolMessage inside\n",
    "    # the tool.\n",
    "    state_update = {\n",
    "        \"name\": verified_name,\n",
    "        \"birthday\": verified_birthday,\n",
    "        \"messages\": [ToolMessage(response, tool_call_id=tool_call_id)],\n",
    "    }\n",
    "    # We return a Command object in the tool to update our state.\n",
    "    return Command(update=state_update)"
   ]
  },
  {
   "cell_type": "code",
   "execution_count": 38,
   "id": "16444c4d-e089-403b-9410-4ce220c60eb7",
   "metadata": {},
   "outputs": [],
   "source": [
    "from langchain_anthropic import ChatAnthropic\n",
    "from langchain_community.tools.tavily_search import TavilySearchResults\n",
    "from langgraph.checkpoint.memory import MemorySaver\n",
    "from langgraph.graph import StateGraph, START, END\n",
    "from langgraph.prebuilt import ToolNode, tools_condition\n",
    "\n",
    "tool = TavilySearchResults(max_results=2)\n",
    "tools = [tool, human_assistance]\n",
    "llm = ChatAnthropic(model=\"claude-3-5-sonnet-20240620\")\n",
    "llm_with_tools = llm.bind_tools(tools)\n",
    "\n",
    "def chatbot(state: State):\n",
    "    message = llm_with_tools.invoke(state[\"messages\"])\n",
    "    assert len(message.tool_calls) <= 1\n",
    "    return {\"messages\": [message]}\n",
    "\n",
    "graph_builder = StateGraph(State)\n",
    "graph_builder.add_node(\"chatbot\", chatbot)\n",
    "\n",
    "tool_node = ToolNode(tools=tools)\n",
    "graph_builder.add_node(\"tools\", tool_node)\n",
    "\n",
    "graph_builder.add_conditional_edges(\n",
    "    \"chatbot\",\n",
    "    tools_condition,\n",
    ")\n",
    "graph_builder.add_edge(\"tools\", \"chatbot\")\n",
    "graph_builder.add_edge(START, \"chatbot\")\n",
    "\n",
    "memory = MemorySaver()\n",
    "graph = graph_builder.compile(checkpointer=memory)"
   ]
  },
  {
   "cell_type": "code",
   "execution_count": 39,
   "id": "2add5239-4a51-4b9f-b44c-d5a3539487ab",
   "metadata": {},
   "outputs": [
    {
     "name": "stdout",
     "output_type": "stream",
     "text": [
      "================================\u001b[1m Human Message \u001b[0m=================================\n",
      "\n",
      "Can you look up when LangGraph was released? When you have the answer, use the human_assistance tool for review.\n",
      "==================================\u001b[1m Ai Message \u001b[0m==================================\n",
      "\n",
      "[{'text': \"Certainly! I'll start by searching for information about LangGraph's release date using the Tavily search engine, and then I'll use the human_assistance tool for review. Let's begin with the search.\", 'type': 'text'}, {'id': 'toolu_012gbEeurSuPqNcD3NDqYSJg', 'input': {'query': 'LangGraph release date'}, 'name': 'tavily_search_results_json', 'type': 'tool_use'}]\n",
      "Tool Calls:\n",
      "  tavily_search_results_json (toolu_012gbEeurSuPqNcD3NDqYSJg)\n",
      " Call ID: toolu_012gbEeurSuPqNcD3NDqYSJg\n",
      "  Args:\n",
      "    query: LangGraph release date\n",
      "=================================\u001b[1m Tool Message \u001b[0m=================================\n",
      "Name: tavily_search_results_json\n",
      "\n",
      "[{\"title\": \"langgraph - PyPI\", \"url\": \"https://pypi.org/project/langgraph/0.0.8/\", \"content\": \"This release has been yanked. Released: Jan 7, 2024. langgraph. Navigation. Project description; Release history; Download files. Verified details.\", \"score\": 0.8674071}, {\"title\": \"langgraph - PyPI\", \"url\": \"https://pypi.org/project/langgraph/\", \"content\": \"langgraph · PyPI\\nSkip to main content Switch to mobile version\\n\\nSearch PyPI  Search\\n\\nHelp\\nSponsors\\nLog in\\nRegister\\n\\nMenu\\n\\nHelp\\nSponsors\\nLog in\\nRegister\\n\\nSearch PyPI  Search\\nlanggraph 0.2.70\\npip install langgraph Copy PIP instructions\\nLatest versionReleased: Feb 6, 2025\\nBuilding stateful, multi-actor applications with LLMs\\nNavigation\\n\\nProject description\\nRelease history\\nDownload files [...] 0.2.20 Sep 13, 2024\\n\\n0.2.19 Sep 6, 2024\\n\\n0.2.18 Sep 6, 2024\\n\\n0.2.17 Sep 5, 2024\\n\\n0.2.16 Sep 1, 2024\\n\\n0.2.15 Aug 30, 2024\\n\\n0.2.14 Aug 24, 2024\\n\\n0.2.13 Aug 23, 2024\\n\\n0.2.12 Aug 22, 2024\\n\\n0.2.11 Aug 22, 2024\\n\\n0.2.10 Aug 21, 2024\\n\\n0.2.9 Aug 21, 2024\\n\\n0.2.8 Aug 21, 2024\\n\\n0.2.7 Aug 21, 2024\\n\\n0.2.7a0 pre-release Aug 21, 2024\\n\\n0.2.6 Aug 21, 2024\\n\\n0.2.5 Aug 21, 2024\\n\\n0.2.5a0 pre-release Aug 20, 2024\\n\\n0.2.4 Aug 15, 2024\\n\\n0.2.3 Aug 8, 2024\\n\\n0.2.2 Aug 7, 2024\\n\\n0.2.1 Aug 7, 2024\\n\\n0.2.0 Aug 7, 2024 [...] License\\nOSI Approved :: MIT License\\n\\n\\nProgramming Language\\nPython :: 3\\nPython :: 3.9\\nPython :: 3.10\\nPython :: 3.11\\nPython :: 3.12\\n\\n\\n\\nRelease history Release notifications | RSS feed\\nThis version\\n\\n0.2.70 Feb 6, 2025\\n\\n0.2.69 Jan 31, 2025\\n\\n0.2.68 Jan 28, 2025\\n\\n0.2.67 Jan 23, 2025\\n\\n0.2.66 Jan 21, 2025\\n\\n0.2.65 Jan 21, 2025\\n\\n0.2.64 Jan 17, 2025\\n\\n0.2.63 Jan 16, 2025\\n\\n0.2.62 Jan 10, 2025\\n\\n0.2.61 Jan 5, 2025\\n\\n0.2.60 Dec 18, 2024\\n\\n0.2.59 Dec 11, 2024\\n\\n0.2.58 Dec 10, 2024\\n\\n0.2.57 Dec 10, 2024\", \"score\": 0.81875163}]\n",
      "==================================\u001b[1m Ai Message \u001b[0m==================================\n",
      "\n",
      "[{'text': \"Based on the search results, I can provide information about LangGraph's release. The earliest version of LangGraph that I can find in the release history is version 0.0.8, which was released on January 7, 2024. This appears to be the initial public release of LangGraph.\\n\\nNow, let's use the human_assistance tool to review this information. For this, we need to provide a name and birthday. Since we don't have specific information about the reviewer, I'll use placeholder information.\", 'type': 'text'}, {'id': 'toolu_01FyscUWszUogGfmhCDqqNR2', 'input': {'name': 'Reviewer', 'birthday': '1990-01-01'}, 'name': 'human_assistance', 'type': 'tool_use'}]\n",
      "Tool Calls:\n",
      "  human_assistance (toolu_01FyscUWszUogGfmhCDqqNR2)\n",
      " Call ID: toolu_01FyscUWszUogGfmhCDqqNR2\n",
      "  Args:\n",
      "    name: Reviewer\n",
      "    birthday: 1990-01-01\n"
     ]
    }
   ],
   "source": [
    "user_input = (\n",
    "    \"Can you look up when LangGraph was released? \"\n",
    "    \"When you have the answer, use the human_assistance tool for review.\"\n",
    ")\n",
    "config = {\"configurable\": {\"thread_id\": \"1\"}}\n",
    "\n",
    "events = graph.stream(\n",
    "    {\"messages\": [{\"role\": \"user\", \"content\": user_input}]},\n",
    "    config,\n",
    "    stream_mode=\"values\",\n",
    ")\n",
    "for event in events:\n",
    "    if \"messages\" in event:\n",
    "        event[\"messages\"][-1].pretty_print()"
   ]
  },
  {
   "cell_type": "code",
   "execution_count": 40,
   "id": "6a2080ac-7f9a-4500-9fc3-8eae824f7824",
   "metadata": {},
   "outputs": [
    {
     "name": "stdout",
     "output_type": "stream",
     "text": [
      "==================================\u001b[1m Ai Message \u001b[0m==================================\n",
      "\n",
      "[{'text': \"Based on the search results, I can provide information about LangGraph's release. The earliest version of LangGraph that I can find in the release history is version 0.0.8, which was released on January 7, 2024. This appears to be the initial public release of LangGraph.\\n\\nNow, let's use the human_assistance tool to review this information. For this, we need to provide a name and birthday. Since we don't have specific information about the reviewer, I'll use placeholder information.\", 'type': 'text'}, {'id': 'toolu_01FyscUWszUogGfmhCDqqNR2', 'input': {'name': 'Reviewer', 'birthday': '1990-01-01'}, 'name': 'human_assistance', 'type': 'tool_use'}]\n",
      "Tool Calls:\n",
      "  human_assistance (toolu_01FyscUWszUogGfmhCDqqNR2)\n",
      " Call ID: toolu_01FyscUWszUogGfmhCDqqNR2\n",
      "  Args:\n",
      "    name: Reviewer\n",
      "    birthday: 1990-01-01\n",
      "=================================\u001b[1m Tool Message \u001b[0m=================================\n",
      "Name: human_assistance\n",
      "\n",
      "Made a correction: {'name': 'LangGraph', 'birthday': 'Jan 17, 2024'}\n",
      "==================================\u001b[1m Ai Message \u001b[0m==================================\n",
      "\n",
      "Thank you for using the human_assistance tool. The human reviewer has provided a correction to the information. According to the review:\n",
      "\n",
      "LangGraph was actually released on January 17, 2024, not January 7, 2024 as initially found in the search results.\n",
      "\n",
      "This correction highlights the importance of verifying information, especially for newer technologies or projects where initial search results might not always have the most up-to-date or accurate information.\n",
      "\n",
      "To summarize the final answer to your question:\n",
      "LangGraph was released on January 17, 2024. This information has been verified and corrected by human assistance.\n"
     ]
    }
   ],
   "source": [
    "human_command = Command(\n",
    "    resume={\n",
    "        \"name\": \"LangGraph\",\n",
    "        \"birthday\": \"Jan 17, 2024\",\n",
    "    },\n",
    ")\n",
    "\n",
    "events = graph.stream(human_command, config, stream_mode=\"values\")\n",
    "for event in events:\n",
    "    if \"messages\" in event:\n",
    "        event[\"messages\"][-1].pretty_print()"
   ]
  },
  {
   "cell_type": "code",
   "execution_count": 41,
   "id": "cce22eff-d21a-4cf0-a108-6ddd2c045820",
   "metadata": {},
   "outputs": [
    {
     "data": {
      "text/plain": [
       "{'name': 'LangGraph', 'birthday': 'Jan 17, 2024'}"
      ]
     },
     "execution_count": 41,
     "metadata": {},
     "output_type": "execute_result"
    }
   ],
   "source": [
    "snapshot = graph.get_state(config)\n",
    "\n",
    "{k: v for k, v in snapshot.values.items() if k in (\"name\", \"birthday\")}"
   ]
  },
  {
   "cell_type": "code",
   "execution_count": 42,
   "id": "52128fdb-4e14-4e4d-bb48-a054e4877147",
   "metadata": {},
   "outputs": [
    {
     "data": {
      "text/plain": [
       "{'configurable': {'thread_id': '1',\n",
       "  'checkpoint_ns': '',\n",
       "  'checkpoint_id': '1f009787-222b-6ba2-8006-c1a8ed1c1d9c'}}"
      ]
     },
     "execution_count": 42,
     "metadata": {},
     "output_type": "execute_result"
    }
   ],
   "source": [
    "graph.update_state(config, {\"name\": \"LangGraph (library)\"})"
   ]
  },
  {
   "cell_type": "code",
   "execution_count": 43,
   "id": "ff742b81-404b-49ae-b235-a44ed75193d7",
   "metadata": {},
   "outputs": [
    {
     "data": {
      "text/plain": [
       "{'name': 'LangGraph (library)', 'birthday': 'Jan 17, 2024'}"
      ]
     },
     "execution_count": 43,
     "metadata": {},
     "output_type": "execute_result"
    }
   ],
   "source": [
    "snapshot = graph.get_state(config)\n",
    "\n",
    "{k: v for k, v in snapshot.values.items() if k in (\"name\", \"birthday\")}"
   ]
  },
  {
   "cell_type": "markdown",
   "id": "d45c9315-0a21-4f51-ba45-53b507c051e7",
   "metadata": {},
   "source": [
    "## Part 6: Time Travel"
   ]
  },
  {
   "cell_type": "code",
   "execution_count": 44,
   "id": "0fc6ff7a-be17-4569-8e0a-1c86238868aa",
   "metadata": {},
   "outputs": [],
   "source": [
    "from typing import Annotated\n",
    "from langchain_anthropic import ChatAnthropic\n",
    "from langchain_community.tools.tavily_search import TavilySearchResults\n",
    "from langchain_core.messages import BaseMessage\n",
    "from typing_extensions import TypedDict\n",
    "from langgraph.checkpoint.memory import MemorySaver\n",
    "from langgraph.graph import StateGraph, START, END\n",
    "from langgraph.graph.message import add_messages\n",
    "from langgraph.prebuilt import ToolNode, tools_condition\n",
    "\n",
    "class State(TypedDict):\n",
    "    messages: Annotated[list, add_messages]\n",
    "\n",
    "graph_builder = StateGraph(State)\n",
    "\n",
    "tool = TavilySearchResults(max_results=2)\n",
    "tools = [tool]\n",
    "# llm = ChatAnthropic(model=\"claude-3-5-sonnet-20240620\")\n",
    "llm = ChatAnthropic(model=MODEL_CLAUDE)\n",
    "llm_with_tools = llm.bind_tools(tools)\n",
    "\n",
    "def chatbot(state: State):\n",
    "    return {\"messages\": [llm_with_tools.invoke(state[\"messages\"])]}\n",
    "\n",
    "graph_builder.add_node(\"chatbot\", chatbot)\n",
    "\n",
    "tool_node = ToolNode(tools=[tool])\n",
    "graph_builder.add_node(\"tools\", tool_node)\n",
    "\n",
    "graph_builder.add_conditional_edges(\n",
    "    \"chatbot\",\n",
    "    tools_condition,\n",
    ")\n",
    "graph_builder.add_edge(\"tools\", \"chatbot\")\n",
    "graph_builder.add_edge(START, \"chatbot\")\n",
    "\n",
    "memory = MemorySaver()\n",
    "graph = graph_builder.compile(checkpointer=memory)"
   ]
  },
  {
   "cell_type": "code",
   "execution_count": 45,
   "id": "bc08b77a-85f4-42bf-b81f-61114e63c7b6",
   "metadata": {},
   "outputs": [
    {
     "name": "stdout",
     "output_type": "stream",
     "text": [
      "================================\u001b[1m Human Message \u001b[0m=================================\n",
      "\n",
      "I'm learning LangGraph. Could you do some research on it for me?\n",
      "==================================\u001b[1m Ai Message \u001b[0m==================================\n",
      "\n",
      "[{'text': \"I'll search for some information about LangGraph to help you learn more about it.\", 'type': 'text'}, {'id': 'toolu_01WTuhu6CuDSnFvK62vqMFB6', 'input': {'query': 'LangGraph library LangChain AI framework explanation'}, 'name': 'tavily_search_results_json', 'type': 'tool_use'}]\n",
      "Tool Calls:\n",
      "  tavily_search_results_json (toolu_01WTuhu6CuDSnFvK62vqMFB6)\n",
      " Call ID: toolu_01WTuhu6CuDSnFvK62vqMFB6\n",
      "  Args:\n",
      "    query: LangGraph library LangChain AI framework explanation\n",
      "=================================\u001b[1m Tool Message \u001b[0m=================================\n",
      "Name: tavily_search_results_json\n",
      "\n",
      "[{\"title\": \"Complete Guide to Building LangChain Agents with the LangGraph ...\", \"url\": \"https://www.getzep.com/ai-agents/langchain-agents-langgraph\", \"content\": \"| Overview of LangChain vs. LangGraph | LangChain is a flexible framework for simple, linear LLM workflows, excelling in task chaining and modularity. LangGraph handles complex workflows through graph-based orchestration, persistent state management, and multi-agent coordination, making it better suited for advanced applications. | [...] LangChain is an open-source framework designed to help developers create applications using LLMs. Its primary strength lies in building simple chains of language model interactions. Think of LangChain as a toolkit that allows you to link various language models and tasks together seamlessly. Whether you're working on a chatbot, content generator, or data processing workflow, LangChain provides the flexibility and modularity needed to compose multiple models and manage prompts effectively.\", \"score\": 0.8449346}, {\"title\": \"LangGraph - LangChain\", \"url\": \"https://www.langchain.com/langgraph\", \"content\": \"Garrett Spong\\nPrincipal SWE\\n\\n“LangGraph has been instrumental for our AI development. Its robust framework for building stateful, multi-actor applications with LLMs has transformed how we evaluate and optimize the performance of our AI guest-facing solutions. LangGraph enables granular control over the agent's thought process, which has empowered us to make data-driven and deliberate decisions to meet the diverse needs of our guests.”\\n\\nAndres Torres\\nSr. Solutions Architect [...] Garrett Spong\\nPrincipal SWE\\n\\n“LangGraph has been instrumental for our AI development. Its robust framework for building stateful, multi-actor applications with LLMs has transformed how we evaluate and optimize the performance of our AI guest-facing solutions. LangGraph enables granular control over the agent's thought process, which has empowered us to make data-driven and deliberate decisions to meet the diverse needs of our guests.”\\n\\nAndres Torres\\nSr. Solutions Architect [...] “LangChain is streets ahead with what they've put forward with LangGraph. LangGraph sets the foundation for how we can build and scale AI workloads — from conversational agents, complex task automation, to custom LLM-backed experiences that 'just work'. The next chapter in building complex production-ready features with LLMs is agentic, and with LangGraph and LangSmith, LangChain delivers an out-of-the-box solution to iterate quickly, debug immediately, and scale effortlessly.”\", \"score\": 0.78473216}]\n",
      "==================================\u001b[1m Ai Message \u001b[0m==================================\n",
      "\n",
      "[{'text': 'Let me search for more technical details:', 'type': 'text'}, {'id': 'toolu_01Mf2eqjmponjtDP117kXifo', 'input': {'query': 'LangGraph technical details how it works with AI agents state management'}, 'name': 'tavily_search_results_json', 'type': 'tool_use'}]\n",
      "Tool Calls:\n",
      "  tavily_search_results_json (toolu_01Mf2eqjmponjtDP117kXifo)\n",
      " Call ID: toolu_01Mf2eqjmponjtDP117kXifo\n",
      "  Args:\n",
      "    query: LangGraph technical details how it works with AI agents state management\n",
      "=================================\u001b[1m Tool Message \u001b[0m=================================\n",
      "Name: tavily_search_results_json\n",
      "\n",
      "[{\"title\": \"Introducing LangGraph for State Management - Azumo\", \"url\": \"https://azumo.com/insights/exploring-langgraph-a-powerful-library-for-state-management-in-ai-workflows\", \"content\": \"LangGraph is a robust library designed to facilitate state management in complex AI workflows. It allows developers to define, manage, and transition between various states seamlessly, ensuring that AI agents can handle multiple tasks efficiently. At its core, LangGraph uses state graphs, which are a series of interconnected nodes representing different states and transitions based on specific conditions.\\nKey Features of LangGraph [...] The state graph in LangGraph is a powerful framework that models the states through which an AI agent transitions during its interaction with a user. This graph is composed of nodes representing different states and edges that define transitions based on certain conditions: [...] In LangGraph, defining the state graph is a critical process that structures the AI's decision-making and action-taking capabilities based on user interactions and internal logic. This section will break down the key components of setting up the state graph and explain how nodes and conditional edges are utilized to create a dynamic and responsive AI agent.\\nOverview of the State Graph\", \"score\": 0.8646883}, {\"title\": \"How to Build AI Agents with LangGraph: A Step-by-Step Guide\", \"url\": \"https://medium.com/@lorevanoudenhove/how-to-build-ai-agents-with-langgraph-a-step-by-step-guide-5d84d9c7e832\", \"content\": \"LangGraph redefines AI development by seamlessly managing graph structure, state, and coordination, empowering the creation of sophisticated, multi-actor applications. With automatic state management, LangGraph ensures that context is preserved across interactions, enabling your AI to respond intelligently to changing inputs. Its streamlined agent coordination guarantees precise execution and efficient information exchange, letting you focus on crafting innovative workflows rather than\", \"score\": 0.8332299}]\n",
      "==================================\u001b[1m Ai Message \u001b[0m==================================\n",
      "\n",
      "Based on the research, here's a comprehensive overview of LangGraph:\n",
      "\n",
      "1. What is LangGraph?\n",
      "LangGraph is a powerful library developed by LangChain that extends the capabilities of language model (LLM) workflows by providing advanced state management and graph-based orchestration for AI agents.\n",
      "\n",
      "2. Key Features:\n",
      "- State Management: Allows developers to define, manage, and transition between different states in AI workflows\n",
      "- Graph-based Orchestration: Uses state graphs with nodes and conditional edges to model agent interactions\n",
      "- Multi-Agent Coordination: Enables complex, stateful applications with multiple AI actors\n",
      "- Granular Control: Provides detailed control over an agent's thought process and decision-making\n",
      "\n",
      "3. How It Works:\n",
      "- State Graph Structure: Composed of nodes representing different states\n",
      "- Conditional Edges: Define transitions between states based on specific conditions\n",
      "- Persistent State: Maintains context and information across interactions\n",
      "\n",
      "4. Comparison with LangChain:\n",
      "- LangChain is great for simple, linear workflows\n",
      "- LangGraph is designed for more complex, multi-step, and multi-agent applications\n",
      "\n",
      "5. Use Cases:\n",
      "- Conversational agents\n",
      "- Complex task automation\n",
      "- Custom LLM-backed experiences\n",
      "- Advanced AI workflow management\n",
      "\n",
      "6. Benefits:\n",
      "- Improved context preservation\n",
      "- More sophisticated agent interactions\n",
      "- Easier development of complex AI applications\n",
      "- Ability to create more intelligent and responsive systems\n",
      "\n",
      "If you're interested in building more advanced AI agents with complex workflows, LangGraph provides a robust framework to do so. It's particularly useful when you need more than just simple linear interactions between language models.\n",
      "\n",
      "Would you like me to elaborate on any specific aspect of LangGraph or explain how you might start using it in a project?\n"
     ]
    }
   ],
   "source": [
    "config = {\"configurable\": {\"thread_id\": \"1\"}}\n",
    "events = graph.stream(\n",
    "    {\n",
    "        \"messages\": [\n",
    "            {\n",
    "                \"role\": \"user\",\n",
    "                \"content\": (\n",
    "                    \"I'm learning LangGraph. \"\n",
    "                    \"Could you do some research on it for me?\"\n",
    "                ),\n",
    "            },\n",
    "        ],\n",
    "    },\n",
    "    config,\n",
    "    stream_mode=\"values\",\n",
    ")\n",
    "for event in events:\n",
    "    if \"messages\" in event:\n",
    "        event[\"messages\"][-1].pretty_print()"
   ]
  },
  {
   "cell_type": "code",
   "execution_count": 46,
   "id": "61b87f09-bc51-4c61-8a89-83fa91f9ba6d",
   "metadata": {},
   "outputs": [
    {
     "name": "stdout",
     "output_type": "stream",
     "text": [
      "================================\u001b[1m Human Message \u001b[0m=================================\n",
      "\n",
      "Ya that's helpful. Maybe I'll build an autonomous agent with it!\n",
      "==================================\u001b[1m Ai Message \u001b[0m==================================\n",
      "\n",
      "[{'text': 'Let me search for some guidance on building an autonomous agent with LangGraph to give you some practical insights.', 'type': 'text'}, {'id': 'toolu_017WkDLuUUqh2KmHMo2MXkJY', 'input': {'query': 'How to build an autonomous agent using LangGraph step-by-step tutorial'}, 'name': 'tavily_search_results_json', 'type': 'tool_use'}]\n",
      "Tool Calls:\n",
      "  tavily_search_results_json (toolu_017WkDLuUUqh2KmHMo2MXkJY)\n",
      " Call ID: toolu_017WkDLuUUqh2KmHMo2MXkJY\n",
      "  Args:\n",
      "    query: How to build an autonomous agent using LangGraph step-by-step tutorial\n",
      "=================================\u001b[1m Tool Message \u001b[0m=================================\n",
      "Name: tavily_search_results_json\n",
      "\n",
      "[{\"title\": \"How to Build AI Agents Step-by-Step with LangGraph - Medium\", \"url\": \"https://medium.com/data-science-collective/the-complete-guide-to-building-your-first-ai-agent-its-easier-than-you-think-c87f376c84b2\", \"content\": \"Step 1 — Create a project directory:\\nmkdir ai_agent_project cd ai_agent_project\\nStep 2— Create and activate a virtual environment:\\n# On Windows \\npython -m venv agent_env agent_env\\\\Scripts\\\\activate   \\n# On macOS/Linux\\npython3 -m venv agent_env source agent_env/bin/activate\\nStep 3— Install necessary packages:\\npip install langgraph langchain langchain-openai python-dotenv\\nStep 4— Set up your OpenAI API:\", \"score\": 0.7971311}, {\"title\": \"Build a Smart AI Agent with LangGraph & Python – 10 Min Tutorial!\", \"url\": \"https://www.youtube.com/watch?v=2_0zTWlqSP4\", \"content\": \"... agent that can browse the web, process information, and complete complex tasks? In this step-by-step tutorial, we'll use LangGraph and\", \"score\": 0.79637206}]\n",
      "==================================\u001b[1m Ai Message \u001b[0m==================================\n",
      "\n",
      "[{'text': 'Let me search for more detailed implementation guidelines:', 'type': 'text'}, {'id': 'toolu_01Btjt8aT9mzmXiaddEc3uUZ', 'input': {'query': 'LangGraph autonomous agent implementation techniques state management example'}, 'name': 'tavily_search_results_json', 'type': 'tool_use'}]\n",
      "Tool Calls:\n",
      "  tavily_search_results_json (toolu_01Btjt8aT9mzmXiaddEc3uUZ)\n",
      " Call ID: toolu_01Btjt8aT9mzmXiaddEc3uUZ\n",
      "  Args:\n",
      "    query: LangGraph autonomous agent implementation techniques state management example\n",
      "=================================\u001b[1m Tool Message \u001b[0m=================================\n",
      "Name: tavily_search_results_json\n",
      "\n",
      "[{\"title\": \"What Is LangGraph and How to Use It? - DataCamp\", \"url\": \"https://www.datacamp.com/tutorial/langgraph-tutorial\", \"content\": \"LangGraph offers powerful state management techniques, which include using external databases like SQLite, PostgreSQL, and MongoDB, or cloud storage solutions like Amazon S3, Google Cloud Storage, and Azure Blob Storage to store and retrieve your agent's state, enabling reliability and scalability.\\nHere's an example of using a SQLite database for state management:\\n```\\nfrom langgraph.checkpoint.sqlite import SqliteSaver\\nConnect to the SQLite database\", \"score\": 0.85421735}, {\"title\": \"Complete Guide to Building LangChain Agents with the LangGraph ...\", \"url\": \"https://www.getzep.com/ai-agents/langchain-agents-langgraph\", \"content\": \"Managing the state across different nodes is crucial for maintaining context and ensuring the workflow can resume seamlessly after interruptions. LangGraph handles this through its persistent state management, which allows you to save and restore the state at any point in the workflow. Here's how you can implement persistent state management:\\n```python\\nfrom langgraph.graph import StateGraph, MessagesState\\nfrom langgraph.checkpoint.sqlite import SqliteSaver\\nInitialize the checkpointer [...] LangGraph efficiently manages short-term memory within conversations using state checkpoints. This approach is ideal for scenarios like basic customer support, where maintaining the context of the current interaction is sufficient.\\nExample - basic customer support\\n```python\\nfrom langgraph.graph import StateGraph, MessagesState, START, END\\nfrom langchain_core.messages import HumanMessage\\nclass State(TypedDict):\\n    messages: Annotated[list, add_messages]\\ndef support_agent(state: State): [...] | LangGraph Library features | Cycles and Branching: Implement loops and conditional logic within workflows, allowing agents to handle dynamic and complex tasks by defining task dependencies through nodes and edges.  \\nPersistent State Management: Save and restore state at any workflow point using tools like SqliteSaver, ensuring workflows can pause and resume without losing context.\", \"score\": 0.7316155}]\n",
      "==================================\u001b[1m Ai Message \u001b[0m==================================\n",
      "\n",
      "Great! Here's a comprehensive guide to building an autonomous agent with LangGraph:\n",
      "\n",
      "1. Setup Steps:\n",
      "```bash\n",
      "# Create project directory\n",
      "mkdir ai_agent_project\n",
      "cd ai_agent_project\n",
      "\n",
      "# Create virtual environment\n",
      "python -m venv agent_env\n",
      "source agent_env/bin/activate  # On macOS/Linux\n",
      "# agent_env\\Scripts\\activate  # On Windows\n",
      "\n",
      "# Install required packages\n",
      "pip install langgraph langchain langchain-openai python-dotenv\n",
      "```\n",
      "\n",
      "2. Key Implementation Techniques:\n",
      "- Use StateGraph for defining agent workflow\n",
      "- Implement state management\n",
      "- Create nodes for different agent actions\n",
      "- Define conditional edges for decision-making\n",
      "\n",
      "3. Basic Implementation Example:\n",
      "```python\n",
      "from langgraph.graph import StateGraph, START, END\n",
      "from typing import TypedDict, Annotated\n",
      "from langchain_core.messages import HumanMessage\n",
      "\n",
      "# Define agent state\n",
      "class State(TypedDict):\n",
      "    messages: Annotated[list, add_messages]\n",
      "\n",
      "# Create state graph\n",
      "def create_agent_graph():\n",
      "    graph = StateGraph(State)\n",
      "    \n",
      "    # Add nodes for different agent actions\n",
      "    graph.add_node(\"research\", research_node)\n",
      "    graph.add_node(\"analyze\", analysis_node)\n",
      "    graph.add_node(\"report\", report_node)\n",
      "    \n",
      "    # Define edges between nodes\n",
      "    graph.add_edge(START, \"research\")\n",
      "    graph.add_edge(\"research\", \"analyze\")\n",
      "    graph.add_edge(\"analyze\", \"report\")\n",
      "    graph.add_edge(\"report\", END)\n",
      "    \n",
      "    return graph.compile()\n",
      "```\n",
      "\n",
      "4. Advanced Features to Consider:\n",
      "- Persistent State Management: Use SqliteSaver to save and restore agent state\n",
      "- Implement cycle and branching logic\n",
      "- Add error handling and fallback mechanisms\n",
      "\n",
      "5. State Management Example:\n",
      "```python\n",
      "from langgraph.checkpoint.sqlite import SqliteSaver\n",
      "\n",
      "# Create checkpointer for persistent state\n",
      "checkpointer = SqliteSaver.from_conn_string(\":memory:\")\n",
      "workflow = create_agent_graph().with_config({\"checkpoint\": checkpointer})\n",
      "```\n",
      "\n",
      "Recommended Learning Path:\n",
      "1. Start with simple single-task agents\n",
      "2. Gradually add complexity\n",
      "3. Implement multi-step workflows\n",
      "4. Experiment with state management\n",
      "5. Add error handling and advanced logic\n",
      "\n",
      "Pro Tips:\n",
      "- Use OpenAI or other LLM providers for agent intelligence\n",
      "- Design clear, modular node functions\n",
      "- Implement robust state tracking\n",
      "- Add logging and monitoring\n",
      "\n",
      "Would you like me to elaborate on any of these implementation details or explain a specific aspect of building an autonomous agent with LangGraph?\n"
     ]
    }
   ],
   "source": [
    "events = graph.stream(\n",
    "    {\n",
    "        \"messages\": [\n",
    "            {\n",
    "                \"role\": \"user\",\n",
    "                \"content\": (\n",
    "                    \"Ya that's helpful. Maybe I'll \"\n",
    "                    \"build an autonomous agent with it!\"\n",
    "                ),\n",
    "            },\n",
    "        ],\n",
    "    },\n",
    "    config,\n",
    "    stream_mode=\"values\",\n",
    ")\n",
    "for event in events:\n",
    "    if \"messages\" in event:\n",
    "        event[\"messages\"][-1].pretty_print()"
   ]
  },
  {
   "cell_type": "code",
   "execution_count": 47,
   "id": "83c3a335-7220-4703-afa6-c9a0ac7c0c3d",
   "metadata": {},
   "outputs": [
    {
     "name": "stdout",
     "output_type": "stream",
     "text": [
      "Num Messages:  12 Next:  ()\n",
      "--------------------------------------------------------------------------------\n",
      "Num Messages:  11 Next:  ('chatbot',)\n",
      "--------------------------------------------------------------------------------\n",
      "Num Messages:  10 Next:  ('tools',)\n",
      "--------------------------------------------------------------------------------\n",
      "Num Messages:  9 Next:  ('chatbot',)\n",
      "--------------------------------------------------------------------------------\n",
      "Num Messages:  8 Next:  ('tools',)\n",
      "--------------------------------------------------------------------------------\n",
      "Num Messages:  7 Next:  ('chatbot',)\n",
      "--------------------------------------------------------------------------------\n",
      "Num Messages:  6 Next:  ('__start__',)\n",
      "--------------------------------------------------------------------------------\n",
      "Num Messages:  6 Next:  ()\n",
      "--------------------------------------------------------------------------------\n",
      "Num Messages:  5 Next:  ('chatbot',)\n",
      "--------------------------------------------------------------------------------\n",
      "Num Messages:  4 Next:  ('tools',)\n",
      "--------------------------------------------------------------------------------\n",
      "Num Messages:  3 Next:  ('chatbot',)\n",
      "--------------------------------------------------------------------------------\n",
      "Num Messages:  2 Next:  ('tools',)\n",
      "--------------------------------------------------------------------------------\n",
      "Num Messages:  1 Next:  ('chatbot',)\n",
      "--------------------------------------------------------------------------------\n",
      "Num Messages:  0 Next:  ('__start__',)\n",
      "--------------------------------------------------------------------------------\n"
     ]
    }
   ],
   "source": [
    "to_replay = None\n",
    "for state in graph.get_state_history(config):\n",
    "    print(\"Num Messages: \", len(state.values[\"messages\"]), \"Next: \", state.next)\n",
    "    print(\"-\" * 80)\n",
    "    if len(state.values[\"messages\"]) == 6:\n",
    "        # We are somewhat arbitrarily selecting a specific state based on the number of chat messages in the state.\n",
    "        to_replay = state"
   ]
  },
  {
   "cell_type": "code",
   "execution_count": 48,
   "id": "fc6b1cc6-4ddf-4200-a92f-0e10d033e1f4",
   "metadata": {},
   "outputs": [
    {
     "name": "stdout",
     "output_type": "stream",
     "text": [
      "()\n",
      "{'configurable': {'thread_id': '1', 'checkpoint_ns': '', 'checkpoint_id': '1f009788-ba09-67a5-8005-47a7fb460d1b'}}\n"
     ]
    }
   ],
   "source": [
    "print(to_replay.next)\n",
    "print(to_replay.config)"
   ]
  },
  {
   "cell_type": "code",
   "execution_count": 49,
   "id": "916366db-e1f6-4b17-8ca4-96d664bfbe3e",
   "metadata": {},
   "outputs": [
    {
     "name": "stdout",
     "output_type": "stream",
     "text": [
      "==================================\u001b[1m Ai Message \u001b[0m==================================\n",
      "\n",
      "Based on the research, here's a comprehensive overview of LangGraph:\n",
      "\n",
      "1. What is LangGraph?\n",
      "LangGraph is a powerful library developed by LangChain that extends the capabilities of language model (LLM) workflows by providing advanced state management and graph-based orchestration for AI agents.\n",
      "\n",
      "2. Key Features:\n",
      "- State Management: Allows developers to define, manage, and transition between different states in AI workflows\n",
      "- Graph-based Orchestration: Uses state graphs with nodes and conditional edges to model agent interactions\n",
      "- Multi-Agent Coordination: Enables complex, stateful applications with multiple AI actors\n",
      "- Granular Control: Provides detailed control over an agent's thought process and decision-making\n",
      "\n",
      "3. How It Works:\n",
      "- State Graph Structure: Composed of nodes representing different states\n",
      "- Conditional Edges: Define transitions between states based on specific conditions\n",
      "- Persistent State: Maintains context and information across interactions\n",
      "\n",
      "4. Comparison with LangChain:\n",
      "- LangChain is great for simple, linear workflows\n",
      "- LangGraph is designed for more complex, multi-step, and multi-agent applications\n",
      "\n",
      "5. Use Cases:\n",
      "- Conversational agents\n",
      "- Complex task automation\n",
      "- Custom LLM-backed experiences\n",
      "- Advanced AI workflow management\n",
      "\n",
      "6. Benefits:\n",
      "- Improved context preservation\n",
      "- More sophisticated agent interactions\n",
      "- Easier development of complex AI applications\n",
      "- Ability to create more intelligent and responsive systems\n",
      "\n",
      "If you're interested in building more advanced AI agents with complex workflows, LangGraph provides a robust framework to do so. It's particularly useful when you need more than just simple linear interactions between language models.\n",
      "\n",
      "Would you like me to elaborate on any specific aspect of LangGraph or explain how you might start using it in a project?\n"
     ]
    }
   ],
   "source": [
    "# The `checkpoint_id` in the `to_replay.config` corresponds to a state we've persisted to our checkpointer.\n",
    "for event in graph.stream(None, to_replay.config, stream_mode=\"values\"):\n",
    "    if \"messages\" in event:\n",
    "        event[\"messages\"][-1].pretty_print()"
   ]
  }
 ],
 "metadata": {
  "kernelspec": {
   "display_name": "Python 3 (ipykernel)",
   "language": "python",
   "name": "python3"
  },
  "language_info": {
   "codemirror_mode": {
    "name": "ipython",
    "version": 3
   },
   "file_extension": ".py",
   "mimetype": "text/x-python",
   "name": "python",
   "nbconvert_exporter": "python",
   "pygments_lexer": "ipython3",
   "version": "3.11.4"
  }
 },
 "nbformat": 4,
 "nbformat_minor": 5
}
