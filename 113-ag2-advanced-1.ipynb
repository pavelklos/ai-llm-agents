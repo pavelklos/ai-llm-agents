{
 "cells": [
  {
   "cell_type": "markdown",
   "id": "accbde67-9c7e-41b0-9329-8052e2ef365b",
   "metadata": {},
   "source": [
    "# AG2: RAG"
   ]
  },
  {
   "cell_type": "markdown",
   "id": "5cb42466-306d-49b1-b814-6674b60451e4",
   "metadata": {},
   "source": [
    "Retrieval-Augmented Generation **(RAG)** is a technique to improve LLM-generated responses by providing additional knowledge. This typically involves gathering the information and injecting it into an agent’s system message for use by their LLM.<br>\n",
    "There are a number of ways to incorporate RAG into your AG2 workflow and agents:\n",
    "- Use an AG2 reference agent, **DocAgent**\n",
    "- Add RAG capabilities to an agent\n",
    "- Incorporate context into an agent’s system message (manually and automatically)\n",
    "\n",
    "DocAgent\n",
    "- https://docs.ag2.ai/docs/user-guide/reference-agents/docagent"
   ]
  },
  {
   "cell_type": "markdown",
   "id": "fa1039ae-8255-4ec0-8c3a-2757a8f0ae95",
   "metadata": {},
   "source": [
    "## SETUP"
   ]
  },
  {
   "cell_type": "code",
   "execution_count": 1,
   "id": "0ce6eafa-f6ef-4ff1-8d54-17b4fcb71612",
   "metadata": {},
   "outputs": [],
   "source": [
    "import os\n",
    "from dotenv import load_dotenv\n",
    "\n",
    "# Load environment variables (for API key)\n",
    "load_dotenv()\n",
    "\n",
    "# Set up OpenAI API key\n",
    "api_key = os.getenv(\"OPENAI_API_KEY\")\n",
    "if not api_key:\n",
    "    raise ValueError(\"Please set the OPENAI_API_KEY environment variable or add it to a .env file\")\n",
    "\n",
    "# Define the model to use\n",
    "MODEL_GPT = \"gpt-4o-mini\""
   ]
  },
  {
   "cell_type": "markdown",
   "id": "6d4b3d85-1129-4a0a-8d09-3048a0f4b7aa",
   "metadata": {},
   "source": [
    "## 1. DocAgent"
   ]
  },
  {
   "cell_type": "markdown",
   "id": "fe921b65-ba8d-487c-921d-ea64772ac10f",
   "metadata": {},
   "source": [
    "Use AG2’s reference agent, **DocAgent**, built specifically for RAG. It will take the hassle out of loading, parsing, storing, and querying documents/web pages.\n",
    "- https://docs.ag2.ai/docs/user-guide/reference-agents/docagent"
   ]
  },
  {
   "cell_type": "markdown",
   "id": "8041c99a-033f-4756-a9e0-f500ba6712fe",
   "metadata": {},
   "source": [
    "## 2. Add RAG capabilities to an agent"
   ]
  },
  {
   "cell_type": "markdown",
   "id": "02c70825-d5d4-4fd9-a298-2484a9f611d4",
   "metadata": {},
   "source": [
    "### RAG Capability: Neo4j GraphRAG"
   ]
  },
  {
   "cell_type": "markdown",
   "id": "8ef19188-6657-4251-a5af-73cd063cc4af",
   "metadata": {},
   "source": [
    "Based on AG2’s base GraphRAG capability, this Neo4j GraphRAG capability allows the embedding and querying of information with a Neo4j graph database.<br>\n",
    "See the **Using Neo4j’s graph database with AG2 agents for Q&A notebook**.\n",
    "- https://docs.ag2.ai/docs/use-cases/notebooks/notebooks/agentchat_graph_rag_neo4j"
   ]
  },
  {
   "cell_type": "markdown",
   "id": "8e91292c-0d3e-42d5-93b1-8b157f978b7c",
   "metadata": {},
   "source": [
    "### RAG Capability: FalkorDB GraphRAG"
   ]
  },
  {
   "cell_type": "markdown",
   "id": "d24b0d35-0064-47a7-9454-cf6ecc3835e9",
   "metadata": {},
   "source": [
    "Also based on AG2’s base GraphRAG capability, this capability uses a FalkorDB GraphRAG database.<br>\n",
    "See the **Trip planning with a FalkorDB GraphRAG agent using a Swarm notebook**.\n",
    "- https://docs.ag2.ai/docs/use-cases/notebooks/notebooks/agentchat_swarm_graphrag_trip_planner"
   ]
  },
  {
   "cell_type": "markdown",
   "id": "c3decc59-f37c-4fd8-8f9e-31482cdf552c",
   "metadata": {},
   "source": [
    "## 3. Incorporating context into an Agent’s system message"
   ]
  },
  {
   "cell_type": "code",
   "execution_count": 2,
   "id": "e9cd21d1-a047-43da-b262-9ef4ba78ebcf",
   "metadata": {},
   "outputs": [],
   "source": [
    "import os\n",
    "from typing import Any\n",
    "\n",
    "from autogen import ConversableAgent\n",
    "\n",
    "config_list = {\"api_type\": \"openai\", \"model\": \"gpt-4o\", \"api_key\": os.environ[\"OPENAI_API_KEY\"]}\n",
    "\n",
    "base_system_message = \"You are a helpful agent, answering questions about the files in a directory:\\n{filelisting}\""
   ]
  },
  {
   "cell_type": "code",
   "execution_count": 3,
   "id": "b5a504fc-0922-4022-b70a-e01aa407b919",
   "metadata": {},
   "outputs": [],
   "source": [
    "# Attach to the hook, it gets all files in the current directory and updates the associated agent’s system message accordingly\n",
    "\n",
    "def give_agent_file_listing(agent: ConversableAgent, messages: list[dict[str, Any]]) -> None:\n",
    "    # Get the list of files in the current directory\n",
    "    files = os.listdir()\n",
    "\n",
    "    # Put them in a string\n",
    "    files_str = \"\\n\".join(files)\n",
    "\n",
    "    # Use the system message template and update the agent's system message to include the file listing\n",
    "    agent.update_system_message(base_system_message.format(filelisting=files_str))"
   ]
  },
  {
   "cell_type": "code",
   "execution_count": 4,
   "id": "f32e0ff6-6021-4b6a-9927-4b853ff920c2",
   "metadata": {},
   "outputs": [],
   "source": [
    "# Create the agent and attach the hook\n",
    "\n",
    "files_agent = ConversableAgent(\n",
    "    name=\"files_agent\",\n",
    "    system_message=\"\"\"You are a helpful agent, answering questions about the files in a directory.\"\"\",\n",
    "    llm_config=config_list,\n",
    "    )\n",
    "\n",
    "files_agent.register_hook(\n",
    "    hookable_method=\"update_agent_state\",\n",
    "    hook=give_agent_file_listing,\n",
    "    )"
   ]
  },
  {
   "cell_type": "code",
   "execution_count": 5,
   "id": "f6b0e758-1ee0-403f-8068-f06670c6134b",
   "metadata": {},
   "outputs": [],
   "source": [
    "# Create a human-in-the-loop agent and ask our files_agent about the files\n",
    "\n",
    "human = ConversableAgent(\n",
    "    name=\"human\",\n",
    "    human_input_mode=\"NEVER\",\n",
    "    max_consecutive_auto_reply=1,\n",
    "    )"
   ]
  },
  {
   "cell_type": "code",
   "execution_count": 7,
   "id": "cf9fe285-78e7-4996-88cb-91e5ac02f50b",
   "metadata": {},
   "outputs": [
    {
     "name": "stdout",
     "output_type": "stream",
     "text": [
      "\u001b[33mhuman\u001b[0m (to files_agent):\n",
      "\n",
      "Tell me about the files in my directory.\n",
      "\n",
      "--------------------------------------------------------------------------------\n",
      "\u001b[31m\n",
      ">>>>>>>> USING AUTO REPLY...\u001b[0m\n",
      "\u001b[33mfiles_agent\u001b[0m (to human):\n",
      "\n",
      "Your directory contains a variety of files and folders, here's a general breakdown:\n",
      "\n",
      "1. **Hidden directories:**\n",
      "   - `.cache`, `.env`, `.git`, `.ipynb_checkpoints`, `.venv`: These are directories that typically store environment settings, version control information, or caching data. \n",
      "   - `.gitignore`: A configuration file for Git to specify which files or directories should be ignored during version control.\n",
      "\n",
      "2. **Jupyter Notebook files:**\n",
      "   - `101-ag2-quick-start.ipynb` through `113-ag2-advanced-1.ipynb`: These files are Jupyter Notebook files, usually with Python or other programming code, likely related to some sort of learning or tutorial sequence about \"ag2\" content.\n",
      "\n",
      "3. **Plain directories:**\n",
      "   - `001`, `002`: These could be general directories, used to organize related files or information.\n",
      "\n",
      "4. **Documentation:**\n",
      "   - `README.md`: This is often a markdown file used to document information about your project like how to set it up or run it.\n",
      "\n",
      "5. **Requirements files:**\n",
      "   - `requirements.txt`, `requirements-last.txt`: These text files usually list the Python dependencies required by your project, which can be installed using `pip`.\n",
      "\n",
      "6. **Temporary files:**\n",
      "   - `temp`: Often used to store temporary data generated during the execution of scripts or applications. \n",
      "\n",
      "Overall, this directory seems to contain a combination of development, configuration, and documentation files that might be part of a coding project or study materials.\n",
      "\n",
      "--------------------------------------------------------------------------------\n"
     ]
    }
   ],
   "source": [
    "chat_result = human.initiate_chat(\n",
    "    recipient=files_agent,\n",
    "    message=\"Tell me about the files in my directory.\",\n",
    "    max_turns=1,\n",
    "    )"
   ]
  },
  {
   "cell_type": "code",
   "execution_count": 8,
   "id": "2ccb3fc6-b538-4680-b8d9-39af62e92edd",
   "metadata": {},
   "outputs": [
    {
     "name": "stdout",
     "output_type": "stream",
     "text": [
      "Your directory contains a variety of files and folders, here's a general breakdown:\n",
      "\n",
      "1. **Hidden directories:**\n",
      "   - `.cache`, `.env`, `.git`, `.ipynb_checkpoints`, `.venv`: These are directories that typically store environment settings, version control information, or caching data. \n",
      "   - `.gitignore`: A configuration file for Git to specify which files or directories should be ignored during version control.\n",
      "\n",
      "2. **Jupyter Notebook files:**\n",
      "   - `101-ag2-quick-start.ipynb` through `113-ag2-advanced-1.ipynb`: These files are Jupyter Notebook files, usually with Python or other programming code, likely related to some sort of learning or tutorial sequence about \"ag2\" content.\n",
      "\n",
      "3. **Plain directories:**\n",
      "   - `001`, `002`: These could be general directories, used to organize related files or information.\n",
      "\n",
      "4. **Documentation:**\n",
      "   - `README.md`: This is often a markdown file used to document information about your project like how to set it up or run it.\n",
      "\n",
      "5. **Requirements files:**\n",
      "   - `requirements.txt`, `requirements-last.txt`: These text files usually list the Python dependencies required by your project, which can be installed using `pip`.\n",
      "\n",
      "6. **Temporary files:**\n",
      "   - `temp`: Often used to store temporary data generated during the execution of scripts or applications. \n",
      "\n",
      "Overall, this directory seems to contain a combination of development, configuration, and documentation files that might be part of a coding project or study materials.\n"
     ]
    }
   ],
   "source": [
    "print(chat_result.summary)"
   ]
  },
  {
   "cell_type": "code",
   "execution_count": 9,
   "id": "d0061cdf-bede-4178-bed6-9051fe9fa521",
   "metadata": {},
   "outputs": [
    {
     "name": "stdout",
     "output_type": "stream",
     "text": [
      "2\n",
      "[{'content': 'Tell me about the files in my directory.', 'role': 'assistant', 'name': 'human'}, {'content': 'Your directory contains a variety of files and folders, here\\'s a general breakdown:\\n\\n1. **Hidden directories:**\\n   - `.cache`, `.env`, `.git`, `.ipynb_checkpoints`, `.venv`: These are directories that typically store environment settings, version control information, or caching data. \\n   - `.gitignore`: A configuration file for Git to specify which files or directories should be ignored during version control.\\n\\n2. **Jupyter Notebook files:**\\n   - `101-ag2-quick-start.ipynb` through `113-ag2-advanced-1.ipynb`: These files are Jupyter Notebook files, usually with Python or other programming code, likely related to some sort of learning or tutorial sequence about \"ag2\" content.\\n\\n3. **Plain directories:**\\n   - `001`, `002`: These could be general directories, used to organize related files or information.\\n\\n4. **Documentation:**\\n   - `README.md`: This is often a markdown file used to document information about your project like how to set it up or run it.\\n\\n5. **Requirements files:**\\n   - `requirements.txt`, `requirements-last.txt`: These text files usually list the Python dependencies required by your project, which can be installed using `pip`.\\n\\n6. **Temporary files:**\\n   - `temp`: Often used to store temporary data generated during the execution of scripts or applications. \\n\\nOverall, this directory seems to contain a combination of development, configuration, and documentation files that might be part of a coding project or study materials.', 'role': 'user', 'name': 'files_agent'}]\n"
     ]
    }
   ],
   "source": [
    "print(len(chat_result.chat_history))\n",
    "# print(chat_result.chat_history[0])\n",
    "# print(chat_result.chat_history[-1])\n",
    "print(chat_result.chat_history)"
   ]
  }
 ],
 "metadata": {
  "kernelspec": {
   "display_name": "Python 3 (ipykernel)",
   "language": "python",
   "name": "python3"
  },
  "language_info": {
   "codemirror_mode": {
    "name": "ipython",
    "version": 3
   },
   "file_extension": ".py",
   "mimetype": "text/x-python",
   "name": "python",
   "nbconvert_exporter": "python",
   "pygments_lexer": "ipython3",
   "version": "3.11.4"
  }
 },
 "nbformat": 4,
 "nbformat_minor": 5
}
