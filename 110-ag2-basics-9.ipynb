{
 "cells": [
  {
   "cell_type": "markdown",
   "id": "accbde67-9c7e-41b0-9329-8052e2ef365b",
   "metadata": {},
   "source": [
    "# AG2: Tools (Interoperability) (LangChain Tools Integration)"
   ]
  },
  {
   "cell_type": "markdown",
   "id": "5cb42466-306d-49b1-b814-6674b60451e4",
   "metadata": {},
   "source": [
    "- LangChain Tools Integration<br>\n",
    "  - https://docs.ag2.ai/docs/user-guide/basic-concepts/tools/interop/langchain"
   ]
  },
  {
   "cell_type": "markdown",
   "id": "fa1039ae-8255-4ec0-8c3a-2757a8f0ae95",
   "metadata": {},
   "source": [
    "## SETUP"
   ]
  },
  {
   "cell_type": "code",
   "execution_count": 1,
   "id": "0ce6eafa-f6ef-4ff1-8d54-17b4fcb71612",
   "metadata": {},
   "outputs": [],
   "source": [
    "import os\n",
    "from dotenv import load_dotenv\n",
    "\n",
    "# Load environment variables (for API key)\n",
    "load_dotenv()\n",
    "\n",
    "# Set up OpenAI API key\n",
    "api_key = os.getenv(\"OPENAI_API_KEY\")\n",
    "if not api_key:\n",
    "    raise ValueError(\"Please set the OPENAI_API_KEY environment variable or add it to a .env file\")\n",
    "\n",
    "# Define the model to use\n",
    "MODEL_GPT = \"gpt-4o-mini\""
   ]
  },
  {
   "cell_type": "markdown",
   "id": "d1b51f09-1095-4eda-948b-8d419c52e32d",
   "metadata": {},
   "source": [
    "## LangChain Tools Integration"
   ]
  },
  {
   "cell_type": "markdown",
   "id": "0e276602-be89-4d91-90af-0f7769e3b380",
   "metadata": {},
   "source": [
    "### Introduction\n",
    "- LangChain Community Tools\n",
    "  - https://github.com/langchain-ai/langchain/tree/master/libs/community/langchain_community/tools"
   ]
  },
  {
   "cell_type": "markdown",
   "id": "00491ee0-d928-4bf0-ad32-86ce14af0d94",
   "metadata": {},
   "source": [
    "### Installation"
   ]
  },
  {
   "cell_type": "markdown",
   "id": "001268c8-37fd-4d7e-955c-8a85ba6a682a",
   "metadata": {},
   "source": [
    "```python\n",
    "pip install ag2[openai,interop-langchain]\n",
    "\n",
    "# If you have been using autogen or pyautogen, all you need to do is upgrade it using:\n",
    "pip install -U autogen[openai,interop-langchain]\n",
    "pip install -U pyautogen[openai,interop-langchain]\n",
    "```\n",
    "as pyautogen, autogen, and ag2 are aliases for the same PyPI package"
   ]
  },
  {
   "cell_type": "markdown",
   "id": "367bdd1d-36cc-48cf-9f69-f4fdbd680b38",
   "metadata": {},
   "source": [
    "**Wikipedia Tool**\n",
    "- https://python.langchain.com/docs/integrations/tools/wikipedia/"
   ]
  },
  {
   "cell_type": "markdown",
   "id": "67cf6b00-3f3f-4a26-9812-366cf0b44639",
   "metadata": {},
   "source": [
    "```python\n",
    "pip install wikipedia\n",
    "```"
   ]
  },
  {
   "cell_type": "markdown",
   "id": "5ab39a2e-5ee4-4b97-85b2-540a3764e8af",
   "metadata": {},
   "source": [
    "### Imports"
   ]
  },
  {
   "cell_type": "code",
   "execution_count": 2,
   "id": "1a777005-db0a-4c39-9caf-fd0cab524655",
   "metadata": {},
   "outputs": [],
   "source": [
    "import os\n",
    "\n",
    "from langchain_community.tools import WikipediaQueryRun\n",
    "from langchain_community.utilities import WikipediaAPIWrapper\n",
    "\n",
    "# from autogen import AssistantAgent, UserProxyAgent, LLMConfig\n",
    "from autogen import AssistantAgent, UserProxyAgent\n",
    "from autogen.interop import Interoperability"
   ]
  },
  {
   "cell_type": "markdown",
   "id": "12be40fe-4d9f-4c2d-b1cd-90310da0c0fb",
   "metadata": {},
   "source": [
    "### Agent Configuration"
   ]
  },
  {
   "cell_type": "code",
   "execution_count": 3,
   "id": "764cd8bf-a76e-4496-ad71-d5d2ba34c3ed",
   "metadata": {},
   "outputs": [],
   "source": [
    "# config_list = [{\"api_type\": \"openai\", \"model\": \"gpt-4o\", \"api_key\": os.environ[\"OPENAI_API_KEY\"]}]\n",
    "config_list = {\"api_type\": \"openai\", \"model\": \"gpt-4o-mini\", \"api_key\": os.environ[\"OPENAI_API_KEY\"]}\n",
    "user_proxy = UserProxyAgent(\n",
    "    name=\"User\",\n",
    "    human_input_mode=\"NEVER\",\n",
    "    code_execution_config={\n",
    "        \"work_dir\": \"coding_work\",\n",
    "        \"use_docker\": False,  # Set to True if you want to use Docker\n",
    "    }\n",
    ")\n",
    "\n",
    "chatbot = AssistantAgent(\n",
    "    name=\"chatbot\",\n",
    "    # llm_config=LLMConfig(config_list=config_list),\n",
    "    llm_config=config_list,\n",
    ")"
   ]
  },
  {
   "cell_type": "markdown",
   "id": "66fafa35-43a3-455a-8c40-e820a17bac48",
   "metadata": {},
   "source": [
    "### Tool Integration"
   ]
  },
  {
   "cell_type": "code",
   "execution_count": 4,
   "id": "0d3ce8f2-27cc-4548-aff0-fb7d14636fc2",
   "metadata": {},
   "outputs": [],
   "source": [
    "api_wrapper = WikipediaAPIWrapper(top_k_results=1, doc_content_chars_max=1000)\n",
    "langchain_tool = WikipediaQueryRun(api_wrapper=api_wrapper)\n",
    "\n",
    "interop = Interoperability()\n",
    "ag2_tool = interop.convert_tool(tool=langchain_tool, type=\"langchain\")\n",
    "\n",
    "ag2_tool.register_for_execution(user_proxy)\n",
    "ag2_tool.register_for_llm(chatbot)"
   ]
  },
  {
   "cell_type": "markdown",
   "id": "86e0b002-c6ec-4f14-8173-d470bf37f770",
   "metadata": {},
   "source": [
    "### Initiating the Chat"
   ]
  },
  {
   "cell_type": "code",
   "execution_count": 5,
   "id": "56a45bee-cec1-4a9d-8175-230b46edc799",
   "metadata": {},
   "outputs": [],
   "source": [
    "message = \"Tell me about the history of the United States\""
   ]
  },
  {
   "cell_type": "code",
   "execution_count": 6,
   "id": "1b534160-1d12-4526-9d11-85d82c9ff23c",
   "metadata": {},
   "outputs": [
    {
     "name": "stdout",
     "output_type": "stream",
     "text": [
      "\u001b[33mUser\u001b[0m (to chatbot):\n",
      "\n",
      "Tell me about the history of the United States\n",
      "\n",
      "--------------------------------------------------------------------------------\n",
      "\u001b[33mchatbot\u001b[0m (to User):\n",
      "\n",
      "\u001b[32m***** Suggested tool call (call_LGSURIWPSRNl1YcjTg6FBV2M): wikipedia *****\u001b[0m\n",
      "Arguments: \n",
      "{\"query\":\"History of the United States\"}\n",
      "\u001b[32m**************************************************************************\u001b[0m\n",
      "\n",
      "--------------------------------------------------------------------------------\n",
      "\u001b[35m\n",
      ">>>>>>>> EXECUTING FUNCTION wikipedia...\n",
      "Call ID: call_LGSURIWPSRNl1YcjTg6FBV2M\n",
      "Input arguments: {'query': 'History of the United States'}\u001b[0m\n",
      "\u001b[33mUser\u001b[0m (to chatbot):\n",
      "\n",
      "\u001b[32m***** Response from calling tool (call_LGSURIWPSRNl1YcjTg6FBV2M) *****\u001b[0m\n",
      "Error: 'tool_input'\n",
      "\u001b[32m**********************************************************************\u001b[0m\n",
      "\n",
      "--------------------------------------------------------------------------------\n",
      "\u001b[33mchatbot\u001b[0m (to User):\n",
      "\n",
      "\u001b[32m***** Suggested tool call (call_5N5zTslFjxGY7VDebL1ABeuw): wikipedia *****\u001b[0m\n",
      "Arguments: \n",
      "{\"query\":\"History of the United States\"}\n",
      "\u001b[32m**************************************************************************\u001b[0m\n",
      "\n",
      "--------------------------------------------------------------------------------\n"
     ]
    }
   ],
   "source": [
    "chat_result = user_proxy.initiate_chat(recipient=chatbot, message=message, max_turns=2)"
   ]
  },
  {
   "cell_type": "markdown",
   "id": "2786cbd2-fee4-49c6-9990-4dc697a30a67",
   "metadata": {},
   "source": [
    "### Output"
   ]
  },
  {
   "cell_type": "code",
   "execution_count": 7,
   "id": "737e8856-e06a-4b8e-b5d2-071c8318095f",
   "metadata": {},
   "outputs": [
    {
     "name": "stdout",
     "output_type": "stream",
     "text": [
      "4\n",
      "[{'content': 'Tell me about the history of the United States', 'role': 'assistant', 'name': 'User'}, {'tool_calls': [{'id': 'call_LGSURIWPSRNl1YcjTg6FBV2M', 'function': {'arguments': '{\"query\":\"History of the United States\"}', 'name': 'wikipedia'}, 'type': 'function'}], 'content': None, 'role': 'assistant'}, {'content': \"Error: 'tool_input'\", 'tool_responses': [{'tool_call_id': 'call_LGSURIWPSRNl1YcjTg6FBV2M', 'role': 'tool', 'content': \"Error: 'tool_input'\"}], 'role': 'tool', 'name': 'User'}, {'tool_calls': [{'id': 'call_5N5zTslFjxGY7VDebL1ABeuw', 'function': {'arguments': '{\"query\":\"History of the United States\"}', 'name': 'wikipedia'}, 'type': 'function'}], 'content': None, 'role': 'assistant'}]\n"
     ]
    }
   ],
   "source": [
    "print(len(chat_result.chat_history))\n",
    "# print(chat_result.chat_history[0])\n",
    "# print(chat_result.chat_history[-1])\n",
    "\n",
    "print(chat_result.chat_history)"
   ]
  }
 ],
 "metadata": {
  "kernelspec": {
   "display_name": "Python 3 (ipykernel)",
   "language": "python",
   "name": "python3"
  },
  "language_info": {
   "codemirror_mode": {
    "name": "ipython",
    "version": 3
   },
   "file_extension": ".py",
   "mimetype": "text/x-python",
   "name": "python",
   "nbconvert_exporter": "python",
   "pygments_lexer": "ipython3",
   "version": "3.11.4"
  }
 },
 "nbformat": 4,
 "nbformat_minor": 5
}
