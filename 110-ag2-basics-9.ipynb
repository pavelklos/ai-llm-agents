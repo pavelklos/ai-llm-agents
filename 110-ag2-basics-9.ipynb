{
 "cells": [
  {
   "cell_type": "markdown",
   "id": "accbde67-9c7e-41b0-9329-8052e2ef365b",
   "metadata": {},
   "source": [
    "# AG2: Tools (Interoperability) (LangChain Tools Integration)"
   ]
  },
  {
   "cell_type": "markdown",
   "id": "5cb42466-306d-49b1-b814-6674b60451e4",
   "metadata": {},
   "source": [
    "- LangChain Tools Integration<br>\n",
    "  - https://docs.ag2.ai/docs/user-guide/basic-concepts/tools/interop/langchain"
   ]
  },
  {
   "cell_type": "markdown",
   "id": "fa1039ae-8255-4ec0-8c3a-2757a8f0ae95",
   "metadata": {},
   "source": [
    "## SETUP"
   ]
  },
  {
   "cell_type": "code",
   "execution_count": 1,
   "id": "0ce6eafa-f6ef-4ff1-8d54-17b4fcb71612",
   "metadata": {},
   "outputs": [],
   "source": [
    "import os\n",
    "from dotenv import load_dotenv\n",
    "\n",
    "# Load environment variables (for API key)\n",
    "load_dotenv()\n",
    "\n",
    "# Set up OpenAI API key\n",
    "api_key = os.getenv(\"OPENAI_API_KEY\")\n",
    "if not api_key:\n",
    "    raise ValueError(\"Please set the OPENAI_API_KEY environment variable or add it to a .env file\")\n",
    "\n",
    "# Define the model to use\n",
    "MODEL_GPT = \"gpt-4o-mini\""
   ]
  },
  {
   "cell_type": "markdown",
   "id": "d1b51f09-1095-4eda-948b-8d419c52e32d",
   "metadata": {},
   "source": [
    "## LangChain Tools Integration"
   ]
  },
  {
   "cell_type": "markdown",
   "id": "0e276602-be89-4d91-90af-0f7769e3b380",
   "metadata": {},
   "source": [
    "### Introduction\n",
    "- LangChain Community Tools\n",
    "  - https://github.com/langchain-ai/langchain/tree/master/libs/community/langchain_community/tools"
   ]
  },
  {
   "cell_type": "markdown",
   "id": "00491ee0-d928-4bf0-ad32-86ce14af0d94",
   "metadata": {},
   "source": [
    "### Installation"
   ]
  },
  {
   "cell_type": "markdown",
   "id": "001268c8-37fd-4d7e-955c-8a85ba6a682a",
   "metadata": {},
   "source": [
    "```python\n",
    "pip install ag2[openai,interop-langchain]\n",
    "\n",
    "# If you have been using autogen or pyautogen, all you need to do is upgrade it using:\n",
    "pip install -U autogen[openai,interop-langchain]\n",
    "pip install -U pyautogen[openai,interop-langchain]\n",
    "```\n",
    "as pyautogen, autogen, and ag2 are aliases for the same PyPI package"
   ]
  },
  {
   "cell_type": "markdown",
   "id": "367bdd1d-36cc-48cf-9f69-f4fdbd680b38",
   "metadata": {},
   "source": [
    "**Wikipedia Tool**\n",
    "- https://python.langchain.com/docs/integrations/tools/wikipedia/"
   ]
  },
  {
   "cell_type": "markdown",
   "id": "67cf6b00-3f3f-4a26-9812-366cf0b44639",
   "metadata": {},
   "source": [
    "```python\n",
    "pip install wikipedia\n",
    "```"
   ]
  },
  {
   "cell_type": "markdown",
   "id": "5ab39a2e-5ee4-4b97-85b2-540a3764e8af",
   "metadata": {},
   "source": [
    "### Imports"
   ]
  },
  {
   "cell_type": "code",
   "execution_count": 2,
   "id": "1a777005-db0a-4c39-9caf-fd0cab524655",
   "metadata": {},
   "outputs": [],
   "source": [
    "import os\n",
    "\n",
    "from langchain_community.tools import WikipediaQueryRun\n",
    "from langchain_community.utilities import WikipediaAPIWrapper\n",
    "\n",
    "# from autogen import AssistantAgent, UserProxyAgent, LLMConfig\n",
    "from autogen import AssistantAgent, UserProxyAgent\n",
    "from autogen.interop import Interoperability"
   ]
  },
  {
   "cell_type": "markdown",
   "id": "12be40fe-4d9f-4c2d-b1cd-90310da0c0fb",
   "metadata": {},
   "source": [
    "### Agent Configuration"
   ]
  },
  {
   "cell_type": "code",
   "execution_count": 3,
   "id": "764cd8bf-a76e-4496-ad71-d5d2ba34c3ed",
   "metadata": {},
   "outputs": [],
   "source": [
    "# config_list = [{\"api_type\": \"openai\", \"model\": \"gpt-4o\", \"api_key\": os.environ[\"OPENAI_API_KEY\"]}]\n",
    "config_list = {\"api_type\": \"openai\", \"model\": \"gpt-4o-mini\", \"api_key\": os.environ[\"OPENAI_API_KEY\"]}\n",
    "user_proxy = UserProxyAgent(\n",
    "    name=\"User\",\n",
    "    human_input_mode=\"NEVER\",\n",
    "    code_execution_config={\n",
    "        \"work_dir\": \"coding_work\",\n",
    "        \"use_docker\": False,  # Set to True if you want to use Docker\n",
    "    }\n",
    ")\n",
    "\n",
    "chatbot = AssistantAgent(\n",
    "    name=\"chatbot\",\n",
    "    # llm_config=LLMConfig(config_list=config_list),\n",
    "    llm_config=config_list,\n",
    ")"
   ]
  },
  {
   "cell_type": "markdown",
   "id": "66fafa35-43a3-455a-8c40-e820a17bac48",
   "metadata": {},
   "source": [
    "### Tool Integration"
   ]
  },
  {
   "cell_type": "code",
   "execution_count": 4,
   "id": "0d3ce8f2-27cc-4548-aff0-fb7d14636fc2",
   "metadata": {},
   "outputs": [],
   "source": [
    "api_wrapper = WikipediaAPIWrapper(top_k_results=1, doc_content_chars_max=1000)\n",
    "langchain_tool = WikipediaQueryRun(api_wrapper=api_wrapper)\n",
    "\n",
    "interop = Interoperability()\n",
    "ag2_tool = interop.convert_tool(tool=langchain_tool, type=\"langchain\")\n",
    "\n",
    "ag2_tool.register_for_execution(user_proxy)\n",
    "ag2_tool.register_for_llm(chatbot)"
   ]
  },
  {
   "cell_type": "markdown",
   "id": "86e0b002-c6ec-4f14-8173-d470bf37f770",
   "metadata": {},
   "source": [
    "### Initiating the Chat"
   ]
  },
  {
   "cell_type": "code",
   "execution_count": 5,
   "id": "56a45bee-cec1-4a9d-8175-230b46edc799",
   "metadata": {},
   "outputs": [],
   "source": [
    "message = \"Tell me about the history of the United States\""
   ]
  },
  {
   "cell_type": "code",
   "execution_count": 6,
   "id": "1b534160-1d12-4526-9d11-85d82c9ff23c",
   "metadata": {},
   "outputs": [
    {
     "name": "stdout",
     "output_type": "stream",
     "text": [
      "\u001b[33mUser\u001b[0m (to chatbot):\n",
      "\n",
      "Tell me about the history of the United States\n",
      "\n",
      "--------------------------------------------------------------------------------\n",
      "\u001b[33mchatbot\u001b[0m (to User):\n",
      "\n",
      "\u001b[32m***** Suggested tool call (call_LGSURIWPSRNl1YcjTg6FBV2M): wikipedia *****\u001b[0m\n",
      "Arguments: \n",
      "{\"query\":\"History of the United States\"}\n",
      "\u001b[32m**************************************************************************\u001b[0m\n",
      "\n",
      "--------------------------------------------------------------------------------\n",
      "\u001b[35m\n",
      ">>>>>>>> EXECUTING FUNCTION wikipedia...\n",
      "Call ID: call_LGSURIWPSRNl1YcjTg6FBV2M\n",
      "Input arguments: {'query': 'History of the United States'}\u001b[0m\n",
      "\u001b[33mUser\u001b[0m (to chatbot):\n",
      "\n",
      "\u001b[32m***** Response from calling tool (call_LGSURIWPSRNl1YcjTg6FBV2M) *****\u001b[0m\n",
      "Error: 'tool_input'\n",
      "\u001b[32m**********************************************************************\u001b[0m\n",
      "\n",
      "--------------------------------------------------------------------------------\n",
      "\u001b[33mchatbot\u001b[0m (to User):\n",
      "\n",
      "\u001b[32m***** Suggested tool call (call_5N5zTslFjxGY7VDebL1ABeuw): wikipedia *****\u001b[0m\n",
      "Arguments: \n",
      "{\"query\":\"History of the United States\"}\n",
      "\u001b[32m**************************************************************************\u001b[0m\n",
      "\n",
      "--------------------------------------------------------------------------------\n"
     ]
    }
   ],
   "source": [
    "chat_result = user_proxy.initiate_chat(recipient=chatbot, message=message, max_turns=2)"
   ]
  },
  {
   "cell_type": "markdown",
   "id": "2786cbd2-fee4-49c6-9990-4dc697a30a67",
   "metadata": {},
   "source": [
    "### Output"
   ]
  },
  {
   "cell_type": "code",
   "execution_count": 7,
   "id": "737e8856-e06a-4b8e-b5d2-071c8318095f",
   "metadata": {},
   "outputs": [
    {
     "name": "stdout",
     "output_type": "stream",
     "text": [
      "4\n",
      "[{'content': 'Tell me about the history of the United States', 'role': 'assistant', 'name': 'User'}, {'tool_calls': [{'id': 'call_LGSURIWPSRNl1YcjTg6FBV2M', 'function': {'arguments': '{\"query\":\"History of the United States\"}', 'name': 'wikipedia'}, 'type': 'function'}], 'content': None, 'role': 'assistant'}, {'content': \"Error: 'tool_input'\", 'tool_responses': [{'tool_call_id': 'call_LGSURIWPSRNl1YcjTg6FBV2M', 'role': 'tool', 'content': \"Error: 'tool_input'\"}], 'role': 'tool', 'name': 'User'}, {'tool_calls': [{'id': 'call_5N5zTslFjxGY7VDebL1ABeuw', 'function': {'arguments': '{\"query\":\"History of the United States\"}', 'name': 'wikipedia'}, 'type': 'function'}], 'content': None, 'role': 'assistant'}]\n"
     ]
    }
   ],
   "source": [
    "print(len(chat_result.chat_history))\n",
    "# print(chat_result.chat_history[0])\n",
    "# print(chat_result.chat_history[-1])\n",
    "\n",
    "print(chat_result.chat_history)"
   ]
  },
  {
   "cell_type": "markdown",
   "id": "ab22dfb6-05d8-4c4c-bdbf-906f3b35b2eb",
   "metadata": {},
   "source": [
    "## GENERATED CODE (by Claude)"
   ]
  },
  {
   "cell_type": "code",
   "execution_count": 14,
   "id": "692b9577-3643-4157-8825-6b9066817d15",
   "metadata": {},
   "outputs": [
    {
     "name": "stdout",
     "output_type": "stream",
     "text": [
      "Expected parameters: {'query': {'description': 'query to look up on wikipedia', 'title': 'Query', 'type': 'string'}}\n"
     ]
    }
   ],
   "source": [
    "import os\n",
    "from dotenv import load_dotenv\n",
    "from langchain_community.tools import WikipediaQueryRun\n",
    "from langchain_community.utilities import WikipediaAPIWrapper\n",
    "from autogen import AssistantAgent, UserProxyAgent\n",
    "from autogen.interop import Interoperability\n",
    "\n",
    "# Load environment variables (for API key)\n",
    "load_dotenv()\n",
    "\n",
    "# Set up OpenAI API key\n",
    "api_key = os.getenv(\"OPENAI_API_KEY\")\n",
    "if not api_key:\n",
    "    raise ValueError(\"Please set the OPENAI_API_KEY environment variable or add it to a .env file\")\n",
    "\n",
    "# Define the model to use\n",
    "MODEL_GPT = \"gpt-4o-mini\"\n",
    "\n",
    "# Agent Configuration\n",
    "config_list = {\"api_type\": \"openai\", \"model\": MODEL_GPT, \"api_key\": os.environ[\"OPENAI_API_KEY\"]}\n",
    "\n",
    "user_proxy = UserProxyAgent(\n",
    "    name=\"User\",\n",
    "    human_input_mode=\"NEVER\",\n",
    "    code_execution_config={\n",
    "        \"work_dir\": \"coding_work\",\n",
    "        \"use_docker\": False,  # Set to True if you want to use Docker\n",
    "    }\n",
    ")\n",
    "\n",
    "chatbot = AssistantAgent(\n",
    "    name=\"chatbot\",\n",
    "    llm_config=config_list,\n",
    "    system_message=\"You are a helpful assistant. When asked for information about topics, use the Wikipedia tool to look up relevant information.\"\n",
    ")\n",
    "\n",
    "# Tool Integration\n",
    "# Create the Wikipedia tool with proper configuration\n",
    "api_wrapper = WikipediaAPIWrapper(top_k_results=1, doc_content_chars_max=1000)\n",
    "wikipedia_tool = WikipediaQueryRun(api_wrapper=api_wrapper)\n",
    "\n",
    "# Check the expected parameters for the Wikipedia tool\n",
    "print(f\"Expected parameters: {wikipedia_tool.args}\")\n",
    "\n",
    "# Convert the LangChain tool to AG2 format\n",
    "interop = Interoperability()\n",
    "ag2_tool = interop.convert_tool(tool=wikipedia_tool, type=\"langchain\")\n",
    "\n",
    "# Register tools\n",
    "ag2_tool.register_for_execution(user_proxy)\n",
    "ag2_tool.register_for_llm(chatbot)\n",
    "\n",
    "# Initiating the Chat\n",
    "message = \"Tell me about the history of the United States\""
   ]
  },
  {
   "cell_type": "code",
   "execution_count": 15,
   "id": "9b336314-ed69-4117-9862-1ac90e14c3f2",
   "metadata": {},
   "outputs": [
    {
     "name": "stdout",
     "output_type": "stream",
     "text": [
      "\u001b[33mUser\u001b[0m (to chatbot):\n",
      "\n",
      "Tell me about the history of the United States\n",
      "\n",
      "--------------------------------------------------------------------------------\n",
      "\u001b[33mchatbot\u001b[0m (to User):\n",
      "\n",
      "\u001b[32m***** Suggested tool call (call_b7bKodqboXelUs8Z740m3VZ4): wikipedia *****\u001b[0m\n",
      "Arguments: \n",
      "{\"tool_input\":{\"query\":\"History of the United States\"}}\n",
      "\u001b[32m**************************************************************************\u001b[0m\n",
      "\n",
      "--------------------------------------------------------------------------------\n",
      "\u001b[35m\n",
      ">>>>>>>> EXECUTING FUNCTION wikipedia...\n",
      "Call ID: call_b7bKodqboXelUs8Z740m3VZ4\n",
      "Input arguments: {'tool_input': {'query': 'History of the United States'}}\u001b[0m\n",
      "\u001b[33mUser\u001b[0m (to chatbot):\n",
      "\n",
      "\u001b[32m***** Response from calling tool (call_b7bKodqboXelUs8Z740m3VZ4) *****\u001b[0m\n",
      "Page: History of the United States\n",
      "Summary: The history of the present-day United States began in roughly 15,000 BC with the arrival of the first people in the Americas. In the late 15th century, European colonization began and wars and epidemics largely decimated Indigenous societies. \n",
      "By the 1760s, the Thirteen Colonies, then part of British America and the Kingdom of Great Britain, were established. The Southern Colonies built an agricultural system on slave labor and enslaving millions from Africa. After the British victory over the Kingdom of France in the French and Indian Wars, Parliament imposed a series of taxes and issued the Intolerable Acts on the colonies in 1773, which were designed to end self-governance. Tensions between the colonies and British authorities subsequently intensified, leading to the American Revolutionary War. In June 1775, the Second Continental Congress established the Continental Army and appointed George Washington as its commander-in-chief. The follo\n",
      "\u001b[32m**********************************************************************\u001b[0m\n",
      "\n",
      "--------------------------------------------------------------------------------\n",
      "\u001b[33mchatbot\u001b[0m (to User):\n",
      "\n",
      "The history of the present-day United States began around 15,000 BC with the arrival of the first people in the Americas. European colonization began in the late 15th century, leading to significant disruption and decline of Indigenous societies due to wars and epidemics.\n",
      "\n",
      "By the 1760s, the Thirteen Colonies had formed under British rule, with an agricultural system in the Southern Colonies that relied heavily on slave labor, importing millions from Africa. Tensions grew following British victory in the French and Indian Wars, as Parliament imposed a series of taxes and the Intolerable Acts in 1773, which threatened the colonies' self-governance. \n",
      "\n",
      "These escalating tensions triggered the American Revolutionary War, during which the Second Continental Congress established the Continental Army in June 1775 and appointed George Washington as its commander-in-chief. The conflict eventually led to American independence and the formation of the United States. \n",
      "\n",
      "The U.S. history encompasses a multitude of significant events, including the drafting of the Constitution, the Civil War, the abolition of slavery, and the civil rights movement, which shaped the nation into what it is today.\n",
      "\n",
      "--------------------------------------------------------------------------------\n",
      "\u001b[33mUser\u001b[0m (to chatbot):\n",
      "\n",
      "\n",
      "\n",
      "--------------------------------------------------------------------------------\n",
      "\u001b[33mchatbot\u001b[0m (to User):\n",
      "\n",
      "It looks like you didn't enter a message. How can I assist you today?\n",
      "\n",
      "--------------------------------------------------------------------------------\n"
     ]
    }
   ],
   "source": [
    "# Set a lower number of turns to troubleshoot\n",
    "chat_result = user_proxy.initiate_chat(recipient=chatbot, message=message, max_turns=3)"
   ]
  },
  {
   "cell_type": "code",
   "execution_count": 16,
   "id": "54ec9bb5-97e4-409a-b1c5-7c8c46b506a2",
   "metadata": {},
   "outputs": [
    {
     "name": "stdout",
     "output_type": "stream",
     "text": [
      "\n",
      "CHAT HISTORY:\n",
      "Message 0:\n",
      "Role: assistant\n",
      "Name: User\n",
      "Content: Tell me about the history of the United States\n",
      "----------------------------------------\n",
      "Message 1:\n",
      "Role: assistant\n",
      "Name: N/A\n",
      "Content: None\n",
      "Tool calls: [{'id': 'call_b7bKodqboXelUs8Z740m3VZ4', 'function': {'arguments': '{\"tool_input\":{\"query\":\"History of the United States\"}}', 'name': 'wikipedia'}, 'type': 'function'}]\n",
      "----------------------------------------\n",
      "Message 2:\n",
      "Role: tool\n",
      "Name: User\n",
      "Content: Page: History of the United States\n",
      "Summary: The history of the present-day United States began in roughly 15,000 BC with the arrival of the first people in the Americas. In the late 15th century, European colonization began and wars and epidemics largely decimated Indigenous societies. \n",
      "By the 1760s, the Thirteen Colonies, then part of British America and the Kingdom of Great Britain, were established. The Southern Colonies built an agricultural system on slave labor and enslaving millions from Africa. After the British victory over the Kingdom of France in the French and Indian Wars, Parliament imposed a series of taxes and issued the Intolerable Acts on the colonies in 1773, which were designed to end self-governance. Tensions between the colonies and British authorities subsequently intensified, leading to the American Revolutionary War. In June 1775, the Second Continental Congress established the Continental Army and appointed George Washington as its commander-in-chief. The follo\n",
      "Tool responses: [{'tool_call_id': 'call_b7bKodqboXelUs8Z740m3VZ4', 'role': 'tool', 'content': 'Page: History of the United States\\nSummary: The history of the present-day United States began in roughly 15,000 BC with the arrival of the first people in the Americas. In the late 15th century, European colonization began and wars and epidemics largely decimated Indigenous societies. \\nBy the 1760s, the Thirteen Colonies, then part of British America and the Kingdom of Great Britain, were established. The Southern Colonies built an agricultural system on slave labor and enslaving millions from Africa. After the British victory over the Kingdom of France in the French and Indian Wars, Parliament imposed a series of taxes and issued the Intolerable Acts on the colonies in 1773, which were designed to end self-governance. Tensions between the colonies and British authorities subsequently intensified, leading to the American Revolutionary War. In June 1775, the Second Continental Congress established the Continental Army and appointed George Washington as its commander-in-chief. The follo'}]\n",
      "----------------------------------------\n",
      "Message 3:\n",
      "Role: user\n",
      "Name: chatbot\n",
      "Content: The history of the present-day United States began around 15,000 BC with the arrival of the first people in the Americas. European colonization began in the late 15th century, leading to significant disruption and decline of Indigenous societies due to wars and epidemics.\n",
      "\n",
      "By the 1760s, the Thirteen Colonies had formed under British rule, with an agricultural system in the Southern Colonies that relied heavily on slave labor, importing millions from Africa. Tensions grew following British victory in the French and Indian Wars, as Parliament imposed a series of taxes and the Intolerable Acts in 1773, which threatened the colonies' self-governance. \n",
      "\n",
      "These escalating tensions triggered the American Revolutionary War, during which the Second Continental Congress established the Continental Army in June 1775 and appointed George Washington as its commander-in-chief. The conflict eventually led to American independence and the formation of the United States. \n",
      "\n",
      "The U.S. history encompasses a multitude of significant events, including the drafting of the Constitution, the Civil War, the abolition of slavery, and the civil rights movement, which shaped the nation into what it is today.\n",
      "----------------------------------------\n",
      "Message 4:\n",
      "Role: assistant\n",
      "Name: User\n",
      "Content: \n",
      "----------------------------------------\n",
      "Message 5:\n",
      "Role: user\n",
      "Name: chatbot\n",
      "Content: It looks like you didn't enter a message. How can I assist you today?\n",
      "----------------------------------------\n"
     ]
    }
   ],
   "source": [
    "# Print all messages to debug\n",
    "print(\"\\nCHAT HISTORY:\")\n",
    "for idx, msg in enumerate(chat_result.chat_history):\n",
    "    print(f\"Message {idx}:\")\n",
    "    print(f\"Role: {msg.get('role')}\")\n",
    "    print(f\"Name: {msg.get('name', 'N/A')}\")\n",
    "    print(f\"Content: {msg.get('content')}\")\n",
    "    if 'tool_calls' in msg:\n",
    "        print(f\"Tool calls: {msg['tool_calls']}\")\n",
    "    if 'tool_responses' in msg:\n",
    "        print(f\"Tool responses: {msg['tool_responses']}\")\n",
    "    print(\"-\" * 40)"
   ]
  }
 ],
 "metadata": {
  "kernelspec": {
   "display_name": "Python 3 (ipykernel)",
   "language": "python",
   "name": "python3"
  },
  "language_info": {
   "codemirror_mode": {
    "name": "ipython",
    "version": 3
   },
   "file_extension": ".py",
   "mimetype": "text/x-python",
   "name": "python",
   "nbconvert_exporter": "python",
   "pygments_lexer": "ipython3",
   "version": "3.11.4"
  }
 },
 "nbformat": 4,
 "nbformat_minor": 5
}
