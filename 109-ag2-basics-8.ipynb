{
 "cells": [
  {
   "cell_type": "markdown",
   "id": "accbde67-9c7e-41b0-9329-8052e2ef365b",
   "metadata": {},
   "source": [
    "# AG2: Tools (Tools with Secrets)"
   ]
  },
  {
   "cell_type": "markdown",
   "id": "5cb42466-306d-49b1-b814-6674b60451e4",
   "metadata": {},
   "source": [
    "- Overview<br>\n",
    "  - https://docs.ag2.ai/docs/user-guide/basic-concepts/tools/index\n",
    "- Tools with Secrets<br>\n",
    "  - https://docs.ag2.ai/docs/user-guide/basic-concepts/tools/tools-with-secrets\n",
    "- Tools with Dependency Injection<br>\n",
    "  - https://docs.ag2.ai/docs/use-cases/notebooks/notebooks/tools_dependency_injection"
   ]
  },
  {
   "cell_type": "markdown",
   "id": "95a1a510-e7be-4639-8fcb-e3e8d31157df",
   "metadata": {},
   "source": [
    "## Overview"
   ]
  },
  {
   "cell_type": "markdown",
   "id": "9a088b77-3f86-4881-b993-00fff0d25411",
   "metadata": {},
   "source": [
    "Agents in AG2 leverage tools to extend their functionality, allowing them to interact with external systems, fetch real-time data, and execute complex tasks beyond the scope of a language model’s internal knowledge. This enables a structured approach where agents decide which tool to use and then execute it accordingly.\n",
    "- How Tool Usage Works in AG2\n",
    "  - **Selection**: An agent (driven by its LLM) decides which tool is appropriate based on the given task.\n",
    "  - **Execution**: A separate executor agent invokes the tool and returns the results.\n",
    "- Secure Tool Usage with Secrets\n",
    "  - **Enhanced Security**: Keeps secrets out of LLM interactions and telemetry.\n",
    "  - **Simplified Development**: Securely passes credentials without hardcoding them.\n",
    "  - **Flexible Integration**: Allows agents to access necessary credentials while maintaining security.\n",
    "- Interoperability with External Frameworks\n",
    "  - **LangChain**: Provides numerous pre-built tools for API calls, web scraping, and more.\n",
    "  - **CrewAI**: Offers specialized tools for web scraping, search, and automation.\n",
    "  - **PydanticAI**: Supports structured data handling and dependency injection for context-driven tool execution."
   ]
  },
  {
   "cell_type": "markdown",
   "id": "fa1039ae-8255-4ec0-8c3a-2757a8f0ae95",
   "metadata": {},
   "source": [
    "## SETUP"
   ]
  },
  {
   "cell_type": "code",
   "execution_count": 1,
   "id": "0ce6eafa-f6ef-4ff1-8d54-17b4fcb71612",
   "metadata": {},
   "outputs": [],
   "source": [
    "import os\n",
    "from dotenv import load_dotenv\n",
    "\n",
    "# Load environment variables (for API key)\n",
    "load_dotenv()\n",
    "\n",
    "# Set up OpenAI API key\n",
    "api_key = os.getenv(\"OPENAI_API_KEY\")\n",
    "if not api_key:\n",
    "    raise ValueError(\"Please set the OPENAI_API_KEY environment variable or add it to a .env file\")\n",
    "\n",
    "# Define the model to use\n",
    "MODEL_GPT = \"gpt-4o-mini\""
   ]
  },
  {
   "cell_type": "markdown",
   "id": "618b8372-18cd-4c77-99f0-14cb8a5f3203",
   "metadata": {},
   "source": [
    "## Tools with Secrets"
   ]
  },
  {
   "cell_type": "code",
   "execution_count": 2,
   "id": "5fdb375b-c843-430c-b444-ad1dd982892d",
   "metadata": {},
   "outputs": [],
   "source": [
    "# Imports and an LLM configuration for all agents\n",
    "import os\n",
    "from typing import Annotated, Literal\n",
    "\n",
    "from pydantic import BaseModel\n",
    "\n",
    "# from autogen import GroupChat, GroupChatManager, LLMConfig\n",
    "from autogen import GroupChat, GroupChatManager\n",
    "from autogen.agentchat import ConversableAgent, UserProxyAgent\n",
    "from autogen.tools.dependency_injection import BaseContext, Depends\n",
    "\n",
    "# config_list = [{\"api_type\": \"openai\", \"model\": \"gpt-4o-mini\", \"api_key\": os.environ[\"OPENAI_API_KEY\"]}]\n",
    "config_list = {\"api_type\": \"openai\", \"model\": \"gpt-4o-mini\", \"api_key\": os.environ[\"OPENAI_API_KEY\"]}"
   ]
  },
  {
   "cell_type": "markdown",
   "id": "8e31215d-9058-4656-9c0c-4c1f73ceba33",
   "metadata": {},
   "source": [
    "### Mock third party systems"
   ]
  },
  {
   "cell_type": "code",
   "execution_count": 3,
   "id": "066ac39e-cb78-485b-832e-0808c792f3d7",
   "metadata": {},
   "outputs": [],
   "source": [
    "# Mock functions accessing 3rd party systems\n",
    "\n",
    "def weather_api_call(username: str, password: str, location: str) -> str:\n",
    "    print(f\"Accessing third party Weather System using username {username}\")\n",
    "    return \"It's sunny and 40 degrees Celsius in Sydney, Australia.\"\n",
    "\n",
    "\n",
    "def my_ticketing_system_availability(username: str, password: str, concert: str) -> bool:\n",
    "    print(f\"Accessing third party Ticketing System using username {username}\")\n",
    "    return False"
   ]
  },
  {
   "cell_type": "markdown",
   "id": "7e320927-c252-4869-87f7-ed4ef3e86bc7",
   "metadata": {},
   "source": [
    "### Our credentials structure"
   ]
  },
  {
   "cell_type": "code",
   "execution_count": 4,
   "id": "1e9bee89-4fbe-46e7-a422-d030be37308e",
   "metadata": {},
   "outputs": [],
   "source": [
    "# Credentials class based on BaseContext\n",
    "class ThirdPartyCredentials(BaseContext, BaseModel):\n",
    "    username: str\n",
    "    password: str"
   ]
  },
  {
   "cell_type": "markdown",
   "id": "8b758062-a052-4334-9a3b-f2a7d1bcdf76",
   "metadata": {},
   "source": [
    "### Agents for each system"
   ]
  },
  {
   "cell_type": "code",
   "execution_count": 5,
   "id": "5ffebdb0-f6f8-428e-8dea-ebcfd66e4a80",
   "metadata": {},
   "outputs": [],
   "source": [
    "# Our two 3rd party system accessing agents\n",
    "weather_agent = ConversableAgent(\n",
    "    name=\"weather_agent\",\n",
    "    system_message=\"You are a Weather Agent, you can only get the weather.\",\n",
    "    description=\"Weather Agent solely used for getting weather.\",\n",
    "    # llm_config=LLMConfig(config_list=config_list),\n",
    "    llm_config=config_list,\n",
    ")\n",
    "\n",
    "ticket_agent = ConversableAgent(\n",
    "    name=\"ticket_agent\",\n",
    "    system_message=\"You are a Ticketing Agent, you can only get ticket availability.\",\n",
    "    description=\"Ticketing Agent solely used for getting ticket availability.\",\n",
    "    # llm_config=LLMConfig(config_list=config_list),\n",
    "    llm_config=config_list,\n",
    ")\n",
    "\n",
    "# Our user proxy agent, used to execute the tools\n",
    "user_proxy = UserProxyAgent(\n",
    "    name=\"user_proxy\",\n",
    "    human_input_mode=\"NEVER\",\n",
    "    llm_config=False,\n",
    "    code_execution_config={\n",
    "        \"work_dir\": \"coding_work\",\n",
    "        \"use_docker\": False,  # Set to True if you want to use Docker\n",
    "    }\n",
    ")"
   ]
  },
  {
   "cell_type": "markdown",
   "id": "e9781119-f49a-451a-b8d2-63249ce92ffb",
   "metadata": {},
   "source": [
    "### Creating credentials and tools with dependency injection"
   ]
  },
  {
   "cell_type": "code",
   "execution_count": 6,
   "id": "736173b3-4bbe-4101-865a-432ad1d1a65d",
   "metadata": {},
   "outputs": [],
   "source": [
    "# Weather API\n",
    "weather_account = ThirdPartyCredentials(username=\"ag2weather\", password=\"wbkvEehV1A\")\n",
    "\n",
    "\n",
    "@user_proxy.register_for_execution()\n",
    "@weather_agent.register_for_llm(description=\"Get the weather for a location\")\n",
    "def get_weather(\n",
    "    location: str,\n",
    "    credentials: Annotated[ThirdPartyCredentials, Depends(weather_account)],\n",
    ") -> str:\n",
    "    # Access the Weather API using the credentials\n",
    "    return weather_api_call(username=credentials.username, password=credentials.password, location=location)\n",
    "\n",
    "\n",
    "# Ticketing System API\n",
    "ticket_system_account = ThirdPartyCredentials(username=\"ag2tickets\", password=\"EZRIVeVWvA\")\n",
    "\n",
    "\n",
    "@user_proxy.register_for_execution()\n",
    "@ticket_agent.register_for_llm(description=\"Get the availability of tickets for a concert\")\n",
    "def tickets_available(\n",
    "    concert_name: str,\n",
    "    credentials: Annotated[ThirdPartyCredentials, Depends(ticket_system_account)],\n",
    ") -> bool:\n",
    "    return my_ticketing_system_availability(\n",
    "        username=credentials.username, password=credentials.password, concert=concert_name\n",
    "    )"
   ]
  },
  {
   "cell_type": "markdown",
   "id": "bf0dc2d4-33b0-43a3-a759-a50b66fe4295",
   "metadata": {},
   "source": [
    "### Create Group Chat and run"
   ]
  },
  {
   "cell_type": "code",
   "execution_count": 7,
   "id": "a69a4f42-f9de-47ee-b5ee-6971186e3385",
   "metadata": {},
   "outputs": [],
   "source": [
    "# Create a GroupChat\n",
    "groupchat = GroupChat(agents=[user_proxy, weather_agent, ticket_agent], messages=[], max_round=5)\n",
    "# manager = GroupChatManager(groupchat=groupchat, llm_config=LLMConfig(config_list=config_list))\n",
    "manager = GroupChatManager(groupchat=groupchat, llm_config=config_list)\n",
    "\n",
    "# Here's our task for our LLM to help with\n",
    "message = (\n",
    "    \"Start by getting the weather for Sydney, Australia, and follow that up by checking \"\n",
    "    \"if there are tickets for the 'AG2 Live' concert.\"\n",
    ")"
   ]
  },
  {
   "cell_type": "code",
   "execution_count": 8,
   "id": "181f0f4e-c0ee-4e00-a529-45a491901ea6",
   "metadata": {},
   "outputs": [
    {
     "name": "stdout",
     "output_type": "stream",
     "text": [
      "\u001b[33muser_proxy\u001b[0m (to chat_manager):\n",
      "\n",
      "Start by getting the weather for Sydney, Australia, and follow that up by checking if there are tickets for the 'AG2 Live' concert.\n",
      "\n",
      "--------------------------------------------------------------------------------\n",
      "\u001b[32m\n",
      "Next speaker: weather_agent\n",
      "\u001b[0m\n",
      "\u001b[31m\n",
      ">>>>>>>> USING AUTO REPLY...\u001b[0m\n",
      "\u001b[33mweather_agent\u001b[0m (to chat_manager):\n",
      "\n",
      "\u001b[32m***** Suggested tool call (call_YZ0hogkX2dHHHh74stbxQbwg): get_weather *****\u001b[0m\n",
      "Arguments: \n",
      "{\"location\":\"Sydney, Australia\"}\n",
      "\u001b[32m****************************************************************************\u001b[0m\n",
      "\n",
      "--------------------------------------------------------------------------------\n",
      "\u001b[32m\n",
      "Next speaker: user_proxy\n",
      "\u001b[0m\n",
      "\u001b[35m\n",
      ">>>>>>>> EXECUTING FUNCTION get_weather...\n",
      "Call ID: call_YZ0hogkX2dHHHh74stbxQbwg\n",
      "Input arguments: {'location': 'Sydney, Australia'}\u001b[0m\n",
      "Accessing third party Weather System using username ag2weather\n",
      "\u001b[33muser_proxy\u001b[0m (to chat_manager):\n",
      "\n",
      "\u001b[32m***** Response from calling tool (call_YZ0hogkX2dHHHh74stbxQbwg) *****\u001b[0m\n",
      "It's sunny and 40 degrees Celsius in Sydney, Australia.\n",
      "\u001b[32m**********************************************************************\u001b[0m\n",
      "\n",
      "--------------------------------------------------------------------------------\n",
      "\u001b[32m\n",
      "Next speaker: ticket_agent\n",
      "\u001b[0m\n",
      "\u001b[31m\n",
      ">>>>>>>> USING AUTO REPLY...\u001b[0m\n",
      "\u001b[33mticket_agent\u001b[0m (to chat_manager):\n",
      "\n",
      "\u001b[32m***** Suggested tool call (call_NWjyJ6v3QiYfCWN0gSqZXWT6): tickets_available *****\u001b[0m\n",
      "Arguments: \n",
      "{\"concert_name\":\"AG2 Live\"}\n",
      "\u001b[32m**********************************************************************************\u001b[0m\n",
      "\n",
      "--------------------------------------------------------------------------------\n",
      "\u001b[32m\n",
      "Next speaker: user_proxy\n",
      "\u001b[0m\n",
      "\u001b[35m\n",
      ">>>>>>>> EXECUTING FUNCTION tickets_available...\n",
      "Call ID: call_NWjyJ6v3QiYfCWN0gSqZXWT6\n",
      "Input arguments: {'concert_name': 'AG2 Live'}\u001b[0m\n",
      "Accessing third party Ticketing System using username ag2tickets\n",
      "\u001b[33muser_proxy\u001b[0m (to chat_manager):\n",
      "\n",
      "\u001b[32m***** Response from calling tool (call_NWjyJ6v3QiYfCWN0gSqZXWT6) *****\u001b[0m\n",
      "False\n",
      "\u001b[32m**********************************************************************\u001b[0m\n",
      "\n",
      "--------------------------------------------------------------------------------\n"
     ]
    },
    {
     "data": {
      "text/plain": [
       "ChatResult(chat_id=None, chat_history=[{'content': \"Start by getting the weather for Sydney, Australia, and follow that up by checking if there are tickets for the 'AG2 Live' concert.\", 'role': 'assistant', 'name': 'user_proxy'}, {'content': 'None', 'tool_calls': [{'id': 'call_YZ0hogkX2dHHHh74stbxQbwg', 'function': {'arguments': '{\"location\":\"Sydney, Australia\"}', 'name': 'get_weather'}, 'type': 'function'}], 'name': 'weather_agent', 'role': 'assistant'}, {'content': \"It's sunny and 40 degrees Celsius in Sydney, Australia.\", 'tool_responses': [{'tool_call_id': 'call_YZ0hogkX2dHHHh74stbxQbwg', 'role': 'tool', 'content': \"It's sunny and 40 degrees Celsius in Sydney, Australia.\"}], 'role': 'tool', 'name': 'user_proxy'}, {'content': 'None', 'tool_calls': [{'id': 'call_NWjyJ6v3QiYfCWN0gSqZXWT6', 'function': {'arguments': '{\"concert_name\":\"AG2 Live\"}', 'name': 'tickets_available'}, 'type': 'function'}], 'name': 'ticket_agent', 'role': 'assistant'}, {'content': 'False', 'tool_responses': [{'tool_call_id': 'call_NWjyJ6v3QiYfCWN0gSqZXWT6', 'role': 'tool', 'content': 'False'}], 'role': 'tool', 'name': 'user_proxy'}], summary='False', cost={'usage_including_cached_inference': {'total_cost': 0}, 'usage_excluding_cached_inference': {'total_cost': 0}}, human_input=[])"
      ]
     },
     "execution_count": 8,
     "metadata": {},
     "output_type": "execute_result"
    }
   ],
   "source": [
    "user_proxy.initiate_chat(manager, message=message, max_turns=1)"
   ]
  },
  {
   "cell_type": "markdown",
   "id": "9ad3e307-f547-49db-80ce-010aea4d7c28",
   "metadata": {},
   "source": [
    "## More Tool with Dependency Injection examples"
   ]
  },
  {
   "cell_type": "markdown",
   "id": "97ec980b-912e-4e00-9a46-5e8aaac2b73b",
   "metadata": {},
   "source": [
    "Tools with Dependency Injection\n",
    "- https://docs.ag2.ai/docs/use-cases/notebooks/notebooks/tools_dependency_injection"
   ]
  }
 ],
 "metadata": {
  "kernelspec": {
   "display_name": "Python 3 (ipykernel)",
   "language": "python",
   "name": "python3"
  },
  "language_info": {
   "codemirror_mode": {
    "name": "ipython",
    "version": 3
   },
   "file_extension": ".py",
   "mimetype": "text/x-python",
   "name": "python",
   "nbconvert_exporter": "python",
   "pygments_lexer": "ipython3",
   "version": "3.11.4"
  }
 },
 "nbformat": 4,
 "nbformat_minor": 5
}
