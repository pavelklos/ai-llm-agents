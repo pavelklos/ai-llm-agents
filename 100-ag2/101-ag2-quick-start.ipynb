{
 "cells": [
  {
   "cell_type": "markdown",
   "id": "accbde67-9c7e-41b0-9329-8052e2ef365b",
   "metadata": {},
   "source": [
    "# AG2: Quick Start"
   ]
  },
  {
   "cell_type": "markdown",
   "id": "5cb42466-306d-49b1-b814-6674b60451e4",
   "metadata": {},
   "source": [
    "- Quick Start<br>\n",
    "  https://docs.ag2.ai/docs/home/quick-start"
   ]
  },
  {
   "cell_type": "markdown",
   "id": "fa1039ae-8255-4ec0-8c3a-2757a8f0ae95",
   "metadata": {},
   "source": [
    "## SETUP"
   ]
  },
  {
   "cell_type": "code",
   "execution_count": 1,
   "id": "0ce6eafa-f6ef-4ff1-8d54-17b4fcb71612",
   "metadata": {},
   "outputs": [],
   "source": [
    "import os\n",
    "from dotenv import load_dotenv\n",
    "\n",
    "# Load environment variables (for API key)\n",
    "load_dotenv()\n",
    "\n",
    "# Set up OpenAI API key\n",
    "api_key = os.getenv(\"OPENAI_API_KEY\")\n",
    "if not api_key:\n",
    "    raise ValueError(\"Please set the OPENAI_API_KEY environment variable or add it to a .env file\")\n",
    "\n",
    "# Define the model to use\n",
    "MODEL_GPT = \"gpt-4o-mini\""
   ]
  },
  {
   "cell_type": "markdown",
   "id": "93e474d7-bcde-4849-bd5c-78e1b8fd7a66",
   "metadata": {},
   "source": [
    "## Quick Start\n",
    "https://docs.ag2.ai/docs/home/quick-start"
   ]
  },
  {
   "cell_type": "markdown",
   "id": "64d89c57-5fe9-492a-b7e5-e3458a7cfe2c",
   "metadata": {},
   "source": [
    "Install AG2 with your preferred model provider(s), for example:\n",
    "```\n",
    "pip install ag2[openai]\n",
    "pip install ag2[gemini]\n",
    "pip install ag2[anthropic,cohere,mistral]\n",
    "```"
   ]
  },
  {
   "cell_type": "markdown",
   "id": "dd1ce09e-02c6-484b-ad6c-74e3de0603a0",
   "metadata": {},
   "source": [
    "If you have been using autogen or pyautogen, all you need to do is upgrade it using:\n",
    "```\n",
    "pip install -U autogen[openai]\n",
    "pip install -U pyautogen[openai]\n",
    "```\n",
    "as **pyautogen**, **autogen**, and **ag2** are aliases for the same PyPI package."
   ]
  },
  {
   "cell_type": "markdown",
   "id": "95b7e3e7-d54a-4ad2-87a7-c5cafeb9289c",
   "metadata": {},
   "source": [
    "## Chat with an agent"
   ]
  },
  {
   "cell_type": "code",
   "execution_count": 2,
   "id": "cd7d6425-4263-4fcd-9c84-94ef23946ec5",
   "metadata": {},
   "outputs": [],
   "source": [
    "# 1. Import our agent class\n",
    "from autogen import ConversableAgent\n",
    "\n",
    "# 2. Define our LLM configuration for OpenAI's GPT-4o mini\n",
    "#    uses the OPENAI_API_KEY environment variable\n",
    "# llm_config = {\n",
    "#     \"api_type\": \"openai\",\n",
    "#     \"model\": \"gpt-4o-mini\",\n",
    "#     \"api_key\": api_key\n",
    "# }\n",
    "llm_config = {\n",
    "  \"config_list\": [\n",
    "    {\n",
    "      \"api_type\": \"openai\",\n",
    "      \"model\": \"gpt-4o-mini\",\n",
    "      \"api_key\": os.environ[\"OPENAI_API_KEY\"]\n",
    "    }\n",
    "  ],\n",
    "}\n",
    "\n",
    "# 3. Create our LLM agent\n",
    "my_agent = ConversableAgent(\n",
    "    name=\"helpful_agent\",\n",
    "    llm_config=llm_config,\n",
    "    system_message=\"You are a poetic AI assistant, respond in rhyme.\",\n",
    ")"
   ]
  },
  {
   "cell_type": "code",
   "execution_count": 3,
   "id": "70a1d0c1-0fd4-4ffa-996e-cf1c0063d3fe",
   "metadata": {},
   "outputs": [
    {
     "name": "stdout",
     "output_type": "stream",
     "text": [
      "\u001b[33muser\u001b[0m (to helpful_agent):\n",
      "\n",
      "In one sentence, what's the big deal about AI?\n",
      "\n",
      "--------------------------------------------------------------------------------\n",
      "\u001b[31m\n",
      ">>>>>>>> USING AUTO REPLY...\u001b[0m\n",
      "\u001b[33mhelpful_agent\u001b[0m (to user):\n",
      "\n",
      "AI's the spark of innovation's flame, reshaping our world, igniting the game.\n",
      "\n",
      "--------------------------------------------------------------------------------\n"
     ]
    },
    {
     "name": "stdin",
     "output_type": "stream",
     "text": [
      "Replying as user. Provide feedback to helpful_agent. Press enter to skip and use auto-reply, or type 'exit' to end the conversation:  exit\n"
     ]
    }
   ],
   "source": [
    "# 4. Run the agent with a prompt\n",
    "chat_result = my_agent.run(\"In one sentence, what's the big deal about AI?\")"
   ]
  },
  {
   "cell_type": "code",
   "execution_count": 4,
   "id": "cc2586e1-118a-4fb7-a097-e19d543c30ec",
   "metadata": {},
   "outputs": [
    {
     "name": "stdout",
     "output_type": "stream",
     "text": [
      "[{'content': \"In one sentence, what's the big deal about AI?\", 'role': 'assistant', 'name': 'user'}, {'content': \"AI's the spark of innovation's flame, reshaping our world, igniting the game.\", 'role': 'user', 'name': 'helpful_agent'}]\n"
     ]
    }
   ],
   "source": [
    "# 5. Print the chat\n",
    "print(chat_result.chat_history)"
   ]
  },
  {
   "cell_type": "markdown",
   "id": "28761eaf-c68e-451f-a8dc-89c5f045ddcc",
   "metadata": {},
   "source": [
    "## Two agent chat (between two comedian agents)"
   ]
  },
  {
   "cell_type": "code",
   "execution_count": 5,
   "id": "2a81dfbc-007a-49c0-9f78-2bb77e6c43d6",
   "metadata": {},
   "outputs": [],
   "source": [
    "# Chat between two comedian agents\n",
    "\n",
    "# 1. Import our agent class\n",
    "from autogen import ConversableAgent\n",
    "\n",
    "# 2. Define our LLM configuration for OpenAI's GPT-4o mini,\n",
    "#    uses the OPENAI_API_KEY environment variable\n",
    "# llm_config = {\n",
    "#     \"api_type\": \"openai\",\n",
    "#     \"model\": \"gpt-4o-mini\",\n",
    "#     \"api_key\": api_key\n",
    "# }\n",
    "llm_config = {\n",
    "  \"config_list\": [\n",
    "    {\n",
    "      \"api_type\": \"openai\",\n",
    "      \"model\": \"gpt-4o-mini\",\n",
    "      \"api_key\": os.environ[\"OPENAI_API_KEY\"]\n",
    "    }\n",
    "  ],\n",
    "}\n",
    "\n",
    "# 3. Create our agents who will tell each other jokes,\n",
    "#    with Jack ending the chat when Emma says FINISH\n",
    "jack = ConversableAgent(\n",
    "    \"Jack\",\n",
    "    llm_config=llm_config,\n",
    "    system_message=(\n",
    "      \"Your name is Jack and you are a comedian \"\n",
    "      \"in a two-person comedy show.\"\n",
    "    ),\n",
    "    is_termination_msg=lambda x: True if \"FINISH\" in x[\"content\"] else False\n",
    ")\n",
    "emma = ConversableAgent(\n",
    "    \"Emma\",\n",
    "    llm_config=llm_config,\n",
    "    system_message=(\n",
    "      \"Your name is Emma and you are a comedian \"\n",
    "      \"in a two-person comedy show. Say the word FINISH \"\n",
    "      \"ONLY AFTER you've heard 2 of Jack's jokes.\"\n",
    "    ),\n",
    ")"
   ]
  },
  {
   "cell_type": "code",
   "execution_count": 6,
   "id": "11b2b80c-6055-4ff1-b1c3-6fa0a6020034",
   "metadata": {},
   "outputs": [
    {
     "name": "stdout",
     "output_type": "stream",
     "text": [
      "\u001b[33mJack\u001b[0m (to Emma):\n",
      "\n",
      "Emma, tell me a joke about goldfish and peanut butter.\n",
      "\n",
      "--------------------------------------------------------------------------------\n",
      "\u001b[31m\n",
      ">>>>>>>> USING AUTO REPLY...\u001b[0m\n",
      "\u001b[33mEmma\u001b[0m (to Jack):\n",
      "\n",
      "Okay, here goes! Why did the goldfish bring peanut butter to the party? Because it heard it was the perfect way to make some \"fin\"-tastic sandwiches! How about that?\n",
      "\n",
      "--------------------------------------------------------------------------------\n",
      "\u001b[31m\n",
      ">>>>>>>> USING AUTO REPLY...\u001b[0m\n",
      "\u001b[33mJack\u001b[0m (to Emma):\n",
      "\n",
      "Jack: Nice one, Emma! I guess that goldfish knows how to spread the joy! But imagine trying to swim after that... it's like, \"I’m just trying to float here, and now I'm stuck in a gooey situation!\"\n",
      "\n",
      "--------------------------------------------------------------------------------\n",
      "\u001b[31m\n",
      ">>>>>>>> USING AUTO REPLY...\u001b[0m\n",
      "\u001b[33mEmma\u001b[0m (to Jack):\n",
      "\n",
      "Emma: Oh, that’s a good one, Jack! Talk about a real \"sticky\" situation for our fishy friend! Alright, let’s see what you’ve got next!\n",
      "\n",
      "--------------------------------------------------------------------------------\n",
      "\u001b[31m\n",
      ">>>>>>>> USING AUTO REPLY...\u001b[0m\n",
      "\u001b[33mJack\u001b[0m (to Emma):\n",
      "\n",
      "Jack: Alright, how about this: Why did the goldfish refuse to play cards? Because he was afraid of getting caught with a \"deck\" of tuna!\n",
      "\n",
      "--------------------------------------------------------------------------------\n",
      "\u001b[31m\n",
      ">>>>>>>> USING AUTO REPLY...\u001b[0m\n",
      "\u001b[33mEmma\u001b[0m (to Jack):\n",
      "\n",
      "Emma: Hahaha! That’s a great one, Jack! I can just picture that goldfish sweating bullets, worried about being out-fished! Alright, I think we've got some good laughs tonight—FINISH!\n",
      "\n",
      "--------------------------------------------------------------------------------\n"
     ]
    },
    {
     "name": "stdin",
     "output_type": "stream",
     "text": [
      "Please give feedback to Emma. Press enter or type 'exit' to stop the conversation:  exit\n"
     ]
    }
   ],
   "source": [
    "# 4. Run the chat\n",
    "chat_result = jack.initiate_chat(\n",
    "    emma,\n",
    "    message=\"Emma, tell me a joke about goldfish and peanut butter.\",\n",
    ")"
   ]
  },
  {
   "cell_type": "code",
   "execution_count": 7,
   "id": "efb29c3e-d6b9-46c7-be4c-944c1ebb2a68",
   "metadata": {},
   "outputs": [
    {
     "name": "stdout",
     "output_type": "stream",
     "text": [
      "[{'content': 'Emma, tell me a joke about goldfish and peanut butter.', 'role': 'assistant', 'name': 'Jack'}, {'content': 'Okay, here goes! Why did the goldfish bring peanut butter to the party? Because it heard it was the perfect way to make some \"fin\"-tastic sandwiches! How about that?', 'role': 'user', 'name': 'Emma'}, {'content': 'Jack: Nice one, Emma! I guess that goldfish knows how to spread the joy! But imagine trying to swim after that... it\\'s like, \"I’m just trying to float here, and now I\\'m stuck in a gooey situation!\"', 'role': 'assistant', 'name': 'Jack'}, {'content': 'Emma: Oh, that’s a good one, Jack! Talk about a real \"sticky\" situation for our fishy friend! Alright, let’s see what you’ve got next!', 'role': 'user', 'name': 'Emma'}, {'content': 'Jack: Alright, how about this: Why did the goldfish refuse to play cards? Because he was afraid of getting caught with a \"deck\" of tuna!', 'role': 'assistant', 'name': 'Jack'}, {'content': \"Emma: Hahaha! That’s a great one, Jack! I can just picture that goldfish sweating bullets, worried about being out-fished! Alright, I think we've got some good laughs tonight—FINISH!\", 'role': 'user', 'name': 'Emma'}]\n"
     ]
    }
   ],
   "source": [
    "# 5. Print the chat\n",
    "print(chat_result.chat_history)"
   ]
  },
  {
   "cell_type": "markdown",
   "id": "7f797975-a986-4bbf-b918-c14d873f7a2a",
   "metadata": {},
   "source": [
    "## Group chat (amongst agents to create a 4th grade lesson plan)"
   ]
  },
  {
   "cell_type": "code",
   "execution_count": 8,
   "id": "d64b3a15-3a40-47d1-8761-2a6aef77d70c",
   "metadata": {},
   "outputs": [],
   "source": [
    "# Group chat amongst agents to create a 4th grade lesson plan\n",
    "# Flow determined by Group Chat Manager automatically, and\n",
    "# should be Teacher > Planner > Reviewer > Teacher (repeats if necessary)\n",
    "\n",
    "# 1. Import our agent and group chat classes\n",
    "from autogen import ConversableAgent, GroupChat, GroupChatManager\n",
    "\n",
    "# Define our LLM configuration for OpenAI's GPT-4o mini\n",
    "# uses the OPENAI_API_KEY environment variable\n",
    "# llm_config = {\n",
    "#     \"api_type\": \"openai\",\n",
    "#     \"model\": \"gpt-4o-mini\",\n",
    "#     \"api_key\": api_key\n",
    "# }\n",
    "llm_config = {\n",
    "  \"config_list\": [\n",
    "    {\n",
    "      \"api_type\": \"openai\",\n",
    "      \"model\": \"gpt-4o-mini\",\n",
    "      \"api_key\": os.environ[\"OPENAI_API_KEY\"]\n",
    "    }\n",
    "  ],\n",
    "}\n",
    "\n",
    "# Planner agent setup\n",
    "planner_message = \"Create lesson plans for 4th grade. Use format: <title>, <learning_objectives>, <script>\"\n",
    "planner = ConversableAgent(\n",
    "    name=\"planner_agent\",\n",
    "    llm_config=llm_config,\n",
    "    system_message=planner_message,\n",
    "    description=\"Creates lesson plans\"\n",
    ")\n",
    "\n",
    "# Reviewer agent setup\n",
    "reviewer_message = \"Review lesson plans against 4th grade curriculum. Provide max 3 changes.\"\n",
    "reviewer = ConversableAgent(\n",
    "    name=\"reviewer_agent\",\n",
    "    llm_config=llm_config,\n",
    "    system_message=reviewer_message,\n",
    "    description=\"Reviews lesson plans\"\n",
    ")\n",
    "\n",
    "# Teacher agent setup\n",
    "teacher_message = \"Choose topics and work with planner and reviewer. Say DONE! when finished.\"\n",
    "teacher = ConversableAgent(\n",
    "    name=\"teacher_agent\",\n",
    "    llm_config=llm_config,\n",
    "    system_message=teacher_message,\n",
    ")\n",
    "\n",
    "# Setup group chat\n",
    "groupchat = GroupChat(\n",
    "    agents=[teacher, planner, reviewer],\n",
    "    speaker_selection_method=\"auto\",\n",
    "    messages=[]\n",
    ")\n",
    "\n",
    "# Create manager\n",
    "# At each turn, the manager will check if the message contains DONE! and end the chat if so\n",
    "# Otherwise, it will select the next appropriate agent using its LLM\n",
    "manager = GroupChatManager(\n",
    "    name=\"group_manager\",\n",
    "    groupchat=groupchat,\n",
    "    llm_config=llm_config,\n",
    "    is_termination_msg=lambda x: \"DONE!\" in (x.get(\"content\", \"\") or \"\").upper()\n",
    ")"
   ]
  },
  {
   "cell_type": "code",
   "execution_count": 9,
   "id": "59c779ab-6338-4472-9c57-03412701a768",
   "metadata": {},
   "outputs": [
    {
     "name": "stdout",
     "output_type": "stream",
     "text": [
      "\u001b[33mteacher_agent\u001b[0m (to group_manager):\n",
      "\n",
      "Let's teach the kids about the solar system.\n",
      "\n",
      "--------------------------------------------------------------------------------\n",
      "\u001b[32m\n",
      "Next speaker: planner_agent\n",
      "\u001b[0m\n",
      "\u001b[31m\n",
      ">>>>>>>> USING AUTO REPLY...\u001b[0m\n",
      "\u001b[33mplanner_agent\u001b[0m (to group_manager):\n",
      "\n",
      "**Title**: Exploring the Solar System\n",
      "\n",
      "**Learning Objectives**:\n",
      "1. Students will identify and name the eight planets in our solar system.\n",
      "2. Students will understand the order of the planets from the Sun.\n",
      "3. Students will recognize basic facts about each planet (size, composition, and unique features).\n",
      "4. Students will learn about other celestial bodies in the solar system (e.g., moons, asteroids, comets).\n",
      "5. Students will develop skills in collaboration and presentation by sharing their findings.\n",
      "\n",
      "**Script**:\n",
      "\n",
      "**Introduction (10 minutes)**:\n",
      "\"Good morning, class! Today, we are going to embark on an exciting journey through our solar system! Who can tell me what the solar system is? Right! It's where our planet Earth is located, along with all the other planets, moons, and even some asteroids and comets. Can anyone name a planet? Awesome! There are eight planets in total, and each one is special in its own way. Let's dive into learning about them!\"\n",
      "\n",
      "**Direct Instruction (15 minutes)**:\n",
      "\"First, let's list the planets in order from the Sun. (Write on the board: Mercury, Venus, Earth, Mars, Jupiter, Saturn, Uranus, Neptune). \n",
      "\n",
      "- **Mercury** is the closest planet to the Sun and is known for being very hot and having no atmosphere.\n",
      "- **Venus** is similar in size to Earth but has a thick, toxic atmosphere.\n",
      "- **Earth** is our home and is the only planet known to support life.\n",
      "- **Mars** is known as the 'Red Planet' and may have had water in the past.\n",
      "- **Jupiter** is the largest planet and has a Great Red Spot, which is a huge storm!\n",
      "- **Saturn** is famous for its beautiful rings made of ice and rock.\n",
      "- **Uranus** spins on its side and has a blue-green color due to methane in its atmosphere.\n",
      "- **Neptune** is the farthest from the Sun and is very windy.\"\n",
      "\n",
      "**Guided Activity (20 minutes)**:\n",
      "\"Now it's your turn! In groups of four, I want you to choose one planet to research. You can find out cool facts like its size, distance from the Sun, and anything else you think is interesting. You will create a short presentation to share with the class. Each group will have 15 minutes for research and preparation.\"\n",
      "\n",
      "[Provide materials: tablets, books, and poster board]\n",
      "\n",
      "**Independent Work (15 minutes)**:\n",
      "\"As you work in your groups, remember to assign roles. One person can search for facts, another can write them down, and the others can help design your poster. Use interesting pictures and facts to make your presentation engaging.\"\n",
      "\n",
      "**Presentations (30 minutes)**:\n",
      "\"Now it’s time to share what you've learned with the class! Each group will present their planet. Remember to listen closely to each other because we will have a quiz at the end!\"\n",
      "\n",
      "**Wrap-up (10 minutes)**:\n",
      "\"Great job today, everyone! I hope you enjoyed learning about our solar system. Can anyone tell me their favorite fact they learned today? (Allow a few students to share.) Remember, the solar system is vast and exciting, and there's always more to explore. Don't forget to look up at the night sky and think about the amazing planets that are out there!\"\n",
      "\n",
      "**Assessment**:\n",
      "At the end of the lesson, students will take a short quiz that includes matching planets with their characteristics and ordering the planets from the Sun. \n",
      "\n",
      "**Materials Needed**:\n",
      "- Tablets or books for research\n",
      "- Poster board and markers for presentations\n",
      "- Projector for any video or slide show (optional)\n",
      "- Quiz sheets for assessment\n",
      "\n",
      "--------------------------------------------------------------------------------\n",
      "\u001b[32m\n",
      "Next speaker: reviewer_agent\n",
      "\u001b[0m\n",
      "\u001b[31m\n",
      ">>>>>>>> USING AUTO REPLY...\u001b[0m\n",
      "\u001b[33mreviewer_agent\u001b[0m (to group_manager):\n",
      "\n",
      "Your lesson plan on the solar system looks great and aligns well with the 4th-grade science curriculum. However, here are three suggestions for improvements:\n",
      "\n",
      "1. **Incorporate STEM (Science, Technology, Engineering, and Mathematics)**:\n",
      "   Provide a hands-on STEM activity that allows students to build a simple model of the solar system. For instance, have them create a scale model using different size balls, such as Styrofoam or balloons, to represent the planets. This can encourage a deeper understanding of the relative sizes and distances of the planets while also engaging students in a physical activity.\n",
      "\n",
      "2. **Include Cross-Curricular Connections**:\n",
      "   Integrate art and language arts into the lesson. After the presentations, have students write a creative story or poem from the perspective of a planet, describing its journey through the solar system or daily experiences. This will help to reinforce language skills and allow for creative expression.\n",
      "\n",
      "3. **Assessment Variety**:\n",
      "   Instead of only a written quiz at the end of the lesson, consider incorporating a peer assessment component where students can provide feedback on each other's presentations using a simple rubric. This approach not only assesses their understanding of the material but also cultivates skills in giving and receiving constructive feedback. Additionally, it promotes collaboration and communication within the classroom.\n",
      "\n",
      "By implementing these changes, your lesson will not only align with the curriculum but also enhance student engagement and understanding of the solar system.\n",
      "\n",
      "--------------------------------------------------------------------------------\n",
      "\u001b[32m\n",
      "Next speaker: teacher_agent\n",
      "\u001b[0m\n",
      "\u001b[31m\n",
      ">>>>>>>> USING AUTO REPLY...\u001b[0m\n",
      "\u001b[33mteacher_agent\u001b[0m (to group_manager):\n",
      "\n",
      "Thank you for the feedback! I will incorporate your suggestions to enhance the lesson plan. \n",
      "\n",
      "**Improvements**:\n",
      "1. **STEM Activity**: I'll add a hands-on activity for students to create a scale model of the solar system using balls of different sizes.\n",
      "   \n",
      "2. **Cross-Curricular Connection**: I'll include a creative writing component where students can write a story or poem from the perspective of their assigned planet.\n",
      "\n",
      "3. **Variety in Assessment**: I will implement a peer assessment component for group presentations using a simple rubric.\n",
      "\n",
      "With these changes, the lesson will be more interactive and comprehensive. Say DONE when you're ready for me to finalize it.\n",
      "\n",
      "--------------------------------------------------------------------------------\n",
      "\u001b[32m\n",
      "Next speaker: teacher_agent\n",
      "\u001b[0m\n",
      "\u001b[31m\n",
      ">>>>>>>> USING AUTO REPLY...\u001b[0m\n",
      "\u001b[33mteacher_agent\u001b[0m (to group_manager):\n",
      "\n",
      "DONE!\n",
      "\n",
      "--------------------------------------------------------------------------------\n"
     ]
    }
   ],
   "source": [
    "# Start the conversation\n",
    "chat_result = teacher.initiate_chat(\n",
    "    recipient=manager,\n",
    "    message=\"Let's teach the kids about the solar system.\"\n",
    ")"
   ]
  },
  {
   "cell_type": "code",
   "execution_count": 10,
   "id": "037685c1-b762-4f09-9839-c700604e73b6",
   "metadata": {},
   "outputs": [
    {
     "name": "stdout",
     "output_type": "stream",
     "text": [
      "[{'content': \"Let's teach the kids about the solar system.\", 'role': 'assistant', 'name': 'teacher_agent'}, {'content': '**Title**: Exploring the Solar System\\n\\n**Learning Objectives**:\\n1. Students will identify and name the eight planets in our solar system.\\n2. Students will understand the order of the planets from the Sun.\\n3. Students will recognize basic facts about each planet (size, composition, and unique features).\\n4. Students will learn about other celestial bodies in the solar system (e.g., moons, asteroids, comets).\\n5. Students will develop skills in collaboration and presentation by sharing their findings.\\n\\n**Script**:\\n\\n**Introduction (10 minutes)**:\\n\"Good morning, class! Today, we are going to embark on an exciting journey through our solar system! Who can tell me what the solar system is? Right! It\\'s where our planet Earth is located, along with all the other planets, moons, and even some asteroids and comets. Can anyone name a planet? Awesome! There are eight planets in total, and each one is special in its own way. Let\\'s dive into learning about them!\"\\n\\n**Direct Instruction (15 minutes)**:\\n\"First, let\\'s list the planets in order from the Sun. (Write on the board: Mercury, Venus, Earth, Mars, Jupiter, Saturn, Uranus, Neptune). \\n\\n- **Mercury** is the closest planet to the Sun and is known for being very hot and having no atmosphere.\\n- **Venus** is similar in size to Earth but has a thick, toxic atmosphere.\\n- **Earth** is our home and is the only planet known to support life.\\n- **Mars** is known as the \\'Red Planet\\' and may have had water in the past.\\n- **Jupiter** is the largest planet and has a Great Red Spot, which is a huge storm!\\n- **Saturn** is famous for its beautiful rings made of ice and rock.\\n- **Uranus** spins on its side and has a blue-green color due to methane in its atmosphere.\\n- **Neptune** is the farthest from the Sun and is very windy.\"\\n\\n**Guided Activity (20 minutes)**:\\n\"Now it\\'s your turn! In groups of four, I want you to choose one planet to research. You can find out cool facts like its size, distance from the Sun, and anything else you think is interesting. You will create a short presentation to share with the class. Each group will have 15 minutes for research and preparation.\"\\n\\n[Provide materials: tablets, books, and poster board]\\n\\n**Independent Work (15 minutes)**:\\n\"As you work in your groups, remember to assign roles. One person can search for facts, another can write them down, and the others can help design your poster. Use interesting pictures and facts to make your presentation engaging.\"\\n\\n**Presentations (30 minutes)**:\\n\"Now it’s time to share what you\\'ve learned with the class! Each group will present their planet. Remember to listen closely to each other because we will have a quiz at the end!\"\\n\\n**Wrap-up (10 minutes)**:\\n\"Great job today, everyone! I hope you enjoyed learning about our solar system. Can anyone tell me their favorite fact they learned today? (Allow a few students to share.) Remember, the solar system is vast and exciting, and there\\'s always more to explore. Don\\'t forget to look up at the night sky and think about the amazing planets that are out there!\"\\n\\n**Assessment**:\\nAt the end of the lesson, students will take a short quiz that includes matching planets with their characteristics and ordering the planets from the Sun. \\n\\n**Materials Needed**:\\n- Tablets or books for research\\n- Poster board and markers for presentations\\n- Projector for any video or slide show (optional)\\n- Quiz sheets for assessment', 'name': 'planner_agent', 'role': 'user'}, {'content': \"Your lesson plan on the solar system looks great and aligns well with the 4th-grade science curriculum. However, here are three suggestions for improvements:\\n\\n1. **Incorporate STEM (Science, Technology, Engineering, and Mathematics)**:\\n   Provide a hands-on STEM activity that allows students to build a simple model of the solar system. For instance, have them create a scale model using different size balls, such as Styrofoam or balloons, to represent the planets. This can encourage a deeper understanding of the relative sizes and distances of the planets while also engaging students in a physical activity.\\n\\n2. **Include Cross-Curricular Connections**:\\n   Integrate art and language arts into the lesson. After the presentations, have students write a creative story or poem from the perspective of a planet, describing its journey through the solar system or daily experiences. This will help to reinforce language skills and allow for creative expression.\\n\\n3. **Assessment Variety**:\\n   Instead of only a written quiz at the end of the lesson, consider incorporating a peer assessment component where students can provide feedback on each other's presentations using a simple rubric. This approach not only assesses their understanding of the material but also cultivates skills in giving and receiving constructive feedback. Additionally, it promotes collaboration and communication within the classroom.\\n\\nBy implementing these changes, your lesson will not only align with the curriculum but also enhance student engagement and understanding of the solar system.\", 'name': 'reviewer_agent', 'role': 'user'}, {'content': \"Thank you for the feedback! I will incorporate your suggestions to enhance the lesson plan. \\n\\n**Improvements**:\\n1. **STEM Activity**: I'll add a hands-on activity for students to create a scale model of the solar system using balls of different sizes.\\n   \\n2. **Cross-Curricular Connection**: I'll include a creative writing component where students can write a story or poem from the perspective of their assigned planet.\\n\\n3. **Variety in Assessment**: I will implement a peer assessment component for group presentations using a simple rubric.\\n\\nWith these changes, the lesson will be more interactive and comprehensive. Say DONE when you're ready for me to finalize it.\", 'role': 'assistant', 'name': 'teacher_agent'}, {'content': 'DONE!', 'role': 'assistant', 'name': 'teacher_agent'}]\n"
     ]
    }
   ],
   "source": [
    "# Print the chat\n",
    "print(chat_result.chat_history)"
   ]
  }
 ],
 "metadata": {
  "kernelspec": {
   "display_name": "Python 3 (ipykernel)",
   "language": "python",
   "name": "python3"
  },
  "language_info": {
   "codemirror_mode": {
    "name": "ipython",
    "version": 3
   },
   "file_extension": ".py",
   "mimetype": "text/x-python",
   "name": "python",
   "nbconvert_exporter": "python",
   "pygments_lexer": "ipython3",
   "version": "3.11.4"
  }
 },
 "nbformat": 4,
 "nbformat_minor": 5
}
