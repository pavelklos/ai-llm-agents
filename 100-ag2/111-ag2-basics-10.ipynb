{
 "cells": [
  {
   "cell_type": "markdown",
   "id": "accbde67-9c7e-41b0-9329-8052e2ef365b",
   "metadata": {},
   "source": [
    "# AG2: Tools (Interoperability) (CrewAI Tools Integration)"
   ]
  },
  {
   "cell_type": "markdown",
   "id": "5cb42466-306d-49b1-b814-6674b60451e4",
   "metadata": {},
   "source": [
    "- CrewAI Tools Integration<br>\n",
    "  - https://docs.ag2.ai/docs/user-guide/basic-concepts/tools/interop/crewai"
   ]
  },
  {
   "cell_type": "markdown",
   "id": "fa1039ae-8255-4ec0-8c3a-2757a8f0ae95",
   "metadata": {},
   "source": [
    "## SETUP"
   ]
  },
  {
   "cell_type": "code",
   "execution_count": 1,
   "id": "0ce6eafa-f6ef-4ff1-8d54-17b4fcb71612",
   "metadata": {},
   "outputs": [],
   "source": [
    "import os\n",
    "from dotenv import load_dotenv\n",
    "\n",
    "# Load environment variables (for API key)\n",
    "load_dotenv()\n",
    "\n",
    "# Set up OpenAI API key\n",
    "api_key = os.getenv(\"OPENAI_API_KEY\")\n",
    "if not api_key:\n",
    "    raise ValueError(\"Please set the OPENAI_API_KEY environment variable or add it to a .env file\")\n",
    "\n",
    "# Define the model to use\n",
    "MODEL_GPT = \"gpt-4o-mini\""
   ]
  },
  {
   "cell_type": "markdown",
   "id": "6d4b3d85-1129-4a0a-8d09-3048a0f4b7aa",
   "metadata": {},
   "source": [
    "## CrewAI Tools Integration"
   ]
  },
  {
   "cell_type": "markdown",
   "id": "ec3b24e0-6fdf-403b-9917-8ec2aba4574b",
   "metadata": {},
   "source": [
    "### Introduction\n",
    "- CrewAI Tools\n",
    "  - https://github.com/crewAIInc/crewAI-tools/tree/main"
   ]
  },
  {
   "cell_type": "markdown",
   "id": "00491ee0-d928-4bf0-ad32-86ce14af0d94",
   "metadata": {},
   "source": [
    "### Installation"
   ]
  },
  {
   "cell_type": "markdown",
   "id": "001268c8-37fd-4d7e-955c-8a85ba6a682a",
   "metadata": {},
   "source": [
    "```python\n",
    "pip install ag2[openai,interop-crewai]\n",
    "```"
   ]
  },
  {
   "cell_type": "markdown",
   "id": "367bdd1d-36cc-48cf-9f69-f4fdbd680b38",
   "metadata": {},
   "source": [
    "**ScrapeWebsiteTool**\n",
    "- https://docs.crewai.com/tools/scrapewebsitetool"
   ]
  },
  {
   "cell_type": "markdown",
   "id": "67cf6b00-3f3f-4a26-9812-366cf0b44639",
   "metadata": {},
   "source": [
    "```python\n",
    "pip install 'crewai[tools]'\n",
    "```"
   ]
  },
  {
   "cell_type": "markdown",
   "id": "5ab39a2e-5ee4-4b97-85b2-540a3764e8af",
   "metadata": {},
   "source": [
    "### Imports"
   ]
  },
  {
   "cell_type": "code",
   "execution_count": 2,
   "id": "1a777005-db0a-4c39-9caf-fd0cab524655",
   "metadata": {},
   "outputs": [
    {
     "name": "stderr",
     "output_type": "stream",
     "text": [
      "C:\\Users\\Pavel\\projects\\ai-llm-agents\\.venv\\Lib\\site-packages\\pydantic\\_internal\\_config.py:295: PydanticDeprecatedSince20: Support for class-based `config` is deprecated, use ConfigDict instead. Deprecated in Pydantic V2.0 to be removed in V3.0. See Pydantic V2 Migration Guide at https://errors.pydantic.dev/2.10/migration/\n",
      "  warnings.warn(DEPRECATION_MESSAGE, DeprecationWarning)\n",
      "C:\\Users\\Pavel\\projects\\ai-llm-agents\\.venv\\Lib\\site-packages\\pydantic\\_internal\\_config.py:295: PydanticDeprecatedSince20: Support for class-based `config` is deprecated, use ConfigDict instead. Deprecated in Pydantic V2.0 to be removed in V3.0. See Pydantic V2 Migration Guide at https://errors.pydantic.dev/2.10/migration/\n",
      "  warnings.warn(DEPRECATION_MESSAGE, DeprecationWarning)\n",
      "C:\\Users\\Pavel\\projects\\ai-llm-agents\\.venv\\Lib\\site-packages\\crewai_tools\\tools\\scrapegraph_scrape_tool\\scrapegraph_scrape_tool.py:34: PydanticDeprecatedSince20: Pydantic V1 style `@validator` validators are deprecated. You should migrate to Pydantic V2 style `@field_validator` validators, see the migration guide for more details. Deprecated in Pydantic V2.0 to be removed in V3.0. See Pydantic V2 Migration Guide at https://errors.pydantic.dev/2.10/migration/\n",
      "  @validator(\"website_url\")\n",
      "C:\\Users\\Pavel\\projects\\ai-llm-agents\\.venv\\Lib\\site-packages\\crewai_tools\\tools\\selenium_scraping_tool\\selenium_scraping_tool.py:26: PydanticDeprecatedSince20: Pydantic V1 style `@validator` validators are deprecated. You should migrate to Pydantic V2 style `@field_validator` validators, see the migration guide for more details. Deprecated in Pydantic V2.0 to be removed in V3.0. See Pydantic V2 Migration Guide at https://errors.pydantic.dev/2.10/migration/\n",
      "  @validator(\"website_url\")\n",
      "C:\\Users\\Pavel\\projects\\ai-llm-agents\\.venv\\Lib\\site-packages\\crewai_tools\\tools\\vision_tool\\vision_tool.py:15: PydanticDeprecatedSince20: Pydantic V1 style `@validator` validators are deprecated. You should migrate to Pydantic V2 style `@field_validator` validators, see the migration guide for more details. Deprecated in Pydantic V2.0 to be removed in V3.0. See Pydantic V2 Migration Guide at https://errors.pydantic.dev/2.10/migration/\n",
      "  @validator(\"image_path_url\")\n",
      "C:\\Users\\Pavel\\projects\\ai-llm-agents\\.venv\\Lib\\site-packages\\pydantic\\_internal\\_config.py:295: PydanticDeprecatedSince20: Support for class-based `config` is deprecated, use ConfigDict instead. Deprecated in Pydantic V2.0 to be removed in V3.0. See Pydantic V2 Migration Guide at https://errors.pydantic.dev/2.10/migration/\n",
      "  warnings.warn(DEPRECATION_MESSAGE, DeprecationWarning)\n"
     ]
    }
   ],
   "source": [
    "import os\n",
    "\n",
    "from crewai_tools import ScrapeWebsiteTool\n",
    "\n",
    "# from autogen import AssistantAgent, UserProxyAgent, LLMConfig\n",
    "from autogen import AssistantAgent, UserProxyAgent\n",
    "from autogen.interop import Interoperability"
   ]
  },
  {
   "cell_type": "markdown",
   "id": "12be40fe-4d9f-4c2d-b1cd-90310da0c0fb",
   "metadata": {},
   "source": [
    "### Agent Configuration"
   ]
  },
  {
   "cell_type": "code",
   "execution_count": 3,
   "id": "764cd8bf-a76e-4496-ad71-d5d2ba34c3ed",
   "metadata": {},
   "outputs": [],
   "source": [
    "# config_list = [{\"api_type\": \"openai\", \"model\": \"gpt-4o\", \"api_key\": os.environ[\"OPENAI_API_KEY\"]}]\n",
    "config_list = {\"api_type\": \"openai\", \"model\": \"gpt-4o-mini\", \"api_key\": os.environ[\"OPENAI_API_KEY\"]}\n",
    "user_proxy = UserProxyAgent(\n",
    "    name=\"User\",\n",
    "    human_input_mode=\"NEVER\",\n",
    "    code_execution_config={\n",
    "        \"work_dir\": \"coding_work\",\n",
    "        \"use_docker\": False,  # Set to True if you want to use Docker\n",
    "    }\n",
    ")\n",
    "\n",
    "chatbot = AssistantAgent(\n",
    "    name=\"chatbot\",\n",
    "    # llm_config=LLMConfig(config_list=config_list),\n",
    "    llm_config=config_list,\n",
    ")"
   ]
  },
  {
   "cell_type": "markdown",
   "id": "66fafa35-43a3-455a-8c40-e820a17bac48",
   "metadata": {},
   "source": [
    "### Tool Integration"
   ]
  },
  {
   "cell_type": "code",
   "execution_count": 4,
   "id": "0d3ce8f2-27cc-4548-aff0-fb7d14636fc2",
   "metadata": {},
   "outputs": [],
   "source": [
    "interop = Interoperability()\n",
    "crewai_tool = ScrapeWebsiteTool()\n",
    "ag2_tool = interop.convert_tool(tool=crewai_tool, type=\"crewai\")\n",
    "\n",
    "ag2_tool.register_for_execution(user_proxy)\n",
    "ag2_tool.register_for_llm(chatbot)"
   ]
  },
  {
   "cell_type": "markdown",
   "id": "86e0b002-c6ec-4f14-8173-d470bf37f770",
   "metadata": {},
   "source": [
    "### Initiating the Chat"
   ]
  },
  {
   "cell_type": "code",
   "execution_count": 5,
   "id": "56a45bee-cec1-4a9d-8175-230b46edc799",
   "metadata": {},
   "outputs": [],
   "source": [
    "message = \"Scrape the website https://ag2.ai/\""
   ]
  },
  {
   "cell_type": "code",
   "execution_count": 6,
   "id": "1b534160-1d12-4526-9d11-85d82c9ff23c",
   "metadata": {},
   "outputs": [
    {
     "name": "stdout",
     "output_type": "stream",
     "text": [
      "\u001b[33mUser\u001b[0m (to chatbot):\n",
      "\n",
      "Scrape the website https://ag2.ai/\n",
      "\n",
      "--------------------------------------------------------------------------------\n",
      "\u001b[33mchatbot\u001b[0m (to User):\n",
      "\n",
      "\u001b[32m***** Suggested tool call (call_I6kXI9ZQ5Nz4yDYdnMv8hjWn): Read_website_content *****\u001b[0m\n",
      "Arguments: \n",
      "{\"args\":{\"website_url\":\"https://ag2.ai/\"}}\n",
      "\u001b[32m*************************************************************************************\u001b[0m\n",
      "\n",
      "--------------------------------------------------------------------------------\n",
      "\u001b[35m\n",
      ">>>>>>>> EXECUTING FUNCTION Read_website_content...\n",
      "Call ID: call_I6kXI9ZQ5Nz4yDYdnMv8hjWn\n",
      "Input arguments: {'args': {'website_url': 'https://ag2.ai/'}}\u001b[0m\n",
      "Using Tool: Read website content\n",
      "\u001b[33mUser\u001b[0m (to chatbot):\n",
      "\n",
      "\u001b[32m***** Response from calling tool (call_I6kXI9ZQ5Nz4yDYdnMv8hjWn) *****\u001b[0m\n",
      "\n",
      "AgentOS\n",
      "Join our growing community of over 20,000 agent builders Join our growing community of over 20,000 agent builders The Open-Source AgentOS Build production-ready multi-agent systems in minutes, not months. Github Discord The End-to-End Platform for Multi-Agent Automation The End-to-End Platform for Multi-Agent Automation Flexible Agent Construction and Orchestration Create specialized agents that work together seamlessly. AG2 makes it easy to define roles, configure behaviors, and orchestrate collaboration - all through simple, intuitive code. → Assistant agents for problem-solving → Executor agents for taking action → Critic agents for validation → Group chat managers for coordination Built-in Conversation Patterns Built-in Conversation Patterns Stop wrestling with agent coordination. AG2 handles message routing, state management, and conversation flow automatically. → Two-agent conversations → Group chats with dynamic speaker selection → Sequential chats with context carryover → Nested conversations for modularity Seamless Human-AI collaboration Seamless Human-AI collaboration Seamlessly integrate human oversight and input into your agent workflows. → Configurable human input modes → Flexible intervention points → Optional human approval workflows → Interactive conversation interfaces → Context-aware human handoff Roadmap AG2 STUDIO → Visual agent system design → Real-time testing and debugging → One-click deployment to production → Perfect for prototyping and MVPs AG2 STUDIO → Visual agent system design → Real-time testing and debugging → One-click deployment to production → Perfect for prototyping and MVPs AG2 STUDIO → Visual agent system design → Real-time testing and debugging → One-click deployment to production → Perfect for prototyping and MVPs AG2 MARKETPLACE → Share and monetize your agents → Discover pre-built solution templates → Quick-start your agent development → Connect with other builders AG2 MARKETPLACE → Share and monetize your agents → Discover pre-built solution templates → Quick-start your agent development → Connect with other builders AG2 MARKETPLACE → Share and monetize your agents → Discover pre-built solution templates → Quick-start your agent development → Connect with other builders SCALING TOOLS → Zero to production deployment guides → Usage analytics and cost optimization → Team collaboration features → Enterprise-ready security controls SCALING TOOLS → Zero to production deployment guides → Usage analytics and cost optimization → Team collaboration features → Enterprise-ready security controls SCALING TOOLS → Zero to production deployment guides → Usage analytics and cost optimization → Team collaboration features → Enterprise-ready security controls AG2 STUDIO → Visual agent system design → Real-time testing and debugging → One-click deployment to production → Perfect for prototyping and MVPs AG2 STUDIO → Visual agent system design → Real-time testing and debugging → One-click deployment to production → Perfect for prototyping and MVPs AG2 MARKETPLACE → Share and monetize your agents → Discover pre-built solution templates → Quick-start your agent development → Connect with other builders AG2 MARKETPLACE → Share and monetize your agents → Discover pre-built solution templates → Quick-start your agent development → Connect with other builders SCALING TOOLS → Zero to production deployment guides → Usage analytics and cost optimization → Team collaboration features → Enterprise-ready security controls SCALING TOOLS → Zero to production deployment guides → Usage analytics and cost optimization → Team collaboration features → Enterprise-ready security controls Whether you're a solo founder prototyping the next big AI product, or an enterprise team deploying at scale we're building AG2 for you. This is AgentOS - making multi-agent development accessible to everyone. Github Join Our Growing Community Join Our Growing Community → 20,000+ active agent builders → Daily technical discussions → Weekly community calls → Open RFC process → Regular contributor events (Coming soon) Discord Problem Features Roadmap Community Documentation Problem Features Roadmap Community Documentation Problem Features Roadmap Community Documentation\n",
      "\n",
      "\u001b[32m**********************************************************************\u001b[0m\n",
      "\n",
      "--------------------------------------------------------------------------------\n",
      "\u001b[33mchatbot\u001b[0m (to User):\n",
      "\n",
      "I have successfully scraped the content of the website https://ag2.ai/. Here is the extracted information:\n",
      "\n",
      "---\n",
      "\n",
      "**AgentOS**\n",
      "\n",
      "**Join our growing community of over 20,000 agent builders.** \n",
      "\n",
      "The Open-Source AgentOS, where you can build production-ready multi-agent systems in minutes, not months.\n",
      "\n",
      "### The End-to-End Platform for Multi-Agent Automation\n",
      "- Flexible Agent Construction and Orchestration\n",
      "- Create specialized agents that work together seamlessly.\n",
      "- AG2 makes it easy to define roles, configure behaviors, and orchestrate collaboration - all through simple, intuitive code.\n",
      "\n",
      "**Built-in Conversation Patterns**\n",
      "- Stop wrestling with agent coordination.\n",
      "- AG2 handles message routing, state management, and conversation flow automatically.\n",
      "\n",
      "### Seamless Human-AI Collaboration\n",
      "- Configurable human input modes\n",
      "- Flexible intervention points\n",
      "- Optional human approval workflows\n",
      "- Interactive conversation interfaces\n",
      "- Context-aware human handoff\n",
      "\n",
      "### Roadmap\n",
      "- AG2 STUDIO: Visual agent system design, real-time testing and debugging, one-click deployment to production.\n",
      "- AG2 MARKETPLACE: Share and monetize your agents, discover pre-built solution templates.\n",
      "\n",
      "### Scaling Tools\n",
      "- Zero to production deployment guides\n",
      "- Usage analytics and cost optimization\n",
      "- Team collaboration features\n",
      "- Enterprise-ready security controls\n",
      "\n",
      "---\n",
      "\n",
      "Whether you're a solo founder prototyping the next big AI product, or an enterprise team deploying at scale, AG2 is built for you.\n",
      "\n",
      "If you need more specific information or a focused analysis of a particular section, let me know and I can assist further! \n",
      "\n",
      "TERMINATE\n",
      "\n",
      "--------------------------------------------------------------------------------\n"
     ]
    }
   ],
   "source": [
    "chat_result = user_proxy.initiate_chat(recipient=chatbot, message=message, max_turns=2)"
   ]
  },
  {
   "cell_type": "markdown",
   "id": "2786cbd2-fee4-49c6-9990-4dc697a30a67",
   "metadata": {},
   "source": [
    "### Output"
   ]
  },
  {
   "cell_type": "code",
   "execution_count": 7,
   "id": "05fd5ff7-74d1-407c-a4fe-2b4d12364f0c",
   "metadata": {},
   "outputs": [
    {
     "name": "stdout",
     "output_type": "stream",
     "text": [
      "I have successfully scraped the content of the website https://ag2.ai/. Here is the extracted information:\n",
      "\n",
      "---\n",
      "\n",
      "**AgentOS**\n",
      "\n",
      "**Join our growing community of over 20,000 agent builders.** \n",
      "\n",
      "The Open-Source AgentOS, where you can build production-ready multi-agent systems in minutes, not months.\n",
      "\n",
      "### The End-to-End Platform for Multi-Agent Automation\n",
      "- Flexible Agent Construction and Orchestration\n",
      "- Create specialized agents that work together seamlessly.\n",
      "- AG2 makes it easy to define roles, configure behaviors, and orchestrate collaboration - all through simple, intuitive code.\n",
      "\n",
      "**Built-in Conversation Patterns**\n",
      "- Stop wrestling with agent coordination.\n",
      "- AG2 handles message routing, state management, and conversation flow automatically.\n",
      "\n",
      "### Seamless Human-AI Collaboration\n",
      "- Configurable human input modes\n",
      "- Flexible intervention points\n",
      "- Optional human approval workflows\n",
      "- Interactive conversation interfaces\n",
      "- Context-aware human handoff\n",
      "\n",
      "### Roadmap\n",
      "- AG2 STUDIO: Visual agent system design, real-time testing and debugging, one-click deployment to production.\n",
      "- AG2 MARKETPLACE: Share and monetize your agents, discover pre-built solution templates.\n",
      "\n",
      "### Scaling Tools\n",
      "- Zero to production deployment guides\n",
      "- Usage analytics and cost optimization\n",
      "- Team collaboration features\n",
      "- Enterprise-ready security controls\n",
      "\n",
      "---\n",
      "\n",
      "Whether you're a solo founder prototyping the next big AI product, or an enterprise team deploying at scale, AG2 is built for you.\n",
      "\n",
      "If you need more specific information or a focused analysis of a particular section, let me know and I can assist further! \n",
      "\n",
      "\n"
     ]
    }
   ],
   "source": [
    "print(chat_result.summary)"
   ]
  },
  {
   "cell_type": "code",
   "execution_count": 9,
   "id": "737e8856-e06a-4b8e-b5d2-071c8318095f",
   "metadata": {},
   "outputs": [
    {
     "name": "stdout",
     "output_type": "stream",
     "text": [
      "4\n",
      "[{'content': 'Scrape the website https://ag2.ai/', 'role': 'assistant', 'name': 'User'}, {'tool_calls': [{'id': 'call_I6kXI9ZQ5Nz4yDYdnMv8hjWn', 'function': {'arguments': '{\"args\":{\"website_url\":\"https://ag2.ai/\"}}', 'name': 'Read_website_content'}, 'type': 'function'}], 'content': None, 'role': 'assistant'}, {'content': \"\\nAgentOS\\nJoin our growing community of over 20,000 agent builders Join our growing community of over 20,000 agent builders The Open-Source AgentOS Build production-ready multi-agent systems in minutes, not months. Github Discord The End-to-End Platform for Multi-Agent Automation The End-to-End Platform for Multi-Agent Automation Flexible Agent Construction and Orchestration Create specialized agents that work together seamlessly. AG2 makes it easy to define roles, configure behaviors, and orchestrate collaboration - all through simple, intuitive code. → Assistant agents for problem-solving → Executor agents for taking action → Critic agents for validation → Group chat managers for coordination Built-in Conversation Patterns Built-in Conversation Patterns Stop wrestling with agent coordination. AG2 handles message routing, state management, and conversation flow automatically. → Two-agent conversations → Group chats with dynamic speaker selection → Sequential chats with context carryover → Nested conversations for modularity Seamless Human-AI collaboration Seamless Human-AI collaboration Seamlessly integrate human oversight and input into your agent workflows. → Configurable human input modes → Flexible intervention points → Optional human approval workflows → Interactive conversation interfaces → Context-aware human handoff Roadmap AG2 STUDIO → Visual agent system design → Real-time testing and debugging → One-click deployment to production → Perfect for prototyping and MVPs AG2 STUDIO → Visual agent system design → Real-time testing and debugging → One-click deployment to production → Perfect for prototyping and MVPs AG2 STUDIO → Visual agent system design → Real-time testing and debugging → One-click deployment to production → Perfect for prototyping and MVPs AG2 MARKETPLACE → Share and monetize your agents → Discover pre-built solution templates → Quick-start your agent development → Connect with other builders AG2 MARKETPLACE → Share and monetize your agents → Discover pre-built solution templates → Quick-start your agent development → Connect with other builders AG2 MARKETPLACE → Share and monetize your agents → Discover pre-built solution templates → Quick-start your agent development → Connect with other builders SCALING TOOLS → Zero to production deployment guides → Usage analytics and cost optimization → Team collaboration features → Enterprise-ready security controls SCALING TOOLS → Zero to production deployment guides → Usage analytics and cost optimization → Team collaboration features → Enterprise-ready security controls SCALING TOOLS → Zero to production deployment guides → Usage analytics and cost optimization → Team collaboration features → Enterprise-ready security controls AG2 STUDIO → Visual agent system design → Real-time testing and debugging → One-click deployment to production → Perfect for prototyping and MVPs AG2 STUDIO → Visual agent system design → Real-time testing and debugging → One-click deployment to production → Perfect for prototyping and MVPs AG2 MARKETPLACE → Share and monetize your agents → Discover pre-built solution templates → Quick-start your agent development → Connect with other builders AG2 MARKETPLACE → Share and monetize your agents → Discover pre-built solution templates → Quick-start your agent development → Connect with other builders SCALING TOOLS → Zero to production deployment guides → Usage analytics and cost optimization → Team collaboration features → Enterprise-ready security controls SCALING TOOLS → Zero to production deployment guides → Usage analytics and cost optimization → Team collaboration features → Enterprise-ready security controls Whether you're a solo founder prototyping the next big AI product, or an enterprise team deploying at scale we're building AG2 for you. This is AgentOS - making multi-agent development accessible to everyone. Github Join Our Growing Community Join Our Growing Community → 20,000+ active agent builders → Daily technical discussions → Weekly community calls → Open RFC process → Regular contributor events (Coming soon) Discord Problem Features Roadmap Community Documentation Problem Features Roadmap Community Documentation Problem Features Roadmap Community Documentation\\n\", 'tool_responses': [{'tool_call_id': 'call_I6kXI9ZQ5Nz4yDYdnMv8hjWn', 'role': 'tool', 'content': \"\\nAgentOS\\nJoin our growing community of over 20,000 agent builders Join our growing community of over 20,000 agent builders The Open-Source AgentOS Build production-ready multi-agent systems in minutes, not months. Github Discord The End-to-End Platform for Multi-Agent Automation The End-to-End Platform for Multi-Agent Automation Flexible Agent Construction and Orchestration Create specialized agents that work together seamlessly. AG2 makes it easy to define roles, configure behaviors, and orchestrate collaboration - all through simple, intuitive code. → Assistant agents for problem-solving → Executor agents for taking action → Critic agents for validation → Group chat managers for coordination Built-in Conversation Patterns Built-in Conversation Patterns Stop wrestling with agent coordination. AG2 handles message routing, state management, and conversation flow automatically. → Two-agent conversations → Group chats with dynamic speaker selection → Sequential chats with context carryover → Nested conversations for modularity Seamless Human-AI collaboration Seamless Human-AI collaboration Seamlessly integrate human oversight and input into your agent workflows. → Configurable human input modes → Flexible intervention points → Optional human approval workflows → Interactive conversation interfaces → Context-aware human handoff Roadmap AG2 STUDIO → Visual agent system design → Real-time testing and debugging → One-click deployment to production → Perfect for prototyping and MVPs AG2 STUDIO → Visual agent system design → Real-time testing and debugging → One-click deployment to production → Perfect for prototyping and MVPs AG2 STUDIO → Visual agent system design → Real-time testing and debugging → One-click deployment to production → Perfect for prototyping and MVPs AG2 MARKETPLACE → Share and monetize your agents → Discover pre-built solution templates → Quick-start your agent development → Connect with other builders AG2 MARKETPLACE → Share and monetize your agents → Discover pre-built solution templates → Quick-start your agent development → Connect with other builders AG2 MARKETPLACE → Share and monetize your agents → Discover pre-built solution templates → Quick-start your agent development → Connect with other builders SCALING TOOLS → Zero to production deployment guides → Usage analytics and cost optimization → Team collaboration features → Enterprise-ready security controls SCALING TOOLS → Zero to production deployment guides → Usage analytics and cost optimization → Team collaboration features → Enterprise-ready security controls SCALING TOOLS → Zero to production deployment guides → Usage analytics and cost optimization → Team collaboration features → Enterprise-ready security controls AG2 STUDIO → Visual agent system design → Real-time testing and debugging → One-click deployment to production → Perfect for prototyping and MVPs AG2 STUDIO → Visual agent system design → Real-time testing and debugging → One-click deployment to production → Perfect for prototyping and MVPs AG2 MARKETPLACE → Share and monetize your agents → Discover pre-built solution templates → Quick-start your agent development → Connect with other builders AG2 MARKETPLACE → Share and monetize your agents → Discover pre-built solution templates → Quick-start your agent development → Connect with other builders SCALING TOOLS → Zero to production deployment guides → Usage analytics and cost optimization → Team collaboration features → Enterprise-ready security controls SCALING TOOLS → Zero to production deployment guides → Usage analytics and cost optimization → Team collaboration features → Enterprise-ready security controls Whether you're a solo founder prototyping the next big AI product, or an enterprise team deploying at scale we're building AG2 for you. This is AgentOS - making multi-agent development accessible to everyone. Github Join Our Growing Community Join Our Growing Community → 20,000+ active agent builders → Daily technical discussions → Weekly community calls → Open RFC process → Regular contributor events (Coming soon) Discord Problem Features Roadmap Community Documentation Problem Features Roadmap Community Documentation Problem Features Roadmap Community Documentation\\n\"}], 'role': 'tool', 'name': 'User'}, {'content': \"I have successfully scraped the content of the website https://ag2.ai/. Here is the extracted information:\\n\\n---\\n\\n**AgentOS**\\n\\n**Join our growing community of over 20,000 agent builders.** \\n\\nThe Open-Source AgentOS, where you can build production-ready multi-agent systems in minutes, not months.\\n\\n### The End-to-End Platform for Multi-Agent Automation\\n- Flexible Agent Construction and Orchestration\\n- Create specialized agents that work together seamlessly.\\n- AG2 makes it easy to define roles, configure behaviors, and orchestrate collaboration - all through simple, intuitive code.\\n\\n**Built-in Conversation Patterns**\\n- Stop wrestling with agent coordination.\\n- AG2 handles message routing, state management, and conversation flow automatically.\\n\\n### Seamless Human-AI Collaboration\\n- Configurable human input modes\\n- Flexible intervention points\\n- Optional human approval workflows\\n- Interactive conversation interfaces\\n- Context-aware human handoff\\n\\n### Roadmap\\n- AG2 STUDIO: Visual agent system design, real-time testing and debugging, one-click deployment to production.\\n- AG2 MARKETPLACE: Share and monetize your agents, discover pre-built solution templates.\\n\\n### Scaling Tools\\n- Zero to production deployment guides\\n- Usage analytics and cost optimization\\n- Team collaboration features\\n- Enterprise-ready security controls\\n\\n---\\n\\nWhether you're a solo founder prototyping the next big AI product, or an enterprise team deploying at scale, AG2 is built for you.\\n\\nIf you need more specific information or a focused analysis of a particular section, let me know and I can assist further! \\n\\nTERMINATE\", 'role': 'user', 'name': 'chatbot'}]\n"
     ]
    }
   ],
   "source": [
    "print(len(chat_result.chat_history))\n",
    "# print(chat_result.chat_history[0])\n",
    "# print(chat_result.chat_history[-1])\n",
    "print(chat_result.chat_history)"
   ]
  }
 ],
 "metadata": {
  "kernelspec": {
   "display_name": "Python 3 (ipykernel)",
   "language": "python",
   "name": "python3"
  },
  "language_info": {
   "codemirror_mode": {
    "name": "ipython",
    "version": 3
   },
   "file_extension": ".py",
   "mimetype": "text/x-python",
   "name": "python",
   "nbconvert_exporter": "python",
   "pygments_lexer": "ipython3",
   "version": "3.11.4"
  }
 },
 "nbformat": 4,
 "nbformat_minor": 5
}
