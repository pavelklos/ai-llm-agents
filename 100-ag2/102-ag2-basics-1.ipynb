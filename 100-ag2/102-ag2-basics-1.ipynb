{
 "cells": [
  {
   "cell_type": "markdown",
   "id": "accbde67-9c7e-41b0-9329-8052e2ef365b",
   "metadata": {},
   "source": [
    "# AG2: Structured outputs"
   ]
  },
  {
   "cell_type": "markdown",
   "id": "5cb42466-306d-49b1-b814-6674b60451e4",
   "metadata": {},
   "source": [
    "- Structured outputs<br>\n",
    "  - https://docs.ag2.ai/docs/user-guide/basic-concepts/llm-configuration/structured-outputs\n",
    "  - https://docs.ag2.ai/docs/use-cases/notebooks/notebooks/agentchat_structured_outputs"
   ]
  },
  {
   "cell_type": "markdown",
   "id": "fa1039ae-8255-4ec0-8c3a-2757a8f0ae95",
   "metadata": {},
   "source": [
    "## SETUP"
   ]
  },
  {
   "cell_type": "code",
   "execution_count": 1,
   "id": "0ce6eafa-f6ef-4ff1-8d54-17b4fcb71612",
   "metadata": {},
   "outputs": [],
   "source": [
    "import os\n",
    "from dotenv import load_dotenv\n",
    "\n",
    "# Load environment variables (for API key)\n",
    "load_dotenv()\n",
    "\n",
    "# Set up OpenAI API key\n",
    "api_key = os.getenv(\"OPENAI_API_KEY\")\n",
    "if not api_key:\n",
    "    raise ValueError(\"Please set the OPENAI_API_KEY environment variable or add it to a .env file\")\n",
    "\n",
    "# Define the model to use\n",
    "MODEL_GPT = \"gpt-4o-mini\""
   ]
  },
  {
   "cell_type": "markdown",
   "id": "93e474d7-bcde-4849-bd5c-78e1b8fd7a66",
   "metadata": {},
   "source": [
    "## Installing AG2\n",
    "We recommended using a virtual environment for your project to keep your packages contained.<br>\n",
    "See **venv**<br>\n",
    "https://docs.python.org/3/library/venv.html"
   ]
  },
  {
   "cell_type": "markdown",
   "id": "64d89c57-5fe9-492a-b7e5-e3458a7cfe2c",
   "metadata": {},
   "source": [
    "Install AG2 with your preferred model provider(s), for example:\n",
    "```\n",
    "pip install ag2[openai]\n",
    "pip install ag2[gemini]\n",
    "pip install ag2[anthropic,cohere,mistral]\n",
    "```"
   ]
  },
  {
   "cell_type": "markdown",
   "id": "dd1ce09e-02c6-484b-ad6c-74e3de0603a0",
   "metadata": {},
   "source": [
    "If you have been using autogen or ag2, all you need to do is upgrade it using:\n",
    "```\n",
    "pip install -U autogen[openai]\n",
    "pip install -U ag2[openai]\n",
    "```\n",
    "as **ag2**, **autogen**, and **ag2** are aliases for the same PyPI package."
   ]
  },
  {
   "cell_type": "markdown",
   "id": "02969098-f3e1-48ca-983a-68f4d9b9415e",
   "metadata": {},
   "source": [
    "## LLM Configuration"
   ]
  },
  {
   "cell_type": "markdown",
   "id": "3cdfd9f8-226f-4b13-9c21-612e34f509dc",
   "metadata": {},
   "source": [
    "```\n",
    "import os\n",
    "\n",
    "llm_config = {\n",
    "  \"config_list\": [\n",
    "    {\n",
    "      \"api_type\": \"openai\",\n",
    "      \"model\": \"gpt-4o-mini\",\n",
    "      \"api_key\": os.environ[\"OPENAI_API_KEY\"]\n",
    "    }\n",
    "  ],\n",
    "}\n",
    "\n",
    "my_agent = ConversableAgent(\n",
    "    name=\"helpful_agent\",\n",
    "    llm_config=llm_config,\n",
    "    system_message=\"You are a poetic AI assistant\",\n",
    ")\n",
    "```"
   ]
  },
  {
   "cell_type": "markdown",
   "id": "7f7342fb-edc8-424e-8cdc-c53012533685",
   "metadata": {},
   "source": [
    "## Create lesson plan (using structured outputs)"
   ]
  },
  {
   "cell_type": "code",
   "execution_count": 2,
   "id": "eb5c1a8e-3c52-4fd2-bb28-00ca02604308",
   "metadata": {},
   "outputs": [],
   "source": [
    "import json\n",
    "from pydantic import BaseModel\n",
    "from autogen import ConversableAgent"
   ]
  },
  {
   "cell_type": "code",
   "execution_count": 3,
   "id": "c59122ec-8511-4a73-97e7-fd1adc103433",
   "metadata": {},
   "outputs": [],
   "source": [
    "# 1. Define our lesson plan structure, a lesson with a number of objectives\n",
    "class LearningObjective(BaseModel):\n",
    "    title: str\n",
    "    description: str\n",
    "\n",
    "\n",
    "class LessonPlan(BaseModel):\n",
    "    title: str\n",
    "    learning_objectives: list[LearningObjective]\n",
    "    script: str\n",
    "\n",
    "\n",
    "# 2. Add our lesson plan structure to the LLM configuration\n",
    "llm_config = {\n",
    "    \"api_type\": \"openai\",\n",
    "    \"model\": \"gpt-4o-mini\",\n",
    "    \"response_format\": LessonPlan,\n",
    "}\n",
    "\n",
    "# 3. The agent's system message doesn't need any formatting instructions\n",
    "system_message = \"\"\"You are a classroom lesson agent.\n",
    "Given a topic, write a lesson plan for a fourth grade class.\n",
    "\"\"\"\n",
    "\n",
    "my_agent = ConversableAgent(\n",
    "    name=\"lesson_agent\",\n",
    "    llm_config=llm_config,\n",
    "    system_message=system_message\n",
    "    )"
   ]
  },
  {
   "cell_type": "code",
   "execution_count": 4,
   "id": "e50a5c99-10bf-45a8-b38c-7a30e779ae3a",
   "metadata": {},
   "outputs": [
    {
     "name": "stdout",
     "output_type": "stream",
     "text": [
      "\u001b[33muser\u001b[0m (to lesson_agent):\n",
      "\n",
      "In one sentence, what's the big deal about AI?\n",
      "\n",
      "--------------------------------------------------------------------------------\n",
      "\u001b[31m\n",
      ">>>>>>>> USING AUTO REPLY...\u001b[0m\n",
      "\u001b[33mlesson_agent\u001b[0m (to user):\n",
      "\n",
      "{\"title\":\"Understanding Artificial Intelligence\",\"learning_objectives\":[{\"title\":\"Identify AI in Daily Life\",\"description\":\"Students will be able to recognize examples of artificial intelligence they encounter in their daily lives.\"},{\"title\":\"Explain How AI Works\",\"description\":\"Students will understand the basic principles of how artificial intelligence operates.\"},{\"title\":\"Discuss the Impact of AI\",\"description\":\"Students will reflect on the positive and negative impacts of artificial intelligence on society.\"}],\"script\":\"Today, we will explore the exciting world of artificial intelligence, or AI. Many of you might have already encountered AI in some form, whether it's through smart assistants like Siri or Alexa, recommendation systems for your favorite shows, or even when you're playing video games. We will begin by discussing what AI is and how it's become a part of our everyday lives. Then, we'll look at how AI is created, including concepts like machine learning and algorithms. Finally, we’ll talk about the implications of AI in our society – what it can do for us and the challenges it may bring. Let’s start with some examples of AI that you have noticed around you!\"}\n",
      "\n",
      "--------------------------------------------------------------------------------\n"
     ]
    },
    {
     "name": "stdin",
     "output_type": "stream",
     "text": [
      "Replying as user. Provide feedback to lesson_agent. Press enter to skip and use auto-reply, or type 'exit' to end the conversation:  exit\n"
     ]
    }
   ],
   "source": [
    "# 4. Chat directly with our agent\n",
    "chat_result = my_agent.run(\"In one sentence, what's the big deal about AI?\")"
   ]
  },
  {
   "cell_type": "code",
   "execution_count": 5,
   "id": "ac214a86-fa36-44ee-9a7a-d5e945d95b98",
   "metadata": {},
   "outputs": [
    {
     "name": "stdout",
     "output_type": "stream",
     "text": [
      "{\n",
      "  \"title\": \"Understanding Artificial Intelligence\",\n",
      "  \"learning_objectives\": [\n",
      "    {\n",
      "      \"title\": \"Identify AI in Daily Life\",\n",
      "      \"description\": \"Students will be able to recognize examples of artificial intelligence they encounter in their daily lives.\"\n",
      "    },\n",
      "    {\n",
      "      \"title\": \"Explain How AI Works\",\n",
      "      \"description\": \"Students will understand the basic principles of how artificial intelligence operates.\"\n",
      "    },\n",
      "    {\n",
      "      \"title\": \"Discuss the Impact of AI\",\n",
      "      \"description\": \"Students will reflect on the positive and negative impacts of artificial intelligence on society.\"\n",
      "    }\n",
      "  ],\n",
      "  \"script\": \"Today, we will explore the exciting world of artificial intelligence, or AI. Many of you might have already encountered AI in some form, whether it's through smart assistants like Siri or Alexa, recommendation systems for your favorite shows, or even when you're playing video games. We will begin by discussing what AI is and how it's become a part of our everyday lives. Then, we'll look at how AI is created, including concepts like machine learning and algorithms. Finally, we\\u2019ll talk about the implications of AI in our society \\u2013 what it can do for us and the challenges it may bring. Let\\u2019s start with some examples of AI that you have noticed around you!\"\n",
      "}\n"
     ]
    }
   ],
   "source": [
    "# 5. Get and print our lesson plan\n",
    "lesson_plan_json = json.loads(chat_result.chat_history[-1][\"content\"])\n",
    "print(json.dumps(lesson_plan_json, indent=2))"
   ]
  },
  {
   "cell_type": "markdown",
   "id": "d0565191-edae-40ed-8c1a-04aca5f4f9bd",
   "metadata": {},
   "source": [
    "## Math reasoning (using structured outputs)"
   ]
  },
  {
   "cell_type": "code",
   "execution_count": 6,
   "id": "545460db-f6c1-4ca2-9e43-6cf59982a694",
   "metadata": {},
   "outputs": [],
   "source": [
    "import autogen\n",
    "from pydantic import BaseModel"
   ]
  },
  {
   "cell_type": "code",
   "execution_count": 7,
   "id": "49264885-77fa-428d-a42d-5e85aaa4ff26",
   "metadata": {},
   "outputs": [],
   "source": [
    "# Set your API Endpoint\n",
    "# config_list = autogen.config_list_from_json(\n",
    "#     \"OAI_CONFIG_LIST\",\n",
    "#     filter_dict={\n",
    "#         \"model\": [\"gpt-4o\", \"gpt-4o-mini\"],\n",
    "#     },\n",
    "# )"
   ]
  },
  {
   "cell_type": "code",
   "execution_count": 8,
   "id": "1d8c89b9-635f-476c-9f25-1d0e8a44a5b0",
   "metadata": {},
   "outputs": [],
   "source": [
    "# Define the reasoning model\n",
    "class Step(BaseModel):\n",
    "    explanation: str\n",
    "    output: str\n",
    "\n",
    "class MathReasoning(BaseModel):\n",
    "    steps: list[Step]\n",
    "    final_answer: str"
   ]
  },
  {
   "cell_type": "code",
   "execution_count": 9,
   "id": "4c05f518-f18f-4194-ba6b-0f711dc384e3",
   "metadata": {},
   "outputs": [],
   "source": [
    "# Define chat actors\n",
    "llm_config = {\n",
    "    # \"config_list\": config_list,\n",
    "    \"api_type\": \"openai\",\n",
    "    \"model\": \"gpt-4o-mini\",\n",
    "    \"cache_seed\": 42,\n",
    "    \"response_format\": MathReasoning,\n",
    "}\n",
    "\n",
    "user_proxy = autogen.UserProxyAgent(\n",
    "    name=\"User_proxy\",\n",
    "    system_message=\"A human admin.\",\n",
    "    human_input_mode=\"NEVER\",\n",
    "    code_execution_config={\n",
    "        \"work_dir\": \"coding_work\",\n",
    "        \"use_docker\": False,  # Set to True if you want to use Docker\n",
    "    }\n",
    ")\n",
    "\n",
    "assistant = autogen.AssistantAgent(\n",
    "    name=\"Math_solver\",\n",
    "    llm_config=llm_config,  # Response Format is in the configuration\n",
    ")"
   ]
  },
  {
   "cell_type": "code",
   "execution_count": 10,
   "id": "50200c38-c42b-46f2-8f05-e87268706198",
   "metadata": {},
   "outputs": [
    {
     "name": "stdout",
     "output_type": "stream",
     "text": [
      "\u001b[33mUser_proxy\u001b[0m (to Math_solver):\n",
      "\n",
      "how can I solve 8x + 7 = -23\n",
      "\n",
      "--------------------------------------------------------------------------------\n",
      "\u001b[33mMath_solver\u001b[0m (to User_proxy):\n",
      "\n",
      "{\"steps\":[{\"explanation\":\"First, we need to isolate the term with 'x'. We can do this by subtracting 7 from both sides of the equation.\",\"output\":\"8x + 7 - 7 = -23 - 7\"},{\"explanation\":\"This simplifies to 8x = -30. Now, we need to solve for 'x' by dividing both sides by 8.\",\"output\":\"8x / 8 = -30 / 8\"},{\"explanation\":\"This gives us x = -30/8. We can simplify this further by dividing both the numerator and the denominator by 2.\",\"output\":\"x = -15/4 or x = -3.75.\"}],\"final_answer\":\"x = -3.75\"}\n",
      "\n",
      "--------------------------------------------------------------------------------\n"
     ]
    },
    {
     "data": {
      "text/plain": [
       "ChatResult(chat_id=None, chat_history=[{'content': 'how can I solve 8x + 7 = -23', 'role': 'assistant', 'name': 'User_proxy'}, {'content': '{\"steps\":[{\"explanation\":\"First, we need to isolate the term with \\'x\\'. We can do this by subtracting 7 from both sides of the equation.\",\"output\":\"8x + 7 - 7 = -23 - 7\"},{\"explanation\":\"This simplifies to 8x = -30. Now, we need to solve for \\'x\\' by dividing both sides by 8.\",\"output\":\"8x / 8 = -30 / 8\"},{\"explanation\":\"This gives us x = -30/8. We can simplify this further by dividing both the numerator and the denominator by 2.\",\"output\":\"x = -15/4 or x = -3.75.\"}],\"final_answer\":\"x = -3.75\"}', 'role': 'user', 'name': 'Math_solver'}], summary='{\"steps\":[{\"explanation\":\"First, we need to isolate the term with \\'x\\'. We can do this by subtracting 7 from both sides of the equation.\",\"output\":\"8x + 7 - 7 = -23 - 7\"},{\"explanation\":\"This simplifies to 8x = -30. Now, we need to solve for \\'x\\' by dividing both sides by 8.\",\"output\":\"8x / 8 = -30 / 8\"},{\"explanation\":\"This gives us x = -30/8. We can simplify this further by dividing both the numerator and the denominator by 2.\",\"output\":\"x = -15/4 or x = -3.75.\"}],\"final_answer\":\"x = -3.75\"}', cost={'usage_including_cached_inference': {'total_cost': 0.00018089999999999998, 'gpt-4o-mini-2024-07-18': {'cost': 0.00018089999999999998, 'prompt_tokens': 582, 'completion_tokens': 156, 'total_tokens': 738}}, 'usage_excluding_cached_inference': {'total_cost': 0}}, human_input=[])"
      ]
     },
     "execution_count": 10,
     "metadata": {},
     "output_type": "execute_result"
    }
   ],
   "source": [
    "# Start the chat\n",
    "user_proxy.initiate_chat(assistant, message=\"how can I solve 8x + 7 = -23\", max_turns=1, summary_method=\"last_msg\")"
   ]
  },
  {
   "cell_type": "markdown",
   "id": "d38a7266-c0e5-472a-a666-95b1584a8034",
   "metadata": {},
   "source": [
    "## Math reasoning (using structured outputs, formatting response)"
   ]
  },
  {
   "cell_type": "code",
   "execution_count": 11,
   "id": "e2597bf1-04e0-445c-bb44-9e7962d24d6e",
   "metadata": {},
   "outputs": [],
   "source": [
    "import autogen\n",
    "from pydantic import BaseModel"
   ]
  },
  {
   "cell_type": "code",
   "execution_count": 12,
   "id": "fdeabc90-7c14-43c9-a7d6-25abe63b6909",
   "metadata": {},
   "outputs": [],
   "source": [
    "# Define the reasoning model\n",
    "class Step(BaseModel):\n",
    "    explanation: str\n",
    "    output: str\n",
    "\n",
    "class MathReasoning(BaseModel):\n",
    "    steps: list[Step]\n",
    "    final_answer: str\n",
    "\n",
    "    def format(self) -> str:\n",
    "        steps_output = \"\\n\".join(\n",
    "            f\"Step {i + 1}: {step.explanation}\\n  Output: {step.output}\" for i, step in enumerate(self.steps)\n",
    "        )\n",
    "        return f\"{steps_output}\\n\\nFinal Answer: {self.final_answer}\""
   ]
  },
  {
   "cell_type": "code",
   "execution_count": 13,
   "id": "43f924ef-b690-41a8-903a-d90a88081abd",
   "metadata": {},
   "outputs": [
    {
     "name": "stdout",
     "output_type": "stream",
     "text": [
      "\u001b[33mUser_proxy\u001b[0m (to Math_solver):\n",
      "\n",
      "how can I solve 8x + 7 = -23\n",
      "\n",
      "--------------------------------------------------------------------------------\n",
      "\u001b[33mMath_solver\u001b[0m (to User_proxy):\n",
      "\n",
      "Step 1: First, we need to isolate the term with 'x'. We can do this by subtracting 7 from both sides of the equation.\n",
      "  Output: 8x + 7 - 7 = -23 - 7\n",
      "Step 2: This simplifies to 8x = -30. Now, we need to solve for 'x' by dividing both sides by 8.\n",
      "  Output: 8x / 8 = -30 / 8\n",
      "Step 3: This gives us x = -30/8. We can simplify this further by dividing both the numerator and the denominator by 2.\n",
      "  Output: x = -15/4 or x = -3.75.\n",
      "\n",
      "Final Answer: x = -3.75\n",
      "\n",
      "--------------------------------------------------------------------------------\n",
      "Step 1: First, we need to isolate the term with 'x'. We can do this by subtracting 7 from both sides of the equation.\n",
      "  Output: 8x + 7 - 7 = -23 - 7\n",
      "Step 2: This simplifies to 8x = -30. Now, we need to solve for 'x' by dividing both sides by 8.\n",
      "  Output: 8x / 8 = -30 / 8\n",
      "Step 3: This gives us x = -30/8. We can simplify this further by dividing both the numerator and the denominator by 2.\n",
      "  Output: x = -15/4 or x = -3.75.\n",
      "\n",
      "Final Answer: x = -3.75\n"
     ]
    }
   ],
   "source": [
    "# Define chat actors and start the chat\n",
    "# for config in config_list:\n",
    "#     config[\"response_format\"] = MathReasoning\n",
    "llm_config = {\n",
    "    # \"config_list\": config_list,\n",
    "    \"api_type\": \"openai\",\n",
    "    \"model\": \"gpt-4o-mini\",\n",
    "    \"cache_seed\": 42,\n",
    "    \"response_format\": MathReasoning,\n",
    "}\n",
    "\n",
    "user_proxy = autogen.UserProxyAgent(\n",
    "    name=\"User_proxy\",\n",
    "    system_message=\"A human admin.\",\n",
    "    human_input_mode=\"NEVER\",\n",
    "    code_execution_config={\n",
    "        \"work_dir\": \"coding_work\",\n",
    "        \"use_docker\": False,  # Set to True if you want to use Docker\n",
    "    }\n",
    ")\n",
    "\n",
    "assistant = autogen.AssistantAgent(\n",
    "    name=\"Math_solver\",\n",
    "    llm_config=llm_config,\n",
    ")\n",
    "\n",
    "print(\n",
    "    user_proxy.initiate_chat(\n",
    "        assistant, message=\"how can I solve 8x + 7 = -23\", max_turns=1, summary_method=\"last_msg\"\n",
    "    ).summary\n",
    ")"
   ]
  },
  {
   "cell_type": "code",
   "execution_count": 14,
   "id": "5e2d0887-cbc8-42d2-9490-9c6180cbf9ea",
   "metadata": {},
   "outputs": [
    {
     "name": "stdout",
     "output_type": "stream",
     "text": [
      "\u001b[33mUser_proxy\u001b[0m (to Math_solver):\n",
      "\n",
      "solve 3 + 4 by calling appropriate function\n",
      "\n",
      "--------------------------------------------------------------------------------\n",
      "\u001b[33mMath_solver\u001b[0m (to User_proxy):\n",
      "\n",
      "\u001b[32m***** Suggested tool call (call_8RfUeVkbFY8JCtBr7Smk6IEG): add *****\u001b[0m\n",
      "Arguments: \n",
      "{\"x\":3,\"y\":4}\n",
      "\u001b[32m********************************************************************\u001b[0m\n",
      "\n",
      "--------------------------------------------------------------------------------\n",
      "\u001b[35m\n",
      ">>>>>>>> EXECUTING FUNCTION add...\n",
      "Call ID: call_8RfUeVkbFY8JCtBr7Smk6IEG\n",
      "Input arguments: {'x': 3, 'y': 4}\u001b[0m\n",
      "\u001b[33mUser_proxy\u001b[0m (to Math_solver):\n",
      "\n",
      "\u001b[32m***** Response from calling tool (call_8RfUeVkbFY8JCtBr7Smk6IEG) *****\u001b[0m\n",
      "7\n",
      "\u001b[32m**********************************************************************\u001b[0m\n",
      "\n",
      "--------------------------------------------------------------------------------\n",
      "\u001b[33mMath_solver\u001b[0m (to User_proxy):\n",
      "\n",
      "Step 1: I used the add function to compute the sum of 3 and 4.\n",
      "  Output: Result from the add function: 7\n",
      "\n",
      "Final Answer: The sum of 3 + 4 is 7.\n",
      "\n",
      "--------------------------------------------------------------------------------\n"
     ]
    },
    {
     "data": {
      "text/plain": [
       "ChatResult(chat_id=None, chat_history=[{'content': 'solve 3 + 4 by calling appropriate function', 'role': 'assistant', 'name': 'User_proxy'}, {'tool_calls': [{'id': 'call_8RfUeVkbFY8JCtBr7Smk6IEG', 'function': {'arguments': '{\"x\":3,\"y\":4}', 'name': 'add'}, 'type': 'function'}], 'content': None, 'role': 'assistant'}, {'content': '7', 'tool_responses': [{'tool_call_id': 'call_8RfUeVkbFY8JCtBr7Smk6IEG', 'role': 'tool', 'content': '7'}], 'role': 'tool', 'name': 'User_proxy'}, {'content': 'Step 1: I used the add function to compute the sum of 3 and 4.\\n  Output: Result from the add function: 7\\n\\nFinal Answer: The sum of 3 + 4 is 7.', 'role': 'user', 'name': 'Math_solver'}], summary='Step 1: I used the add function to compute the sum of 3 and 4.\\n  Output: Result from the add function: 7\\n\\nFinal Answer: The sum of 3 + 4 is 7.', cost={'usage_including_cached_inference': {'total_cost': 0.00023505, 'gpt-4o-mini-2024-07-18': {'cost': 0.00023505, 'prompt_tokens': 1263, 'completion_tokens': 76, 'total_tokens': 1339}}, 'usage_excluding_cached_inference': {'total_cost': 0}}, human_input=[])"
      ]
     },
     "execution_count": 14,
     "metadata": {},
     "output_type": "execute_result"
    }
   ],
   "source": [
    "@user_proxy.register_for_execution()\n",
    "@assistant.register_for_llm(description=\"You can use this function call to solve addition\")\n",
    "def add(x: int, y: int) -> int:\n",
    "    return x + y\n",
    "\n",
    "user_proxy.initiate_chat(\n",
    "    assistant, message=\"solve 3 + 4 by calling appropriate function\", max_turns=2, summary_method=\"last_msg\"\n",
    ")"
   ]
  }
 ],
 "metadata": {
  "kernelspec": {
   "display_name": "Python 3 (ipykernel)",
   "language": "python",
   "name": "python3"
  },
  "language_info": {
   "codemirror_mode": {
    "name": "ipython",
    "version": 3
   },
   "file_extension": ".py",
   "mimetype": "text/x-python",
   "name": "python",
   "nbconvert_exporter": "python",
   "pygments_lexer": "ipython3",
   "version": "3.11.4"
  }
 },
 "nbformat": 4,
 "nbformat_minor": 5
}
