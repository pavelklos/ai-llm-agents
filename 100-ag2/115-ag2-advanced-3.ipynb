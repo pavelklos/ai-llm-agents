{
 "cells": [
  {
   "cell_type": "markdown",
   "id": "accbde67-9c7e-41b0-9329-8052e2ef365b",
   "metadata": {},
   "source": [
    "# AG2: GroupChat (Group Chat with Tools)"
   ]
  },
  {
   "cell_type": "markdown",
   "id": "5cb42466-306d-49b1-b814-6674b60451e4",
   "metadata": {},
   "source": [
    "Group Chat with Tools\n",
    "- https://docs.ag2.ai/docs/user-guide/advanced-concepts/groupchat/tools"
   ]
  },
  {
   "cell_type": "markdown",
   "id": "fa1039ae-8255-4ec0-8c3a-2757a8f0ae95",
   "metadata": {},
   "source": [
    "## SETUP"
   ]
  },
  {
   "cell_type": "code",
   "execution_count": 1,
   "id": "0ce6eafa-f6ef-4ff1-8d54-17b4fcb71612",
   "metadata": {},
   "outputs": [],
   "source": [
    "import os\n",
    "from dotenv import load_dotenv\n",
    "\n",
    "# Load environment variables (for API key)\n",
    "load_dotenv()\n",
    "\n",
    "# Set up OpenAI API key\n",
    "api_key = os.getenv(\"OPENAI_API_KEY\")\n",
    "if not api_key:\n",
    "    raise ValueError(\"Please set the OPENAI_API_KEY environment variable or add it to a .env file\")\n",
    "\n",
    "# Define the model to use\n",
    "MODEL_GPT = \"gpt-4o-mini\""
   ]
  },
  {
   "cell_type": "markdown",
   "id": "16dee629-43be-4a1c-b525-b6fe9b75166e",
   "metadata": {},
   "source": [
    "## Group Chat with Tools"
   ]
  },
  {
   "cell_type": "markdown",
   "id": "351bb65c-b4f1-4c30-8c92-b61475a166eb",
   "metadata": {},
   "source": [
    "### Imports"
   ]
  },
  {
   "cell_type": "code",
   "execution_count": 2,
   "id": "6ad23d7f-3390-4d35-be86-b9876bfb277e",
   "metadata": {},
   "outputs": [],
   "source": [
    "import os\n",
    "import random\n",
    "\n",
    "from autogen import (\n",
    "    ConversableAgent,\n",
    "    GroupChat,\n",
    "    GroupChatManager,\n",
    "    UserProxyAgent,\n",
    "    register_function,\n",
    "    # LLMConfig,\n",
    ")"
   ]
  },
  {
   "cell_type": "markdown",
   "id": "718aa5ee-4b99-4a3e-b23c-83bde77ab2c8",
   "metadata": {},
   "source": [
    "### Agent Configuration"
   ]
  },
  {
   "cell_type": "code",
   "execution_count": 3,
   "id": "505ed1f0-db55-451a-a928-0ffc21af8c79",
   "metadata": {},
   "outputs": [],
   "source": [
    "# llm_config = LLMConfig(api_type=\"openai\", model=\"gpt-4o-mini\", api_key=os.environ[\"OPENAI_API_KEY\"],)\n",
    "llm_config = {\"api_type\": \"openai\", \"model\": \"gpt-4o-mini\", \"api_key\": os.environ[\"OPENAI_API_KEY\"]}\n",
    "\n",
    "\n",
    "sales_agent = ConversableAgent(\n",
    "    name=\"SalesAgent\",\n",
    "    llm_config=llm_config,\n",
    ")\n",
    "\n",
    "cancellation_agent = ConversableAgent(\n",
    "    name=\"CanelationAgent\",\n",
    "    llm_config=llm_config,\n",
    ")\n",
    "\n",
    "user_proxy = UserProxyAgent(\n",
    "    name=\"user_proxy\",\n",
    "    human_input_mode=\"ALWAYS\",\n",
    "    code_execution_config={\n",
    "        \"use_docker\": False,\n",
    "    },  # Please set use_docker=True if Docker is available to run the generated code. Using Docker is safer and recommended over running the generated code directly on the host machine.\n",
    ")"
   ]
  },
  {
   "cell_type": "markdown",
   "id": "79b691c1-49b8-45aa-9b5a-bcdbe39a4979",
   "metadata": {},
   "source": [
    "### Tools Registration"
   ]
  },
  {
   "cell_type": "code",
   "execution_count": 4,
   "id": "788100ba-751c-467e-98de-93baad37e587",
   "metadata": {},
   "outputs": [],
   "source": [
    "def buy_airplane_ticket(from_location: str, to_location: str, date: str) -> str:\n",
    "    ticket_number = random.randint(1000, 9999)\n",
    "    return f\"\"\"Your ticket from {from_location} to {to_location} on {date} has been booked.\n",
    "Your ticket number is {ticket_number}.\n",
    "Please keep this number for future reference.\n",
    "\"\"\"\n",
    "\n",
    "register_function(\n",
    "    buy_airplane_ticket,\n",
    "    caller=sales_agent,\n",
    "    executor=user_proxy,\n",
    "    description=\"Buy an airplane ticket\",\n",
    ")\n",
    "\n",
    "def cancel_airplane_ticket(ticket_number: str) -> str:\n",
    "    return f\"Your ticket with ticket number {ticket_number} has been canceled\"\n",
    "\n",
    "register_function(\n",
    "    cancel_airplane_ticket,\n",
    "    caller=cancellation_agent,\n",
    "    executor=user_proxy,\n",
    "    description=\"Cancel an airplane ticket\",\n",
    ")"
   ]
  },
  {
   "cell_type": "markdown",
   "id": "25e076b8-c712-4bb7-8350-6e83140bd394",
   "metadata": {},
   "source": [
    "### Creating and Initiating the Group Chat"
   ]
  },
  {
   "cell_type": "code",
   "execution_count": 5,
   "id": "5347096d-0a4d-40ab-b8ad-9e08168d88d9",
   "metadata": {},
   "outputs": [],
   "source": [
    "groupchat = GroupChat(\n",
    "    agents=[user_proxy, cancellation_agent, sales_agent],\n",
    "    speaker_selection_method=\"auto\",\n",
    "    messages=[],\n",
    ")\n",
    "\n",
    "manager = GroupChatManager(\n",
    "    name=\"group_manager\",\n",
    "    groupchat=groupchat,\n",
    "    llm_config=llm_config,\n",
    ")"
   ]
  },
  {
   "cell_type": "code",
   "execution_count": 6,
   "id": "563c38ef-c149-482a-8c77-45a09b6fb803",
   "metadata": {},
   "outputs": [
    {
     "name": "stdout",
     "output_type": "stream",
     "text": [
      "\u001b[33muser_proxy\u001b[0m (to group_manager):\n",
      "\n",
      "I need to buy a plane ticket from New York to Los Angeles on 12th of April 2025\n",
      "\n",
      "--------------------------------------------------------------------------------\n",
      "\u001b[32m\n",
      "Next speaker: SalesAgent\n",
      "\u001b[0m\n",
      "\u001b[31m\n",
      ">>>>>>>> USING AUTO REPLY...\u001b[0m\n",
      "\u001b[33mSalesAgent\u001b[0m (to group_manager):\n",
      "\n",
      "\u001b[32m***** Suggested tool call (call_48ZKPmC5WVDyYaWfvjCNN6uA): buy_airplane_ticket *****\u001b[0m\n",
      "Arguments: \n",
      "{\"from_location\":\"New York\",\"to_location\":\"Los Angeles\",\"date\":\"2025-04-12\"}\n",
      "\u001b[32m************************************************************************************\u001b[0m\n",
      "\n",
      "--------------------------------------------------------------------------------\n",
      "\u001b[32m\n",
      "Next speaker: user_proxy\n",
      "\u001b[0m\n"
     ]
    },
    {
     "name": "stdin",
     "output_type": "stream",
     "text": [
      "Replying as user_proxy. Provide feedback to group_manager. Press enter to skip and use auto-reply, or type 'exit' to end the conversation:  exit\n"
     ]
    }
   ],
   "source": [
    "chat_result = user_proxy.initiate_chat(\n",
    "    recipient=manager,\n",
    "    message=\"I need to buy a plane ticket from New York to Los Angeles on 12th of April 2025\",\n",
    ")"
   ]
  },
  {
   "cell_type": "code",
   "execution_count": 7,
   "id": "2ccb3fc6-b538-4680-b8d9-39af62e92edd",
   "metadata": {},
   "outputs": [
    {
     "name": "stdout",
     "output_type": "stream",
     "text": [
      "None\n"
     ]
    }
   ],
   "source": [
    "print(chat_result.summary)"
   ]
  },
  {
   "cell_type": "code",
   "execution_count": 8,
   "id": "d0061cdf-bede-4178-bed6-9051fe9fa521",
   "metadata": {},
   "outputs": [
    {
     "name": "stdout",
     "output_type": "stream",
     "text": [
      "2\n",
      "[{'content': 'I need to buy a plane ticket from New York to Los Angeles on 12th of April 2025', 'role': 'assistant', 'name': 'user_proxy'}, {'content': 'None', 'tool_calls': [{'id': 'call_48ZKPmC5WVDyYaWfvjCNN6uA', 'function': {'arguments': '{\"from_location\":\"New York\",\"to_location\":\"Los Angeles\",\"date\":\"2025-04-12\"}', 'name': 'buy_airplane_ticket'}, 'type': 'function'}], 'name': 'SalesAgent', 'role': 'assistant'}]\n"
     ]
    }
   ],
   "source": [
    "print(len(chat_result.chat_history))\n",
    "# print(chat_result.chat_history[0])\n",
    "# print(chat_result.chat_history[-1])\n",
    "print(chat_result.chat_history)"
   ]
  }
 ],
 "metadata": {
  "kernelspec": {
   "display_name": "Python 3 (ipykernel)",
   "language": "python",
   "name": "python3"
  },
  "language_info": {
   "codemirror_mode": {
    "name": "ipython",
    "version": 3
   },
   "file_extension": ".py",
   "mimetype": "text/x-python",
   "name": "python",
   "nbconvert_exporter": "python",
   "pygments_lexer": "ipython3",
   "version": "3.11.4"
  }
 },
 "nbformat": 4,
 "nbformat_minor": 5
}
