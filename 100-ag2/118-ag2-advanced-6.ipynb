{
 "cells": [
  {
   "cell_type": "markdown",
   "id": "accbde67-9c7e-41b0-9329-8052e2ef365b",
   "metadata": {},
   "source": [
    "# AG2: Swarm (Deep-dive)"
   ]
  },
  {
   "cell_type": "markdown",
   "id": "5cb42466-306d-49b1-b814-6674b60451e4",
   "metadata": {},
   "source": [
    "Deep-dive\n",
    "- https://docs.ag2.ai/docs/user-guide/advanced-concepts/swarm/deep-dive"
   ]
  },
  {
   "cell_type": "markdown",
   "id": "fa1039ae-8255-4ec0-8c3a-2757a8f0ae95",
   "metadata": {},
   "source": [
    "## SETUP"
   ]
  },
  {
   "cell_type": "code",
   "execution_count": 1,
   "id": "0ce6eafa-f6ef-4ff1-8d54-17b4fcb71612",
   "metadata": {},
   "outputs": [],
   "source": [
    "import os\n",
    "from dotenv import load_dotenv\n",
    "\n",
    "# Load environment variables (for API key)\n",
    "load_dotenv()\n",
    "\n",
    "# Set up OpenAI API key\n",
    "api_key = os.getenv(\"OPENAI_API_KEY\")\n",
    "if not api_key:\n",
    "    raise ValueError(\"Please set the OPENAI_API_KEY environment variable or add it to a .env file\")\n",
    "\n",
    "# Define the model to use\n",
    "MODEL_GPT = \"gpt-4o-mini\""
   ]
  },
  {
   "cell_type": "markdown",
   "id": "f86b3d00-9f60-4311-a67b-a86dcdf13b3a",
   "metadata": {},
   "source": [
    "## Swarm Deep-dive"
   ]
  },
  {
   "cell_type": "markdown",
   "id": "af43a1b2-f093-4557-8278-50d59757e112",
   "metadata": {},
   "source": [
    "### Components"
   ]
  },
  {
   "cell_type": "markdown",
   "id": "b18c2513-89d4-487d-8a38-1ceb48ab036f",
   "metadata": {},
   "source": [
    "Here are the main components that are needed to create a swarm chat:\n",
    "- **Create Agents**: instantiate an AssistantAgent to be part of the swarm chat.\n",
    "  - API Reference: AssistantAgent\n",
    "- **Register Handoffs**: utilize register_hand_off to register OnCondition, OnContextCondition, and AfterWork handoffs.\n",
    "  - API Reference: register_hand_off, OnCondition, OnContextCondition, AfterWork, AfterWorkOption, SwarmResult\n",
    "- **Update Agent State (Optional)**: update an agent’s state before replying.\n",
    "  - API Reference: UpdateSystemMessage\n",
    "- **Start Swarm Chat**: initiate the swarm chat with initiate_swarm_chat or a_initiate_swarm_chat for asynchronous calls.\n",
    "  - API Reference: initiate_swarm_chat, a_initiate_swarm_chat"
   ]
  },
  {
   "cell_type": "markdown",
   "id": "0b085e11-4ca5-46a0-8a7b-366e003700f4",
   "metadata": {},
   "source": [
    "### Create Agents"
   ]
  },
  {
   "cell_type": "markdown",
   "id": "5fa43c83-7a06-4991-878b-196ec3af5110",
   "metadata": {},
   "source": [
    "### Registering Handoffs to agents"
   ]
  },
  {
   "cell_type": "markdown",
   "id": "10c26742-c39f-4657-a070-0bf599d290b2",
   "metadata": {},
   "source": [
    "### Registering Context Variable-based Handoffs to agents"
   ]
  },
  {
   "cell_type": "code",
   "execution_count": 2,
   "id": "7a1322c9-f267-449a-a0f2-b155a8fc28aa",
   "metadata": {},
   "outputs": [],
   "source": [
    "from autogen import AssistantAgent, OnCondition, register_hand_off\n",
    "\n",
    "# llm_config = ...\n",
    "llm_config = {\"api_type\": \"openai\", \"model\": \"gpt-4o-mini\", \"api_key\": os.environ[\"OPENAI_API_KEY\"]}\n",
    "\n",
    "agent_2 = AssistantAgent(\"agent_2\", llm_config=llm_config)\n",
    "agent_3 = AssistantAgent(\"agent_3\", llm_config=llm_config)\n",
    "\n",
    "# --------Option 1---------\n",
    "agent_1 = AssistantAgent(\"agent_1\", llm_config=llm_config)\n",
    "# Register the handoff\n",
    "register_hand_off(\n",
    "    agent = agent_1,\n",
    "    hand_to=[\n",
    "        OnCondition(target=agent_2, condition=\"condition_1\"),\n",
    "        OnCondition(target=agent_3, condition=\"condition_2\"),\n",
    "    ]\n",
    ")\n",
    "\n",
    "# --------Option 2---------\n",
    "# This is equivalent to:\n",
    "def transfer_to_agent_2():\n",
    "    \"\"\"condition_1\"\"\"\n",
    "    return agent_2\n",
    "\n",
    "def transfer_to_agent_3():\n",
    "    \"\"\"condition_2\"\"\"\n",
    "    return agent_3\n",
    "\n",
    "agent_1 = AssistantAgent(\"agent_1\", llm_config=llm_config, functions=[transfer_to_agent_2, transfer_to_agent_3])"
   ]
  },
  {
   "cell_type": "code",
   "execution_count": 3,
   "id": "419131f0-71e5-471c-a67a-216c060dcb60",
   "metadata": {},
   "outputs": [],
   "source": [
    "from autogen import OnContextCondition, ContextExpression\n",
    "\n",
    "register_hand_off(\n",
    "    agent = agent_1,\n",
    "    hand_to=[\n",
    "        OnContextCondition(\n",
    "            target=agent_2,\n",
    "            condition=ContextExpression(\"(${account_level} > 2 and ${budget_remaining} > 0) or ${account_tier} == 'Gold' or len(${order_count}) > 10\"),\n",
    "            available=\"logged_in\"),\n",
    "        OnCondition(target=agent_3, condition=\"condition_2\"), # LLM-based, evaluated after OnContextCondition's\n",
    "    ]\n",
    ")"
   ]
  },
  {
   "cell_type": "markdown",
   "id": "42f3d02a-244a-4ef2-ae5f-d2ef3727070b",
   "metadata": {},
   "source": [
    "### Enabling/Disabling Handoffs"
   ]
  },
  {
   "cell_type": "code",
   "execution_count": 4,
   "id": "d3a3e466-ef50-4656-917f-602affaeb93a",
   "metadata": {},
   "outputs": [],
   "source": [
    "register_hand_off(\n",
    "    agent = agent_1,\n",
    "    hand_to=[\n",
    "        OnCondition(\n",
    "            target=agent_2,\n",
    "            condition=\"Transfer to the reviewer to evaluate the plan.\",\n",
    "            available=\"has_plan\"),\n",
    "    ]\n",
    ")"
   ]
  },
  {
   "cell_type": "markdown",
   "id": "0ecf08de-62c3-4a66-827d-686e93b40811",
   "metadata": {},
   "source": [
    "### SwarmResult"
   ]
  },
  {
   "cell_type": "markdown",
   "id": "186fcd16-93cd-46ca-9656-8f2fab8f9d8a",
   "metadata": {},
   "source": [
    "### Update Agent state before replying"
   ]
  },
  {
   "cell_type": "code",
   "execution_count": 5,
   "id": "d01e10b1-dd3d-4ea9-87cf-bb7c548ca93a",
   "metadata": {},
   "outputs": [],
   "source": [
    "# # Creates a system message string\n",
    "# def create_system_prompt_function(my_agent: ConversableAgent, messages: List[Dict[]]) -> str:\n",
    "#  preferred_name = my_agent.get_context(\"preferred_name\", \"(name not provided)\")\n",
    "\n",
    "#     # Note that the returned string will be treated like an f-string using the context variables\n",
    "#     return \"You are a customer service representative helping a customer named \"\n",
    "#  + preferred_name\n",
    "#  + \" and their passport number is '{passport_number}'.\"\n",
    "\n",
    "# # Function to update an Agent's state\n",
    "# def my_callable_state_update_function(my_agent: ConversableAgent, messages: List[Dict[]]) -> None:\n",
    "#  agent.set_context(\"context_key\", 43)\n",
    "#  agent.update_system_message(\"You are a customer service representative helping customer ID \" + agent.get_context(\"context_key\"))\n",
    "\n",
    "# # Create the AssistantAgent and set agent updates\n",
    "# customer_service = AssistantAgent(\n",
    "#     name=\"CustomerServiceRep\",\n",
    "#     system_message=\"You are a customer service representative.\",\n",
    "#     update_agent_state_before_reply=[\n",
    "#  UpdateSystemMessage(\"You are a customer service representative. Quote passport number '{passport_number}'\"),\n",
    "#  UpdateSystemMessage(create_system_prompt_function),\n",
    "#  my_callable_state_update_function]\n",
    "#  ...\n",
    "# )\n",
    "\n",
    "# -> ERROR: SyntaxError: invalid syntax. Perhaps you forgot a comma?\n",
    "\n",
    "from typing import List, Dict\n",
    "from autogen import ConversableAgent, AssistantAgent, UpdateSystemMessage\n",
    "\n",
    "# Creates a system message string\n",
    "def create_system_prompt_function(my_agent: ConversableAgent, messages: List[Dict]) -> str:\n",
    "    preferred_name = my_agent.get_context(\"preferred_name\", \"(name not provided)\")\n",
    "    # Note that the returned string will be treated like an f-string using the context variables\n",
    "    return \"You are a customer service representative helping a customer named \" + preferred_name + \" and their passport number is '{passport_number}'.\"\n",
    "\n",
    "# Function to update an Agent's state\n",
    "def my_callable_state_update_function(my_agent: ConversableAgent, messages: List[Dict]) -> None:\n",
    "    agent.set_context(\"context_key\", 43)\n",
    "    agent.update_system_message(\"You are a customer service representative helping customer ID \" + agent.get_context(\"context_key\"))\n",
    "\n",
    "# Create the AssistantAgent and set agent updates\n",
    "customer_service = AssistantAgent(\n",
    "    name=\"CustomerServiceRep\",\n",
    "    system_message=\"You are a customer service representative.\",\n",
    "    update_agent_state_before_reply=[\n",
    "        UpdateSystemMessage(\"You are a customer service representative. Quote passport number '{passport_number}'\"),\n",
    "        UpdateSystemMessage(create_system_prompt_function),\n",
    "        my_callable_state_update_function\n",
    "    ]\n",
    ")"
   ]
  },
  {
   "cell_type": "markdown",
   "id": "ab906584-e22a-4304-959f-5441ad76f9d7",
   "metadata": {},
   "source": [
    "### Initialize SwarmChat with initiate_swarm_chat / a_initiate_swarm_chat"
   ]
  },
  {
   "cell_type": "code",
   "execution_count": 6,
   "id": "af20272e-2bab-46ab-8701-a3b475176831",
   "metadata": {},
   "outputs": [
    {
     "name": "stdout",
     "output_type": "stream",
     "text": [
      "\u001b[33m_User\u001b[0m (to chat_manager):\n",
      "\n",
      "Hello\n",
      "\n",
      "--------------------------------------------------------------------------------\n",
      "\u001b[32m\n",
      "Next speaker: agent_1\n",
      "\u001b[0m\n",
      "\u001b[33magent_1\u001b[0m (to chat_manager):\n",
      "\n",
      "Hello! How can I assist you today?\n",
      "\n",
      "--------------------------------------------------------------------------------\n"
     ]
    }
   ],
   "source": [
    "from autogen import initiate_swarm_chat\n",
    "\n",
    "chat_history, context_variables, last_active_agent = initiate_swarm_chat(\n",
    "    initial_agent=agent_1, # the first agent to start the chat\n",
    "    agents=[agent_1, agent_2, agent_3], # a list of agents\n",
    "    messages=[{\"role\": \"user\", \"content\": \"Hello\"}], # a list of messages to start the chat, you can also pass in one string\n",
    "    # user_agent=user_agent, # optional, if you want to use your own user agent\n",
    "    context_variables={\"key\": \"value\"} # optional, initial context variables\n",
    ")"
   ]
  },
  {
   "cell_type": "markdown",
   "id": "00184d24-7f72-4461-a3a3-7f3b438a0b27",
   "metadata": {},
   "source": [
    "### AfterWork"
   ]
  },
  {
   "cell_type": "code",
   "execution_count": 7,
   "id": "ece9854a-74a9-42d1-aec2-917943088e76",
   "metadata": {},
   "outputs": [],
   "source": [
    "# # Register the handoff to an agent\n",
    "# register_handoff(\n",
    "#     agent=agent_1,\n",
    "#     hand_to=[\n",
    "#  OnCondition(...),\n",
    "#  AfterWork(agent_4) # Fallback to agent_4 if no OnCondition handoff is called\n",
    "#  ]\n",
    "# )\n",
    "\n",
    "# # Register the handoff to an AfterWorkOption\n",
    "# register_handoff(\n",
    "#     agent=agent_2,\n",
    "#     hand_to=[AfterWork(AfterWorkOption.TERMINATE)] # Terminate the chat if no handoff is suggested\n",
    "# )\n",
    "\n",
    "# def my_after_work_func(last_speaker: AssistantAgent, messages: List[Dict[str, Any]], groupchat: GroupChat) -> Union[AfterWorkOption, AssistantAgent, str]:\n",
    "#     if last_speaker.get_context(\"agent_1_done\"):\n",
    "#         return agent_2\n",
    "#     else:\n",
    "#         return AfterWorkOption.TERMINATE\n",
    "\n",
    "# # Register the handoff to a function that will return an agent or AfterWorkOption\n",
    "# agent_3.handoff(hand_to=[AfterWork(my_after_work_func)])\n",
    "# register_handoff(agent_3, hand_to=[AfterWork(my_after_work_func)])\n",
    "\n",
    "# # Register the swarm level AfterWork that becomes the default for agents that don't have one specified\n",
    "# chat_history, context_variables, last_active_agent = initiate_swarm_chat(\n",
    "#  ...\n",
    "#     after_work=AfterWorkOption.TERMINATE # Or an agent or Callable\n",
    "# )\n",
    "\n",
    "# -> ERRORS -> REWRITE (REFACTOR) CODE"
   ]
  },
  {
   "cell_type": "code",
   "execution_count": 8,
   "id": "dfaf80ab-b74e-4c4d-a2e1-ce888a302a23",
   "metadata": {},
   "outputs": [
    {
     "name": "stdout",
     "output_type": "stream",
     "text": [
      "<class 'autogen.agentchat.chat.ChatResult'>\n",
      "<class 'dict'>\n",
      "<class 'autogen.agentchat.assistant_agent.AssistantAgent'>\n"
     ]
    }
   ],
   "source": [
    "print(type(chat_history))\n",
    "print(type(context_variables))\n",
    "print(type(last_active_agent))"
   ]
  },
  {
   "cell_type": "code",
   "execution_count": 9,
   "id": "2ccb3fc6-b538-4680-b8d9-39af62e92edd",
   "metadata": {},
   "outputs": [
    {
     "name": "stdout",
     "output_type": "stream",
     "text": [
      "2\n",
      "Hello! How can I assist you today?\n",
      "[{'content': 'Hello', 'role': 'assistant'}, {'content': 'Hello! How can I assist you today?', 'name': 'agent_1', 'role': 'user'}]\n"
     ]
    }
   ],
   "source": [
    "print(len(chat_history.chat_history))\n",
    "print(chat_history.summary)\n",
    "print(chat_history.chat_history)"
   ]
  },
  {
   "cell_type": "code",
   "execution_count": 10,
   "id": "e4be28c3-626c-4c0b-b120-b19ec0347f6a",
   "metadata": {},
   "outputs": [
    {
     "name": "stdout",
     "output_type": "stream",
     "text": [
      "{'key': 'value'}\n"
     ]
    }
   ],
   "source": [
    "print(context_variables)"
   ]
  },
  {
   "cell_type": "code",
   "execution_count": 11,
   "id": "037a11ec-07f3-43f7-a0d2-2d637b408d2b",
   "metadata": {},
   "outputs": [
    {
     "name": "stdout",
     "output_type": "stream",
     "text": [
      "agent_1\n"
     ]
    }
   ],
   "source": [
    "print(last_active_agent.name)"
   ]
  },
  {
   "cell_type": "code",
   "execution_count": 12,
   "id": "3bab60a9-b8d2-400b-92d5-f8fa67b32c01",
   "metadata": {},
   "outputs": [
    {
     "name": "stdout",
     "output_type": "stream",
     "text": [
      "You are a helpful AI assistant.\n",
      "Solve tasks using your coding and language skills.\n",
      "In the following cases, suggest python code (in a python coding block) or shell script (in a sh coding block) for the user to execute.\n",
      "    1. When you need to collect info, use the code to output the info you need, for example, browse or search the web, download/read a file, print the content of a webpage or a file, get the current date/time, check the operating system. After sufficient info is printed and the task is ready to be solved based on your language skill, you can solve the task by yourself.\n",
      "    2. When you need to perform some task with code, use the code to perform the task and output the result. Finish the task smartly.\n",
      "Solve the task step by step if you need to. If a plan is not provided, explain your plan first. Be clear which step uses code, and which step uses your language skill.\n",
      "When using code, you must indicate the script type in the code block. The user cannot provide any other feedback or perform any other action beyond executing the code you suggest. The user can't modify your code. So do not suggest incomplete code which requires users to modify. Don't use a code block if it's not intended to be executed by the user.\n",
      "If you want the user to save the code in a file before executing it, put # filename: <filename> inside the code block as the first line. Don't include multiple code blocks in one response. Do not ask users to copy and paste the result. Instead, use 'print' function for the output when relevant. Check the execution result returned by the user.\n",
      "If the result indicates there is an error, fix the error and output the code again. Suggest the full code instead of partial code or code changes. If the error can't be fixed or if the task is not solved even after the code is executed successfully, analyze the problem, revisit your assumption, collect additional info you need, and think of a different approach to try.\n",
      "When you find an answer, verify the answer carefully. Include verifiable evidence in your response if possible.\n",
      "Reply \"TERMINATE\" in the end when everything is done.\n",
      "    \n"
     ]
    }
   ],
   "source": [
    "print(last_active_agent.system_message)"
   ]
  },
  {
   "cell_type": "markdown",
   "id": "eb72c24c-4172-4d9d-ad77-d1a647114c10",
   "metadata": {},
   "source": [
    "### Q&As"
   ]
  }
 ],
 "metadata": {
  "kernelspec": {
   "display_name": "Python 3 (ipykernel)",
   "language": "python",
   "name": "python3"
  },
  "language_info": {
   "codemirror_mode": {
    "name": "ipython",
    "version": 3
   },
   "file_extension": ".py",
   "mimetype": "text/x-python",
   "name": "python",
   "nbconvert_exporter": "python",
   "pygments_lexer": "ipython3",
   "version": "3.11.4"
  }
 },
 "nbformat": 4,
 "nbformat_minor": 5
}
