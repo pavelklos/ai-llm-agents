{
 "cells": [
  {
   "cell_type": "markdown",
   "id": "accbde67-9c7e-41b0-9329-8052e2ef365b",
   "metadata": {},
   "source": [
    "# AG2: Tools (Tools Basics)"
   ]
  },
  {
   "cell_type": "markdown",
   "id": "5cb42466-306d-49b1-b814-6674b60451e4",
   "metadata": {},
   "source": [
    "- Overview<br>\n",
    "  - https://docs.ag2.ai/docs/user-guide/basic-concepts/tools/index\n",
    "- Tools Basics<br>\n",
    "  - https://docs.ag2.ai/docs/user-guide/basic-concepts/tools/basics"
   ]
  },
  {
   "cell_type": "markdown",
   "id": "95a1a510-e7be-4639-8fcb-e3e8d31157df",
   "metadata": {},
   "source": [
    "## Overview"
   ]
  },
  {
   "cell_type": "markdown",
   "id": "9a088b77-3f86-4881-b993-00fff0d25411",
   "metadata": {},
   "source": [
    "Agents in AG2 leverage tools to extend their functionality, allowing them to interact with external systems, fetch real-time data, and execute complex tasks beyond the scope of a language model’s internal knowledge. This enables a structured approach where agents decide which tool to use and then execute it accordingly.\n",
    "- How Tool Usage Works in AG2\n",
    "  - **Selection**: An agent (driven by its LLM) decides which tool is appropriate based on the given task.\n",
    "  - **Execution**: A separate executor agent invokes the tool and returns the results.\n",
    "- Secure Tool Usage with Secrets\n",
    "  - **Enhanced Security**: Keeps secrets out of LLM interactions and telemetry.\n",
    "  - **Simplified Development**: Securely passes credentials without hardcoding them.\n",
    "  - **Flexible Integration**: Allows agents to access necessary credentials while maintaining security.\n",
    "- Interoperability with External Frameworks\n",
    "  - **LangChain**: Provides numerous pre-built tools for API calls, web scraping, and more.\n",
    "  - **CrewAI**: Offers specialized tools for web scraping, search, and automation.\n",
    "  - **PydanticAI**: Supports structured data handling and dependency injection for context-driven tool execution."
   ]
  },
  {
   "cell_type": "markdown",
   "id": "fa1039ae-8255-4ec0-8c3a-2757a8f0ae95",
   "metadata": {},
   "source": [
    "## SETUP"
   ]
  },
  {
   "cell_type": "code",
   "execution_count": 1,
   "id": "0ce6eafa-f6ef-4ff1-8d54-17b4fcb71612",
   "metadata": {},
   "outputs": [],
   "source": [
    "import os\n",
    "from dotenv import load_dotenv\n",
    "\n",
    "# Load environment variables (for API key)\n",
    "load_dotenv()\n",
    "\n",
    "# Set up OpenAI API key\n",
    "api_key = os.getenv(\"OPENAI_API_KEY\")\n",
    "if not api_key:\n",
    "    raise ValueError(\"Please set the OPENAI_API_KEY environment variable or add it to a .env file\")\n",
    "\n",
    "# Define the model to use\n",
    "MODEL_GPT = \"gpt-4o-mini\""
   ]
  },
  {
   "cell_type": "markdown",
   "id": "618b8372-18cd-4c77-99f0-14cb8a5f3203",
   "metadata": {},
   "source": [
    "## Tools Basics"
   ]
  },
  {
   "cell_type": "code",
   "execution_count": 2,
   "id": "dbb63e3c-edca-4aa8-8551-610ce158515b",
   "metadata": {},
   "outputs": [],
   "source": [
    "from datetime import datetime\n",
    "from typing import Annotated\n",
    "\n",
    "# from autogen import ConversableAgent, register_function, LLMConfig\n",
    "from autogen import ConversableAgent, register_function\n",
    "\n",
    "# Put your key in the OPENAI_API_KEY environment variable\n",
    "# llm_config = LLMConfig(api_type=\"openai\", model=\"gpt-4o-mini\")\n",
    "llm_config = {\"api_type\": \"openai\", \"model\": \"gpt-4o-mini\"}\n",
    "\n",
    "# 1. Our tool, returns the day of the week for a given date\n",
    "def get_weekday(date_string: Annotated[str, \"Format: YYYY-MM-DD\"]) -> str:\n",
    "    date = datetime.strptime(date_string, \"%Y-%m-%d\")\n",
    "    return date.strftime(\"%A\")\n",
    "\n",
    "\n",
    "# 2. Agent for determining whether to run the tool\n",
    "date_agent = ConversableAgent(\n",
    "    name=\"date_agent\",\n",
    "    system_message=\"You get the day of the week for a given date.\",\n",
    "    llm_config=llm_config,\n",
    ")\n",
    "\n",
    "# 3. And an agent for executing the tool\n",
    "executor_agent = ConversableAgent(\n",
    "    name=\"executor_agent\",\n",
    "    human_input_mode=\"NEVER\",\n",
    ")\n",
    "\n",
    "# 4. Registers the tool with the agents, the description will be used by the LLM\n",
    "register_function(\n",
    "    get_weekday,\n",
    "    caller=date_agent,\n",
    "    executor=executor_agent,\n",
    "    description=\"Get the day of the week for a given date\",\n",
    ")"
   ]
  },
  {
   "cell_type": "code",
   "execution_count": 3,
   "id": "1c3de6fa-70b1-4f06-aecb-d585f02cfc4e",
   "metadata": {},
   "outputs": [
    {
     "name": "stdout",
     "output_type": "stream",
     "text": [
      "\u001b[33mexecutor_agent\u001b[0m (to date_agent):\n",
      "\n",
      "I was born on the 25th of March 1995, what day was it?\n",
      "\n",
      "--------------------------------------------------------------------------------\n",
      "\u001b[31m\n",
      ">>>>>>>> USING AUTO REPLY...\u001b[0m\n",
      "\u001b[33mdate_agent\u001b[0m (to executor_agent):\n",
      "\n",
      "\u001b[32m***** Suggested tool call (call_f6c5kivGyvOVGw6aHxmVu72z): get_weekday *****\u001b[0m\n",
      "Arguments: \n",
      "{\"date_string\":\"1995-03-25\"}\n",
      "\u001b[32m****************************************************************************\u001b[0m\n",
      "\n",
      "--------------------------------------------------------------------------------\n",
      "\u001b[35m\n",
      ">>>>>>>> EXECUTING FUNCTION get_weekday...\n",
      "Call ID: call_f6c5kivGyvOVGw6aHxmVu72z\n",
      "Input arguments: {'date_string': '1995-03-25'}\u001b[0m\n",
      "\u001b[33mexecutor_agent\u001b[0m (to date_agent):\n",
      "\n",
      "\u001b[32m***** Response from calling tool (call_f6c5kivGyvOVGw6aHxmVu72z) *****\u001b[0m\n",
      "Saturday\n",
      "\u001b[32m**********************************************************************\u001b[0m\n",
      "\n",
      "--------------------------------------------------------------------------------\n",
      "\u001b[31m\n",
      ">>>>>>>> USING AUTO REPLY...\u001b[0m\n",
      "\u001b[33mdate_agent\u001b[0m (to executor_agent):\n",
      "\n",
      "You were born on a Saturday, the 25th of March 1995.\n",
      "\n",
      "--------------------------------------------------------------------------------\n"
     ]
    }
   ],
   "source": [
    "# 5. Two-way chat ensures the executor agent follows the suggesting agent\n",
    "chat_result = executor_agent.initiate_chat(\n",
    "    recipient=date_agent,\n",
    "    message=\"I was born on the 25th of March 1995, what day was it?\",\n",
    "    max_turns=2,\n",
    ")"
   ]
  },
  {
   "cell_type": "code",
   "execution_count": 4,
   "id": "574ef708-1972-4f58-ba80-d0d1ca45f437",
   "metadata": {},
   "outputs": [
    {
     "name": "stdout",
     "output_type": "stream",
     "text": [
      "You were born on a Saturday, the 25th of March 1995.\n"
     ]
    }
   ],
   "source": [
    "print(chat_result.chat_history[-1][\"content\"])"
   ]
  },
  {
   "cell_type": "markdown",
   "id": "0184f7c6-1124-4b0e-912a-1585741957a6",
   "metadata": {},
   "source": [
    "### decorators"
   ]
  },
  {
   "cell_type": "code",
   "execution_count": 5,
   "id": "c427344b-28ff-4fdc-809d-0c5c383de2d5",
   "metadata": {},
   "outputs": [
    {
     "name": "stderr",
     "output_type": "stream",
     "text": [
      "C:\\Users\\Pavel\\projects\\ai-llm-agents\\.venv\\Lib\\site-packages\\autogen\\agentchat\\conversable_agent.py:2911: UserWarning: Function 'get_weekday' is being overridden.\n",
      "  warnings.warn(f\"Function '{name}' is being overridden.\", UserWarning)\n",
      "C:\\Users\\Pavel\\projects\\ai-llm-agents\\.venv\\Lib\\site-packages\\autogen\\agentchat\\conversable_agent.py:3002: UserWarning: Function 'get_weekday' is being overridden.\n",
      "  warnings.warn(f\"Function '{tool_sig['function']['name']}' is being overridden.\", UserWarning)\n"
     ]
    }
   ],
   "source": [
    "@date_agent.register_for_llm(description=\"Get the day of the week for a given date\")\n",
    "@executor_agent.register_for_execution()\n",
    "def get_weekday(date_string: Annotated[str, \"Format: YYYY-MM-DD\"]) -> str:\n",
    "    date = datetime.strptime(date_string, '%Y-%m-%d')\n",
    "    return date.strftime('%A')"
   ]
  },
  {
   "cell_type": "code",
   "execution_count": 6,
   "id": "db812c6a-860e-4c70-8bdd-3fbec282d329",
   "metadata": {},
   "outputs": [],
   "source": [
    "@date_agent.register_for_llm(description=\"Get the day of the week for a given date\")\n",
    "@executor_agent.register_for_execution()\n",
    "def get_weekday_2(date_string: Annotated[str, \"Format: YYYY-MM-DD\"]) -> str:\n",
    "    date = datetime.strptime(date_string, '%Y-%m-%d')\n",
    "    return date.strftime('%A')"
   ]
  }
 ],
 "metadata": {
  "kernelspec": {
   "display_name": "Python 3 (ipykernel)",
   "language": "python",
   "name": "python3"
  },
  "language_info": {
   "codemirror_mode": {
    "name": "ipython",
    "version": 3
   },
   "file_extension": ".py",
   "mimetype": "text/x-python",
   "name": "python",
   "nbconvert_exporter": "python",
   "pygments_lexer": "ipython3",
   "version": "3.11.4"
  }
 },
 "nbformat": 4,
 "nbformat_minor": 5
}
