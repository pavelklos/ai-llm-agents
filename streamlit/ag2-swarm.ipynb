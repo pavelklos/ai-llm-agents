{
 "cells": [
  {
   "cell_type": "markdown",
   "id": "c321c510-6c92-4e35-bdf0-a549700f04b3",
   "metadata": {},
   "source": [
    "# AG2 - Swarm"
   ]
  },
  {
   "cell_type": "markdown",
   "id": "d33e946e-02a2-4484-987b-290949edf270",
   "metadata": {},
   "source": [
    "## SETUP"
   ]
  },
  {
   "cell_type": "code",
   "execution_count": 1,
   "id": "a4283f64-7c07-4d9d-855c-8923e4b6ede0",
   "metadata": {},
   "outputs": [],
   "source": [
    "import os\n",
    "from dotenv import load_dotenv\n",
    "\n",
    "# Load environment variables\n",
    "load_dotenv()\n",
    "\n",
    "llm_config = {\n",
    "    \"api_type\": \"openai\",\n",
    "    \"model\": \"gpt-4o-mini\",\n",
    "    \"api_key\": os.environ[\"OPENAI_API_KEY\"]\n",
    "}"
   ]
  },
  {
   "cell_type": "markdown",
   "id": "208bd958-2cca-4af3-a8d4-a8762c6d479a",
   "metadata": {},
   "source": [
    "## Swarm"
   ]
  },
  {
   "cell_type": "code",
   "execution_count": 2,
   "id": "ef1d59ff-fc3a-4134-b2b3-570bf145d4cf",
   "metadata": {},
   "outputs": [],
   "source": [
    "from autogen import (\n",
    "    AssistantAgent,\n",
    "    UserProxyAgent,\n",
    "    AfterWork,\n",
    "    OnCondition,\n",
    "    AfterWorkOption,\n",
    "    initiate_swarm_chat,\n",
    "    register_hand_off,\n",
    ")\n",
    "\n",
    "# 1. Create agents\n",
    "teacher = AssistantAgent(\n",
    "    name=\"Teacher\",\n",
    "    system_message=\"You decide topics for lessons and work with planners and reviewers.\",\n",
    "    llm_config=llm_config,\n",
    ")\n",
    "\n",
    "planner = AssistantAgent(\n",
    "    name=\"Planner\",\n",
    "    system_message=\"You create detailed lesson plans based on topics.\",\n",
    "    llm_config=llm_config,\n",
    ")\n",
    "\n",
    "reviewer = AssistantAgent(\n",
    "    name=\"Reviewer\", \n",
    "    system_message=\"You review lesson plans against curriculum standards.\",\n",
    "    llm_config=llm_config,\n",
    ")\n",
    "\n",
    "# 2. Register handoffs between agents\n",
    "register_hand_off(\n",
    "    teacher,\n",
    "    [OnCondition(planner, \"Create a lesson plan.\")]\n",
    ")\n",
    "\n",
    "register_hand_off(\n",
    "    planner,\n",
    "    [OnCondition(reviewer, \"Review this lesson plan.\")]\n",
    ")\n",
    "\n",
    "register_hand_off(\n",
    "    reviewer,\n",
    "    [OnCondition(teacher, \"Provide feedback on the lesson plan.\"),\n",
    "     AfterWork(AfterWorkOption.TERMINATE)]\n",
    ")"
   ]
  },
  {
   "cell_type": "code",
   "execution_count": 3,
   "id": "8fa21af4-35b0-4ec0-9922-4de3b193aeb5",
   "metadata": {},
   "outputs": [
    {
     "name": "stdout",
     "output_type": "stream",
     "text": [
      "\u001b[33m_User\u001b[0m (to chat_manager):\n",
      "\n",
      "Let's create a lesson about the solar system.\n",
      "\n",
      "--------------------------------------------------------------------------------\n",
      "\u001b[32m\n",
      "Next speaker: Teacher\n",
      "\u001b[0m\n",
      "\u001b[33mTeacher\u001b[0m (to chat_manager):\n",
      "\n",
      "\u001b[32m***** Suggested tool call (call_WXDfjQzZFrXQ18bpD1RXkTer): transfer_Teacher_to_Planner *****\u001b[0m\n",
      "Arguments: \n",
      "{}\n",
      "\u001b[32m********************************************************************************************\u001b[0m\n",
      "\n",
      "--------------------------------------------------------------------------------\n",
      "\u001b[32m\n",
      "Next speaker: _Swarm_Tool_Executor\n",
      "\u001b[0m\n",
      "\u001b[35m\n",
      ">>>>>>>> EXECUTING FUNCTION transfer_Teacher_to_Planner...\n",
      "Call ID: call_WXDfjQzZFrXQ18bpD1RXkTer\n",
      "Input arguments: {}\u001b[0m\n",
      "\u001b[33m_Swarm_Tool_Executor\u001b[0m (to chat_manager):\n",
      "\n",
      "\u001b[32m***** Response from calling tool (call_WXDfjQzZFrXQ18bpD1RXkTer) *****\u001b[0m\n",
      "Swarm agent --> Planner\n",
      "\u001b[32m**********************************************************************\u001b[0m\n",
      "\n",
      "--------------------------------------------------------------------------------\n",
      "\u001b[32m\n",
      "Next speaker: Planner\n",
      "\u001b[0m\n",
      "\u001b[33mPlanner\u001b[0m (to chat_manager):\n",
      "\n",
      "Sure! Here's a detailed lesson plan for a unit on the Solar System:\n",
      "\n",
      "### Lesson Plan: The Solar System\n",
      "\n",
      "**Grade Level:** 4th - 6th Grade  \n",
      "**Duration:** 2 weeks (5 lessons)  \n",
      "**Subject:** Science  \n",
      "\n",
      "---\n",
      "\n",
      "#### **Objective:**\n",
      "Students will understand the structure of the Solar System, the characteristics of the planets, and the Sun's role in our Solar System.\n",
      "\n",
      "---\n",
      "\n",
      "### **Materials Needed:**\n",
      "- Books and articles about the Solar System\n",
      "- Poster boards and markers\n",
      "- Access to computers or tablets for research\n",
      "- Model Solar System kits (optional)\n",
      "- Projector and screen (for presentations)\n",
      "- Videos about planets and the Solar System\n",
      "\n",
      "---\n",
      "\n",
      "### **Standards Alignment:**\n",
      "- Next Generation Science Standards (NGSS): ESS1: Earth's Place in the Universe\n",
      "\n",
      "---\n",
      "\n",
      "### **Lesson Breakdown:**\n",
      "\n",
      "#### **Lesson 1: Introduction to the Solar System**\n",
      "- **Objective:** Introduce students to the Solar System and its components.\n",
      "- **Activities:** \n",
      "  - Discuss what a solar system is and why ours is unique.\n",
      "  - Create a KWL chart (Know, Want to know, Learned) about the solar system.\n",
      "  - Show a video that gives an overview of the Solar System.\n",
      "- **Homework:** Read a chapter about the Solar System from the textbook.\n",
      "\n",
      "---\n",
      "\n",
      "#### **Lesson 2: The Sun - Our Star**\n",
      "- **Objective:** Learn about the Sun and its properties.\n",
      "- **Activities:** \n",
      "  - Discuss the role of the Sun in the Solar System.\n",
      "  - Explore the structure (Core, Radiative zone, Convective zone, Photosphere, etc.).\n",
      "  - Experiment demonstrating solar energy (e.g., using a solar oven).\n",
      "- **Assessment:** Exit ticket: List three facts learned about the Sun.\n",
      "\n",
      "---\n",
      "\n",
      "#### **Lesson 3: The Inner Planets**\n",
      "- **Objective:** Understand the characteristics of Mercury, Venus, Earth, and Mars.\n",
      "- **Activities:** \n",
      "  - Research each planet in groups and create a mini-poster.\n",
      "  - Compare and contrast the inner planets through a Venn diagram.\n",
      "- **Homework:** Write a short paragraph about the most interesting inner planet.\n",
      "\n",
      "---\n",
      "\n",
      "#### **Lesson 4: The Outer Planets**\n",
      "- **Objective:** Explore the giant planets: Jupiter, Saturn, Uranus, and Neptune.\n",
      "- **Activities:**\n",
      "  - Present group posters in class.\n",
      "  - Create a chart comparing the sizes, atmospheres, and number of moons.\n",
      "- **Assessment:** Quiz on the characteristics of the outer planets.\n",
      "\n",
      "---\n",
      "\n",
      "#### **Lesson 5: The Solar System Model**\n",
      "- **Objective:** Create a model of the Solar System.\n",
      "- **Activities:**\n",
      "  - Students will work in groups to create a 3D model using various materials (foam balls, paper, etc.).\n",
      "  - Present the models and explain each planet’s characteristics.\n",
      "  - Discuss dwarf planets and other celestial bodies (asteroids, comets).\n",
      "- **Assessment:** Peer evaluation of group presentations and models.\n",
      "\n",
      "---\n",
      "\n",
      "### **Reflection and Evaluation:**\n",
      "- Discuss what they learned and found most interesting about the Solar System.\n",
      "- Provide a short quiz covering key concepts learned throughout the unit.\n",
      "\n",
      "### **Extensions:**\n",
      "- Field trip to a planetarium or science center.\n",
      "- Invite an astronomer or science educator to speak about astronomy.\n",
      "\n",
      "### **Adaptations:**\n",
      "- For advanced students, include additional research on exoplanets.\n",
      "- For students needing support, provide a planet research template.\n",
      "\n",
      "---\n",
      "\n",
      "This lesson plan provides a comprehensive overview of the Solar System and engages students in a variety of learning activities. Let me know if you need any additional details or adjustments!\n",
      "\n",
      "--------------------------------------------------------------------------------\n"
     ]
    }
   ],
   "source": [
    "# 3. Start the swarm chat\n",
    "chat_result, context_variables, last_agent = initiate_swarm_chat(\n",
    "    initial_agent=teacher,\n",
    "    agents=[teacher, planner, reviewer],\n",
    "    messages=\"Let's create a lesson about the solar system.\",\n",
    ")"
   ]
  },
  {
   "cell_type": "markdown",
   "id": "a4b26681-8f6a-45f2-9079-855ccf7f4dbf",
   "metadata": {},
   "source": [
    "## ChatResult"
   ]
  },
  {
   "cell_type": "code",
   "execution_count": 9,
   "id": "714d1100-ea16-4fc8-a743-26dc988022ed",
   "metadata": {},
   "outputs": [
    {
     "name": "stdout",
     "output_type": "stream",
     "text": [
      "<class 'autogen.agentchat.chat.ChatResult'>\n",
      "<class 'NoneType'>\n",
      "<class 'autogen.agentchat.assistant_agent.AssistantAgent'>\n"
     ]
    }
   ],
   "source": [
    "print(type(chat_result))\n",
    "print(type(context_variables))\n",
    "print(type(last_agent))"
   ]
  },
  {
   "cell_type": "code",
   "execution_count": 10,
   "id": "65a9e93d-c641-473f-9ff8-86000c251758",
   "metadata": {},
   "outputs": [
    {
     "name": "stdout",
     "output_type": "stream",
     "text": [
      "None\n",
      "{'usage_including_cached_inference': {'total_cost': 0}, 'usage_excluding_cached_inference': {'total_cost': 0}}\n",
      "4\n"
     ]
    }
   ],
   "source": [
    "print(chat_result.chat_id)\n",
    "print(chat_result.cost)\n",
    "print(len(chat_result.chat_history))"
   ]
  },
  {
   "cell_type": "code",
   "execution_count": 11,
   "id": "b0568b0b-5550-4fab-afa5-12e56306ebe6",
   "metadata": {},
   "outputs": [
    {
     "name": "stdout",
     "output_type": "stream",
     "text": [
      "None\n"
     ]
    }
   ],
   "source": [
    "print(context_variables)"
   ]
  },
  {
   "cell_type": "code",
   "execution_count": 12,
   "id": "73500480-ab31-4cc0-ba76-53bee65743c7",
   "metadata": {},
   "outputs": [
    {
     "name": "stdout",
     "output_type": "stream",
     "text": [
      "Swarm agent --> Planner\n"
     ]
    }
   ],
   "source": [
    "print(last_agent)"
   ]
  },
  {
   "cell_type": "code",
   "execution_count": 13,
   "id": "c8264216-be10-49c6-a446-5e4e6e261bd5",
   "metadata": {},
   "outputs": [
    {
     "name": "stdout",
     "output_type": "stream",
     "text": [
      "Sure! Here's a detailed lesson plan for a unit on the Solar System:\n",
      "\n",
      "### Lesson Plan: The Solar System\n",
      "\n",
      "**Grade Level:** 4th - 6th Grade  \n",
      "**Duration:** 2 weeks (5 lessons)  \n",
      "**Subject:** Science  \n",
      "\n",
      "---\n",
      "\n",
      "#### **Objective:**\n",
      "Students will understand the structure of the Solar System, the characteristics of the planets, and the Sun's role in our Solar System.\n",
      "\n",
      "---\n",
      "\n",
      "### **Materials Needed:**\n",
      "- Books and articles about the Solar System\n",
      "- Poster boards and markers\n",
      "- Access to computers or tablets for research\n",
      "- Model Solar System kits (optional)\n",
      "- Projector and screen (for presentations)\n",
      "- Videos about planets and the Solar System\n",
      "\n",
      "---\n",
      "\n",
      "### **Standards Alignment:**\n",
      "- Next Generation Science Standards (NGSS): ESS1: Earth's Place in the Universe\n",
      "\n",
      "---\n",
      "\n",
      "### **Lesson Breakdown:**\n",
      "\n",
      "#### **Lesson 1: Introduction to the Solar System**\n",
      "- **Objective:** Introduce students to the Solar System and its components.\n",
      "- **Activities:** \n",
      "  - Discuss what a solar system is and why ours is unique.\n",
      "  - Create a KWL chart (Know, Want to know, Learned) about the solar system.\n",
      "  - Show a video that gives an overview of the Solar System.\n",
      "- **Homework:** Read a chapter about the Solar System from the textbook.\n",
      "\n",
      "---\n",
      "\n",
      "#### **Lesson 2: The Sun - Our Star**\n",
      "- **Objective:** Learn about the Sun and its properties.\n",
      "- **Activities:** \n",
      "  - Discuss the role of the Sun in the Solar System.\n",
      "  - Explore the structure (Core, Radiative zone, Convective zone, Photosphere, etc.).\n",
      "  - Experiment demonstrating solar energy (e.g., using a solar oven).\n",
      "- **Assessment:** Exit ticket: List three facts learned about the Sun.\n",
      "\n",
      "---\n",
      "\n",
      "#### **Lesson 3: The Inner Planets**\n",
      "- **Objective:** Understand the characteristics of Mercury, Venus, Earth, and Mars.\n",
      "- **Activities:** \n",
      "  - Research each planet in groups and create a mini-poster.\n",
      "  - Compare and contrast the inner planets through a Venn diagram.\n",
      "- **Homework:** Write a short paragraph about the most interesting inner planet.\n",
      "\n",
      "---\n",
      "\n",
      "#### **Lesson 4: The Outer Planets**\n",
      "- **Objective:** Explore the giant planets: Jupiter, Saturn, Uranus, and Neptune.\n",
      "- **Activities:**\n",
      "  - Present group posters in class.\n",
      "  - Create a chart comparing the sizes, atmospheres, and number of moons.\n",
      "- **Assessment:** Quiz on the characteristics of the outer planets.\n",
      "\n",
      "---\n",
      "\n",
      "#### **Lesson 5: The Solar System Model**\n",
      "- **Objective:** Create a model of the Solar System.\n",
      "- **Activities:**\n",
      "  - Students will work in groups to create a 3D model using various materials (foam balls, paper, etc.).\n",
      "  - Present the models and explain each planet’s characteristics.\n",
      "  - Discuss dwarf planets and other celestial bodies (asteroids, comets).\n",
      "- **Assessment:** Peer evaluation of group presentations and models.\n",
      "\n",
      "---\n",
      "\n",
      "### **Reflection and Evaluation:**\n",
      "- Discuss what they learned and found most interesting about the Solar System.\n",
      "- Provide a short quiz covering key concepts learned throughout the unit.\n",
      "\n",
      "### **Extensions:**\n",
      "- Field trip to a planetarium or science center.\n",
      "- Invite an astronomer or science educator to speak about astronomy.\n",
      "\n",
      "### **Adaptations:**\n",
      "- For advanced students, include additional research on exoplanets.\n",
      "- For students needing support, provide a planet research template.\n",
      "\n",
      "---\n",
      "\n",
      "This lesson plan provides a comprehensive overview of the Solar System and engages students in a variety of learning activities. Let me know if you need any additional details or adjustments!\n"
     ]
    }
   ],
   "source": [
    "print(chat_result.summary)"
   ]
  },
  {
   "cell_type": "code",
   "execution_count": 14,
   "id": "889687e9-d1dd-4f1a-8502-7ae30495f4ce",
   "metadata": {},
   "outputs": [
    {
     "name": "stdout",
     "output_type": "stream",
     "text": [
      "[{'content': \"Let's create a lesson about the solar system.\", 'role': 'assistant'}, {'content': 'None', 'tool_calls': [{'id': 'call_WXDfjQzZFrXQ18bpD1RXkTer', 'function': {'arguments': '{}', 'name': 'transfer_Teacher_to_Planner'}, 'type': 'function'}], 'name': 'Teacher', 'role': 'assistant'}, {'content': 'Swarm agent --> Planner', 'tool_responses': [{'tool_call_id': 'call_WXDfjQzZFrXQ18bpD1RXkTer', 'role': 'tool', 'content': 'Swarm agent --> Planner'}], 'name': '_Swarm_Tool_Executor', 'role': 'tool'}, {'content': \"Sure! Here's a detailed lesson plan for a unit on the Solar System:\\n\\n### Lesson Plan: The Solar System\\n\\n**Grade Level:** 4th - 6th Grade  \\n**Duration:** 2 weeks (5 lessons)  \\n**Subject:** Science  \\n\\n---\\n\\n#### **Objective:**\\nStudents will understand the structure of the Solar System, the characteristics of the planets, and the Sun's role in our Solar System.\\n\\n---\\n\\n### **Materials Needed:**\\n- Books and articles about the Solar System\\n- Poster boards and markers\\n- Access to computers or tablets for research\\n- Model Solar System kits (optional)\\n- Projector and screen (for presentations)\\n- Videos about planets and the Solar System\\n\\n---\\n\\n### **Standards Alignment:**\\n- Next Generation Science Standards (NGSS): ESS1: Earth's Place in the Universe\\n\\n---\\n\\n### **Lesson Breakdown:**\\n\\n#### **Lesson 1: Introduction to the Solar System**\\n- **Objective:** Introduce students to the Solar System and its components.\\n- **Activities:** \\n  - Discuss what a solar system is and why ours is unique.\\n  - Create a KWL chart (Know, Want to know, Learned) about the solar system.\\n  - Show a video that gives an overview of the Solar System.\\n- **Homework:** Read a chapter about the Solar System from the textbook.\\n\\n---\\n\\n#### **Lesson 2: The Sun - Our Star**\\n- **Objective:** Learn about the Sun and its properties.\\n- **Activities:** \\n  - Discuss the role of the Sun in the Solar System.\\n  - Explore the structure (Core, Radiative zone, Convective zone, Photosphere, etc.).\\n  - Experiment demonstrating solar energy (e.g., using a solar oven).\\n- **Assessment:** Exit ticket: List three facts learned about the Sun.\\n\\n---\\n\\n#### **Lesson 3: The Inner Planets**\\n- **Objective:** Understand the characteristics of Mercury, Venus, Earth, and Mars.\\n- **Activities:** \\n  - Research each planet in groups and create a mini-poster.\\n  - Compare and contrast the inner planets through a Venn diagram.\\n- **Homework:** Write a short paragraph about the most interesting inner planet.\\n\\n---\\n\\n#### **Lesson 4: The Outer Planets**\\n- **Objective:** Explore the giant planets: Jupiter, Saturn, Uranus, and Neptune.\\n- **Activities:**\\n  - Present group posters in class.\\n  - Create a chart comparing the sizes, atmospheres, and number of moons.\\n- **Assessment:** Quiz on the characteristics of the outer planets.\\n\\n---\\n\\n#### **Lesson 5: The Solar System Model**\\n- **Objective:** Create a model of the Solar System.\\n- **Activities:**\\n  - Students will work in groups to create a 3D model using various materials (foam balls, paper, etc.).\\n  - Present the models and explain each planet’s characteristics.\\n  - Discuss dwarf planets and other celestial bodies (asteroids, comets).\\n- **Assessment:** Peer evaluation of group presentations and models.\\n\\n---\\n\\n### **Reflection and Evaluation:**\\n- Discuss what they learned and found most interesting about the Solar System.\\n- Provide a short quiz covering key concepts learned throughout the unit.\\n\\n### **Extensions:**\\n- Field trip to a planetarium or science center.\\n- Invite an astronomer or science educator to speak about astronomy.\\n\\n### **Adaptations:**\\n- For advanced students, include additional research on exoplanets.\\n- For students needing support, provide a planet research template.\\n\\n---\\n\\nThis lesson plan provides a comprehensive overview of the Solar System and engages students in a variety of learning activities. Let me know if you need any additional details or adjustments!\", 'name': 'Planner', 'role': 'user'}]\n"
     ]
    }
   ],
   "source": [
    "print(chat_result.chat_history)"
   ]
  }
 ],
 "metadata": {
  "kernelspec": {
   "display_name": "Python 3 (ipykernel)",
   "language": "python",
   "name": "python3"
  },
  "language_info": {
   "codemirror_mode": {
    "name": "ipython",
    "version": 3
   },
   "file_extension": ".py",
   "mimetype": "text/x-python",
   "name": "python",
   "nbconvert_exporter": "python",
   "pygments_lexer": "ipython3",
   "version": "3.11.4"
  }
 },
 "nbformat": 4,
 "nbformat_minor": 5
}
