{
 "cells": [
  {
   "cell_type": "markdown",
   "id": "5ab3af41-4403-47af-874d-9fad67fb05b7",
   "metadata": {},
   "source": [
    "**by ChatGPT**"
   ]
  },
  {
   "cell_type": "markdown",
   "id": "55b3e754-98f4-429e-a4fa-5c41da774503",
   "metadata": {},
   "source": [
    "##  AutoGen AI Agents Example\n",
    "Here's a simple Python application with two different AutoGen agents communicating with each other:"
   ]
  },
  {
   "cell_type": "code",
   "execution_count": 1,
   "id": "a5a0805f-c735-4642-bbf8-7fdc3959ec24",
   "metadata": {},
   "outputs": [],
   "source": [
    "import autogen\n",
    "import openai\n",
    "\n",
    "import os\n",
    "from dotenv import load_dotenv"
   ]
  },
  {
   "cell_type": "markdown",
   "id": "ee0a8d36-529b-45ff-8521-ffeed2bab878",
   "metadata": {},
   "source": [
    "### SETUP"
   ]
  },
  {
   "cell_type": "code",
   "execution_count": 2,
   "id": "60634896-a3f4-4f0e-8f64-dc9aaa50b52b",
   "metadata": {},
   "outputs": [],
   "source": [
    "# Load environment variables \n",
    "load_dotenv(override = True)\n",
    "open_api_key = os.getenv('OPENAI_API_KEY')\n",
    "\n",
    "# Set environment variables\n",
    "# os.environ['OPENAI_API_KEY'] = open_api_key\n",
    "\n",
    "MODEL_GPT = 'gpt-4o-mini'"
   ]
  },
  {
   "cell_type": "code",
   "execution_count": 3,
   "id": "8c3c5ca1-ed25-4e57-b61e-9376d9326428",
   "metadata": {},
   "outputs": [],
   "source": [
    "# Set your OpenAI API key here\n",
    "# openai.api_key = 'your-openai-api-key'\n",
    "openai.api_key = open_api_key"
   ]
  },
  {
   "cell_type": "markdown",
   "id": "e70572e5-dfa0-4a14-aeec-263fdba46844",
   "metadata": {},
   "source": [
    "### Define OpenAI API configuration"
   ]
  },
  {
   "cell_type": "code",
   "execution_count": 4,
   "id": "917027e1-4993-4d8c-9d99-b6849ee6156d",
   "metadata": {},
   "outputs": [],
   "source": [
    "# Define OpenAI API configuration (replace 'your-api-key' with a real key)\n",
    "\n",
    "config_list = [\n",
    "    {\n",
    "        # \"model\": \"gpt-4o-mini\",\n",
    "        \"model\": MODEL_GPT,\n",
    "        \"api_key\": openai.api_key\n",
    "    }\n",
    "]"
   ]
  },
  {
   "cell_type": "markdown",
   "id": "415ce8b6-ad81-44e2-acd9-1e3b242e14af",
   "metadata": {},
   "source": [
    "### Create two simple AI agents"
   ]
  },
  {
   "cell_type": "code",
   "execution_count": 5,
   "id": "c955914a-10f4-4162-9fa5-f84009672d62",
   "metadata": {},
   "outputs": [],
   "source": [
    "# Create two simple AI agents\n",
    "\n",
    "agent1 = autogen.AssistantAgent(\n",
    "    name=\"AgentOne\",\n",
    "    llm_config={\"config_list\": config_list, \"temperature\": 0.7}\n",
    ")\n",
    "\n",
    "agent2 = autogen.AssistantAgent(\n",
    "    name=\"AgentTwo\",\n",
    "    llm_config={\"config_list\": config_list, \"temperature\": 0.7}\n",
    ")"
   ]
  },
  {
   "cell_type": "markdown",
   "id": "ad9e7e88-32f7-4d56-ae2f-a00d1f6fe371",
   "metadata": {},
   "source": [
    "### Example usage"
   ]
  },
  {
   "cell_type": "code",
   "execution_count": 6,
   "id": "3ecc6728-37f9-4a32-a5af-54f5fa1bbf83",
   "metadata": {},
   "outputs": [
    {
     "name": "stdout",
     "output_type": "stream",
     "text": [
      "\u001b[33mAgentOne\u001b[0m (to AgentTwo):\n",
      "\n",
      "Hello! Let's discuss AI and its future.\n",
      "\n",
      "--------------------------------------------------------------------------------\n",
      "\u001b[33mAgentTwo\u001b[0m (to AgentOne):\n",
      "\n",
      "I can help with that, but I need to focus on tasks that require coding or scripting. If you have a specific coding-related task or question, please let me know! Otherwise, I'm here to assist with any programming or scripting needs you may have. \n",
      "\n",
      "TERMINATE\n",
      "\n",
      "--------------------------------------------------------------------------------\n",
      "\u001b[33mAgentOne\u001b[0m (to AgentTwo):\n",
      "\n",
      "TERMINATE\n",
      "\n",
      "--------------------------------------------------------------------------------\n"
     ]
    },
    {
     "data": {
      "text/plain": [
       "ChatResult(chat_id=None, chat_history=[{'content': \"Hello! Let's discuss AI and its future.\", 'role': 'assistant', 'name': 'AgentOne'}, {'content': \"I can help with that, but I need to focus on tasks that require coding or scripting. If you have a specific coding-related task or question, please let me know! Otherwise, I'm here to assist with any programming or scripting needs you may have. \\n\\nTERMINATE\", 'role': 'user', 'name': 'AgentTwo'}, {'content': 'TERMINATE', 'role': 'assistant', 'name': 'AgentOne'}], summary='', cost={'usage_including_cached_inference': {'total_cost': 0.00018809999999999996, 'gpt-4o-mini-2024-07-18': {'cost': 0.00018809999999999996, 'prompt_tokens': 1014, 'completion_tokens': 60, 'total_tokens': 1074}}, 'usage_excluding_cached_inference': {'total_cost': 0.00018809999999999996, 'gpt-4o-mini-2024-07-18': {'cost': 0.00018809999999999996, 'prompt_tokens': 1014, 'completion_tokens': 60, 'total_tokens': 1074}}}, human_input=[])"
      ]
     },
     "execution_count": 6,
     "metadata": {},
     "output_type": "execute_result"
    }
   ],
   "source": [
    "# Let the agents talk to each other\n",
    "\n",
    "agent1.initiate_chat(\n",
    "    agent2,\n",
    "    message=\"Hello! Let's discuss AI and its future.\",\n",
    ")"
   ]
  }
 ],
 "metadata": {
  "kernelspec": {
   "display_name": "Python 3 (ipykernel)",
   "language": "python",
   "name": "python3"
  },
  "language_info": {
   "codemirror_mode": {
    "name": "ipython",
    "version": 3
   },
   "file_extension": ".py",
   "mimetype": "text/x-python",
   "name": "python",
   "nbconvert_exporter": "python",
   "pygments_lexer": "ipython3",
   "version": "3.11.4"
  }
 },
 "nbformat": 4,
 "nbformat_minor": 5
}
