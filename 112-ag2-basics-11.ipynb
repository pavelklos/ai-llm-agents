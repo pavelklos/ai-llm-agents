{
 "cells": [
  {
   "cell_type": "markdown",
   "id": "accbde67-9c7e-41b0-9329-8052e2ef365b",
   "metadata": {},
   "source": [
    "# AG2: Tools (Interoperability) (PydanticAI Tools Integration)"
   ]
  },
  {
   "cell_type": "markdown",
   "id": "5cb42466-306d-49b1-b814-6674b60451e4",
   "metadata": {},
   "source": [
    "- PydanticAI Tools Integration<br>\n",
    "  - https://docs.ag2.ai/docs/user-guide/basic-concepts/tools/interop/pydanticai"
   ]
  },
  {
   "cell_type": "markdown",
   "id": "fa1039ae-8255-4ec0-8c3a-2757a8f0ae95",
   "metadata": {},
   "source": [
    "## SETUP"
   ]
  },
  {
   "cell_type": "code",
   "execution_count": 1,
   "id": "0ce6eafa-f6ef-4ff1-8d54-17b4fcb71612",
   "metadata": {},
   "outputs": [],
   "source": [
    "import os\n",
    "from dotenv import load_dotenv\n",
    "\n",
    "# Load environment variables (for API key)\n",
    "load_dotenv()\n",
    "\n",
    "# Set up OpenAI API key\n",
    "api_key = os.getenv(\"OPENAI_API_KEY\")\n",
    "if not api_key:\n",
    "    raise ValueError(\"Please set the OPENAI_API_KEY environment variable or add it to a .env file\")\n",
    "\n",
    "# Define the model to use\n",
    "MODEL_GPT = \"gpt-4o-mini\""
   ]
  },
  {
   "cell_type": "markdown",
   "id": "6d4b3d85-1129-4a0a-8d09-3048a0f4b7aa",
   "metadata": {},
   "source": [
    "## PydanticAI Tools Integration"
   ]
  },
  {
   "cell_type": "markdown",
   "id": "ec3b24e0-6fdf-403b-9917-8ec2aba4574b",
   "metadata": {},
   "source": [
    "### Introduction\n",
    "- PydanticAI\n",
    "  - https://ai.pydantic.dev/"
   ]
  },
  {
   "cell_type": "markdown",
   "id": "00491ee0-d928-4bf0-ad32-86ce14af0d94",
   "metadata": {},
   "source": [
    "### Installation"
   ]
  },
  {
   "cell_type": "markdown",
   "id": "001268c8-37fd-4d7e-955c-8a85ba6a682a",
   "metadata": {},
   "source": [
    "```python\n",
    "pip install ag2[openai,interop-pydantic-ai]\n",
    "```"
   ]
  },
  {
   "cell_type": "markdown",
   "id": "5ab39a2e-5ee4-4b97-85b2-540a3764e8af",
   "metadata": {},
   "source": [
    "### Imports"
   ]
  },
  {
   "cell_type": "code",
   "execution_count": 2,
   "id": "1a777005-db0a-4c39-9caf-fd0cab524655",
   "metadata": {},
   "outputs": [],
   "source": [
    "import os\n",
    "from typing import Optional\n",
    "\n",
    "from pydantic import BaseModel\n",
    "from pydantic_ai import RunContext\n",
    "from pydantic_ai.tools import Tool as PydanticAITool\n",
    "\n",
    "# from autogen import AssistantAgent, UserProxyAgent, LLMConfig\n",
    "from autogen import AssistantAgent, UserProxyAgent\n",
    "from autogen.interop import Interoperability"
   ]
  },
  {
   "cell_type": "markdown",
   "id": "12be40fe-4d9f-4c2d-b1cd-90310da0c0fb",
   "metadata": {},
   "source": [
    "### Agent Configuration"
   ]
  },
  {
   "cell_type": "code",
   "execution_count": 3,
   "id": "764cd8bf-a76e-4496-ad71-d5d2ba34c3ed",
   "metadata": {},
   "outputs": [],
   "source": [
    "# config_list = [{\"api_type\": \"openai\", \"model\": \"gpt-4o\", \"api_key\": os.environ[\"OPENAI_API_KEY\"]}]\n",
    "config_list = {\"api_type\": \"openai\", \"model\": \"gpt-4o-mini\", \"api_key\": os.environ[\"OPENAI_API_KEY\"]}\n",
    "user_proxy = UserProxyAgent(\n",
    "    name=\"User\",\n",
    "    human_input_mode=\"NEVER\",\n",
    "    code_execution_config={\n",
    "        \"work_dir\": \"coding_work\",\n",
    "        \"use_docker\": False,  # Set to True if you want to use Docker\n",
    "    }\n",
    ")\n",
    "\n",
    "chatbot = AssistantAgent(\n",
    "    name=\"chatbot\",\n",
    "    # llm_config=LLMConfig(config_list=config_list),\n",
    "    llm_config=config_list,\n",
    ")"
   ]
  },
  {
   "cell_type": "markdown",
   "id": "66fafa35-43a3-455a-8c40-e820a17bac48",
   "metadata": {},
   "source": [
    "### Tool Integration"
   ]
  },
  {
   "cell_type": "code",
   "execution_count": 4,
   "id": "0d3ce8f2-27cc-4548-aff0-fb7d14636fc2",
   "metadata": {},
   "outputs": [],
   "source": [
    "class Player(BaseModel):\n",
    "    name: str\n",
    "    age: int\n",
    "\n",
    "\n",
    "def get_player(ctx: RunContext[Player], additional_info: Optional[str] = None) -> str:  # type: ignore[valid-type]\n",
    "    \"\"\"Get the player's name.\n",
    "\n",
    "    Args:\n",
    "        additional_info: Additional information which can be used.\n",
    "    \"\"\"\n",
    "    return f\"Name: {ctx.deps.name}, Age: {ctx.deps.age}, Additional info: {additional_info}\"  # type: ignore[attr-defined]\n",
    "\n",
    "\n",
    "interop = Interoperability()\n",
    "pydantic_ai_tool = PydanticAITool(get_player, takes_ctx=True)\n",
    "\n",
    "# player will be injected as a dependency\n",
    "player = Player(name=\"Luka\", age=25)\n",
    "ag2_tool = interop.convert_tool(tool=pydantic_ai_tool, type=\"pydanticai\", deps=player)\n",
    "\n",
    "ag2_tool.register_for_execution(user_proxy)\n",
    "ag2_tool.register_for_llm(chatbot)"
   ]
  },
  {
   "cell_type": "markdown",
   "id": "86e0b002-c6ec-4f14-8173-d470bf37f770",
   "metadata": {},
   "source": [
    "### Initiating the Chat"
   ]
  },
  {
   "cell_type": "code",
   "execution_count": 5,
   "id": "56a45bee-cec1-4a9d-8175-230b46edc799",
   "metadata": {},
   "outputs": [],
   "source": [
    "message = \"Get player, for additional information use 'goal keeper'\""
   ]
  },
  {
   "cell_type": "code",
   "execution_count": 6,
   "id": "1b534160-1d12-4526-9d11-85d82c9ff23c",
   "metadata": {},
   "outputs": [
    {
     "name": "stdout",
     "output_type": "stream",
     "text": [
      "\u001b[33mUser\u001b[0m (to chatbot):\n",
      "\n",
      "Get player, for additional information use 'goal keeper'\n",
      "\n",
      "--------------------------------------------------------------------------------\n",
      "\u001b[33mchatbot\u001b[0m (to User):\n",
      "\n",
      "\u001b[32m***** Suggested tool call (call_P9IMI7WI1nmOeACBJXjlydBC): get_player *****\u001b[0m\n",
      "Arguments: \n",
      "{\"additional_info\":\"goal keeper\"}\n",
      "\u001b[32m***************************************************************************\u001b[0m\n",
      "\n",
      "--------------------------------------------------------------------------------\n",
      "\u001b[35m\n",
      ">>>>>>>> EXECUTING FUNCTION get_player...\n",
      "Call ID: call_P9IMI7WI1nmOeACBJXjlydBC\n",
      "Input arguments: {'additional_info': 'goal keeper'}\u001b[0m\n",
      "\u001b[33mUser\u001b[0m (to chatbot):\n",
      "\n",
      "\u001b[32m***** Response from calling tool (call_P9IMI7WI1nmOeACBJXjlydBC) *****\u001b[0m\n",
      "Name: Luka, Age: 25, Additional info: goal keeper\n",
      "\u001b[32m**********************************************************************\u001b[0m\n",
      "\n",
      "--------------------------------------------------------------------------------\n",
      "\u001b[33mchatbot\u001b[0m (to User):\n",
      "\n",
      "The player's name is Luka, he is 25 years old, and he plays as a goal keeper.\n",
      "\n",
      "TERMINATE\n",
      "\n",
      "--------------------------------------------------------------------------------\n",
      "\u001b[33mUser\u001b[0m (to chatbot):\n",
      "\n",
      "\n",
      "\n",
      "--------------------------------------------------------------------------------\n",
      "\u001b[33mchatbot\u001b[0m (to User):\n",
      "\n",
      "TERMINATE\n",
      "\n",
      "--------------------------------------------------------------------------------\n"
     ]
    }
   ],
   "source": [
    "chat_result = user_proxy.initiate_chat(recipient=chatbot, message=message, max_turns=3)"
   ]
  },
  {
   "cell_type": "markdown",
   "id": "2786cbd2-fee4-49c6-9990-4dc697a30a67",
   "metadata": {},
   "source": [
    "### Output"
   ]
  },
  {
   "cell_type": "code",
   "execution_count": 7,
   "id": "05fd5ff7-74d1-407c-a4fe-2b4d12364f0c",
   "metadata": {},
   "outputs": [
    {
     "name": "stdout",
     "output_type": "stream",
     "text": [
      "\n"
     ]
    }
   ],
   "source": [
    "print(chat_result.summary)"
   ]
  },
  {
   "cell_type": "code",
   "execution_count": 8,
   "id": "737e8856-e06a-4b8e-b5d2-071c8318095f",
   "metadata": {},
   "outputs": [
    {
     "name": "stdout",
     "output_type": "stream",
     "text": [
      "6\n",
      "[{'content': \"Get player, for additional information use 'goal keeper'\", 'role': 'assistant', 'name': 'User'}, {'tool_calls': [{'id': 'call_P9IMI7WI1nmOeACBJXjlydBC', 'function': {'arguments': '{\"additional_info\":\"goal keeper\"}', 'name': 'get_player'}, 'type': 'function'}], 'content': None, 'role': 'assistant'}, {'content': 'Name: Luka, Age: 25, Additional info: goal keeper', 'tool_responses': [{'tool_call_id': 'call_P9IMI7WI1nmOeACBJXjlydBC', 'role': 'tool', 'content': 'Name: Luka, Age: 25, Additional info: goal keeper'}], 'role': 'tool', 'name': 'User'}, {'content': \"The player's name is Luka, he is 25 years old, and he plays as a goal keeper.\\n\\nTERMINATE\", 'role': 'user', 'name': 'chatbot'}, {'content': '', 'role': 'assistant', 'name': 'User'}, {'content': 'TERMINATE', 'role': 'user', 'name': 'chatbot'}]\n"
     ]
    }
   ],
   "source": [
    "print(len(chat_result.chat_history))\n",
    "# print(chat_result.chat_history[0])\n",
    "# print(chat_result.chat_history[-1])\n",
    "print(chat_result.chat_history)"
   ]
  }
 ],
 "metadata": {
  "kernelspec": {
   "display_name": "Python 3 (ipykernel)",
   "language": "python",
   "name": "python3"
  },
  "language_info": {
   "codemirror_mode": {
    "name": "ipython",
    "version": 3
   },
   "file_extension": ".py",
   "mimetype": "text/x-python",
   "name": "python",
   "nbconvert_exporter": "python",
   "pygments_lexer": "ipython3",
   "version": "3.11.4"
  }
 },
 "nbformat": 4,
 "nbformat_minor": 5
}
