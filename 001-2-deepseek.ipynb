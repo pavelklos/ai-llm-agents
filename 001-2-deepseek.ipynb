{
 "cells": [
  {
   "cell_type": "markdown",
   "id": "5ab3af41-4403-47af-874d-9fad67fb05b7",
   "metadata": {},
   "source": [
    "**by DeepSeek**"
   ]
  },
  {
   "cell_type": "markdown",
   "id": "55b3e754-98f4-429e-a4fa-5c41da774503",
   "metadata": {},
   "source": [
    "##  AutoGen AI Agents Example\n",
    "Here's a simple Python application with two different AutoGen agents communicating with each other:"
   ]
  },
  {
   "cell_type": "code",
   "execution_count": 1,
   "id": "a5a0805f-c735-4642-bbf8-7fdc3959ec24",
   "metadata": {},
   "outputs": [],
   "source": [
    "import autogen\n",
    "import openai\n",
    "\n",
    "import os\n",
    "from dotenv import load_dotenv"
   ]
  },
  {
   "cell_type": "markdown",
   "id": "ee0a8d36-529b-45ff-8521-ffeed2bab878",
   "metadata": {},
   "source": [
    "### SETUP"
   ]
  },
  {
   "cell_type": "code",
   "execution_count": 2,
   "id": "60634896-a3f4-4f0e-8f64-dc9aaa50b52b",
   "metadata": {},
   "outputs": [],
   "source": [
    "# Load environment variables \n",
    "load_dotenv(override = True)\n",
    "open_api_key = os.getenv('OPENAI_API_KEY')\n",
    "\n",
    "# Set environment variables\n",
    "# os.environ['OPENAI_API_KEY'] = open_api_key\n",
    "\n",
    "MODEL_GPT = 'gpt-4o-mini'"
   ]
  },
  {
   "cell_type": "code",
   "execution_count": 3,
   "id": "8c3c5ca1-ed25-4e57-b61e-9376d9326428",
   "metadata": {},
   "outputs": [],
   "source": [
    "# Set your OpenAI API key here\n",
    "# openai.api_key = 'your-openai-api-key'\n",
    "openai.api_key = open_api_key"
   ]
  },
  {
   "cell_type": "markdown",
   "id": "e70572e5-dfa0-4a14-aeec-263fdba46844",
   "metadata": {},
   "source": [
    "### Configuration for the OpenAI GPT-4 model"
   ]
  },
  {
   "cell_type": "code",
   "execution_count": 4,
   "id": "917027e1-4993-4d8c-9d99-b6849ee6156d",
   "metadata": {},
   "outputs": [],
   "source": [
    "# Configuration for the OpenAI GPT-4 model\n",
    "\n",
    "config_list = [\n",
    "    {\n",
    "        # 'model': 'gpt-4',\n",
    "        'model': MODEL_GPT,\n",
    "        'api_key': openai.api_key,\n",
    "    }\n",
    "]"
   ]
  },
  {
   "cell_type": "markdown",
   "id": "415ce8b6-ad81-44e2-acd9-1e3b242e14af",
   "metadata": {},
   "source": [
    "### Create the first agent"
   ]
  },
  {
   "cell_type": "code",
   "execution_count": 5,
   "id": "c955914a-10f4-4162-9fa5-f84009672d62",
   "metadata": {},
   "outputs": [],
   "source": [
    "# Create the first agent\n",
    "\n",
    "agent1 = autogen.AssistantAgent(\n",
    "    name=\"Agent1\",\n",
    "    llm_config={\n",
    "        \"config_list\": config_list,\n",
    "    }\n",
    ")"
   ]
  },
  {
   "cell_type": "markdown",
   "id": "7003b2c1-833c-43ad-a5a6-d17d62293295",
   "metadata": {},
   "source": [
    "### Create the second agent"
   ]
  },
  {
   "cell_type": "code",
   "execution_count": 6,
   "id": "8ca1a7bc-307f-41f6-8c8a-318a628cba25",
   "metadata": {},
   "outputs": [],
   "source": [
    "# Create the second agent\n",
    "\n",
    "agent2 = autogen.AssistantAgent(\n",
    "    name=\"Agent2\",\n",
    "    llm_config={\n",
    "        \"config_list\": config_list,\n",
    "    }\n",
    ")"
   ]
  },
  {
   "cell_type": "markdown",
   "id": "692cd2fd-a7b2-4dab-8f4a-c54d34ac0744",
   "metadata": {},
   "source": [
    "### Define a function to initiate a conversation between the two agents"
   ]
  },
  {
   "cell_type": "code",
   "execution_count": 7,
   "id": "c70b6ca7-1cb4-4e74-9189-9293a6bea774",
   "metadata": {},
   "outputs": [],
   "source": [
    "# Define a function to initiate a conversation between the two agents\n",
    "\n",
    "def chat_between_agents(agent1, agent2, message):\n",
    "    # Initialize a chat between Agent1 and Agent2\n",
    "    chat = autogen.GroupChat(agents=[agent1, agent2], messages=[])\n",
    "    \n",
    "    # Create a group chat manager with an LLM configuration\n",
    "    manager = autogen.GroupChatManager(\n",
    "        groupchat=chat,\n",
    "        llm_config={\"config_list\": config_list},  # Provide LLM config here\n",
    "    )\n",
    "    \n",
    "    # Agent1 initiates the conversation\n",
    "    agent1.initiate_chat(manager, message=message)\n",
    "    \n",
    "    # Return the last message in the chat (Agent2's response)\n",
    "    return chat.messages[-1][\"content\"]"
   ]
  },
  {
   "cell_type": "markdown",
   "id": "ad9e7e88-32f7-4d56-ae2f-a00d1f6fe371",
   "metadata": {},
   "source": [
    "### Example usage"
   ]
  },
  {
   "cell_type": "code",
   "execution_count": 8,
   "id": "3ecc6728-37f9-4a32-a5af-54f5fa1bbf83",
   "metadata": {},
   "outputs": [
    {
     "name": "stdout",
     "output_type": "stream",
     "text": [
      "\u001b[33mAgent1\u001b[0m (to chat_manager):\n",
      "\n",
      "Hello Agent2, how are you today?\n",
      "\n",
      "--------------------------------------------------------------------------------\n"
     ]
    },
    {
     "name": "stderr",
     "output_type": "stream",
     "text": [
      "GroupChat is underpopulated with 2 agents. Consider setting speaker_selection_method to 'round_robin' or allow_repeat_speaker to False, or use direct communication, unless repeated speaker is desired.\n"
     ]
    },
    {
     "name": "stdout",
     "output_type": "stream",
     "text": [
      "\u001b[32m\n",
      "Next speaker: Agent2\n",
      "\u001b[0m\n",
      "\u001b[33mAgent2\u001b[0m (to chat_manager):\n",
      "\n",
      "TERMINATE\n",
      "\n",
      "--------------------------------------------------------------------------------\n",
      "Agent1: Hello Agent2, how are you today?\n",
      "Agent2: TERMINATE\n"
     ]
    }
   ],
   "source": [
    "# Example usage\n",
    "\n",
    "# Start a conversation between the two agents\n",
    "message = \"Hello Agent2, how are you today?\"\n",
    "response = chat_between_agents(agent1, agent2, message)\n",
    "\n",
    "print(\"Agent1:\", message)\n",
    "print(\"Agent2:\", response)"
   ]
  }
 ],
 "metadata": {
  "kernelspec": {
   "display_name": "Python 3 (ipykernel)",
   "language": "python",
   "name": "python3"
  },
  "language_info": {
   "codemirror_mode": {
    "name": "ipython",
    "version": 3
   },
   "file_extension": ".py",
   "mimetype": "text/x-python",
   "name": "python",
   "nbconvert_exporter": "python",
   "pygments_lexer": "ipython3",
   "version": "3.11.4"
  }
 },
 "nbformat": 4,
 "nbformat_minor": 5
}
