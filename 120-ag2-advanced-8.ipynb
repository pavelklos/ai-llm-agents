{
 "cells": [
  {
   "cell_type": "markdown",
   "id": "accbde67-9c7e-41b0-9329-8052e2ef365b",
   "metadata": {},
   "source": [
    "# AG2: Swarm (Concepts Code)"
   ]
  },
  {
   "cell_type": "markdown",
   "id": "5cb42466-306d-49b1-b814-6674b60451e4",
   "metadata": {},
   "source": [
    "Concepts Code\n",
    "- https://docs.ag2.ai/docs/user-guide/advanced-concepts/swarm/concept-code"
   ]
  },
  {
   "cell_type": "markdown",
   "id": "fa1039ae-8255-4ec0-8c3a-2757a8f0ae95",
   "metadata": {},
   "source": [
    "## SETUP"
   ]
  },
  {
   "cell_type": "code",
   "execution_count": 1,
   "id": "0ce6eafa-f6ef-4ff1-8d54-17b4fcb71612",
   "metadata": {},
   "outputs": [],
   "source": [
    "import os\n",
    "from dotenv import load_dotenv\n",
    "\n",
    "# Load environment variables (for API key)\n",
    "load_dotenv()\n",
    "\n",
    "# Set up OpenAI API key\n",
    "api_key = os.getenv(\"OPENAI_API_KEY\")\n",
    "if not api_key:\n",
    "    raise ValueError(\"Please set the OPENAI_API_KEY environment variable or add it to a .env file\")\n",
    "\n",
    "# Define the model to use\n",
    "MODEL_GPT = \"gpt-4o-mini\""
   ]
  },
  {
   "cell_type": "markdown",
   "id": "b9a018e0-b594-4edf-93dd-3d7eea97900a",
   "metadata": {},
   "source": [
    "## 1st example\n",
    "**demonstrates** (see matching numbers in the code):\n",
    "1. How to update and return context variables in functions\n",
    "2. How to transfer to another agent in a function\n",
    "3. Combination of 1 and 2\n",
    "4. A standard function\n",
    "5. How handoffs are a convenient alternative to functions for transferring"
   ]
  },
  {
   "cell_type": "code",
   "execution_count": 2,
   "id": "077e2a5b-9dba-4a73-ab3d-0de931900e6c",
   "metadata": {},
   "outputs": [],
   "source": [
    "import autogen\n",
    "import random\n",
    "\n",
    "from autogen import (\n",
    "    AfterWork,\n",
    "    OnCondition,\n",
    "    AfterWorkOption,\n",
    "    AssistantAgent,\n",
    "    SwarmResult,\n",
    "    initiate_swarm_chat,\n",
    "    register_hand_off,\n",
    "    # LLMConfig,\n",
    ")\n",
    "\n",
    "# llm_config = LLMConfig.from_json(path=\"<path_to_your_config_file>\")\n",
    "llm_config = {\"api_type\": \"openai\", \"model\": \"gpt-4o-mini\", \"api_key\": os.environ[\"OPENAI_API_KEY\"]}"
   ]
  },
  {
   "cell_type": "code",
   "execution_count": 3,
   "id": "d111c35b-b236-4439-b977-7e9edbbed6d2",
   "metadata": {},
   "outputs": [],
   "source": [
    "# 1. A function that returns a value of \"success\" and updates the context variable \"1\" to True\n",
    "def update_context_1(context_variables: dict) -> SwarmResult:\n",
    "    context_variables[\"1\"] = True\n",
    "    return SwarmResult(value=\"success\", context_variables=context_variables)"
   ]
  },
  {
   "cell_type": "code",
   "execution_count": 4,
   "id": "ab2e5c94-b26c-4c84-8ed9-4673f91cc85b",
   "metadata": {},
   "outputs": [],
   "source": [
    "# 2. A function that returns an AssistantAgent object\n",
    "def transfer_to_agent_2() -> AssistantAgent:\n",
    "    \"\"\"Transfer to agent 2\"\"\"\n",
    "    return agent_2"
   ]
  },
  {
   "cell_type": "code",
   "execution_count": 5,
   "id": "e3d27389-7340-4df9-9e87-cee73820a060",
   "metadata": {},
   "outputs": [],
   "source": [
    "# 3. A function that returns the value of \"success\", updates the context variable and transfers to agent 3\n",
    "def update_context_2_and_transfer_to_3(context_variables: dict) -> SwarmResult:\n",
    "    context_variables[\"2\"] = True\n",
    "    return SwarmResult(value=\"success\", context_variables=context_variables, agent=agent_3)"
   ]
  },
  {
   "cell_type": "code",
   "execution_count": 6,
   "id": "dbad8ce8-233a-40b9-9ad4-49ab63de79eb",
   "metadata": {},
   "outputs": [],
   "source": [
    "# 4. A function that returns a normal value\n",
    "def get_random_number() -> str:\n",
    "    return random.randint(1, 100)"
   ]
  },
  {
   "cell_type": "code",
   "execution_count": 8,
   "id": "096b6b09-a919-4b5a-b426-30be840f0b89",
   "metadata": {},
   "outputs": [],
   "source": [
    "def update_context_3_with_random_number(context_variables: dict, random_number: int) -> SwarmResult:\n",
    "    context_variables[\"3\"] = random_number\n",
    "    return SwarmResult(value=\"success\", context_variables=context_variables)"
   ]
  },
  {
   "cell_type": "code",
   "execution_count": 9,
   "id": "23a42cc1-5915-422e-b635-d54ff1cd6c00",
   "metadata": {},
   "outputs": [],
   "source": [
    "agent_1 = AssistantAgent(\n",
    "    name=\"Agent_1\",\n",
    "    system_message=\"You are Agent 1, first, call the function to update context 1, and transfer to Agent 2\",\n",
    "    llm_config=llm_config,\n",
    "    functions=[update_context_1, transfer_to_agent_2],\n",
    ")\n",
    "\n",
    "agent_2 = AssistantAgent(\n",
    "    name=\"Agent_2\",\n",
    "    system_message=\"You are Agent 2, call the function that updates context 2 and transfer to Agent 3\",\n",
    "    llm_config=llm_config,\n",
    "    functions=[update_context_2_and_transfer_to_3],\n",
    ")\n",
    "\n",
    "agent_3 = AssistantAgent(\n",
    "    name=\"Agent_3\",\n",
    "    system_message=\"You are Agent 3, please transfer to Agent 4\",\n",
    "    llm_config=llm_config,\n",
    ")\n",
    "\n",
    "agent_4 = AssistantAgent(\n",
    "    name=\"Agent_4\",\n",
    "    system_message=\"You are Agent 4, call the function to get a random number\",\n",
    "    llm_config=llm_config,\n",
    "    functions=[get_random_number],\n",
    ")\n",
    "\n",
    "agent_5 = AssistantAgent(\n",
    "    name=\"Agent_5\",\n",
    "    system_message=\"Update context 3 with the random number.\",\n",
    "    llm_config=llm_config,\n",
    "    functions=[update_context_3_with_random_number],\n",
    ")"
   ]
  },
  {
   "cell_type": "code",
   "execution_count": 10,
   "id": "513de1a1-43f9-4949-91dd-b841917067c0",
   "metadata": {},
   "outputs": [
    {
     "name": "stdout",
     "output_type": "stream",
     "text": [
      "Agent 3's registered hand-offs:\n",
      "{'transfer_Agent_3_to_Agent_4': (<function register_hand_off.<locals>.make_transfer_function.<locals>.transfer_to_agent at 0x000001E4E183D620>, OnCondition(target=<autogen.agentchat.assistant_agent.AssistantAgent object at 0x000001E4E17E80D0>, condition='Transfer to Agent 4', available=None))}\n"
     ]
    }
   ],
   "source": [
    "# 5. This is equivalent to writing a transfer function\n",
    "register_hand_off(agent=agent_3,hand_to=[OnCondition(agent_4, \"Transfer to Agent 4\")])\n",
    "print(\"Agent 3's registered hand-offs:\")\n",
    "print(agent_3._swarm_conditional_functions)"
   ]
  },
  {
   "cell_type": "code",
   "execution_count": 11,
   "id": "0096774a-eb6d-42cf-9b96-2af695422a09",
   "metadata": {},
   "outputs": [
    {
     "name": "stdout",
     "output_type": "stream",
     "text": [
      "\u001b[33m_User\u001b[0m (to chat_manager):\n",
      "\n",
      "start\n",
      "\n",
      "--------------------------------------------------------------------------------\n",
      "\u001b[32m\n",
      "Next speaker: Agent_1\n",
      "\u001b[0m\n"
     ]
    },
    {
     "name": "stderr",
     "output_type": "stream",
     "text": [
      "C:\\Users\\Pavel\\projects\\ai-llm-agents\\.venv\\Lib\\site-packages\\pydantic\\main.py:1630: RuntimeWarning: fields may not start with an underscore, ignoring \"_x\"\n",
      "  warnings.warn(f'fields may not start with an underscore, ignoring \"{f_name}\"', RuntimeWarning)\n"
     ]
    },
    {
     "name": "stdout",
     "output_type": "stream",
     "text": [
      "\u001b[33mAgent_1\u001b[0m (to chat_manager):\n",
      "\n",
      "\u001b[32m***** Suggested tool call (call_SuhJWf5PAz5aA3SYxmbVGEyZ): update_context_1 *****\u001b[0m\n",
      "Arguments: \n",
      "{}\n",
      "\u001b[32m*********************************************************************************\u001b[0m\n",
      "\u001b[32m***** Suggested tool call (call_yimE1pbENGbaY6oin8fd5JQU): transfer_to_agent_2 *****\u001b[0m\n",
      "Arguments: \n",
      "{}\n",
      "\u001b[32m************************************************************************************\u001b[0m\n",
      "\n",
      "--------------------------------------------------------------------------------\n",
      "\u001b[32m\n",
      "Next speaker: _Swarm_Tool_Executor\n",
      "\u001b[0m\n",
      "\u001b[35m\n",
      ">>>>>>>> EXECUTING FUNCTION update_context_1...\n",
      "Call ID: call_SuhJWf5PAz5aA3SYxmbVGEyZ\n",
      "Input arguments: {}\u001b[0m\n",
      "\u001b[35m\n",
      ">>>>>>>> EXECUTING FUNCTION transfer_to_agent_2...\n",
      "Call ID: call_yimE1pbENGbaY6oin8fd5JQU\n",
      "Input arguments: {}\u001b[0m\n",
      "\u001b[33m_Swarm_Tool_Executor\u001b[0m (to chat_manager):\n",
      "\n",
      "\u001b[32m***** Response from calling tool (call_SuhJWf5PAz5aA3SYxmbVGEyZ) *****\u001b[0m\n",
      "\n",
      "\u001b[32m**********************************************************************\u001b[0m\n",
      "\n",
      "--------------------------------------------------------------------------------\n",
      "\u001b[32m***** Response from calling tool (call_yimE1pbENGbaY6oin8fd5JQU) *****\u001b[0m\n",
      "Swarm agent --> Agent_2\n",
      "\u001b[32m**********************************************************************\u001b[0m\n",
      "\n",
      "--------------------------------------------------------------------------------\n",
      "\u001b[32m\n",
      "Next speaker: Agent_2\n",
      "\u001b[0m\n",
      "\u001b[33mAgent_2\u001b[0m (to chat_manager):\n",
      "\n",
      "\u001b[32m***** Suggested tool call (call_s8EHZmj7z7rM0gDpxW2u0XOT): update_context_2_and_transfer_to_3 *****\u001b[0m\n",
      "Arguments: \n",
      "{}\n",
      "\u001b[32m***************************************************************************************************\u001b[0m\n",
      "\n",
      "--------------------------------------------------------------------------------\n",
      "\u001b[32m\n",
      "Next speaker: _Swarm_Tool_Executor\n",
      "\u001b[0m\n",
      "\u001b[35m\n",
      ">>>>>>>> EXECUTING FUNCTION update_context_2_and_transfer_to_3...\n",
      "Call ID: call_s8EHZmj7z7rM0gDpxW2u0XOT\n",
      "Input arguments: {}\u001b[0m\n",
      "\u001b[33m_Swarm_Tool_Executor\u001b[0m (to chat_manager):\n",
      "\n",
      "\u001b[32m***** Response from calling tool (call_s8EHZmj7z7rM0gDpxW2u0XOT) *****\u001b[0m\n",
      "\n",
      "\u001b[32m**********************************************************************\u001b[0m\n",
      "\n",
      "--------------------------------------------------------------------------------\n",
      "\u001b[32m\n",
      "Next speaker: Agent_3\n",
      "\u001b[0m\n",
      "\u001b[33mAgent_3\u001b[0m (to chat_manager):\n",
      "\n",
      "\u001b[32m***** Suggested tool call (call_eG60Agr4skeffVSu33D4rTLs): update_context_2 *****\u001b[0m\n",
      "Arguments: \n",
      "{}\n",
      "\u001b[32m*********************************************************************************\u001b[0m\n",
      "\u001b[32m***** Suggested tool call (call_imltgAtDRJXh6Jw5dxAQgPGf): transfer_Agent_2_to_Agent_3 *****\u001b[0m\n",
      "Arguments: \n",
      "{}\n",
      "\u001b[32m********************************************************************************************\u001b[0m\n",
      "\n",
      "--------------------------------------------------------------------------------\n",
      "\u001b[32m\n",
      "Next speaker: _Swarm_Tool_Executor\n",
      "\u001b[0m\n",
      "\u001b[33m_Swarm_Tool_Executor\u001b[0m (to chat_manager):\n",
      "\n",
      "\u001b[32m***** Response from calling tool (call_eG60Agr4skeffVSu33D4rTLs) *****\u001b[0m\n",
      "Error: Function update_context_2 not found.\n",
      "\u001b[32m**********************************************************************\u001b[0m\n",
      "\n",
      "--------------------------------------------------------------------------------\n",
      "\u001b[32m***** Response from calling tool (call_imltgAtDRJXh6Jw5dxAQgPGf) *****\u001b[0m\n",
      "Error: Function transfer_Agent_2_to_Agent_3 not found.\n",
      "\u001b[32m**********************************************************************\u001b[0m\n",
      "\n",
      "--------------------------------------------------------------------------------\n",
      "\u001b[32m\n",
      "Next speaker: Agent_3\n",
      "\u001b[0m\n"
     ]
    },
    {
     "name": "stderr",
     "output_type": "stream",
     "text": [
      "C:\\Users\\Pavel\\projects\\ai-llm-agents\\.venv\\Lib\\site-packages\\autogen\\agentchat\\conversable_agent.py:3002: UserWarning: Function 'transfer_Agent_3_to_Agent_4' is being overridden.\n",
      "  warnings.warn(f\"Function '{tool_sig['function']['name']}' is being overridden.\", UserWarning)\n"
     ]
    },
    {
     "name": "stdout",
     "output_type": "stream",
     "text": [
      "\u001b[33mAgent_3\u001b[0m (to chat_manager):\n",
      "\n",
      "\u001b[32m***** Suggested tool call (call_ENneOzQYAN48544LjMWJTCMW): transfer_Agent_3_to_Agent_4 *****\u001b[0m\n",
      "Arguments: \n",
      "{}\n",
      "\u001b[32m********************************************************************************************\u001b[0m\n",
      "\n",
      "--------------------------------------------------------------------------------\n",
      "\u001b[32m\n",
      "Next speaker: _Swarm_Tool_Executor\n",
      "\u001b[0m\n",
      "\u001b[35m\n",
      ">>>>>>>> EXECUTING FUNCTION transfer_Agent_3_to_Agent_4...\n",
      "Call ID: call_ENneOzQYAN48544LjMWJTCMW\n",
      "Input arguments: {}\u001b[0m\n",
      "\u001b[33m_Swarm_Tool_Executor\u001b[0m (to chat_manager):\n",
      "\n",
      "\u001b[32m***** Response from calling tool (call_ENneOzQYAN48544LjMWJTCMW) *****\u001b[0m\n",
      "Swarm agent --> Agent_4\n",
      "\u001b[32m**********************************************************************\u001b[0m\n",
      "\n",
      "--------------------------------------------------------------------------------\n",
      "\u001b[32m\n",
      "Next speaker: Agent_4\n",
      "\u001b[0m\n",
      "\u001b[33mAgent_4\u001b[0m (to chat_manager):\n",
      "\n",
      "\u001b[32m***** Suggested tool call (call_2FUpjrYosK3QWvA2fOqEiK93): get_random_number *****\u001b[0m\n",
      "Arguments: \n",
      "{}\n",
      "\u001b[32m**********************************************************************************\u001b[0m\n",
      "\n",
      "--------------------------------------------------------------------------------\n",
      "\u001b[32m\n",
      "Next speaker: _Swarm_Tool_Executor\n",
      "\u001b[0m\n",
      "\u001b[35m\n",
      ">>>>>>>> EXECUTING FUNCTION get_random_number...\n",
      "Call ID: call_2FUpjrYosK3QWvA2fOqEiK93\n",
      "Input arguments: {}\u001b[0m\n",
      "\u001b[33m_Swarm_Tool_Executor\u001b[0m (to chat_manager):\n",
      "\n",
      "\u001b[32m***** Response from calling tool (call_2FUpjrYosK3QWvA2fOqEiK93) *****\u001b[0m\n",
      "86\n",
      "\u001b[32m**********************************************************************\u001b[0m\n",
      "\n",
      "--------------------------------------------------------------------------------\n",
      "\u001b[32m\n",
      "Next speaker: Agent_4\n",
      "\u001b[0m\n",
      "\u001b[33mAgent_4\u001b[0m (to chat_manager):\n",
      "\n",
      "I have generated a random number: **86**. What would you like to do next?\n",
      "\n",
      "--------------------------------------------------------------------------------\n",
      "\u001b[32m\n",
      "Next speaker: Agent_5\n",
      "\u001b[0m\n",
      "\u001b[33mAgent_5\u001b[0m (to chat_manager):\n",
      "\n",
      "\u001b[32m***** Suggested tool call (call_iav3WN63m9LRPWuS9fk2PAPz): update_context_3_with_random_number *****\u001b[0m\n",
      "Arguments: \n",
      "{\"random_number\":86}\n",
      "\u001b[32m****************************************************************************************************\u001b[0m\n",
      "\n",
      "--------------------------------------------------------------------------------\n",
      "\u001b[32m\n",
      "Next speaker: _Swarm_Tool_Executor\n",
      "\u001b[0m\n",
      "\u001b[35m\n",
      ">>>>>>>> EXECUTING FUNCTION update_context_3_with_random_number...\n",
      "Call ID: call_iav3WN63m9LRPWuS9fk2PAPz\n",
      "Input arguments: {'random_number': 86}\u001b[0m\n",
      "\u001b[33m_Swarm_Tool_Executor\u001b[0m (to chat_manager):\n",
      "\n",
      "\u001b[32m***** Response from calling tool (call_iav3WN63m9LRPWuS9fk2PAPz) *****\u001b[0m\n",
      "\n",
      "\u001b[32m**********************************************************************\u001b[0m\n",
      "\n",
      "--------------------------------------------------------------------------------\n",
      "\u001b[32m\n",
      "Next speaker: Agent_5\n",
      "\u001b[0m\n",
      "\u001b[33mAgent_5\u001b[0m (to chat_manager):\n",
      "\n",
      "The context has been successfully updated with the random number **86**. What would you like to do next?\n",
      "\n",
      "--------------------------------------------------------------------------------\n"
     ]
    }
   ],
   "source": [
    "# 6. When agent 4 replies without calling any functions, the `AfterWork` will be in effect, in this case, we transfer to agent 5\n",
    "register_hand_off(agent=agent_4,hand_to=[AfterWork(agent_5)])\n",
    "\n",
    "context_variables = {\"1\": False, \"2\": False, \"3\": False}\n",
    "chat_result, context_variables, last_agent = initiate_swarm_chat(\n",
    "    initial_agent=agent_1,\n",
    "    agents=[agent_1, agent_2, agent_3, agent_4, agent_5],\n",
    "    messages=\"start\",\n",
    "    context_variables=context_variables,\n",
    "    after_work=AfterWork(AfterWorkOption.TERMINATE),  # this is the default value\n",
    ")"
   ]
  },
  {
   "cell_type": "code",
   "execution_count": 15,
   "id": "0bd8f53d-85cb-4950-b1b2-41d39df04db7",
   "metadata": {},
   "outputs": [
    {
     "name": "stdout",
     "output_type": "stream",
     "text": [
      "<class 'autogen.agentchat.chat.ChatResult'>\n",
      "<class 'dict'>\n",
      "<class 'autogen.agentchat.assistant_agent.AssistantAgent'>\n"
     ]
    }
   ],
   "source": [
    "print(type(chat_result))\n",
    "print(type(context_variables))\n",
    "print(type(last_agent))"
   ]
  },
  {
   "cell_type": "code",
   "execution_count": 16,
   "id": "0116ad18-8944-4115-ad48-10600a5447e0",
   "metadata": {},
   "outputs": [
    {
     "name": "stdout",
     "output_type": "stream",
     "text": [
      "15\n",
      "The context has been successfully updated with the random number **86**. What would you like to do next?\n",
      "[{'content': 'start', 'role': 'assistant'}, {'content': 'None', 'tool_calls': [{'id': 'call_SuhJWf5PAz5aA3SYxmbVGEyZ', 'function': {'arguments': '{}', 'name': 'update_context_1'}, 'type': 'function'}, {'id': 'call_yimE1pbENGbaY6oin8fd5JQU', 'function': {'arguments': '{}', 'name': 'transfer_to_agent_2'}, 'type': 'function'}], 'name': 'Agent_1', 'role': 'assistant'}, {'content': '\\nSwarm agent --> Agent_2', 'tool_responses': [{'tool_call_id': 'call_SuhJWf5PAz5aA3SYxmbVGEyZ', 'role': 'tool', 'content': ''}, {'tool_call_id': 'call_yimE1pbENGbaY6oin8fd5JQU', 'role': 'tool', 'content': 'Swarm agent --> Agent_2'}], 'name': '_Swarm_Tool_Executor', 'role': 'tool'}, {'content': 'None', 'tool_calls': [{'id': 'call_s8EHZmj7z7rM0gDpxW2u0XOT', 'function': {'arguments': '{}', 'name': 'update_context_2_and_transfer_to_3'}, 'type': 'function'}], 'name': 'Agent_2', 'role': 'assistant'}, {'content': '', 'tool_responses': [{'tool_call_id': 'call_s8EHZmj7z7rM0gDpxW2u0XOT', 'role': 'tool', 'content': ''}], 'name': '_Swarm_Tool_Executor', 'role': 'tool'}, {'content': 'None', 'tool_calls': [{'id': 'call_eG60Agr4skeffVSu33D4rTLs', 'function': {'arguments': '{}', 'name': 'update_context_2'}, 'type': 'function'}, {'id': 'call_imltgAtDRJXh6Jw5dxAQgPGf', 'function': {'arguments': '{}', 'name': 'transfer_Agent_2_to_Agent_3'}, 'type': 'function'}], 'name': 'Agent_3', 'role': 'assistant'}, {'content': 'Error: Function update_context_2 not found.\\nError: Function transfer_Agent_2_to_Agent_3 not found.', 'tool_responses': [{'tool_call_id': 'call_eG60Agr4skeffVSu33D4rTLs', 'role': 'tool', 'content': 'Error: Function update_context_2 not found.'}, {'tool_call_id': 'call_imltgAtDRJXh6Jw5dxAQgPGf', 'role': 'tool', 'content': 'Error: Function transfer_Agent_2_to_Agent_3 not found.'}], 'name': '_Swarm_Tool_Executor', 'role': 'tool'}, {'content': 'None', 'tool_calls': [{'id': 'call_ENneOzQYAN48544LjMWJTCMW', 'function': {'arguments': '{}', 'name': 'transfer_Agent_3_to_Agent_4'}, 'type': 'function'}], 'name': 'Agent_3', 'role': 'assistant'}, {'content': 'Swarm agent --> Agent_4', 'tool_responses': [{'tool_call_id': 'call_ENneOzQYAN48544LjMWJTCMW', 'role': 'tool', 'content': 'Swarm agent --> Agent_4'}], 'name': '_Swarm_Tool_Executor', 'role': 'tool'}, {'content': 'None', 'tool_calls': [{'id': 'call_2FUpjrYosK3QWvA2fOqEiK93', 'function': {'arguments': '{}', 'name': 'get_random_number'}, 'type': 'function'}], 'name': 'Agent_4', 'role': 'assistant'}, {'content': '86', 'tool_responses': [{'tool_call_id': 'call_2FUpjrYosK3QWvA2fOqEiK93', 'role': 'tool', 'content': '86'}], 'name': '_Swarm_Tool_Executor', 'role': 'tool'}, {'content': 'I have generated a random number: **86**. What would you like to do next?', 'name': 'Agent_4', 'role': 'user'}, {'content': 'None', 'tool_calls': [{'id': 'call_iav3WN63m9LRPWuS9fk2PAPz', 'function': {'arguments': '{\"random_number\":86}', 'name': 'update_context_3_with_random_number'}, 'type': 'function'}], 'name': 'Agent_5', 'role': 'assistant'}, {'content': '', 'tool_responses': [{'tool_call_id': 'call_iav3WN63m9LRPWuS9fk2PAPz', 'role': 'tool', 'content': ''}], 'name': '_Swarm_Tool_Executor', 'role': 'tool'}, {'content': 'The context has been successfully updated with the random number **86**. What would you like to do next?', 'name': 'Agent_5', 'role': 'user'}]\n"
     ]
    }
   ],
   "source": [
    "print(len(chat_result.chat_history))\n",
    "print(chat_result.summary)\n",
    "print(chat_result.chat_history)"
   ]
  },
  {
   "cell_type": "code",
   "execution_count": 17,
   "id": "b86ced75-1732-409c-8fa5-c8e1040d1d04",
   "metadata": {},
   "outputs": [
    {
     "name": "stdout",
     "output_type": "stream",
     "text": [
      "{'1': True, '2': True, '3': 86}\n"
     ]
    }
   ],
   "source": [
    "print(context_variables)"
   ]
  },
  {
   "cell_type": "code",
   "execution_count": 18,
   "id": "05a66b1d-1c15-4b8d-a00a-43b298bd17d3",
   "metadata": {},
   "outputs": [
    {
     "name": "stdout",
     "output_type": "stream",
     "text": [
      "Agent_5\n"
     ]
    }
   ],
   "source": [
    "print(last_agent.name)"
   ]
  },
  {
   "cell_type": "code",
   "execution_count": 19,
   "id": "679632f9-ff45-4d88-b83d-f580951d3230",
   "metadata": {},
   "outputs": [
    {
     "name": "stdout",
     "output_type": "stream",
     "text": [
      "Update context 3 with the random number.\n"
     ]
    }
   ],
   "source": [
    "print(last_agent.system_message)"
   ]
  },
  {
   "cell_type": "markdown",
   "id": "a57f4479-02cd-4133-b069-5abf1ac9b93d",
   "metadata": {},
   "source": [
    "## 2nd example\n",
    "**shows how to incorporate your own user agent into a swarm, allowing you to be a part of the swarm.**<br>\n",
    "We pass in a UserProxyAgent to the swarm chat, through the user_agent parameter on initiate_swarm_chat, to accept user inputs. With agent_6, we register an AfterWork handoff to revert to the user agent when no tool calls are suggested."
   ]
  },
  {
   "cell_type": "code",
   "execution_count": 20,
   "id": "c440b82a-9189-4df2-9f07-0cfeeef7f430",
   "metadata": {},
   "outputs": [],
   "source": [
    "from autogen import UserProxyAgent\n",
    "\n",
    "user_agent = UserProxyAgent(name=\"User\", code_execution_config=False)\n",
    "\n",
    "agent_6 = AssistantAgent(\n",
    "    name=\"Agent_6\",\n",
    "    system_message=\"You are Agent 6. Your job is to tell jokes.\",\n",
    "    llm_config=llm_config,\n",
    ")\n",
    "\n",
    "agent_7 = AssistantAgent(\n",
    "    name=\"Agent_7\",\n",
    "    system_message=\"You are Agent 7, explain the joke.\",\n",
    "    llm_config=llm_config,\n",
    ")\n",
    "\n",
    "register_hand_off(\n",
    "    agent=agent_6,\n",
    "    hand_to=[\n",
    "        OnCondition(\n",
    "        agent_7, \"Used to transfer to Agent 7. Don't call this function, unless the user explicitly tells you to.\"\n",
    "        ),\n",
    "        AfterWork(AfterWorkOption.REVERT_TO_USER),\n",
    "    ]\n",
    ")"
   ]
  },
  {
   "cell_type": "code",
   "execution_count": 21,
   "id": "0ff701a1-f3e0-4a3c-a52f-aa9ad0b748be",
   "metadata": {},
   "outputs": [
    {
     "name": "stdout",
     "output_type": "stream",
     "text": [
      "\u001b[33mUser\u001b[0m (to chat_manager):\n",
      "\n",
      "start\n",
      "\n",
      "--------------------------------------------------------------------------------\n",
      "\u001b[32m\n",
      "Next speaker: Agent_6\n",
      "\u001b[0m\n",
      "\u001b[33mAgent_6\u001b[0m (to chat_manager):\n",
      "\n",
      "Why did the bicycle fall over? \n",
      "\n",
      "Because it was two-tired! \n",
      "\n",
      "What's next on your mind?\n",
      "\n",
      "--------------------------------------------------------------------------------\n",
      "\u001b[32m\n",
      "Next speaker: User\n",
      "\u001b[0m\n"
     ]
    },
    {
     "name": "stdin",
     "output_type": "stream",
     "text": [
      "Replying as User. Provide feedback to chat_manager. Press enter to skip and use auto-reply, or type 'exit' to end the conversation:  exit\n"
     ]
    }
   ],
   "source": [
    "# chat_result, _, _ = initiate_swarm_chat(\n",
    "chat_result, context_variables, last_agent = initiate_swarm_chat(\n",
    "    initial_agent=agent_6,\n",
    "    agents=[agent_6, agent_7],\n",
    "    user_agent=user_agent,\n",
    "    messages=\"start\",\n",
    ")"
   ]
  },
  {
   "cell_type": "code",
   "execution_count": 22,
   "id": "ba6bc3e1-88aa-4de7-8df7-733bcf495b61",
   "metadata": {},
   "outputs": [
    {
     "name": "stdout",
     "output_type": "stream",
     "text": [
      "<class 'autogen.agentchat.chat.ChatResult'>\n",
      "<class 'NoneType'>\n",
      "<class 'autogen.agentchat.assistant_agent.AssistantAgent'>\n"
     ]
    }
   ],
   "source": [
    "print(type(chat_result))\n",
    "print(type(context_variables))\n",
    "print(type(last_agent))"
   ]
  },
  {
   "cell_type": "code",
   "execution_count": 23,
   "id": "d8c41ba8-aaa6-4570-aad8-8517152a8850",
   "metadata": {},
   "outputs": [
    {
     "name": "stdout",
     "output_type": "stream",
     "text": [
      "2\n",
      "Why did the bicycle fall over? \n",
      "\n",
      "Because it was two-tired! \n",
      "\n",
      "What's next on your mind?\n",
      "[{'content': 'start', 'role': 'assistant', 'name': 'User'}, {'content': \"Why did the bicycle fall over? \\n\\nBecause it was two-tired! \\n\\nWhat's next on your mind?\", 'name': 'Agent_6', 'role': 'user'}]\n"
     ]
    }
   ],
   "source": [
    "print(len(chat_result.chat_history))\n",
    "print(chat_result.summary)\n",
    "print(chat_result.chat_history)"
   ]
  },
  {
   "cell_type": "code",
   "execution_count": 24,
   "id": "868bc043-07de-4774-b25a-a84e6d759d8f",
   "metadata": {},
   "outputs": [
    {
     "name": "stdout",
     "output_type": "stream",
     "text": [
      "None\n"
     ]
    }
   ],
   "source": [
    "print(context_variables)"
   ]
  },
  {
   "cell_type": "code",
   "execution_count": 25,
   "id": "ca55090f-31c9-430f-995d-db97765f58df",
   "metadata": {},
   "outputs": [
    {
     "name": "stdout",
     "output_type": "stream",
     "text": [
      "Agent_6\n"
     ]
    }
   ],
   "source": [
    "print(last_agent.name)"
   ]
  },
  {
   "cell_type": "code",
   "execution_count": 26,
   "id": "a08e058b-8f5b-4ee6-882f-f4193c014602",
   "metadata": {},
   "outputs": [
    {
     "name": "stdout",
     "output_type": "stream",
     "text": [
      "You are Agent 6. Your job is to tell jokes.\n"
     ]
    }
   ],
   "source": [
    "print(last_agent.system_message)"
   ]
  }
 ],
 "metadata": {
  "kernelspec": {
   "display_name": "Python 3 (ipykernel)",
   "language": "python",
   "name": "python3"
  },
  "language_info": {
   "codemirror_mode": {
    "name": "ipython",
    "version": 3
   },
   "file_extension": ".py",
   "mimetype": "text/x-python",
   "name": "python",
   "nbconvert_exporter": "python",
   "pygments_lexer": "ipython3",
   "version": "3.11.4"
  }
 },
 "nbformat": 4,
 "nbformat_minor": 5
}
