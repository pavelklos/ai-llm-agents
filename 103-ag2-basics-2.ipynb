{
 "cells": [
  {
   "cell_type": "markdown",
   "id": "accbde67-9c7e-41b0-9329-8052e2ef365b",
   "metadata": {},
   "source": [
    "# AG2: ConversableAgent, Human in the loop"
   ]
  },
  {
   "cell_type": "markdown",
   "id": "5cb42466-306d-49b1-b814-6674b60451e4",
   "metadata": {},
   "source": [
    "- ConversableAgent<br>\n",
    "  - https://docs.ag2.ai/docs/user-guide/basic-concepts/conversable-agent\n",
    "- Human in the loop<br>\n",
    "  - https://docs.ag2.ai/docs/user-guide/basic-concepts/human-in-the-loop"
   ]
  },
  {
   "cell_type": "markdown",
   "id": "fa1039ae-8255-4ec0-8c3a-2757a8f0ae95",
   "metadata": {},
   "source": [
    "## SETUP"
   ]
  },
  {
   "cell_type": "code",
   "execution_count": 1,
   "id": "0ce6eafa-f6ef-4ff1-8d54-17b4fcb71612",
   "metadata": {},
   "outputs": [],
   "source": [
    "import os\n",
    "from dotenv import load_dotenv\n",
    "\n",
    "# Load environment variables (for API key)\n",
    "load_dotenv()\n",
    "\n",
    "# Set up OpenAI API key\n",
    "api_key = os.getenv(\"OPENAI_API_KEY\")\n",
    "if not api_key:\n",
    "    raise ValueError(\"Please set the OPENAI_API_KEY environment variable or add it to a .env file\")\n",
    "\n",
    "# Define the model to use\n",
    "MODEL_GPT = \"gpt-4o-mini\""
   ]
  },
  {
   "cell_type": "markdown",
   "id": "04a496d7-5d89-4bf7-b1a5-192533957686",
   "metadata": {},
   "source": [
    "## ConversableAgent"
   ]
  },
  {
   "cell_type": "code",
   "execution_count": 2,
   "id": "610f0c93-7beb-4964-9e43-0544eca6cb9d",
   "metadata": {},
   "outputs": [],
   "source": [
    "# 1. Import our agent class\n",
    "from autogen import ConversableAgent\n",
    "\n",
    "# 2. Define our LLM configuration for OpenAI's GPT-4o mini\n",
    "#    Put your key in the OPENAI_API_KEY environment variable\n",
    "llm_config = {\"api_type\": \"openai\", \"model\": \"gpt-4o-mini\"}\n",
    "\n",
    "# 3. Create our agent\n",
    "my_agent = ConversableAgent(\n",
    "    name=\"helpful_agent\",\n",
    "    llm_config=llm_config,\n",
    "    system_message=\"You are a poetic AI assistant, respond in rhyme.\",\n",
    ")"
   ]
  },
  {
   "cell_type": "code",
   "execution_count": 3,
   "id": "448b2904-c065-426e-94d2-888fcb168e68",
   "metadata": {},
   "outputs": [
    {
     "name": "stdout",
     "output_type": "stream",
     "text": [
      "\u001b[33muser\u001b[0m (to helpful_agent):\n",
      "\n",
      "In one sentence, what's the big deal about AI?\n",
      "\n",
      "--------------------------------------------------------------------------------\n",
      "\u001b[31m\n",
      ">>>>>>>> USING AUTO REPLY...\u001b[0m\n",
      "\u001b[33mhelpful_agent\u001b[0m (to user):\n",
      "\n",
      "AI's the craftsman of thought and task, reshaping the future—just ask and unmask!\n",
      "\n",
      "--------------------------------------------------------------------------------\n"
     ]
    },
    {
     "name": "stdout",
     "output_type": "stream",
     "text": [
      "Replying as user. Provide feedback to helpful_agent. Press enter to skip and use auto-reply, or type 'exit' to end the conversation:  exit\n"
     ]
    },
    {
     "data": {
      "text/plain": [
       "ChatResult(chat_id=None, chat_history=[{'content': \"In one sentence, what's the big deal about AI?\", 'role': 'assistant', 'name': 'user'}, {'content': \"AI's the craftsman of thought and task, reshaping the future—just ask and unmask!\", 'role': 'user', 'name': 'helpful_agent'}], summary=\"AI's the craftsman of thought and task, reshaping the future—just ask and unmask!\", cost={'usage_including_cached_inference': {'total_cost': 1.8299999999999998e-05, 'gpt-4o-mini-2024-07-18': {'cost': 1.8299999999999998e-05, 'prompt_tokens': 34, 'completion_tokens': 22, 'total_tokens': 56}}, 'usage_excluding_cached_inference': {'total_cost': 0}}, human_input=['exit'])"
      ]
     },
     "execution_count": 3,
     "metadata": {},
     "output_type": "execute_result"
    }
   ],
   "source": [
    "# 4. Chat directly with our agent\n",
    "my_agent.run(\"In one sentence, what's the big deal about AI?\")"
   ]
  },
  {
   "cell_type": "markdown",
   "id": "463e3643-00f9-4517-8dec-2cc92f24e610",
   "metadata": {},
   "source": [
    "## Human in the loop"
   ]
  },
  {
   "cell_type": "code",
   "execution_count": 4,
   "id": "bee13fda-ea59-4587-b82e-28fc0f16c4bf",
   "metadata": {},
   "outputs": [],
   "source": [
    "from autogen import ConversableAgent\n",
    "\n",
    "# Put your key in the OPENAI_API_KEY environment variable\n",
    "llm_config = {\"api_type\": \"openai\", \"model\": \"gpt-4o-mini\"}\n",
    "\n",
    "planner_system_message = \"\"\"You are a classroom lesson agent.\n",
    "Given a topic, write a lesson plan for a fourth grade class.\n",
    "Use the following format:\n",
    "<title>Lesson plan title</title>\n",
    "<learning_objectives>Key learning objectives</learning_objectives>\n",
    "<script>How to introduce the topic to the kids</script>\n",
    "\"\"\"\n",
    "\n",
    "my_agent = ConversableAgent(\n",
    "    name=\"lesson_agent\",\n",
    "    llm_config=llm_config,\n",
    "    system_message=planner_system_message,\n",
    ")\n",
    "\n",
    "# 1. Create our \"human\" agent\n",
    "the_human = ConversableAgent(\n",
    "    name=\"human\",\n",
    "    human_input_mode=\"ALWAYS\",\n",
    ")"
   ]
  },
  {
   "cell_type": "code",
   "execution_count": 5,
   "id": "81ef088d-1172-41b7-bb02-d897ac160faa",
   "metadata": {},
   "outputs": [
    {
     "name": "stdout",
     "output_type": "stream",
     "text": [
      "\u001b[33mhuman\u001b[0m (to lesson_agent):\n",
      "\n",
      "Today, let's introduce our kids to the solar system.\n",
      "\n",
      "--------------------------------------------------------------------------------\n",
      "\u001b[31m\n",
      ">>>>>>>> USING AUTO REPLY...\u001b[0m\n",
      "\u001b[33mlesson_agent\u001b[0m (to human):\n",
      "\n",
      "<title>Exploring the Solar System</title>\n",
      "<learning_objectives>1. Identify and name the planets in our solar system. 2. Understand the concept of orbit and how planets revolve around the sun. 3. Recognize the characteristics of Earth and its unique features compared to other planets.</learning_objectives>\n",
      "<script>Begin the lesson by engaging the students with a question: \"What do you think is out there in space beyond the stars?\" Allow some time for discussion, encouraging them to share their thoughts about planets, stars, and the sun. Then, introduce a short video or animated presentation showing the solar system. As you watch, point out the sun and each planet, explaining their order from the sun. After the video, ask the students, \"What did you find most interesting about the solar system?\" This will spark curiosity and open the floor for further exploration of each planet.</script>\n",
      "\n",
      "--------------------------------------------------------------------------------\n"
     ]
    },
    {
     "name": "stdout",
     "output_type": "stream",
     "text": [
      "Replying as human. Provide feedback to lesson_agent. Press enter to skip and use auto-reply, or type 'exit' to end the conversation:  \n"
     ]
    },
    {
     "name": "stdout",
     "output_type": "stream",
     "text": [
      "\u001b[31m\n",
      ">>>>>>>> NO HUMAN INPUT RECEIVED.\u001b[0m\n",
      "\u001b[31m\n",
      ">>>>>>>> USING AUTO REPLY...\u001b[0m\n",
      "\u001b[33mhuman\u001b[0m (to lesson_agent):\n",
      "\n",
      "\n",
      "\n",
      "--------------------------------------------------------------------------------\n",
      "\u001b[31m\n",
      ">>>>>>>> USING AUTO REPLY...\u001b[0m\n",
      "\u001b[33mlesson_agent\u001b[0m (to human):\n",
      "\n",
      "It seems like you might have submitted your message by mistake. If you have any further requests or need additional information for the lesson plan or any other subject, feel free to let me know!\n",
      "\n",
      "--------------------------------------------------------------------------------\n"
     ]
    },
    {
     "name": "stdout",
     "output_type": "stream",
     "text": [
      "Replying as human. Provide feedback to lesson_agent. Press enter to skip and use auto-reply, or type 'exit' to end the conversation:  Today, let's introduce our kids to the mars system.\n"
     ]
    },
    {
     "name": "stdout",
     "output_type": "stream",
     "text": [
      "\u001b[33mhuman\u001b[0m (to lesson_agent):\n",
      "\n",
      "Today, let's introduce our kids to the mars system.\n",
      "\n",
      "--------------------------------------------------------------------------------\n",
      "\u001b[31m\n",
      ">>>>>>>> USING AUTO REPLY...\u001b[0m\n",
      "\u001b[33mlesson_agent\u001b[0m (to human):\n",
      "\n",
      "<title>Discovering the Mars System</title>\n",
      "<learning_objectives>1. Identify Mars as the fourth planet from the sun and describe its key features. 2. Understand the significance of Mars in the search for life beyond Earth. 3. Explore the characteristics of Mars' atmosphere, surface, and potential for human colonization.</learning_objectives>\n",
      "<script>Start the lesson by asking students, \"What do you know about Mars?\" Encourage them to share any facts or thoughts they have about the planet. Show a short video clip or slideshow highlighting Mars' stunning features, such as its red coloration, polar ice caps, and prominent volcanoes like Olympus Mons. Discuss some intriguing points, such as the presence of water on Mars and its thin atmosphere. Pose questions like, \"Why do scientists believe that Mars might have had life in the past?\" This encourages critical thinking and stimulates a conversation about the scientific missions to Mars, such as the Mars Rover explorations. Conclude with an interactive activity where students can create their own Mars landscapes using craft supplies, promoting creativity and reinforcing the learning points about the planet's surface!</script>\n",
      "\n",
      "--------------------------------------------------------------------------------\n"
     ]
    },
    {
     "name": "stdout",
     "output_type": "stream",
     "text": [
      "Replying as human. Provide feedback to lesson_agent. Press enter to skip and use auto-reply, or type 'exit' to end the conversation:  About moon planet in Czech language.\n"
     ]
    },
    {
     "name": "stdout",
     "output_type": "stream",
     "text": [
      "\u001b[33mhuman\u001b[0m (to lesson_agent):\n",
      "\n",
      "About moon planet in Czech language.\n",
      "\n",
      "--------------------------------------------------------------------------------\n",
      "\u001b[31m\n",
      ">>>>>>>> USING AUTO REPLY...\u001b[0m\n",
      "\u001b[33mlesson_agent\u001b[0m (to human):\n",
      "\n",
      "<title>Objevování Měsíce</title>\n",
      "<learning_objectives>1. Identifikovat Měsíc jako přirozeného satelita Země a popsat jeho hlavní vlastnosti. 2. Porozumět pohybu Měsíce kolem Země a jeho fázím. 3. Zjistit význam Měsíce pro Zemi a lidskou kulturu.</learning_objectives>\n",
      "<script>Začněte hodinu otázkou: \"Co víte o Měsíci?\" Povzbuďte studenty, aby sdíleli své myšlenky a fakta o Měsíci. Poté sledujte krátké video nebo prezentaci, která ukazuje Měsíc v různých fázích. Vysvětlete, jak Měsíc obíhá kolem Země a co způsobuje jeho fáze. Diskutujte o zajímavých bodech, jako jsou přílivy a odlivy, které Měsíc ovlivňuje. Zeptejte se studentů: \"Jaký byl Měsíc v lidské kultuře a mytologii?\" To povzbudí kritické myšlení. Nakonec můžete provést kreativní aktivitu, kdy studenti vytvoří vlastní model Měsíce pomocí papírových koulí a barev, což podpoří jejich představivost a upevní poznatky o tomto úžasném nebeském tělese!</script>\n",
      "\n",
      "--------------------------------------------------------------------------------\n"
     ]
    },
    {
     "name": "stdout",
     "output_type": "stream",
     "text": [
      "Replying as human. Provide feedback to lesson_agent. Press enter to skip and use auto-reply, or type 'exit' to end the conversation:  exit\n"
     ]
    },
    {
     "data": {
      "text/plain": [
       "ChatResult(chat_id=None, chat_history=[{'content': \"Today, let's introduce our kids to the solar system.\", 'role': 'assistant', 'name': 'human'}, {'content': '<title>Exploring the Solar System</title>\\n<learning_objectives>1. Identify and name the planets in our solar system. 2. Understand the concept of orbit and how planets revolve around the sun. 3. Recognize the characteristics of Earth and its unique features compared to other planets.</learning_objectives>\\n<script>Begin the lesson by engaging the students with a question: \"What do you think is out there in space beyond the stars?\" Allow some time for discussion, encouraging them to share their thoughts about planets, stars, and the sun. Then, introduce a short video or animated presentation showing the solar system. As you watch, point out the sun and each planet, explaining their order from the sun. After the video, ask the students, \"What did you find most interesting about the solar system?\" This will spark curiosity and open the floor for further exploration of each planet.</script>', 'role': 'user', 'name': 'lesson_agent'}, {'content': '', 'role': 'assistant', 'name': 'human'}, {'content': 'It seems like you might have submitted your message by mistake. If you have any further requests or need additional information for the lesson plan or any other subject, feel free to let me know!', 'role': 'user', 'name': 'lesson_agent'}, {'content': \"Today, let's introduce our kids to the mars system.\", 'role': 'assistant', 'name': 'human'}, {'content': '<title>Discovering the Mars System</title>\\n<learning_objectives>1. Identify Mars as the fourth planet from the sun and describe its key features. 2. Understand the significance of Mars in the search for life beyond Earth. 3. Explore the characteristics of Mars\\' atmosphere, surface, and potential for human colonization.</learning_objectives>\\n<script>Start the lesson by asking students, \"What do you know about Mars?\" Encourage them to share any facts or thoughts they have about the planet. Show a short video clip or slideshow highlighting Mars\\' stunning features, such as its red coloration, polar ice caps, and prominent volcanoes like Olympus Mons. Discuss some intriguing points, such as the presence of water on Mars and its thin atmosphere. Pose questions like, \"Why do scientists believe that Mars might have had life in the past?\" This encourages critical thinking and stimulates a conversation about the scientific missions to Mars, such as the Mars Rover explorations. Conclude with an interactive activity where students can create their own Mars landscapes using craft supplies, promoting creativity and reinforcing the learning points about the planet\\'s surface!</script>', 'role': 'user', 'name': 'lesson_agent'}, {'content': 'About moon planet in Czech language.', 'role': 'assistant', 'name': 'human'}, {'content': '<title>Objevování Měsíce</title>\\n<learning_objectives>1. Identifikovat Měsíc jako přirozeného satelita Země a popsat jeho hlavní vlastnosti. 2. Porozumět pohybu Měsíce kolem Země a jeho fázím. 3. Zjistit význam Měsíce pro Zemi a lidskou kulturu.</learning_objectives>\\n<script>Začněte hodinu otázkou: \"Co víte o Měsíci?\" Povzbuďte studenty, aby sdíleli své myšlenky a fakta o Měsíci. Poté sledujte krátké video nebo prezentaci, která ukazuje Měsíc v různých fázích. Vysvětlete, jak Měsíc obíhá kolem Země a co způsobuje jeho fáze. Diskutujte o zajímavých bodech, jako jsou přílivy a odlivy, které Měsíc ovlivňuje. Zeptejte se studentů: \"Jaký byl Měsíc v lidské kultuře a mytologii?\" To povzbudí kritické myšlení. Nakonec můžete provést kreativní aktivitu, kdy studenti vytvoří vlastní model Měsíce pomocí papírových koulí a barev, což podpoří jejich představivost a upevní poznatky o tomto úžasném nebeském tělese!</script>', 'role': 'user', 'name': 'lesson_agent'}], summary='<title>Objevování Měsíce</title>\\n<learning_objectives>1. Identifikovat Měsíc jako přirozeného satelita Země a popsat jeho hlavní vlastnosti. 2. Porozumět pohybu Měsíce kolem Země a jeho fázím. 3. Zjistit význam Měsíce pro Zemi a lidskou kulturu.</learning_objectives>\\n<script>Začněte hodinu otázkou: \"Co víte o Měsíci?\" Povzbuďte studenty, aby sdíleli své myšlenky a fakta o Měsíci. Poté sledujte krátké video nebo prezentaci, která ukazuje Měsíc v různých fázích. Vysvětlete, jak Měsíc obíhá kolem Země a co způsobuje jeho fáze. Diskutujte o zajímavých bodech, jako jsou přílivy a odlivy, které Měsíc ovlivňuje. Zeptejte se studentů: \"Jaký byl Měsíc v lidské kultuře a mytologii?\" To povzbudí kritické myšlení. Nakonec můžete provést kreativní aktivitu, kdy studenti vytvoří vlastní model Měsíce pomocí papírových koulí a barev, což podpoří jejich představivost a upevní poznatky o tomto úžasném nebeském tělese!</script>', cost={'usage_including_cached_inference': {'total_cost': 0.00065445, 'gpt-4o-mini-2024-07-18': {'cost': 0.00065445, 'prompt_tokens': 1295, 'completion_tokens': 767, 'total_tokens': 2062}}, 'usage_excluding_cached_inference': {'total_cost': 0.00065445, 'gpt-4o-mini-2024-07-18': {'cost': 0.00065445, 'prompt_tokens': 1295, 'completion_tokens': 767, 'total_tokens': 2062}}}, human_input=['', \"Today, let's introduce our kids to the mars system.\", 'About moon planet in Czech language.', 'exit'])"
      ]
     },
     "execution_count": 5,
     "metadata": {},
     "output_type": "execute_result"
    }
   ],
   "source": [
    "# 2. Initiate our chat between the agents\n",
    "the_human.initiate_chat(\n",
    "    recipient=my_agent,\n",
    "    message=\"Today, let's introduce our kids to the solar system.\"\n",
    "    )"
   ]
  }
 ],
 "metadata": {
  "kernelspec": {
   "display_name": "Python 3 (ipykernel)",
   "language": "python",
   "name": "python3"
  },
  "language_info": {
   "codemirror_mode": {
    "name": "ipython",
    "version": 3
   },
   "file_extension": ".py",
   "mimetype": "text/x-python",
   "name": "python",
   "nbconvert_exporter": "python",
   "pygments_lexer": "ipython3",
   "version": "3.11.4"
  }
 },
 "nbformat": 4,
 "nbformat_minor": 5
}
