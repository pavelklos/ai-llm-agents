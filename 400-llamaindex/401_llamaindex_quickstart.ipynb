{
 "cells": [
  {
   "cell_type": "markdown",
   "id": "accbde67-9c7e-41b0-9329-8052e2ef365b",
   "metadata": {},
   "source": [
    "# LlamaIndex: Quickstart"
   ]
  },
  {
   "cell_type": "markdown",
   "id": "5cb42466-306d-49b1-b814-6674b60451e4",
   "metadata": {},
   "source": [
    "- Quickstart<br>\n",
    "  https://docs.llamaindex.ai/en/stable/#getting-started"
   ]
  },
  {
   "cell_type": "markdown",
   "id": "fa1039ae-8255-4ec0-8c3a-2757a8f0ae95",
   "metadata": {},
   "source": [
    "## SETUP"
   ]
  },
  {
   "cell_type": "code",
   "execution_count": 1,
   "id": "0ce6eafa-f6ef-4ff1-8d54-17b4fcb71612",
   "metadata": {},
   "outputs": [],
   "source": [
    "import os\n",
    "from dotenv import load_dotenv\n",
    "\n",
    "# Load environment variables (for API key)\n",
    "load_dotenv()\n",
    "\n",
    "# Set up OpenAI API key\n",
    "api_key = os.getenv(\"OPENAI_API_KEY\")\n",
    "if not api_key:\n",
    "    raise ValueError(\"Please set the OPENAI_API_KEY environment variable or add it to a .env file\")\n",
    "\n",
    "# Define the model to use\n",
    "MODEL_GPT = \"gpt-4o-mini\""
   ]
  },
  {
   "cell_type": "markdown",
   "id": "f2c1e895-1bbf-49b7-9341-301fa1425cdb",
   "metadata": {},
   "source": [
    "## Default LLM model (gpt-3_5-turbo) + Embedding model (ada v2)"
   ]
  },
  {
   "cell_type": "code",
   "execution_count": 2,
   "id": "037e59fa-5f62-46a7-bc95-8a6d1ce58319",
   "metadata": {},
   "outputs": [],
   "source": [
    "from llama_index.core import VectorStoreIndex, SimpleDirectoryReader\n",
    "\n",
    "documents = SimpleDirectoryReader(\"data\").load_data()\n",
    "index = VectorStoreIndex.from_documents(documents)\n",
    "query_engine = index.as_query_engine()"
   ]
  },
  {
   "cell_type": "code",
   "execution_count": 3,
   "id": "12521744-d800-408c-80a6-eec4f554b252",
   "metadata": {},
   "outputs": [
    {
     "name": "stdout",
     "output_type": "stream",
     "text": [
      "<class 'list'>\n",
      "1\n"
     ]
    }
   ],
   "source": [
    "print(type(documents))\n",
    "print(len(documents))"
   ]
  },
  {
   "cell_type": "code",
   "execution_count": 4,
   "id": "fde29b58-b97b-4a5b-a7e2-82ab1ae329d4",
   "metadata": {},
   "outputs": [
    {
     "name": "stdout",
     "output_type": "stream",
     "text": [
      "The document discusses the concept of creating successful startups by focusing on making something people want rather than solely on making money. It explores the idea that behaving like a charity or nonprofit can lead to successful business models, using examples like Craigslist and Google in their early stages. The document also touches on the potential of benevolent projects embodied as companies and the value of genuine growth over profits in the startup world.\n"
     ]
    }
   ],
   "source": [
    "response = query_engine.query(\"What is the document about, briefly?\")\n",
    "print(response)"
   ]
  },
  {
   "cell_type": "code",
   "execution_count": 5,
   "id": "abd12094-689d-49be-9acd-ae6df0f39bd0",
   "metadata": {},
   "outputs": [
    {
     "name": "stdout",
     "output_type": "stream",
     "text": [
      "Doc ID: b9419aff-ba34-44c9-8240-efc613550d49\n",
      "Text: Be good  April 2008(This essay is derived from a talk at the\n",
      "2008 Startup School.)About a month after we started Y Combinator we\n",
      "came up with the phrase that became our motto: Make something people\n",
      "want.  We've learned a lot since then, but if I were choosing now\n",
      "that's still the one I'd pick.Another thing we tell founders is not to\n",
      "worry too mu...\n"
     ]
    }
   ],
   "source": [
    "print(documents[0])"
   ]
  },
  {
   "cell_type": "markdown",
   "id": "582e6b77-88e1-4992-a8c0-c306a5545303",
   "metadata": {},
   "source": [
    "## Set LLM model (gpt-4o-mini) + default Embedding model (ada v2)"
   ]
  },
  {
   "cell_type": "code",
   "execution_count": 8,
   "id": "fbe7b5ea-0010-498e-8313-68d587e8caf3",
   "metadata": {},
   "outputs": [],
   "source": [
    "from llama_index.core import VectorStoreIndex, SimpleDirectoryReader\n",
    "from llama_index.llms.openai import OpenAI\n",
    "\n",
    "# Create LLM with specific model\n",
    "llm = OpenAI(model=\"gpt-4o-mini\", temperature=0.1)\n",
    "\n",
    "# When loading documents\n",
    "documents = SimpleDirectoryReader('data').load_data()\n",
    "\n",
    "# Create index with custom LLM\n",
    "index = VectorStoreIndex.from_documents(documents, llm=llm)\n",
    "\n",
    "# Or when querying\n",
    "query_engine = index.as_query_engine(llm=llm)"
   ]
  },
  {
   "cell_type": "code",
   "execution_count": 9,
   "id": "078a9ab0-c5f8-43c5-b121-8b3eab420aa8",
   "metadata": {},
   "outputs": [],
   "source": [
    "response = query_engine.query(\"What is the document about, briefly, answer in czech language and spanish language?\")"
   ]
  },
  {
   "cell_type": "code",
   "execution_count": 11,
   "id": "b5e9f423-b083-4fee-8a85-e63f5efbae78",
   "metadata": {},
   "outputs": [
    {
     "name": "stdout",
     "output_type": "stream",
     "text": [
      "<class 'llama_index.core.base.response.schema.Response'>\n"
     ]
    }
   ],
   "source": [
    "print(type(response))"
   ]
  },
  {
   "cell_type": "code",
   "execution_count": 12,
   "id": "26c52071-1869-4f61-87e3-451161fd2ee5",
   "metadata": {},
   "outputs": [
    {
     "name": "stdout",
     "output_type": "stream",
     "text": [
      "Dokument se zabývá myšlenkou, že úspěšné startupy by měly vytvářet produkty, které lidé chtějí, a nemusí se příliš obávat obchodního modelu na začátku. Zmiňuje příklady jako Craigslist a Google, které fungovaly jako charitativní organizace, a zdůrazňuje, že benevolence může přitahovat investory a talentované zaměstnance.\n",
      "\n",
      "El documento trata sobre la idea de que las startups exitosas deben crear productos que la gente quiera y no deben preocuparse demasiado por el modelo de negocio al principio. Menciona ejemplos como Craigslist y Google, que funcionaron como organizaciones benéficas, y enfatiza que la benevolencia puede atraer inversores y empleados talentosos.\n"
     ]
    }
   ],
   "source": [
    "print(response)"
   ]
  },
  {
   "cell_type": "code",
   "execution_count": 13,
   "id": "6626d590-59ac-4011-82ca-1077fe0a3fa4",
   "metadata": {},
   "outputs": [
    {
     "data": {
      "text/plain": [
       "Response(response='Dokument se zabývá myšlenkou, že úspěšné startupy by měly vytvářet produkty, které lidé chtějí, a nemusí se příliš obávat obchodního modelu na začátku. Zmiňuje příklady jako Craigslist a Google, které fungovaly jako charitativní organizace, a zdůrazňuje, že benevolence může přitahovat investory a talentované zaměstnance.\\n\\nEl documento trata sobre la idea de que las startups exitosas deben crear productos que la gente quiera y no deben preocuparse demasiado por el modelo de negocio al principio. Menciona ejemplos como Craigslist y Google, que funcionaron como organizaciones benéficas, y enfatiza que la benevolencia puede atraer inversores y empleados talentosos.', source_nodes=[NodeWithScore(node=TextNode(id_='a2e3a3d4-41e3-46ca-8612-455e86dac088', embedding=None, metadata={'file_path': 'C:\\\\Users\\\\pavel\\\\projects\\\\ai-llm-agents\\\\400-llamaindex\\\\data\\\\be-good.txt', 'file_name': 'be-good.txt', 'file_type': 'text/plain', 'file_size': 16710, 'creation_date': '2025-03-26', 'last_modified_date': '2024-06-23'}, excluded_embed_metadata_keys=['file_name', 'file_type', 'file_size', 'creation_date', 'last_modified_date', 'last_accessed_date'], excluded_llm_metadata_keys=['file_name', 'file_type', 'file_size', 'creation_date', 'last_modified_date', 'last_accessed_date'], relationships={<NodeRelationship.SOURCE: '1'>: RelatedNodeInfo(node_id='8534ba5c-e1a1-49ca-8ff7-f258f03a875f', node_type='4', metadata={'file_path': 'C:\\\\Users\\\\pavel\\\\projects\\\\ai-llm-agents\\\\400-llamaindex\\\\data\\\\be-good.txt', 'file_name': 'be-good.txt', 'file_type': 'text/plain', 'file_size': 16710, 'creation_date': '2025-03-26', 'last_modified_date': '2024-06-23'}, hash='66934670948c85844c8f8bbc149ad5eac55c068fa9d10b09d5746860e3e7b3ac'), <NodeRelationship.NEXT: '3'>: RelatedNodeInfo(node_id='59b95b07-a377-4cbf-b612-91572fd2f37a', node_type='1', metadata={}, hash='00f4e3737913ca333151f03d0d509e118cf1cbc3a34c81500997748da6c505d5')}, metadata_template='{key}: {value}', metadata_separator='\\n', text=\"Be good\\n\\nApril 2008(This essay is derived from a talk at the 2008 Startup School.)About a month after we started Y Combinator we came up with the\\nphrase that became our motto: Make something people want.  We've\\nlearned a lot since then, but if I were choosing now that's still\\nthe one I'd pick.Another thing we tell founders is not to worry too much about the\\nbusiness model, at least at first.  Not because making money is\\nunimportant, but because it's so much easier than building something\\ngreat.A couple weeks ago I realized that if you put those two ideas\\ntogether, you get something surprising.  Make something people want.\\nDon't worry too much about making money.  What you've got is a\\ndescription of a charity.When you get an unexpected result like this, it could either be a\\nbug or a new discovery.  Either businesses aren't supposed to be\\nlike charities, and we've proven by reductio ad absurdum that one\\nor both of the principles we began with is false.  Or we have a new\\nidea.I suspect it's the latter, because as soon as this thought occurred\\nto me, a whole bunch of other things fell into place.ExamplesFor example, Craigslist.  It's not a charity, but they run it like\\none.  And they're astoundingly successful.  When you scan down the\\nlist of most popular web sites, the number of employees at Craigslist\\nlooks like a misprint. Their revenues aren't as high as they could\\nbe, but most startups would be happy to trade places with them.In Patrick O'Brian's novels, his captains always try to get upwind\\nof their opponents.  If you're upwind, you decide when and if to\\nengage the other ship.  Craigslist is effectively upwind of enormous\\nrevenues.  They'd face some challenges if they wanted to make more,\\nbut not the sort you face when you're tacking upwind, trying to\\nforce a crappy product on ambivalent users by spending ten times\\nas much on sales as on development.  [1]I'm not saying startups should aim to end up like Craigslist.\\nThey're a product of unusual circumstances.  But they're a good\\nmodel for the early phases.Google looked a lot like a charity in the beginning. They didn't\\nhave ads for over a year.  At year 1, Google was indistinguishable\\nfrom a nonprofit.  If a nonprofit or government organization had\\nstarted a project to index the web, Google at year 1 is the limit\\nof what they'd have produced.Back when I was working on spam filters I thought it would be a\\ngood idea to have a web-based email service with good spam filtering.\\nI wasn't thinking of it as a company.  I just wanted to keep people\\nfrom getting spammed.  But as I thought more about this project, I\\nrealized it would probably have to be a company.  It would cost\\nsomething to run, and it would be a pain to fund with grants and\\ndonations.That was a surprising realization.  Companies often claim to be\\nbenevolent, but it was surprising to realize there were purely\\nbenevolent projects that had to be embodied as companies to work.I didn't want to start another company, so I didn't do it.  But if\\nsomeone had, they'd probably be quite rich now.  There was a window\\nof about two years when spam was increasing rapidly but all the big\\nemail services had terrible filters.  If someone had launched a\\nnew, spam-free mail service, users would have flocked to it.Notice the pattern here?  From either direction we get to the same\\nspot.  If you start from successful startups, you find they often\\nbehaved like nonprofits.  And if you start from ideas for nonprofits,\\nyou find they'd often make good startups.PowerHow wide is this territory?  Would all good nonprofits be good\\ncompanies?  Possibly not.  What makes Google so valuable is that\\ntheir users have money.  If you make people with money love you,\\nyou can probably get some of it.  But could you also base a successful\\nstartup on behaving like a nonprofit to people who don't have money?\\nCould you, for example, grow a successful startup out of curing an\\nunfashionable but deadly disease like malaria?I'm not sure, but I suspect that if you pushed this idea, you'd be\\nsurprised how far it would go.\", mimetype='text/plain', start_char_idx=0, end_char_idx=4053, metadata_seperator='\\n', text_template='{metadata_str}\\n\\n{content}'), score=0.7467021052832622), NodeWithScore(node=TextNode(id_='933a30e4-f49c-477d-9a52-4aaa41d7747e', embedding=None, metadata={'file_path': 'C:\\\\Users\\\\pavel\\\\projects\\\\ai-llm-agents\\\\400-llamaindex\\\\data\\\\be-good.txt', 'file_name': 'be-good.txt', 'file_type': 'text/plain', 'file_size': 16710, 'creation_date': '2025-03-26', 'last_modified_date': '2024-06-23'}, excluded_embed_metadata_keys=['file_name', 'file_type', 'file_size', 'creation_date', 'last_modified_date', 'last_accessed_date'], excluded_llm_metadata_keys=['file_name', 'file_type', 'file_size', 'creation_date', 'last_modified_date', 'last_accessed_date'], relationships={<NodeRelationship.SOURCE: '1'>: RelatedNodeInfo(node_id='8534ba5c-e1a1-49ca-8ff7-f258f03a875f', node_type='4', metadata={'file_path': 'C:\\\\Users\\\\pavel\\\\projects\\\\ai-llm-agents\\\\400-llamaindex\\\\data\\\\be-good.txt', 'file_name': 'be-good.txt', 'file_type': 'text/plain', 'file_size': 16710, 'creation_date': '2025-03-26', 'last_modified_date': '2024-06-23'}, hash='66934670948c85844c8f8bbc149ad5eac55c068fa9d10b09d5746860e3e7b3ac'), <NodeRelationship.PREVIOUS: '2'>: RelatedNodeInfo(node_id='a33eb105-78bb-483f-b108-9a07bce4891f', node_type='1', metadata={'file_path': 'C:\\\\Users\\\\pavel\\\\projects\\\\ai-llm-agents\\\\400-llamaindex\\\\data\\\\be-good.txt', 'file_name': 'be-good.txt', 'file_type': 'text/plain', 'file_size': 16710, 'creation_date': '2025-03-26', 'last_modified_date': '2024-06-23'}, hash='5d1039d4417d51204f71d251d12b3f0ac7cfe3950e1843a57457adde7c4f9562'), <NodeRelationship.NEXT: '3'>: RelatedNodeInfo(node_id='b51120f1-2b4f-4520-aade-e5342c3294be', node_type='1', metadata={}, hash='a8bb1507b6bd2fffdf4285065eb70b3bed43e3bf93eb7d4c7b97842b38fb3e53')}, metadata_template='{key}: {value}', metadata_separator='\\n', text='They\\'re a search site for\\nindustrial components.  A lot of people need to search for components,\\nand before Octopart there was no good way to do it.  That, it turned\\nout, was no coincidence.Octopart built the right way to search for components.  Users like\\nit and they\\'ve been growing rapidly.  And yet for most of Octopart\\'s\\nlife, the biggest distributor, Digi-Key, has been trying to force\\nthem take their prices off the site.  Octopart is sending them\\ncustomers for free, and yet Digi-Key is trying to make that traffic\\nstop.  Why?  Because their current business model depends on\\novercharging people who have incomplete information about prices.\\nThey don\\'t want search to work.The Octoparts are the nicest guys in the world.  They dropped out\\nof the PhD program in physics at Berkeley to do this.  They just\\nwanted to fix a problem they encountered in their research.  Imagine\\nhow much time you could save the world\\'s engineers if they could\\ndo searches online.  So when I hear that a big, evil company is\\ntrying to stop them in order to keep search broken, it makes me\\nreally want to help them. It makes me spend more time on the Octoparts\\nthan I do with most of the other startups we\\'ve funded.  It just\\nmade me spend several minutes telling you how great they are.  Why?\\nBecause they\\'re good guys and they\\'re trying to help the world.If you\\'re benevolent, people will rally around you: investors,\\ncustomers, other companies, and potential employees.  In the long\\nterm the most important may be the potential employees.  I think\\neveryone knows now that \\ngood hackers are much better than mediocre\\nones.  If you can attract the best hackers to work for you, as\\nGoogle has, you have a big advantage.  And the very best hackers\\ntend to be idealistic.  They\\'re not desperate for a job.  They can\\nwork wherever they want.  So most want to work on things that will\\nmake the world better.CompassBut the most important advantage of being good is that it acts as\\na compass.  One of the hardest parts of doing a startup is that you\\nhave so many choices.  There are just two or three of you, and a\\nthousand things you could do. How do you decide?Here\\'s the answer: Do whatever\\'s best for your users.  You can hold\\nonto this like a rope in a hurricane, and it will save you if\\nanything can.  Follow it and it will take you through everything\\nyou need to do.It\\'s even the answer to questions that seem unrelated, like how to\\nconvince investors to give you money.  If you\\'re a good salesman,\\nyou could try to just talk them into it.  But the more reliable\\nroute is to convince them through your users: if you make something\\nusers love enough to tell their friends, you grow exponentially,\\nand that will convince any investor.Being good is a particularly useful strategy for making decisions\\nin complex situations because it\\'s stateless.  It\\'s like telling\\nthe truth.  The trouble with lying is that you have to remember\\neverything you\\'ve said in the past to make sure you don\\'t contradict\\nyourself.  If you tell the truth you don\\'t have to remember anything,\\nand that\\'s a really useful property in domains where things happen\\nfast.For example, Y Combinator has now invested in 80 startups, 57 of\\nwhich are still alive.  (The rest have died or merged or been\\nacquired.)  When you\\'re trying to advise 57 startups, it turns out\\nyou have to have a stateless algorithm.  You can\\'t have ulterior\\nmotives when you have 57 things going on at once, because you can\\'t\\nremember them.  So our rule is just to do whatever\\'s best for the\\nfounders.  Not because we\\'re particularly benevolent, but because\\nit\\'s the only algorithm that works on that scale.When you write something telling people to be good, you seem to be\\nclaiming to be good yourself.  So I want to say explicitly that I\\nam not a particularly good person.  When I was a kid I was firmly\\nin the camp of bad.  The way adults used the word good, it seemed\\nto be synonymous with quiet, so I grew up very suspicious of it.You know how there are some people whose names come up in conversation\\nand everyone says \"He\\'s such a great guy?\"  People never say\\nthat about me.  The best I get is \"he means well.\"', mimetype='text/plain', start_char_idx=10143, end_char_idx=14285, metadata_seperator='\\n', text_template='{metadata_str}\\n\\n{content}'), score=0.7408719924637168)], metadata={'a2e3a3d4-41e3-46ca-8612-455e86dac088': {'file_path': 'C:\\\\Users\\\\pavel\\\\projects\\\\ai-llm-agents\\\\400-llamaindex\\\\data\\\\be-good.txt', 'file_name': 'be-good.txt', 'file_type': 'text/plain', 'file_size': 16710, 'creation_date': '2025-03-26', 'last_modified_date': '2024-06-23'}, '933a30e4-f49c-477d-9a52-4aaa41d7747e': {'file_path': 'C:\\\\Users\\\\pavel\\\\projects\\\\ai-llm-agents\\\\400-llamaindex\\\\data\\\\be-good.txt', 'file_name': 'be-good.txt', 'file_type': 'text/plain', 'file_size': 16710, 'creation_date': '2025-03-26', 'last_modified_date': '2024-06-23'}})"
      ]
     },
     "execution_count": 13,
     "metadata": {},
     "output_type": "execute_result"
    }
   ],
   "source": [
    "response"
   ]
  }
 ],
 "metadata": {
  "kernelspec": {
   "display_name": "Python 3 (ipykernel)",
   "language": "python",
   "name": "python3"
  },
  "language_info": {
   "codemirror_mode": {
    "name": "ipython",
    "version": 3
   },
   "file_extension": ".py",
   "mimetype": "text/x-python",
   "name": "python",
   "nbconvert_exporter": "python",
   "pygments_lexer": "ipython3",
   "version": "3.11.4"
  }
 },
 "nbformat": 4,
 "nbformat_minor": 5
}
