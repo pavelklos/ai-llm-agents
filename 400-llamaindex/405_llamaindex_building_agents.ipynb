{
 "cells": [
  {
   "cell_type": "markdown",
   "id": "accbde67-9c7e-41b0-9329-8052e2ef365b",
   "metadata": {},
   "source": [
    "# LlamaIndex: Building agent"
   ]
  },
  {
   "cell_type": "markdown",
   "id": "5cb42466-306d-49b1-b814-6674b60451e4",
   "metadata": {},
   "source": [
    "- Building agent<br>\n",
    "  https://docs.llamaindex.ai/en/stable/understanding/agent/\n",
    "  - [Adding other tools](https://docs.llamaindex.ai/en/stable/understanding/agent/tools/)\n",
    "  - [Maintaining state](https://docs.llamaindex.ai/en/stable/understanding/agent/state/)\n",
    "  - [Streaming output and events](https://docs.llamaindex.ai/en/stable/understanding/agent/streaming/)\n",
    "  - [Human in the loop](https://docs.llamaindex.ai/en/stable/understanding/agent/human_in_the_loop/)\n",
    "  - [Multi-agent systems with AgentWorkflow](https://docs.llamaindex.ai/en/stable/understanding/agent/multi_agent/)<br>\n",
    "- Tutorial repo\n",
    "  - https://github.com/run-llama/python-agents-tutorial"
   ]
  },
  {
   "cell_type": "markdown",
   "id": "fa1039ae-8255-4ec0-8c3a-2757a8f0ae95",
   "metadata": {
    "jp-MarkdownHeadingCollapsed": true
   },
   "source": [
    "## SETUP"
   ]
  },
  {
   "cell_type": "code",
   "execution_count": 1,
   "id": "0ce6eafa-f6ef-4ff1-8d54-17b4fcb71612",
   "metadata": {},
   "outputs": [],
   "source": [
    "import os\n",
    "from dotenv import load_dotenv\n",
    "\n",
    "# Load environment variables (for API key)\n",
    "load_dotenv()\n",
    "\n",
    "# Set up OpenAI API key\n",
    "api_key = os.getenv(\"OPENAI_API_KEY\")\n",
    "if not api_key:\n",
    "    raise ValueError(\"Please set the OPENAI_API_KEY environment variable or add it to a .env file\")\n",
    "\n",
    "# Define the model to use\n",
    "MODEL_GPT = \"gpt-4o-mini\""
   ]
  },
  {
   "cell_type": "markdown",
   "id": "7eeceb65-1631-46ed-b47a-94e4db46fce7",
   "metadata": {
    "jp-MarkdownHeadingCollapsed": true
   },
   "source": [
    "## SETUP (LlamaIndex)"
   ]
  },
  {
   "cell_type": "code",
   "execution_count": 2,
   "id": "5a832ef1-35af-4e14-85e2-08907a26a53b",
   "metadata": {},
   "outputs": [],
   "source": [
    "# !pip install llama-index-core llama-index-llms-openai python-dotenv"
   ]
  },
  {
   "cell_type": "code",
   "execution_count": 3,
   "id": "02e3e981-eb98-4ea5-a4e0-519d5806b743",
   "metadata": {},
   "outputs": [],
   "source": [
    "from dotenv import load_dotenv\n",
    "\n",
    "load_dotenv()\n",
    "\n",
    "from llama_index.llms.openai import OpenAI\n",
    "from llama_index.core.agent.workflow import AgentWorkflow\n",
    "from llama_index.core.agent.workflow import FunctionAgent"
   ]
  },
  {
   "cell_type": "markdown",
   "id": "e3d974d0-9c59-4e1a-bd58-1db1b707707f",
   "metadata": {
    "jp-MarkdownHeadingCollapsed": true
   },
   "source": [
    "## Create basic tools"
   ]
  },
  {
   "cell_type": "code",
   "execution_count": 4,
   "id": "260bb57e-750b-4cbf-bee7-d74a08707fa3",
   "metadata": {},
   "outputs": [],
   "source": [
    "def multiply(a: float, b: float) -> float:\n",
    "    \"\"\"Multiply two numbers and returns the product\"\"\"\n",
    "    return a * b\n",
    "\n",
    "def add(a: float, b: float) -> float:\n",
    "    \"\"\"Add two numbers and returns the sum\"\"\"\n",
    "    return a + b"
   ]
  },
  {
   "cell_type": "markdown",
   "id": "deca4f07-49a8-42dc-8b1e-ef4eb0b8b8cd",
   "metadata": {
    "jp-MarkdownHeadingCollapsed": true
   },
   "source": [
    "## Initialize the LLM"
   ]
  },
  {
   "cell_type": "code",
   "execution_count": 5,
   "id": "c675f35b-1a5c-49aa-997e-bd36dbde2dd2",
   "metadata": {},
   "outputs": [],
   "source": [
    "llm = OpenAI(model=\"gpt-4o-mini\")"
   ]
  },
  {
   "cell_type": "markdown",
   "id": "d7435a5a-dbf3-4df2-b14f-7fa9a70e68f5",
   "metadata": {
    "jp-MarkdownHeadingCollapsed": true
   },
   "source": [
    "## Initialize the agent"
   ]
  },
  {
   "cell_type": "code",
   "execution_count": 6,
   "id": "b71866c2-fb1c-43c2-86e2-bab9feeea58d",
   "metadata": {},
   "outputs": [],
   "source": [
    "workflow = FunctionAgent(\n",
    "    name=\"Agent\",\n",
    "    description=\"Useful for basic mathematical operations\",\n",
    "    tools=[multiply, add],\n",
    "    llm=llm,\n",
    "    system_prompt=\"You are an agent that can perform basic mathematical operations using tools.\",\n",
    ")"
   ]
  },
  {
   "cell_type": "markdown",
   "id": "58c25346-eee8-4d11-8b79-dc20c9b2183c",
   "metadata": {
    "jp-MarkdownHeadingCollapsed": true
   },
   "source": [
    "## Ask a question"
   ]
  },
  {
   "cell_type": "code",
   "execution_count": 7,
   "id": "91ffa8c4-689c-42ef-82c6-b7b79ae4b013",
   "metadata": {},
   "outputs": [],
   "source": [
    "# async def main():\n",
    "#     response = await workflow.run(user_msg=\"What is 20+(2*4)?\")\n",
    "#     print(response)\n",
    "\n",
    "# if __name__ == \"__main__\":\n",
    "#     import asyncio\n",
    "\n",
    "#     asyncio.run(main())"
   ]
  },
  {
   "cell_type": "code",
   "execution_count": 8,
   "id": "151a4cc5-0815-4077-b2ec-07457cc9f6da",
   "metadata": {},
   "outputs": [
    {
     "name": "stdout",
     "output_type": "stream",
     "text": [
      "The result of \\( 20 + (2 \\times 4) \\) is 28.\n"
     ]
    }
   ],
   "source": [
    "response = await workflow.run(user_msg=\"What is 20+(2*4)?\")\n",
    "print(response)"
   ]
  },
  {
   "cell_type": "markdown",
   "id": "155583b9-7734-4a38-8a49-5e3145175bcc",
   "metadata": {
    "jp-MarkdownHeadingCollapsed": true
   },
   "source": [
    "## Adding other tools"
   ]
  },
  {
   "cell_type": "markdown",
   "id": "09d7c20e-ac3c-4b3d-ac3e-b1646dd4f200",
   "metadata": {},
   "source": [
    "### Using an existing tool from LlamaHub"
   ]
  },
  {
   "cell_type": "markdown",
   "id": "d55786d2-3602-46bb-a6bd-6e4f18eba9a6",
   "metadata": {},
   "source": [
    "**Yahoo Finance tool from LlamaHub**\n",
    "- https://llamahub.ai/l/tools/llama-index-tools-yahoo-finance?from=tools"
   ]
  },
  {
   "cell_type": "code",
   "execution_count": 9,
   "id": "d8c65d83-706a-4ef9-a41a-137bd5829b0e",
   "metadata": {},
   "outputs": [],
   "source": [
    "# !pip install llama-index-tools-yahoo-finance"
   ]
  },
  {
   "cell_type": "code",
   "execution_count": 10,
   "id": "e8ff9436-b4f2-46db-9ef2-5ea5a6ed7562",
   "metadata": {},
   "outputs": [],
   "source": [
    "from llama_index.tools.yahoo_finance import YahooFinanceToolSpec"
   ]
  },
  {
   "cell_type": "code",
   "execution_count": 11,
   "id": "e08dcbd1-1633-4a42-9fef-c0cb8af1d5f7",
   "metadata": {},
   "outputs": [],
   "source": [
    "finance_tools = YahooFinanceToolSpec().to_tool_list()"
   ]
  },
  {
   "cell_type": "code",
   "execution_count": 12,
   "id": "65c09447-10bc-441c-8835-d1365156a87a",
   "metadata": {},
   "outputs": [],
   "source": [
    "finance_tools.extend([multiply, add])"
   ]
  },
  {
   "cell_type": "code",
   "execution_count": 13,
   "id": "defe8c63-bf0e-4e3d-88da-7f7d1eeee0db",
   "metadata": {},
   "outputs": [],
   "source": [
    "workflow = FunctionAgent(\n",
    "    name=\"Agent\",\n",
    "    description=\"Useful for performing financial operations.\",\n",
    "    llm=OpenAI(model=\"gpt-4o-mini\"),\n",
    "    tools=finance_tools,\n",
    "    system_prompt=\"You are a helpful assistant.\",\n",
    ")\n",
    "\n",
    "# async def main():\n",
    "#     response = await workflow.run(\n",
    "#         user_msg=\"What's the current stock price of NVIDIA?\"\n",
    "#     )\n",
    "#     print(response)"
   ]
  },
  {
   "cell_type": "code",
   "execution_count": 14,
   "id": "55aa2e3f-950d-4090-a698-813fce8701f9",
   "metadata": {},
   "outputs": [
    {
     "name": "stdout",
     "output_type": "stream",
     "text": [
      "The current stock price of NVIDIA (NVDA) is $111.43.\n"
     ]
    }
   ],
   "source": [
    "response = await workflow.run(user_msg=\"What's the current stock price of NVIDIA?\")\n",
    "print(response)"
   ]
  },
  {
   "cell_type": "code",
   "execution_count": 15,
   "id": "43569202-7ff9-4bca-9028-443182bfd5f1",
   "metadata": {},
   "outputs": [
    {
     "name": "stdout",
     "output_type": "stream",
     "text": [
      "The current stock price of Barrick Gold Corporation (ticker: GOLD) is **$19.56**.\n"
     ]
    }
   ],
   "source": [
    "response = await workflow.run(user_msg=\"What's the current stock price of GOLD?\")\n",
    "print(response)"
   ]
  },
  {
   "cell_type": "markdown",
   "id": "30fb4dad-e0e9-4476-b53d-c09833f6d067",
   "metadata": {},
   "source": [
    "This is cheating a little bit, because our model already knew the ticker symbol for NVIDIA.<br>\n",
    "If it were a less well-known corporation you would need to add a search tool like **Tavily** to find the ticker symbol.\n",
    "- https://llamahub.ai/l/tools/llama-index-tools-tavily-research"
   ]
  },
  {
   "cell_type": "markdown",
   "id": "7d861ca0-8f26-4017-a6eb-2b07853270e4",
   "metadata": {},
   "source": [
    "### Building and contributing your own tools"
   ]
  },
  {
   "cell_type": "markdown",
   "id": "87715ed6-ead3-44c3-95fa-8f3c087993b9",
   "metadata": {},
   "source": [
    "Example of what the code of the Yahoo finance tool looks like:<br>\n",
    "[GitHub - LlamaIndex Integrations](https://github.com/run-llama/llama_index/blob/main/llama-index-integrations/tools/llama-index-tools-yahoo-finance/llama_index/tools/yahoo_finance/base.py)\n",
    "- A class that extends BaseToolSpec\n",
    "- A set of arbitrary Python functions\n",
    "- A spec_functions list that maps the functions to the tool's API<br>"
   ]
  },
  {
   "cell_type": "markdown",
   "id": "73b99fd0-a6a3-4aed-98e7-426f9a03a18b",
   "metadata": {},
   "source": [
    "## Maintaining state"
   ]
  },
  {
   "cell_type": "code",
   "execution_count": 18,
   "id": "9675e3f6-6ee7-4752-aef5-de944852c6a7",
   "metadata": {},
   "outputs": [],
   "source": [
    "# from llama_index.core.workflow import Context\n",
    "\n",
    "# ctx = Context(workflow)\n",
    "\n",
    "# ERROR: AttributeError: 'FunctionAgent' object has no attribute '_get_steps'"
   ]
  },
  {
   "cell_type": "code",
   "execution_count": 19,
   "id": "1b508a66-0cbb-4367-b699-e5d308f7e1fc",
   "metadata": {},
   "outputs": [],
   "source": [
    "from llama_index.core.agent.workflow import AgentWorkflow\n",
    "\n",
    "workflow = AgentWorkflow.from_tools_or_functions(\n",
    "    [multiply, add],\n",
    "    llm=llm,\n",
    "    system_prompt=\"You are an agent that can perform basic mathematical operations using tools.\",\n",
    ")"
   ]
  },
  {
   "cell_type": "code",
   "execution_count": 20,
   "id": "accd69ed-2490-4f29-802f-e9340875d75a",
   "metadata": {},
   "outputs": [],
   "source": [
    "from llama_index.core.workflow import Context"
   ]
  },
  {
   "cell_type": "code",
   "execution_count": 21,
   "id": "7518d7c0-2991-472d-95c6-742ee93298e9",
   "metadata": {},
   "outputs": [],
   "source": [
    "ctx = Context(workflow)"
   ]
  },
  {
   "cell_type": "code",
   "execution_count": 22,
   "id": "677ebd0f-9da0-4b0e-9296-db56a5b19250",
   "metadata": {},
   "outputs": [
    {
     "name": "stdout",
     "output_type": "stream",
     "text": [
      "Hello Laurie! How can I assist you today?\n"
     ]
    }
   ],
   "source": [
    "response = await workflow.run(user_msg=\"Hi, my name is Laurie!\", ctx=ctx)\n",
    "print(response)"
   ]
  },
  {
   "cell_type": "code",
   "execution_count": 23,
   "id": "db78cd83-f3c5-4648-862e-dec45f98b411",
   "metadata": {},
   "outputs": [
    {
     "name": "stdout",
     "output_type": "stream",
     "text": [
      "Your name is Laurie!\n"
     ]
    }
   ],
   "source": [
    "response2 = await workflow.run(user_msg=\"What's my name?\", ctx=ctx)\n",
    "print(response2)"
   ]
  },
  {
   "cell_type": "markdown",
   "id": "37ad1122-0cbc-4d05-bcde-9efc1a614b10",
   "metadata": {},
   "source": [
    "### Maintaining state over longer periods"
   ]
  },
  {
   "cell_type": "code",
   "execution_count": 24,
   "id": "8a813c4d-461e-412c-a23b-378445535a72",
   "metadata": {},
   "outputs": [],
   "source": [
    "from llama_index.core.workflow import JsonPickleSerializer, JsonSerializer"
   ]
  },
  {
   "cell_type": "code",
   "execution_count": 25,
   "id": "41d934f5-1a12-4c53-9720-63394a8ebbde",
   "metadata": {},
   "outputs": [],
   "source": [
    "ctx_dict = ctx.to_dict(serializer=JsonSerializer())"
   ]
  },
  {
   "cell_type": "code",
   "execution_count": 26,
   "id": "d458d43f-35b0-46ac-9e79-bbb4f75712bc",
   "metadata": {},
   "outputs": [],
   "source": [
    "restored_ctx = Context.from_dict(\n",
    "    workflow, ctx_dict, serializer=JsonSerializer()\n",
    ")"
   ]
  },
  {
   "cell_type": "code",
   "execution_count": 27,
   "id": "079b08be-cff3-4aa4-a7e8-ff140c41d37e",
   "metadata": {},
   "outputs": [],
   "source": [
    "response3 = await workflow.run(user_msg=\"What's my name?\", ctx=restored_ctx)"
   ]
  },
  {
   "cell_type": "code",
   "execution_count": 28,
   "id": "812cb25c-2c3a-4126-9e4b-f994d7cb73f8",
   "metadata": {},
   "outputs": [
    {
     "name": "stdout",
     "output_type": "stream",
     "text": [
      "Your name is Laurie.\n"
     ]
    }
   ],
   "source": [
    "print(response3)"
   ]
  },
  {
   "cell_type": "markdown",
   "id": "9e572ecf-de43-442b-95ec-5b1ea7938fc8",
   "metadata": {},
   "source": [
    "### Tools and state"
   ]
  },
  {
   "cell_type": "code",
   "execution_count": 29,
   "id": "910288bb-7af4-41ac-9f15-6a221d84a25f",
   "metadata": {},
   "outputs": [],
   "source": [
    "async def set_name(ctx: Context, name: str) -> str:\n",
    "    state = await ctx.get(\"state\")\n",
    "    state[\"name\"] = name\n",
    "    await ctx.set(\"state\", state)\n",
    "    return f\"Name set to {name}\""
   ]
  },
  {
   "cell_type": "code",
   "execution_count": 30,
   "id": "9e21c470-36d4-464a-a1ba-3a223e656969",
   "metadata": {},
   "outputs": [],
   "source": [
    "workflow = AgentWorkflow.from_tools_or_functions(\n",
    "    [set_name],\n",
    "    llm=llm,\n",
    "    system_prompt=\"You are a helpful assistant that can set a name.\",\n",
    "    initial_state={\"name\": \"unset\"},\n",
    ")"
   ]
  },
  {
   "cell_type": "code",
   "execution_count": 31,
   "id": "42369472-f98a-4315-9fe6-25a7ee85f5c1",
   "metadata": {},
   "outputs": [
    {
     "name": "stdout",
     "output_type": "stream",
     "text": [
      "Your name has been set to \"unset.\"\n"
     ]
    }
   ],
   "source": [
    "ctx = Context(workflow)\n",
    "\n",
    "# check if it knows a name before setting it\n",
    "response4 = await workflow.run(user_msg=\"What's my name?\", ctx=ctx)\n",
    "print(str(response4))"
   ]
  },
  {
   "cell_type": "code",
   "execution_count": 32,
   "id": "1ba7d7f7-88fb-49a1-84ff-ad52c33dd11b",
   "metadata": {},
   "outputs": [
    {
     "name": "stdout",
     "output_type": "stream",
     "text": [
      "Your name has been updated to \"Laurie.\"\n"
     ]
    }
   ],
   "source": [
    "response5 = await workflow.run(user_msg=\"My name is Laurie\", ctx=ctx)\n",
    "print(str(response5))"
   ]
  },
  {
   "cell_type": "code",
   "execution_count": 33,
   "id": "175a31fd-1f4e-4ec0-85b3-988d1f416852",
   "metadata": {},
   "outputs": [
    {
     "name": "stdout",
     "output_type": "stream",
     "text": [
      "Name as stored in state:  Laurie\n"
     ]
    }
   ],
   "source": [
    "state = await ctx.get(\"state\")\n",
    "print(\"Name as stored in state: \", state[\"name\"])"
   ]
  }
 ],
 "metadata": {
  "kernelspec": {
   "display_name": "Python 3 (ipykernel)",
   "language": "python",
   "name": "python3"
  },
  "language_info": {
   "codemirror_mode": {
    "name": "ipython",
    "version": 3
   },
   "file_extension": ".py",
   "mimetype": "text/x-python",
   "name": "python",
   "nbconvert_exporter": "python",
   "pygments_lexer": "ipython3",
   "version": "3.11.4"
  }
 },
 "nbformat": 4,
 "nbformat_minor": 5
}
