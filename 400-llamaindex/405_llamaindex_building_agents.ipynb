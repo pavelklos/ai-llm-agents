{
 "cells": [
  {
   "cell_type": "markdown",
   "id": "accbde67-9c7e-41b0-9329-8052e2ef365b",
   "metadata": {},
   "source": [
    "# LlamaIndex: Building agents"
   ]
  },
  {
   "cell_type": "markdown",
   "id": "5cb42466-306d-49b1-b814-6674b60451e4",
   "metadata": {},
   "source": [
    "- Building agents<br>\n",
    "  - [Building an agent](https://docs.llamaindex.ai/en/stable/understanding/agent/)\n",
    "  - [Adding other tools](https://docs.llamaindex.ai/en/stable/understanding/agent/tools/)\n",
    "  - [Maintaining state](https://docs.llamaindex.ai/en/stable/understanding/agent/state/)\n",
    "  - [Streaming output and events](https://docs.llamaindex.ai/en/stable/understanding/agent/streaming/)\n",
    "  - [Human in the loop](https://docs.llamaindex.ai/en/stable/understanding/agent/human_in_the_loop/)\n",
    "  - [Multi-agent systems with AgentWorkflow](https://docs.llamaindex.ai/en/stable/understanding/agent/multi_agent/)<br>\n",
    "- Tutorial repo\n",
    "  - https://github.com/run-llama/python-agents-tutorial"
   ]
  },
  {
   "cell_type": "markdown",
   "id": "fa1039ae-8255-4ec0-8c3a-2757a8f0ae95",
   "metadata": {
    "jp-MarkdownHeadingCollapsed": true
   },
   "source": [
    "## SETUP"
   ]
  },
  {
   "cell_type": "code",
   "execution_count": 1,
   "id": "0ce6eafa-f6ef-4ff1-8d54-17b4fcb71612",
   "metadata": {},
   "outputs": [],
   "source": [
    "import os\n",
    "from dotenv import load_dotenv\n",
    "\n",
    "# Load environment variables (for API key)\n",
    "load_dotenv()\n",
    "\n",
    "# Set up OpenAI API key\n",
    "api_key = os.getenv(\"OPENAI_API_KEY\")\n",
    "if not api_key:\n",
    "    raise ValueError(\"Please set the OPENAI_API_KEY environment variable or add it to a .env file\")\n",
    "\n",
    "# Define the model to use\n",
    "MODEL_GPT = \"gpt-4o-mini\""
   ]
  },
  {
   "cell_type": "markdown",
   "id": "7eeceb65-1631-46ed-b47a-94e4db46fce7",
   "metadata": {
    "jp-MarkdownHeadingCollapsed": true
   },
   "source": [
    "## SETUP (LlamaIndex)"
   ]
  },
  {
   "cell_type": "code",
   "execution_count": 2,
   "id": "5a832ef1-35af-4e14-85e2-08907a26a53b",
   "metadata": {},
   "outputs": [],
   "source": [
    "# !pip install llama-index-core llama-index-llms-openai python-dotenv"
   ]
  },
  {
   "cell_type": "code",
   "execution_count": 3,
   "id": "02e3e981-eb98-4ea5-a4e0-519d5806b743",
   "metadata": {},
   "outputs": [],
   "source": [
    "from dotenv import load_dotenv\n",
    "\n",
    "load_dotenv()\n",
    "\n",
    "from llama_index.llms.openai import OpenAI\n",
    "from llama_index.core.agent.workflow import AgentWorkflow\n",
    "from llama_index.core.agent.workflow import FunctionAgent"
   ]
  },
  {
   "cell_type": "markdown",
   "id": "e3d974d0-9c59-4e1a-bd58-1db1b707707f",
   "metadata": {
    "jp-MarkdownHeadingCollapsed": true
   },
   "source": [
    "## Create basic tools"
   ]
  },
  {
   "cell_type": "code",
   "execution_count": 4,
   "id": "260bb57e-750b-4cbf-bee7-d74a08707fa3",
   "metadata": {},
   "outputs": [],
   "source": [
    "def multiply(a: float, b: float) -> float:\n",
    "    \"\"\"Multiply two numbers and returns the product\"\"\"\n",
    "    return a * b\n",
    "\n",
    "def add(a: float, b: float) -> float:\n",
    "    \"\"\"Add two numbers and returns the sum\"\"\"\n",
    "    return a + b"
   ]
  },
  {
   "cell_type": "markdown",
   "id": "deca4f07-49a8-42dc-8b1e-ef4eb0b8b8cd",
   "metadata": {
    "jp-MarkdownHeadingCollapsed": true
   },
   "source": [
    "## Initialize the LLM"
   ]
  },
  {
   "cell_type": "code",
   "execution_count": 5,
   "id": "c675f35b-1a5c-49aa-997e-bd36dbde2dd2",
   "metadata": {},
   "outputs": [],
   "source": [
    "llm = OpenAI(model=\"gpt-4o-mini\")"
   ]
  },
  {
   "cell_type": "markdown",
   "id": "d7435a5a-dbf3-4df2-b14f-7fa9a70e68f5",
   "metadata": {
    "jp-MarkdownHeadingCollapsed": true
   },
   "source": [
    "## Initialize the agent"
   ]
  },
  {
   "cell_type": "code",
   "execution_count": 6,
   "id": "b71866c2-fb1c-43c2-86e2-bab9feeea58d",
   "metadata": {},
   "outputs": [],
   "source": [
    "workflow = FunctionAgent(\n",
    "    name=\"Agent\",\n",
    "    description=\"Useful for basic mathematical operations\",\n",
    "    tools=[multiply, add],\n",
    "    llm=llm,\n",
    "    system_prompt=\"You are an agent that can perform basic mathematical operations using tools.\",\n",
    ")"
   ]
  },
  {
   "cell_type": "markdown",
   "id": "58c25346-eee8-4d11-8b79-dc20c9b2183c",
   "metadata": {
    "jp-MarkdownHeadingCollapsed": true
   },
   "source": [
    "## Ask a question"
   ]
  },
  {
   "cell_type": "code",
   "execution_count": 7,
   "id": "91ffa8c4-689c-42ef-82c6-b7b79ae4b013",
   "metadata": {},
   "outputs": [],
   "source": [
    "# async def main():\n",
    "#     response = await workflow.run(user_msg=\"What is 20+(2*4)?\")\n",
    "#     print(response)\n",
    "\n",
    "# if __name__ == \"__main__\":\n",
    "#     import asyncio\n",
    "\n",
    "#     asyncio.run(main())"
   ]
  },
  {
   "cell_type": "code",
   "execution_count": 8,
   "id": "151a4cc5-0815-4077-b2ec-07457cc9f6da",
   "metadata": {},
   "outputs": [
    {
     "name": "stdout",
     "output_type": "stream",
     "text": [
      "The result of \\( 20 + (2 \\times 4) \\) is 28.\n"
     ]
    }
   ],
   "source": [
    "response = await workflow.run(user_msg=\"What is 20+(2*4)?\")\n",
    "print(response)"
   ]
  },
  {
   "cell_type": "markdown",
   "id": "155583b9-7734-4a38-8a49-5e3145175bcc",
   "metadata": {
    "jp-MarkdownHeadingCollapsed": true
   },
   "source": [
    "## Adding other tools"
   ]
  },
  {
   "cell_type": "markdown",
   "id": "09d7c20e-ac3c-4b3d-ac3e-b1646dd4f200",
   "metadata": {},
   "source": [
    "### Using an existing tool from LlamaHub"
   ]
  },
  {
   "cell_type": "markdown",
   "id": "d55786d2-3602-46bb-a6bd-6e4f18eba9a6",
   "metadata": {},
   "source": [
    "**Yahoo Finance tool from LlamaHub**\n",
    "- https://llamahub.ai/l/tools/llama-index-tools-yahoo-finance?from=tools"
   ]
  },
  {
   "cell_type": "code",
   "execution_count": 9,
   "id": "d8c65d83-706a-4ef9-a41a-137bd5829b0e",
   "metadata": {},
   "outputs": [],
   "source": [
    "# !pip install llama-index-tools-yahoo-finance"
   ]
  },
  {
   "cell_type": "code",
   "execution_count": 10,
   "id": "e8ff9436-b4f2-46db-9ef2-5ea5a6ed7562",
   "metadata": {},
   "outputs": [],
   "source": [
    "from llama_index.tools.yahoo_finance import YahooFinanceToolSpec"
   ]
  },
  {
   "cell_type": "code",
   "execution_count": 11,
   "id": "e08dcbd1-1633-4a42-9fef-c0cb8af1d5f7",
   "metadata": {},
   "outputs": [],
   "source": [
    "finance_tools = YahooFinanceToolSpec().to_tool_list()"
   ]
  },
  {
   "cell_type": "code",
   "execution_count": 12,
   "id": "65c09447-10bc-441c-8835-d1365156a87a",
   "metadata": {},
   "outputs": [],
   "source": [
    "finance_tools.extend([multiply, add])"
   ]
  },
  {
   "cell_type": "code",
   "execution_count": 13,
   "id": "defe8c63-bf0e-4e3d-88da-7f7d1eeee0db",
   "metadata": {},
   "outputs": [],
   "source": [
    "workflow = FunctionAgent(\n",
    "    name=\"Agent\",\n",
    "    description=\"Useful for performing financial operations.\",\n",
    "    llm=OpenAI(model=\"gpt-4o-mini\"),\n",
    "    tools=finance_tools,\n",
    "    system_prompt=\"You are a helpful assistant.\",\n",
    ")\n",
    "\n",
    "# async def main():\n",
    "#     response = await workflow.run(\n",
    "#         user_msg=\"What's the current stock price of NVIDIA?\"\n",
    "#     )\n",
    "#     print(response)"
   ]
  },
  {
   "cell_type": "code",
   "execution_count": 14,
   "id": "55aa2e3f-950d-4090-a698-813fce8701f9",
   "metadata": {},
   "outputs": [
    {
     "name": "stdout",
     "output_type": "stream",
     "text": [
      "The current stock price of NVIDIA (NVDA) is $111.43.\n"
     ]
    }
   ],
   "source": [
    "response = await workflow.run(user_msg=\"What's the current stock price of NVIDIA?\")\n",
    "print(response)"
   ]
  },
  {
   "cell_type": "code",
   "execution_count": 15,
   "id": "43569202-7ff9-4bca-9028-443182bfd5f1",
   "metadata": {},
   "outputs": [
    {
     "name": "stdout",
     "output_type": "stream",
     "text": [
      "The current stock price of Barrick Gold Corporation (ticker: GOLD) is **$19.56**.\n"
     ]
    }
   ],
   "source": [
    "response = await workflow.run(user_msg=\"What's the current stock price of GOLD?\")\n",
    "print(response)"
   ]
  },
  {
   "cell_type": "markdown",
   "id": "30fb4dad-e0e9-4476-b53d-c09833f6d067",
   "metadata": {},
   "source": [
    "This is cheating a little bit, because our model already knew the ticker symbol for NVIDIA.<br>\n",
    "If it were a less well-known corporation you would need to add a search tool like **Tavily** to find the ticker symbol.\n",
    "- https://llamahub.ai/l/tools/llama-index-tools-tavily-research"
   ]
  },
  {
   "cell_type": "markdown",
   "id": "7d861ca0-8f26-4017-a6eb-2b07853270e4",
   "metadata": {},
   "source": [
    "### Building and contributing your own tools"
   ]
  },
  {
   "cell_type": "markdown",
   "id": "87715ed6-ead3-44c3-95fa-8f3c087993b9",
   "metadata": {},
   "source": [
    "Example of what the code of the Yahoo finance tool looks like:<br>\n",
    "[GitHub - LlamaIndex Integrations](https://github.com/run-llama/llama_index/blob/main/llama-index-integrations/tools/llama-index-tools-yahoo-finance/llama_index/tools/yahoo_finance/base.py)\n",
    "- A class that extends BaseToolSpec\n",
    "- A set of arbitrary Python functions\n",
    "- A spec_functions list that maps the functions to the tool's API<br>"
   ]
  },
  {
   "cell_type": "markdown",
   "id": "73b99fd0-a6a3-4aed-98e7-426f9a03a18b",
   "metadata": {
    "jp-MarkdownHeadingCollapsed": true
   },
   "source": [
    "## Maintaining state"
   ]
  },
  {
   "cell_type": "code",
   "execution_count": 18,
   "id": "9675e3f6-6ee7-4752-aef5-de944852c6a7",
   "metadata": {},
   "outputs": [],
   "source": [
    "# from llama_index.core.workflow import Context\n",
    "\n",
    "# ctx = Context(workflow)\n",
    "\n",
    "# ERROR: AttributeError: 'FunctionAgent' object has no attribute '_get_steps'"
   ]
  },
  {
   "cell_type": "code",
   "execution_count": 19,
   "id": "1b508a66-0cbb-4367-b699-e5d308f7e1fc",
   "metadata": {},
   "outputs": [],
   "source": [
    "from llama_index.core.agent.workflow import AgentWorkflow\n",
    "\n",
    "workflow = AgentWorkflow.from_tools_or_functions(\n",
    "    [multiply, add],\n",
    "    llm=llm,\n",
    "    system_prompt=\"You are an agent that can perform basic mathematical operations using tools.\",\n",
    ")"
   ]
  },
  {
   "cell_type": "code",
   "execution_count": 20,
   "id": "accd69ed-2490-4f29-802f-e9340875d75a",
   "metadata": {},
   "outputs": [],
   "source": [
    "from llama_index.core.workflow import Context"
   ]
  },
  {
   "cell_type": "code",
   "execution_count": 21,
   "id": "7518d7c0-2991-472d-95c6-742ee93298e9",
   "metadata": {},
   "outputs": [],
   "source": [
    "ctx = Context(workflow)"
   ]
  },
  {
   "cell_type": "code",
   "execution_count": 22,
   "id": "677ebd0f-9da0-4b0e-9296-db56a5b19250",
   "metadata": {},
   "outputs": [
    {
     "name": "stdout",
     "output_type": "stream",
     "text": [
      "Hello Laurie! How can I assist you today?\n"
     ]
    }
   ],
   "source": [
    "response = await workflow.run(user_msg=\"Hi, my name is Laurie!\", ctx=ctx)\n",
    "print(response)"
   ]
  },
  {
   "cell_type": "code",
   "execution_count": 23,
   "id": "db78cd83-f3c5-4648-862e-dec45f98b411",
   "metadata": {},
   "outputs": [
    {
     "name": "stdout",
     "output_type": "stream",
     "text": [
      "Your name is Laurie!\n"
     ]
    }
   ],
   "source": [
    "response2 = await workflow.run(user_msg=\"What's my name?\", ctx=ctx)\n",
    "print(response2)"
   ]
  },
  {
   "cell_type": "markdown",
   "id": "37ad1122-0cbc-4d05-bcde-9efc1a614b10",
   "metadata": {},
   "source": [
    "### Maintaining state over longer periods"
   ]
  },
  {
   "cell_type": "code",
   "execution_count": 24,
   "id": "8a813c4d-461e-412c-a23b-378445535a72",
   "metadata": {},
   "outputs": [],
   "source": [
    "from llama_index.core.workflow import JsonPickleSerializer, JsonSerializer"
   ]
  },
  {
   "cell_type": "code",
   "execution_count": 25,
   "id": "41d934f5-1a12-4c53-9720-63394a8ebbde",
   "metadata": {},
   "outputs": [],
   "source": [
    "ctx_dict = ctx.to_dict(serializer=JsonSerializer())"
   ]
  },
  {
   "cell_type": "code",
   "execution_count": 26,
   "id": "d458d43f-35b0-46ac-9e79-bbb4f75712bc",
   "metadata": {},
   "outputs": [],
   "source": [
    "restored_ctx = Context.from_dict(\n",
    "    workflow, ctx_dict, serializer=JsonSerializer()\n",
    ")"
   ]
  },
  {
   "cell_type": "code",
   "execution_count": 27,
   "id": "079b08be-cff3-4aa4-a7e8-ff140c41d37e",
   "metadata": {},
   "outputs": [],
   "source": [
    "response3 = await workflow.run(user_msg=\"What's my name?\", ctx=restored_ctx)"
   ]
  },
  {
   "cell_type": "code",
   "execution_count": 28,
   "id": "812cb25c-2c3a-4126-9e4b-f994d7cb73f8",
   "metadata": {},
   "outputs": [
    {
     "name": "stdout",
     "output_type": "stream",
     "text": [
      "Your name is Laurie.\n"
     ]
    }
   ],
   "source": [
    "print(response3)"
   ]
  },
  {
   "cell_type": "markdown",
   "id": "9e572ecf-de43-442b-95ec-5b1ea7938fc8",
   "metadata": {},
   "source": [
    "### Tools and state"
   ]
  },
  {
   "cell_type": "code",
   "execution_count": 29,
   "id": "910288bb-7af4-41ac-9f15-6a221d84a25f",
   "metadata": {},
   "outputs": [],
   "source": [
    "async def set_name(ctx: Context, name: str) -> str:\n",
    "    state = await ctx.get(\"state\")\n",
    "    state[\"name\"] = name\n",
    "    await ctx.set(\"state\", state)\n",
    "    return f\"Name set to {name}\""
   ]
  },
  {
   "cell_type": "code",
   "execution_count": 30,
   "id": "9e21c470-36d4-464a-a1ba-3a223e656969",
   "metadata": {},
   "outputs": [],
   "source": [
    "workflow = AgentWorkflow.from_tools_or_functions(\n",
    "    [set_name],\n",
    "    llm=llm,\n",
    "    system_prompt=\"You are a helpful assistant that can set a name.\",\n",
    "    initial_state={\"name\": \"unset\"},\n",
    ")"
   ]
  },
  {
   "cell_type": "code",
   "execution_count": 31,
   "id": "42369472-f98a-4315-9fe6-25a7ee85f5c1",
   "metadata": {},
   "outputs": [
    {
     "name": "stdout",
     "output_type": "stream",
     "text": [
      "Your name has been set to \"unset.\"\n"
     ]
    }
   ],
   "source": [
    "ctx = Context(workflow)\n",
    "\n",
    "# check if it knows a name before setting it\n",
    "response4 = await workflow.run(user_msg=\"What's my name?\", ctx=ctx)\n",
    "print(str(response4))"
   ]
  },
  {
   "cell_type": "code",
   "execution_count": 32,
   "id": "1ba7d7f7-88fb-49a1-84ff-ad52c33dd11b",
   "metadata": {},
   "outputs": [
    {
     "name": "stdout",
     "output_type": "stream",
     "text": [
      "Your name has been updated to \"Laurie.\"\n"
     ]
    }
   ],
   "source": [
    "response5 = await workflow.run(user_msg=\"My name is Laurie\", ctx=ctx)\n",
    "print(str(response5))"
   ]
  },
  {
   "cell_type": "code",
   "execution_count": 33,
   "id": "175a31fd-1f4e-4ec0-85b3-988d1f416852",
   "metadata": {},
   "outputs": [
    {
     "name": "stdout",
     "output_type": "stream",
     "text": [
      "Name as stored in state:  Laurie\n"
     ]
    }
   ],
   "source": [
    "state = await ctx.get(\"state\")\n",
    "print(\"Name as stored in state: \", state[\"name\"])"
   ]
  },
  {
   "cell_type": "markdown",
   "id": "397eec53-5963-4d15-a3ad-7b92cabe3c0b",
   "metadata": {
    "jp-MarkdownHeadingCollapsed": true
   },
   "source": [
    "## Streaming output and events"
   ]
  },
  {
   "cell_type": "markdown",
   "id": "6e2505f9-5471-4cfd-9b35-b5aebd5426a7",
   "metadata": {},
   "source": [
    "Create a new tool that takes some time to execute.<br>\n",
    "In this case we'll use a web search tool called **Tavily**, which is available in LlamaHub.\n",
    "- https://llamahub.ai/l/tools/llama-index-tools-tavily-research"
   ]
  },
  {
   "cell_type": "code",
   "execution_count": 40,
   "id": "eb0efffb-a086-41d5-b826-74bb97751763",
   "metadata": {},
   "outputs": [],
   "source": [
    "# !pip install llama-index-tools-tavily-research"
   ]
  },
  {
   "cell_type": "code",
   "execution_count": 41,
   "id": "5f8cadf1-2c12-48fd-acd1-de97ba42aab6",
   "metadata": {},
   "outputs": [],
   "source": [
    "from llama_index.tools.tavily_research import TavilyToolSpec\n",
    "import os"
   ]
  },
  {
   "cell_type": "code",
   "execution_count": 42,
   "id": "5852f896-fd13-4fcc-a0af-49336dc11c41",
   "metadata": {},
   "outputs": [],
   "source": [
    "tavily_tool = TavilyToolSpec(api_key=os.getenv(\"TAVILY_API_KEY\"))"
   ]
  },
  {
   "cell_type": "code",
   "execution_count": 43,
   "id": "895d5b54-aeec-428a-bde5-edfd7773d6c9",
   "metadata": {},
   "outputs": [],
   "source": [
    "workflow = FunctionAgent(\n",
    "    name=\"Agent\",\n",
    "    description=\"Useful for search the web for information\",\n",
    "    tools=tavily_tool.to_tool_list(),\n",
    "    llm=llm,\n",
    "    system_prompt=\"You're a helpful assistant that can search the web for information.\",\n",
    ")"
   ]
  },
  {
   "cell_type": "code",
   "execution_count": 44,
   "id": "8568779e-d945-4d22-9d34-80f7052166f4",
   "metadata": {},
   "outputs": [],
   "source": [
    "from llama_index.core.agent.workflow import AgentStream"
   ]
  },
  {
   "cell_type": "code",
   "execution_count": 45,
   "id": "d5cf8d67-2b63-4c57-b7df-36b5a038e50c",
   "metadata": {},
   "outputs": [
    {
     "name": "stdout",
     "output_type": "stream",
     "text": [
      "The current weather in San Francisco is as follows:\n",
      "\n",
      "- **Temperature**: 12.8°C (55°F)\n",
      "- **Condition**: Partly cloudy\n",
      "- **Wind**: 9.4 mph (15.1 kph) from the southwest\n",
      "- **Humidity**: 83%\n",
      "- **Cloud Cover**: 75%\n",
      "- **Visibility**: 16 km (9 miles)\n",
      "\n",
      "It feels like 11.4°C (52.4°F) due to wind chill. There is no precipitation reported at this time.\n",
      "\n",
      "For more details, you can check the full weather report [here](https://www.weatherapi.com/)."
     ]
    }
   ],
   "source": [
    "handler = workflow.run(user_msg=\"What's the weather like in San Francisco?\")\n",
    "\n",
    "async for event in handler.stream_events():\n",
    "    if isinstance(event, AgentStream):\n",
    "        print(event.delta, end=\"\", flush=True)"
   ]
  },
  {
   "cell_type": "code",
   "execution_count": 46,
   "id": "2da261d9-7b31-49da-bd32-70df7adde502",
   "metadata": {},
   "outputs": [
    {
     "name": "stdout",
     "output_type": "stream",
     "text": [
      "The current weather in Prague is as follows:\n",
      "\n",
      "- **Temperature**: 6.1°C (43°F)\n",
      "- **Condition**: Mist\n",
      "- **Feels Like**: 5.5°C (41.8°F)\n",
      "- **Wind**: 2.9 mph (4.7 kph) from the East-Northeast\n",
      "- **Humidity**: 81%\n",
      "- **Visibility**: 5 km (3 miles)\n",
      "- **Pressure**: 1015 mb (29.97 inHg)\n",
      "\n",
      "The forecast for today indicates a high of 12°C (54°F) and a low of 2°C (36°F), with a chance of patchy rain.\n",
      "\n",
      "For more details, you can check the full weather report [here](https://www.timeanddate.com/weather/czech-republic/prague)."
     ]
    }
   ],
   "source": [
    "handler = workflow.run(user_msg=\"What's the weather like in Prague?\")\n",
    "\n",
    "async for event in handler.stream_events():\n",
    "    if isinstance(event, AgentStream):\n",
    "        print(event.delta, end=\"\", flush=True)"
   ]
  },
  {
   "cell_type": "markdown",
   "id": "e573f93a-6cf8-43d2-8b2e-8fae61eac6bb",
   "metadata": {},
   "source": [
    "AgentStream is just one of many events that AgentWorkflow emits as it runs.<br>\n",
    "The others are:\n",
    "- **AgentInput**: the full message object that begins the agent's execution\n",
    "- **AgentOutput**: the response from the agent\n",
    "- **ToolCall**: which tools were called and with what arguments\n",
    "- **ToolCallResult**: the result of a tool call"
   ]
  },
  {
   "cell_type": "markdown",
   "id": "2526c079-421d-453d-b0df-a11764eaea76",
   "metadata": {
    "jp-MarkdownHeadingCollapsed": true
   },
   "source": [
    "## Human in the loop"
   ]
  },
  {
   "cell_type": "code",
   "execution_count": 50,
   "id": "2cbffc3d-c1b7-45a5-8b0a-edd3f9e67096",
   "metadata": {},
   "outputs": [],
   "source": [
    "from llama_index.core.workflow import (\n",
    "    InputRequiredEvent,\n",
    "    HumanResponseEvent,\n",
    ")"
   ]
  },
  {
   "cell_type": "code",
   "execution_count": 51,
   "id": "740d2c7e-3380-4998-a356-9624996ba049",
   "metadata": {},
   "outputs": [],
   "source": [
    "async def dangerous_task(ctx: Context) -> str:\n",
    "    \"\"\"A dangerous task that requires human confirmation.\"\"\"\n",
    "\n",
    "    # emit an event to the external stream to be captured\n",
    "    ctx.write_event_to_stream(\n",
    "        InputRequiredEvent(\n",
    "            prefix=\"Are you sure you want to proceed? \",\n",
    "            user_name=\"Laurie\",\n",
    "        )\n",
    "    )\n",
    "\n",
    "    # wait until we see a HumanResponseEvent\n",
    "    response = await ctx.wait_for_event(\n",
    "        HumanResponseEvent, requirements={\"user_name\": \"Laurie\"}\n",
    "    )\n",
    "\n",
    "    # act on the input from the event\n",
    "    if response.response.strip().lower() == \"yes\":\n",
    "        return \"Dangerous task completed successfully.\"\n",
    "    else:\n",
    "        return \"Dangerous task aborted.\""
   ]
  },
  {
   "cell_type": "code",
   "execution_count": 52,
   "id": "e7218528-dc83-471b-a42d-b33238199e20",
   "metadata": {},
   "outputs": [],
   "source": [
    "workflow = FunctionAgent(\n",
    "    name=\"Agent\",\n",
    "    description=\"Useful to perform dangerous tasks\",\n",
    "    tools=[dangerous_task],\n",
    "    llm=llm,\n",
    "    system_prompt=\"You are a helpful assistant that can perform dangerous tasks.\",\n",
    ")"
   ]
  },
  {
   "cell_type": "code",
   "execution_count": 53,
   "id": "fa413c9b-cb2c-4a56-bb27-b15a4c42cc48",
   "metadata": {},
   "outputs": [
    {
     "name": "stdin",
     "output_type": "stream",
     "text": [
      "Are you sure you want to proceed?  yes\n"
     ]
    },
    {
     "name": "stdout",
     "output_type": "stream",
     "text": [
      "The dangerous task has been completed successfully. If you need anything else, feel free to ask!\n"
     ]
    }
   ],
   "source": [
    "handler = workflow.run(user_msg=\"I want to proceed with the dangerous task.\")\n",
    "\n",
    "async for event in handler.stream_events():\n",
    "    if isinstance(event, InputRequiredEvent):\n",
    "        # capture keyboard input\n",
    "        response = input(event.prefix)\n",
    "        # send our response back\n",
    "        handler.ctx.send_event(\n",
    "            HumanResponseEvent(\n",
    "                response=response,\n",
    "                user_name=event.user_name,\n",
    "            )\n",
    "        )\n",
    "\n",
    "response = await handler\n",
    "print(str(response))"
   ]
  },
  {
   "cell_type": "markdown",
   "id": "3fb1d577-963c-4a74-8cd7-4e5f6f40a70f",
   "metadata": {},
   "source": [
    "## Multi-agent systems with AgentWorkflow\n",
    "- https://github.com/run-llama/python-agents-tutorial/blob/main/6_multi_agent.py"
   ]
  },
  {
   "cell_type": "code",
   "execution_count": 63,
   "id": "50004a50-4597-45b5-93da-bf893d1d7cac",
   "metadata": {},
   "outputs": [],
   "source": [
    "from dotenv import load_dotenv\n",
    "load_dotenv()\n",
    "\n",
    "from llama_index.llms.openai import OpenAI\n",
    "from llama_index.core.agent.workflow import AgentWorkflow\n",
    "from llama_index.core.workflow import Context\n",
    "from llama_index.core.agent.workflow import (\n",
    "    AgentOutput,\n",
    "    ToolCall,\n",
    "    ToolCallResult,\n",
    ")\n",
    "from llama_index.tools.tavily_research import TavilyToolSpec\n",
    "from llama_index.core.agent.workflow import FunctionAgent\n",
    "import os\n",
    "\n",
    "llm = OpenAI(model=\"gpt-4o-mini\")"
   ]
  },
  {
   "cell_type": "markdown",
   "id": "2c1a6d95-7ce0-49cd-bddb-8be7a8f97099",
   "metadata": {},
   "source": [
    "So far you've been using AgentWorkflow to create single agents. But AgentWorkflow is also designed to support multi-agent systems, where multiple agents collaborate to complete your task, handing off control to each other as needed.<br>\n",
    "In this example, our system will have three agents:\n",
    "- **ResearchAgent** that will search the web for information on the given topic.\n",
    "- **WriteAgent** that will write the report using the information found by the ResearchAgent.\n",
    "- **ReviewAgent** that will review the report and provide feedback.<br>\n",
    "\n",
    "We will use AgentWorkflow to create a multi-agent system that will execute these agents in order."
   ]
  },
  {
   "cell_type": "markdown",
   "id": "ed27bd42-a380-4b46-b725-b2bbdde22c93",
   "metadata": {},
   "source": [
    "There are a lot of ways we could go about building a system to perform this task. In this example, we will use a few tools to help with the research and writing processes.<br>\n",
    "- **web_search** tool to search the web for information on the given topic (we'll use Tavily, as we did in previous examples)\n",
    "- **record_notes** tool which will save research found on the web to the state so that the other tools can use it (see state management to remind yourself how this works)\n",
    "- **write_report** tool to write the report using the information found by the ResearchAgent\n",
    "- **review_report** tool to review the report and provide feedback.<br>\n",
    "\n",
    "Utilizing the Context class, we can pass state between agents, and each agent will have access to the current state of the system."
   ]
  },
  {
   "cell_type": "markdown",
   "id": "f1379736-b0cf-4720-8651-5e2996db8517",
   "metadata": {},
   "source": [
    "### web_search"
   ]
  },
  {
   "cell_type": "code",
   "execution_count": 64,
   "id": "bd733c1d-69dd-4396-ba9d-82ca4b9a926c",
   "metadata": {},
   "outputs": [],
   "source": [
    "tavily_tool = TavilyToolSpec(api_key=os.getenv(\"TAVILY_API_KEY\"))\n",
    "search_web = tavily_tool.to_tool_list()[0]"
   ]
  },
  {
   "cell_type": "markdown",
   "id": "809ccf93-85ca-4595-89a1-4bb17b4bb1aa",
   "metadata": {},
   "source": [
    "### record_notes"
   ]
  },
  {
   "cell_type": "code",
   "execution_count": 65,
   "id": "ef893adf-63b1-401a-88fd-616641d152ab",
   "metadata": {},
   "outputs": [],
   "source": [
    "async def record_notes(ctx: Context, notes: str, notes_title: str) -> str:\n",
    "    \"\"\"Useful for recording notes on a given topic.\"\"\"\n",
    "    current_state = await ctx.get(\"state\")\n",
    "    if \"research_notes\" not in current_state:\n",
    "        current_state[\"research_notes\"] = {}\n",
    "    current_state[\"research_notes\"][notes_title] = notes\n",
    "    await ctx.set(\"state\", current_state)\n",
    "    return \"Notes recorded.\""
   ]
  },
  {
   "cell_type": "markdown",
   "id": "16b28526-a822-45f5-bae9-1decb5f015ce",
   "metadata": {},
   "source": [
    "### write_report"
   ]
  },
  {
   "cell_type": "code",
   "execution_count": 66,
   "id": "819ffe6c-9da5-4bdb-8ff2-2e73e2ae2145",
   "metadata": {},
   "outputs": [],
   "source": [
    "async def write_report(ctx: Context, report_content: str) -> str:\n",
    "    \"\"\"Useful for writing a report on a given topic.\"\"\"\n",
    "    current_state = await ctx.get(\"state\")\n",
    "    current_state[\"report_content\"] = report_content\n",
    "    await ctx.set(\"state\", current_state)\n",
    "    return \"Report written.\""
   ]
  },
  {
   "cell_type": "markdown",
   "id": "41b580d0-faea-4b38-a040-bb0d70662121",
   "metadata": {},
   "source": [
    "### review_report"
   ]
  },
  {
   "cell_type": "code",
   "execution_count": 67,
   "id": "2de42394-c452-4c0d-bcee-434ebad62853",
   "metadata": {},
   "outputs": [],
   "source": [
    "async def review_report(ctx: Context, review: str) -> str:\n",
    "    \"\"\"Useful for reviewing a report and providing feedback.\"\"\"\n",
    "    current_state = await ctx.get(\"state\")\n",
    "    current_state[\"review\"] = review\n",
    "    await ctx.set(\"state\", current_state)\n",
    "    return \"Report reviewed.\""
   ]
  },
  {
   "cell_type": "markdown",
   "id": "7e577d33-f9d5-458c-86b9-fc80035290b4",
   "metadata": {},
   "source": [
    "### research_agent (search_web, record_notes)"
   ]
  },
  {
   "cell_type": "code",
   "execution_count": 68,
   "id": "171a13b3-e588-48d3-a623-c9ce69e286cc",
   "metadata": {},
   "outputs": [],
   "source": [
    "research_agent = FunctionAgent(\n",
    "    name=\"ResearchAgent\",\n",
    "    description=\"Useful for searching the web for information on a given topic and recording notes on the topic.\",\n",
    "    system_prompt=(\n",
    "        \"You are the ResearchAgent that can search the web for information on a given topic and record notes on the topic. \"\n",
    "        \"Once notes are recorded and you are satisfied, you should hand off control to the WriteAgent to write a report on the topic.\"\n",
    "    ),\n",
    "    llm=llm,\n",
    "    tools=[search_web, record_notes],\n",
    "    can_handoff_to=[\"WriteAgent\"],\n",
    ")"
   ]
  },
  {
   "cell_type": "markdown",
   "id": "d5afc89e-0e0d-4996-961c-2fea2d7d75c2",
   "metadata": {},
   "source": [
    "### write_agent (write_report)"
   ]
  },
  {
   "cell_type": "code",
   "execution_count": 69,
   "id": "eb905a6a-c6a2-4a4b-8edc-7aefb60b7340",
   "metadata": {},
   "outputs": [],
   "source": [
    "write_agent = FunctionAgent(\n",
    "    name=\"WriteAgent\",\n",
    "    description=\"Useful for writing a report on a given topic.\",\n",
    "    system_prompt=(\n",
    "        \"You are the WriteAgent that can write a report on a given topic. \"\n",
    "        \"Your report should be in a markdown format. The content should be grounded in the research notes. \"\n",
    "        \"Once the report is written, you should get feedback at least once from the ReviewAgent.\"\n",
    "    ),\n",
    "    llm=llm,\n",
    "    tools=[write_report],\n",
    "    can_handoff_to=[\"ReviewAgent\", \"ResearchAgent\"],\n",
    ")"
   ]
  },
  {
   "cell_type": "markdown",
   "id": "17b0e957-b4f9-4b7a-8a20-23713affb82b",
   "metadata": {},
   "source": [
    "### review_agent (review_report)"
   ]
  },
  {
   "cell_type": "code",
   "execution_count": 70,
   "id": "344fe529-112f-43e7-9402-a5b5683bba63",
   "metadata": {},
   "outputs": [],
   "source": [
    "review_agent = FunctionAgent(\n",
    "    name=\"ReviewAgent\",\n",
    "    description=\"Useful for reviewing a report and providing feedback.\",\n",
    "    system_prompt=(\n",
    "        \"You are the ReviewAgent that can review a report and provide feedback. \"\n",
    "        \"Your feedback should either approve the current report or request changes for the WriteAgent to implement.\"\n",
    "    ),\n",
    "    llm=llm,\n",
    "    tools=[review_report],\n",
    "    can_handoff_to=[\"WriteAgent\"],\n",
    ")"
   ]
  },
  {
   "cell_type": "markdown",
   "id": "70fc4ce5-7f1e-48a4-9977-fae36f62cdbd",
   "metadata": {},
   "source": [
    "### agent_workflow"
   ]
  },
  {
   "cell_type": "code",
   "execution_count": 71,
   "id": "b52cf9cf-e55a-4c12-8777-0a1cd54615c3",
   "metadata": {},
   "outputs": [],
   "source": [
    "agent_workflow = AgentWorkflow(\n",
    "    agents=[research_agent, write_agent, review_agent],\n",
    "    root_agent=research_agent.name,\n",
    "    initial_state={\n",
    "        \"research_notes\": {},\n",
    "        \"report_content\": \"Not written yet.\",\n",
    "        \"review\": \"Review required.\",\n",
    "    },\n",
    ")"
   ]
  },
  {
   "cell_type": "markdown",
   "id": "846576f9-9217-41af-9df0-b500a254ec84",
   "metadata": {},
   "source": [
    "### handler"
   ]
  },
  {
   "cell_type": "code",
   "execution_count": 72,
   "id": "aeb894a8-2152-41f8-9a1f-dc85d91e18b7",
   "metadata": {},
   "outputs": [
    {
     "name": "stdout",
     "output_type": "stream",
     "text": [
      "\n",
      "==================================================\n",
      "🤖 Agent: ResearchAgent\n",
      "==================================================\n",
      "\n",
      "🛠️  Planning to use tools: ['search']\n",
      "🔨 Calling Tool: search\n",
      "  With arguments: {'query': 'history of the world wide web and internet development', 'max_results': 6}\n",
      "🔧 Tool Result (search):\n",
      "  Arguments: {'query': 'history of the world wide web and internet development', 'max_results': 6}\n",
      "  Output: [Document(id_='1a981bf6-96c7-482c-aab1-9ef6a506b790', embedding=None, metadata={'url': 'https://en.wikipedia.org/wiki/History_of_the_World_Wide_Web'}, excluded_embed_metadata_keys=[], excluded_llm_metadata_keys=[], relationships={}, metadata_template='{key}: {value}', metadata_separator='\\n', text_resource=MediaResource(embeddings=None, data=None, text='\"The World Wide Web: Past, Present and Future\", Tim Berners-Lee, August 1996\\nThe History of the Web\\nWeb Development History\\nA Brief(ish) History of the Web Universe, Brian Kardell\\nWeb History Community Group, W3C\\nThe history of the Web, W3C\\ninfo.cern.ch, the first website\\nCategories: World Wide WebHistory of the InternetHistory of computing\\nThis page was last edited on 13 December 2024, at 21:41\\xa0(UTC). [...] Schafer, Valérie; Thierry, Benjamin G. (2018). \"The 90s as a turning decade for Internet and the Web\". Internet Histories. 2 (3–4): 225–229. doi:10.1080/24701475.2018.1521060.\\nNaughton, John (2016). \"The evolution of the Internet: from military experiment to General Purpose Technology\". Journal of Cyber Policy. 1 (1): 5–28. doi:10.1080/23738871.2016.1157619.\\nExternal links[edit]\\nWeb History: first 30 years\\n\"A Little History of the World Wide Web: from 1945 to 1995\", Dan Connolly, W3C, 2000 [...] ^ Higgins, Chris (15 July 2017). \"On This Day in 2003, Netscape Went Offline Forever\". Mental Floss. Archived from the original on 12 February 2022. Retrieved 15 February 2022.\\n^ \"How Apache Came to Be\". httpd.apache.org. Apache. Archived from the original on 7 June 2008. Retrieved 13 February 2022.\\n^ Moschovitis, Christos J. P (1999). History of the Internet\\xa0: a chronology, 1843 to the present. Internet Archive. ABC-CLIO. ISBN\\xa0978-1-57607-118-2.', path=None, url=None, mimetype=None), image_resource=None, audio_resource=None, video_resource=None, text_template='{metadata_str}\\n\\n{content}'), Document(id_='c5e94db8-fcd4-4328-8dc0-6e5e9f6ce8fd', embedding=None, metadata={'url': 'https://www.encyclopedia.com/economics/encyclopedias-almanacs-transcripts-and-maps/history-internet-and-world-wide-web-www'}, excluded_embed_metadata_keys=[], excluded_llm_metadata_keys=[], relationships={}, metadata_template='{key}: {value}', metadata_separator='\\n', text_resource=MediaResource(embeddings=None, data=None, text='Perhaps the invention that most facilitated the growth of the Internet as a global information-sharing system is the World Wide Web. Unlike the Internet, however, the early design and development of the World Wide Web was primarily the doing of just one person: Tim Berners-Lee. Working as a contract programmer at the Geneva, Switzerland-based Centre Europen de Recherche Nucleaire (European Laboratory for Particle Physics, or CERN), Berners-Lee repeatedly proposed to develop a global interactive [...] In its short history, the Internet has had a revolutionizing effect, not only on communications and computing, but also on broader areas of life such as economics, culture, language, and social relations. In that same time, however, the Internet and, subsequently, the World Wide Web have undergone a number of permutations, and the intentions of its developers have not always coincided with the ways in which the technology has been realized. As the technology and its influence spread, of course, [...] the designs of the original planners were diluted. From its origins as a military-based, Pentagon-funded networking architecture for experimental communications, the Internet flowered into perhaps the most sweeping revolution in the history of communications technology. The World Wide Web, meanwhile, grew from a vehicle designed to universalize the Internet and democratize electronically based information to a commercial juggernaut that transformed the way business is conducted.', path=None, url=None, mimetype=None), image_resource=None, audio_resource=None, video_resource=None, text_template='{metadata_str}\\n\\n{content}'), Document(id_='5abaa025-7473-4b3f-9935-9f6dc05bff97', embedding=None, metadata={'url': 'https://www.scienceandmediamuseum.org.uk/objects-and-stories/short-history-internet'}, excluded_embed_metadata_keys=[], excluded_llm_metadata_keys=[], relationships={}, metadata_template='{key}: {value}', metadata_separator='\\n', text_resource=MediaResource(embeddings=None, data=None, text='Brief History of the Internet,\\xa0Internet Society\\nInternet History 1962 to 1992,\\xa0Computer History Museum\\nInternet Pioneers, ibiblio\\nTim Berners-Lee biography, World Wide Web Consortium\\nThe World Wide Web: A global information space, Science Museum\\n\\nBooks\\n\\nJohn Naughton,\\xa0A Brief History of the Future: The Origins of the Internet, 1999\\nKatie Hafner and Matthew Lyon,\\xa0Where Wizards Stay Up Late: The Origins of the Internet, 1996\\nTim Berners-Lee,\\xa0Weaving the Web, 1999 [...] The internet needed to be easier to use. An answer to the problem appeared in 1989 when a British computer scientist named Tim Berners-Lee submitted a proposal to his employer, CERN, the international particle-research laboratory in Geneva, Switzerland. Berners-Lee proposed a new way of structuring and linking all the information available on CERN’s computer network that made it quick and easy to access. His concept for a ‘web of information’ would ultimately become the World Wide Web. [...] In 1990, Berners-Lee developed Hypertext Transfer Protocol (HTTP) and designed the Universal Resource Identifier (URI) system. HTTP is the language computers use to communicate HTML documents over the internet, and the URI, also known as a URL, provides a unique address where the pages can be easily found.\\nBerners-Lee also created a piece of software that could present HTML documents in an easy-to-read format. He called this ‘browser’ the ‘WorldWideWeb’.', path=None, url=None, mimetype=None), image_resource=None, audio_resource=None, video_resource=None, text_template='{metadata_str}\\n\\n{content}'), Document(id_='b80497d1-5791-4db4-8389-29c0fd864574', embedding=None, metadata={'url': 'https://www.geeksforgeeks.org/history-of-the-web/'}, excluded_embed_metadata_keys=[], excluded_llm_metadata_keys=[], relationships={}, metadata_template='{key}: {value}', metadata_separator='\\n', text_resource=MediaResource(embeddings=None, data=None, text=\"In 1991, Tim Berners-Lee released his WWW software. It included the 'line-mode' browser, Web server software, and a library for developers. In March 1991, the software was available to CERN colleagues. By August 1991, Berners-Lee announced the WWW software on Internet newsgroups, and interest in the project spread worldwide.\\nEvolution of Web Technologies\\n| Decade\\n | Key Developments\\n|\\n| --- | --- |\\n| 1960s\\n| Development of ARPANET\\n|\\n| 1980s\\n| Proposal of the World Wide Web by Tim Berners-Lee\\n| [...] The history of the Web shows how it has grown from a small project at CERN to a worldwide tool used by millions. Created by Tim Berners-Lee in 1989, it started with basic tools like the 'line-mode' browser and WWW software. The Web became popular with browsers like Mosaic and Netscape Navigator, making it easy for people to use. Microsoft's Internet Explorer and Apple's Safari further expanded its reach. The Web has transformed how we access information, proving to be a vital part of our daily [...] The internet started in the 1960s with a network called ARPANET, which helped researchers share information. Later, in the late 1980s, the World Wide Web was created by Tim Berners-Lee, making it easier for people to access and share information online.\\n\\nWho invented the World Wide Web?\\n\\nThe World Wide Web was invented by a British computer scientist named Tim Berners-Lee in 1989. He created a system that used hypertext links to connect documents and make browsing the web easier.\", path=None, url=None, mimetype=None), image_resource=None, audio_resource=None, video_resource=None, text_template='{metadata_str}\\n\\n{content}'), Document(id_='9e9cb96f-59ea-4864-965e-e1df8d80d680', embedding=None, metadata={'url': 'https://www.ebsco.com/research-starters/history/rise-internet-and-world-wide-web'}, excluded_embed_metadata_keys=[], excluded_llm_metadata_keys=[], relationships={}, metadata_template='{key}: {value}', metadata_separator='\\n', text_resource=MediaResource(embeddings=None, data=None, text='The rise of the Internet and the World Wide Web marks a significant transformation in global communication and information exchange. Initially developed as ARPANET in the late 1960s by the U.S. Defense Department, the Internet aimed to connect military and research institutions, ensuring uninterrupted data transmission even in emergencies like nuclear war. As technology progressed, including the adoption of Transmission Control Protocol/Internet Protocol (TCP/IP) for data routing, the Internet [...] The rise of the Internet and the World Wide Web marks a significant transformation in global communication and information exchange. Initially developed as ARPANET in the late 1960s by the U.S. Defense Department, the Internet aimed to connect military and research institutions, ensuring uninterrupted data transmission even in emergencies like nuclear war. As technology progressed, including the adoption of Transmission Control Protocol/Internet Protocol (TCP/IP) for data routing, the Internet', path=None, url=None, mimetype=None), image_resource=None, audio_resource=None, video_resource=None, text_template='{metadata_str}\\n\\n{content}')]\n",
      "🛠️  Planning to use tools: ['record_notes']\n",
      "🔨 Calling Tool: record_notes\n",
      "  With arguments: {'notes': 'The history of the World Wide Web and the Internet is a tale of innovation and transformation. The Internet began in the late 1960s with ARPANET, developed by the U.S. Defense Department to connect military and research institutions. It aimed to ensure uninterrupted data transmission, even in emergencies. The adoption of TCP/IP protocols in the 1980s allowed for more robust data routing.\\n\\nIn 1989, Tim Berners-Lee proposed the World Wide Web while working at CERN. He aimed to create a system that would make information sharing easier through hypertext links. By 1991, he released the first web browser and server software, which sparked global interest.\\n\\nThe 1990s saw the rise of popular web browsers like Mosaic and Netscape Navigator, which made the web accessible to the general public. This period marked the transition of the web from a research tool to a commercial platform.\\n\\nIn the 21st century, the web has continued to evolve with the introduction of social media, mobile browsing, and e-commerce, fundamentally changing how we communicate, share information, and conduct business. The web has become an integral part of daily life, influencing various aspects of society, culture, and economy.'}\n",
      "🔧 Tool Result (record_notes):\n",
      "  Arguments: {'notes': 'The history of the World Wide Web and the Internet is a tale of innovation and transformation. The Internet began in the late 1960s with ARPANET, developed by the U.S. Defense Department to connect military and research institutions. It aimed to ensure uninterrupted data transmission, even in emergencies. The adoption of TCP/IP protocols in the 1980s allowed for more robust data routing.\\n\\nIn 1989, Tim Berners-Lee proposed the World Wide Web while working at CERN. He aimed to create a system that would make information sharing easier through hypertext links. By 1991, he released the first web browser and server software, which sparked global interest.\\n\\nThe 1990s saw the rise of popular web browsers like Mosaic and Netscape Navigator, which made the web accessible to the general public. This period marked the transition of the web from a research tool to a commercial platform.\\n\\nIn the 21st century, the web has continued to evolve with the introduction of social media, mobile browsing, and e-commerce, fundamentally changing how we communicate, share information, and conduct business. The web has become an integral part of daily life, influencing various aspects of society, culture, and economy.'}\n",
      "  Output: record_notes() missing 1 required positional argument: 'notes_title'\n",
      "🛠️  Planning to use tools: ['record_notes']\n",
      "🔨 Calling Tool: record_notes\n",
      "  With arguments: {'notes': 'The history of the World Wide Web and the Internet is a tale of innovation and transformation. The Internet began in the late 1960s with ARPANET, developed by the U.S. Defense Department to connect military and research institutions. It aimed to ensure uninterrupted data transmission, even in emergencies. The adoption of TCP/IP protocols in the 1980s allowed for more robust data routing.\\n\\nIn 1989, Tim Berners-Lee proposed the World Wide Web while working at CERN. He aimed to create a system that would make information sharing easier through hypertext links. By 1991, he released the first web browser and server software, which sparked global interest.\\n\\nThe 1990s saw the rise of popular web browsers like Mosaic and Netscape Navigator, which made the web accessible to the general public. This period marked the transition of the web from a research tool to a commercial platform.\\n\\nIn the 21st century, the web has continued to evolve with the introduction of social media, mobile browsing, and e-commerce, fundamentally changing how we communicate, share information, and conduct business. The web has become an integral part of daily life, influencing various aspects of society, culture, and economy.', 'notes_title': 'History of the World Wide Web'}\n",
      "🔧 Tool Result (record_notes):\n",
      "  Arguments: {'notes': 'The history of the World Wide Web and the Internet is a tale of innovation and transformation. The Internet began in the late 1960s with ARPANET, developed by the U.S. Defense Department to connect military and research institutions. It aimed to ensure uninterrupted data transmission, even in emergencies. The adoption of TCP/IP protocols in the 1980s allowed for more robust data routing.\\n\\nIn 1989, Tim Berners-Lee proposed the World Wide Web while working at CERN. He aimed to create a system that would make information sharing easier through hypertext links. By 1991, he released the first web browser and server software, which sparked global interest.\\n\\nThe 1990s saw the rise of popular web browsers like Mosaic and Netscape Navigator, which made the web accessible to the general public. This period marked the transition of the web from a research tool to a commercial platform.\\n\\nIn the 21st century, the web has continued to evolve with the introduction of social media, mobile browsing, and e-commerce, fundamentally changing how we communicate, share information, and conduct business. The web has become an integral part of daily life, influencing various aspects of society, culture, and economy.', 'notes_title': 'History of the World Wide Web'}\n",
      "  Output: Notes recorded.\n",
      "🛠️  Planning to use tools: ['handoff']\n",
      "🔨 Calling Tool: handoff\n",
      "  With arguments: {'to_agent': 'WriteAgent', 'reason': 'I have recorded the necessary notes on the history of the World Wide Web and the Internet, and I am handing off to the WriteAgent to create a report.'}\n",
      "🔧 Tool Result (handoff):\n",
      "  Arguments: {'to_agent': 'WriteAgent', 'reason': 'I have recorded the necessary notes on the history of the World Wide Web and the Internet, and I am handing off to the WriteAgent to create a report.'}\n",
      "  Output: Agent WriteAgent is now handling the request due to the following reason: I have recorded the necessary notes on the history of the World Wide Web and the Internet, and I am handing off to the WriteAgent to create a report..\n",
      "Please continue with the current request.\n",
      "\n",
      "==================================================\n",
      "🤖 Agent: WriteAgent\n",
      "==================================================\n",
      "\n",
      "🛠️  Planning to use tools: ['write_report']\n",
      "🔨 Calling Tool: write_report\n",
      "  With arguments: {'report_content': '# History of the World Wide Web\\n\\nThe history of the World Wide Web and the Internet is a tale of innovation and transformation. The Internet began in the late 1960s with ARPANET, developed by the U.S. Defense Department to connect military and research institutions. It aimed to ensure uninterrupted data transmission, even in emergencies. The adoption of TCP/IP protocols in the 1980s allowed for more robust data routing.\\n\\nIn 1989, Tim Berners-Lee proposed the World Wide Web while working at CERN. He aimed to create a system that would make information sharing easier through hypertext links. By 1991, he released the first web browser and server software, which sparked global interest.\\n\\nThe 1990s saw the rise of popular web browsers like Mosaic and Netscape Navigator, which made the web accessible to the general public. This period marked the transition of the web from a research tool to a commercial platform.\\n\\nIn the 21st century, the web has continued to evolve with the introduction of social media, mobile browsing, and e-commerce, fundamentally changing how we communicate, share information, and conduct business. The web has become an integral part of daily life, influencing various aspects of society, culture, and economy.'}\n",
      "🔧 Tool Result (write_report):\n",
      "  Arguments: {'report_content': '# History of the World Wide Web\\n\\nThe history of the World Wide Web and the Internet is a tale of innovation and transformation. The Internet began in the late 1960s with ARPANET, developed by the U.S. Defense Department to connect military and research institutions. It aimed to ensure uninterrupted data transmission, even in emergencies. The adoption of TCP/IP protocols in the 1980s allowed for more robust data routing.\\n\\nIn 1989, Tim Berners-Lee proposed the World Wide Web while working at CERN. He aimed to create a system that would make information sharing easier through hypertext links. By 1991, he released the first web browser and server software, which sparked global interest.\\n\\nThe 1990s saw the rise of popular web browsers like Mosaic and Netscape Navigator, which made the web accessible to the general public. This period marked the transition of the web from a research tool to a commercial platform.\\n\\nIn the 21st century, the web has continued to evolve with the introduction of social media, mobile browsing, and e-commerce, fundamentally changing how we communicate, share information, and conduct business. The web has become an integral part of daily life, influencing various aspects of society, culture, and economy.'}\n",
      "  Output: Report written.\n",
      "🛠️  Planning to use tools: ['handoff']\n",
      "🔨 Calling Tool: handoff\n",
      "  With arguments: {'to_agent': 'ReviewAgent', 'reason': 'The report on the history of the World Wide Web has been completed and requires review.'}\n",
      "🔧 Tool Result (handoff):\n",
      "  Arguments: {'to_agent': 'ReviewAgent', 'reason': 'The report on the history of the World Wide Web has been completed and requires review.'}\n",
      "  Output: Agent ReviewAgent is now handling the request due to the following reason: The report on the history of the World Wide Web has been completed and requires review..\n",
      "Please continue with the current request.\n",
      "\n",
      "==================================================\n",
      "🤖 Agent: ReviewAgent\n",
      "==================================================\n",
      "\n",
      "🛠️  Planning to use tools: ['review_report']\n",
      "🔨 Calling Tool: review_report\n",
      "  With arguments: {'review': 'The report on the history of the World Wide Web is well-structured and covers the essential developments from the inception of the Internet to the 21st century. It effectively highlights key milestones, such as the creation of ARPANET, the proposal of the World Wide Web by Tim Berners-Lee, and the evolution of web technologies. The content is concise and informative, making it suitable for readers seeking a brief overview of the topic. Overall, I approve this report.'}\n",
      "🔧 Tool Result (review_report):\n",
      "  Arguments: {'review': 'The report on the history of the World Wide Web is well-structured and covers the essential developments from the inception of the Internet to the 21st century. It effectively highlights key milestones, such as the creation of ARPANET, the proposal of the World Wide Web by Tim Berners-Lee, and the evolution of web technologies. The content is concise and informative, making it suitable for readers seeking a brief overview of the topic. Overall, I approve this report.'}\n",
      "  Output: Report reviewed.\n",
      "📤 Output: The report on the history of the World Wide Web has been reviewed and approved. It effectively covers the essential developments from the inception of the Internet to the 21st century, highlighting key milestones and providing a concise overview. If you need any further assistance or additional reports, feel free to ask!\n"
     ]
    }
   ],
   "source": [
    "handler = agent_workflow.run(\n",
    "    user_msg=\"\"\"\n",
    "    Write me a report on the history of the web. Briefly describe the history\n",
    "    of the world wide web, including the development of the internet and the\n",
    "    development of the web, including 21st century developments.\n",
    "\"\"\"\n",
    ")\n",
    "\n",
    "current_agent = None\n",
    "current_tool_calls = \"\"\n",
    "async for event in handler.stream_events():\n",
    "    if (\n",
    "        hasattr(event, \"current_agent_name\")\n",
    "        and event.current_agent_name != current_agent\n",
    "    ):\n",
    "        current_agent = event.current_agent_name\n",
    "        print(f\"\\n{'='*50}\")\n",
    "        print(f\"🤖 Agent: {current_agent}\")\n",
    "        print(f\"{'='*50}\\n\")\n",
    "    elif isinstance(event, AgentOutput):\n",
    "        if event.response.content:\n",
    "            print(\"📤 Output:\", event.response.content)\n",
    "        if event.tool_calls:\n",
    "            print(\n",
    "                \"🛠️  Planning to use tools:\",\n",
    "                [call.tool_name for call in event.tool_calls],\n",
    "            )\n",
    "    elif isinstance(event, ToolCallResult):\n",
    "        print(f\"🔧 Tool Result ({event.tool_name}):\")\n",
    "        print(f\"  Arguments: {event.tool_kwargs}\")\n",
    "        print(f\"  Output: {event.tool_output}\")\n",
    "    elif isinstance(event, ToolCall):\n",
    "        print(f\"🔨 Calling Tool: {event.tool_name}\")\n",
    "        print(f\"  With arguments: {event.tool_kwargs}\")"
   ]
  }
 ],
 "metadata": {
  "kernelspec": {
   "display_name": "Python 3 (ipykernel)",
   "language": "python",
   "name": "python3"
  },
  "language_info": {
   "codemirror_mode": {
    "name": "ipython",
    "version": 3
   },
   "file_extension": ".py",
   "mimetype": "text/x-python",
   "name": "python",
   "nbconvert_exporter": "python",
   "pygments_lexer": "ipython3",
   "version": "3.11.4"
  }
 },
 "nbformat": 4,
 "nbformat_minor": 5
}
