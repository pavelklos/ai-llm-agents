{
 "cells": [
  {
   "cell_type": "markdown",
   "id": "accbde67-9c7e-41b0-9329-8052e2ef365b",
   "metadata": {},
   "source": [
    "# LlamaIndex: Building agent"
   ]
  },
  {
   "cell_type": "markdown",
   "id": "5cb42466-306d-49b1-b814-6674b60451e4",
   "metadata": {},
   "source": [
    "- Building agent<br>\n",
    "  https://docs.llamaindex.ai/en/stable/understanding/agent/\n",
    "  - [Adding other tools](https://docs.llamaindex.ai/en/stable/understanding/agent/tools/)\n",
    "  - [Maintaining state](https://docs.llamaindex.ai/en/stable/understanding/agent/state/)\n",
    "  - [Streaming output and events](https://docs.llamaindex.ai/en/stable/understanding/agent/streaming/)\n",
    "  - [Human in the loop](https://docs.llamaindex.ai/en/stable/understanding/agent/human_in_the_loop/)\n",
    "  - [Multi-agent systems with AgentWorkflow](https://docs.llamaindex.ai/en/stable/understanding/agent/multi_agent/)<br>\n",
    "- Tutorial repo\n",
    "  - https://github.com/run-llama/python-agents-tutorial"
   ]
  },
  {
   "cell_type": "markdown",
   "id": "fa1039ae-8255-4ec0-8c3a-2757a8f0ae95",
   "metadata": {
    "jp-MarkdownHeadingCollapsed": true
   },
   "source": [
    "## SETUP"
   ]
  },
  {
   "cell_type": "code",
   "execution_count": 1,
   "id": "0ce6eafa-f6ef-4ff1-8d54-17b4fcb71612",
   "metadata": {},
   "outputs": [],
   "source": [
    "import os\n",
    "from dotenv import load_dotenv\n",
    "\n",
    "# Load environment variables (for API key)\n",
    "load_dotenv()\n",
    "\n",
    "# Set up OpenAI API key\n",
    "api_key = os.getenv(\"OPENAI_API_KEY\")\n",
    "if not api_key:\n",
    "    raise ValueError(\"Please set the OPENAI_API_KEY environment variable or add it to a .env file\")\n",
    "\n",
    "# Define the model to use\n",
    "MODEL_GPT = \"gpt-4o-mini\""
   ]
  },
  {
   "cell_type": "markdown",
   "id": "7eeceb65-1631-46ed-b47a-94e4db46fce7",
   "metadata": {
    "jp-MarkdownHeadingCollapsed": true
   },
   "source": [
    "## SETUP (LlamaIndex)"
   ]
  },
  {
   "cell_type": "code",
   "execution_count": 2,
   "id": "5a832ef1-35af-4e14-85e2-08907a26a53b",
   "metadata": {},
   "outputs": [],
   "source": [
    "# !pip install llama-index-core llama-index-llms-openai python-dotenv"
   ]
  },
  {
   "cell_type": "code",
   "execution_count": 3,
   "id": "02e3e981-eb98-4ea5-a4e0-519d5806b743",
   "metadata": {},
   "outputs": [],
   "source": [
    "from dotenv import load_dotenv\n",
    "\n",
    "load_dotenv()\n",
    "\n",
    "from llama_index.llms.openai import OpenAI\n",
    "from llama_index.core.agent.workflow import AgentWorkflow\n",
    "from llama_index.core.agent.workflow import FunctionAgent"
   ]
  },
  {
   "cell_type": "markdown",
   "id": "e3d974d0-9c59-4e1a-bd58-1db1b707707f",
   "metadata": {
    "jp-MarkdownHeadingCollapsed": true
   },
   "source": [
    "## Create basic tools"
   ]
  },
  {
   "cell_type": "code",
   "execution_count": 4,
   "id": "260bb57e-750b-4cbf-bee7-d74a08707fa3",
   "metadata": {},
   "outputs": [],
   "source": [
    "def multiply(a: float, b: float) -> float:\n",
    "    \"\"\"Multiply two numbers and returns the product\"\"\"\n",
    "    return a * b\n",
    "\n",
    "def add(a: float, b: float) -> float:\n",
    "    \"\"\"Add two numbers and returns the sum\"\"\"\n",
    "    return a + b"
   ]
  },
  {
   "cell_type": "markdown",
   "id": "deca4f07-49a8-42dc-8b1e-ef4eb0b8b8cd",
   "metadata": {
    "jp-MarkdownHeadingCollapsed": true
   },
   "source": [
    "## Initialize the LLM"
   ]
  },
  {
   "cell_type": "code",
   "execution_count": 5,
   "id": "c675f35b-1a5c-49aa-997e-bd36dbde2dd2",
   "metadata": {},
   "outputs": [],
   "source": [
    "llm = OpenAI(model=\"gpt-4o-mini\")"
   ]
  },
  {
   "cell_type": "markdown",
   "id": "d7435a5a-dbf3-4df2-b14f-7fa9a70e68f5",
   "metadata": {
    "jp-MarkdownHeadingCollapsed": true
   },
   "source": [
    "## Initialize the agent"
   ]
  },
  {
   "cell_type": "code",
   "execution_count": 6,
   "id": "b71866c2-fb1c-43c2-86e2-bab9feeea58d",
   "metadata": {},
   "outputs": [],
   "source": [
    "workflow = FunctionAgent(\n",
    "    name=\"Agent\",\n",
    "    description=\"Useful for basic mathematical operations\",\n",
    "    tools=[multiply, add],\n",
    "    llm=llm,\n",
    "    system_prompt=\"You are an agent that can perform basic mathematical operations using tools.\",\n",
    ")"
   ]
  },
  {
   "cell_type": "markdown",
   "id": "58c25346-eee8-4d11-8b79-dc20c9b2183c",
   "metadata": {
    "jp-MarkdownHeadingCollapsed": true
   },
   "source": [
    "## Ask a question"
   ]
  },
  {
   "cell_type": "code",
   "execution_count": 7,
   "id": "91ffa8c4-689c-42ef-82c6-b7b79ae4b013",
   "metadata": {},
   "outputs": [],
   "source": [
    "# async def main():\n",
    "#     response = await workflow.run(user_msg=\"What is 20+(2*4)?\")\n",
    "#     print(response)\n",
    "\n",
    "# if __name__ == \"__main__\":\n",
    "#     import asyncio\n",
    "\n",
    "#     asyncio.run(main())"
   ]
  },
  {
   "cell_type": "code",
   "execution_count": 8,
   "id": "151a4cc5-0815-4077-b2ec-07457cc9f6da",
   "metadata": {},
   "outputs": [
    {
     "name": "stdout",
     "output_type": "stream",
     "text": [
      "The result of \\( 20 + (2 \\times 4) \\) is 28.\n"
     ]
    }
   ],
   "source": [
    "response = await workflow.run(user_msg=\"What is 20+(2*4)?\")\n",
    "print(response)"
   ]
  }
 ],
 "metadata": {
  "kernelspec": {
   "display_name": "Python 3 (ipykernel)",
   "language": "python",
   "name": "python3"
  },
  "language_info": {
   "codemirror_mode": {
    "name": "ipython",
    "version": 3
   },
   "file_extension": ".py",
   "mimetype": "text/x-python",
   "name": "python",
   "nbconvert_exporter": "python",
   "pygments_lexer": "ipython3",
   "version": "3.11.4"
  }
 },
 "nbformat": 4,
 "nbformat_minor": 5
}
