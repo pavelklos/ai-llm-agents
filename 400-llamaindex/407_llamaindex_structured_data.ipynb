{
 "cells": [
  {
   "cell_type": "markdown",
   "id": "accbde67-9c7e-41b0-9329-8052e2ef365b",
   "metadata": {},
   "source": [
    "# LlamaIndex: Structured Data Extraction"
   ]
  },
  {
   "cell_type": "markdown",
   "id": "5cb42466-306d-49b1-b814-6674b60451e4",
   "metadata": {},
   "source": [
    "- Structured Data Extraction<br>\n",
    "  - [Introduction to Structured Data Extraction]()\n",
    "  - []()\n",
    "  - []()\n",
    "  - []()"
   ]
  },
  {
   "cell_type": "markdown",
   "id": "fa1039ae-8255-4ec0-8c3a-2757a8f0ae95",
   "metadata": {},
   "source": [
    "## SETUP"
   ]
  },
  {
   "cell_type": "code",
   "execution_count": 1,
   "id": "0ce6eafa-f6ef-4ff1-8d54-17b4fcb71612",
   "metadata": {},
   "outputs": [],
   "source": [
    "import os\n",
    "from dotenv import load_dotenv\n",
    "\n",
    "# Load environment variables (for API key)\n",
    "load_dotenv()\n",
    "\n",
    "# Set up OpenAI API key\n",
    "api_key = os.getenv(\"OPENAI_API_KEY\")\n",
    "if not api_key:\n",
    "    raise ValueError(\"Please set the OPENAI_API_KEY environment variable or add it to a .env file\")\n",
    "\n",
    "# Define the model to use\n",
    "MODEL_GPT = \"gpt-4o-mini\""
   ]
  },
  {
   "cell_type": "markdown",
   "id": "cbdc3c9e-2768-43f9-b74e-093db353ea09",
   "metadata": {},
   "source": [
    "## [Introduction to Structured Data Extraction\n",
    "The core of the way structured data extraction works in LlamaIndex is **Pydantic** classes:<br>\n",
    "you define a data structure in Pydantic and LlamaIndex works with Pydantic to coerce the output of the LLM into that structure.\n",
    "- https://docs.pydantic.dev/latest/"
   ]
  },
  {
   "cell_type": "markdown",
   "id": "84059059-4173-423c-b0bc-32b226b1351d",
   "metadata": {},
   "source": [
    "### What is Pydantic?\n",
    "Pydantic is a widely-used data validation and conversion library.<br>\n",
    "It relies heavily on Python type declarations.<br>\n",
    "There is an extensive **guide to Pydantic** in that project’s documentation\n",
    "- https://docs.pydantic.dev/latest/concepts/models/"
   ]
  },
  {
   "cell_type": "code",
   "execution_count": 2,
   "id": "6738e8a0-c6e7-4068-a36b-7d61389074b2",
   "metadata": {},
   "outputs": [],
   "source": [
    "from pydantic import BaseModel\n",
    "\n",
    "class User(BaseModel):\n",
    "    id: int\n",
    "    name: str = \"Jane Doe\""
   ]
  },
  {
   "cell_type": "code",
   "execution_count": 3,
   "id": "ff0bf941-8f98-4e6e-9dda-1ed21c81510b",
   "metadata": {},
   "outputs": [],
   "source": [
    "from typing import List, Optional\n",
    "from pydantic import BaseModel\n",
    "\n",
    "class Foo(BaseModel):\n",
    "    count: int\n",
    "    size: Optional[float] = None\n",
    "\n",
    "class Bar(BaseModel):\n",
    "    apple: str = \"x\"\n",
    "    banana: str = \"y\"\n",
    "\n",
    "class Spam(BaseModel):\n",
    "    foo: Foo\n",
    "    bars: List[Bar]"
   ]
  },
  {
   "cell_type": "markdown",
   "id": "54199575-83bf-4590-9a53-5e5a5876008d",
   "metadata": {},
   "source": [
    "### Converting Pydantic objects to JSON schemas\n",
    "Pydantic supports converting Pydantic classes into **JSON-serialized schema objects** which conform to popular standards.\n",
    "- https://docs.pydantic.dev/latest/concepts/json_schema/"
   ]
  },
  {
   "cell_type": "markdown",
   "id": "85d26c6c-e9b7-49ba-b00d-2ddf3c81f0aa",
   "metadata": {},
   "source": [
    "```json\n",
    "{\n",
    "  \"properties\": {\n",
    "    \"id\": {\n",
    "      \"title\": \"Id\",\n",
    "      \"type\": \"integer\"\n",
    "    },\n",
    "    \"name\": {\n",
    "      \"default\": \"Jane Doe\",\n",
    "      \"title\": \"Name\",\n",
    "      \"type\": \"string\"\n",
    "    }\n",
    "  },\n",
    "  \"required\": [\n",
    "    \"id\"\n",
    "  ],\n",
    "  \"title\": \"User\",\n",
    "  \"type\": \"object\"\n",
    "}\n",
    "```"
   ]
  },
  {
   "cell_type": "code",
   "execution_count": 4,
   "id": "8a7bb5f8-8dab-424e-866f-2aca621a4349",
   "metadata": {},
   "outputs": [
    {
     "name": "stdout",
     "output_type": "stream",
     "text": [
      "{\n",
      "  \"$defs\": {\n",
      "    \"FooBar\": {\n",
      "      \"properties\": {\n",
      "        \"count\": {\n",
      "          \"title\": \"Count\",\n",
      "          \"type\": \"integer\"\n",
      "        },\n",
      "        \"size\": {\n",
      "          \"anyOf\": [\n",
      "            {\n",
      "              \"type\": \"number\"\n",
      "            },\n",
      "            {\n",
      "              \"type\": \"null\"\n",
      "            }\n",
      "          ],\n",
      "          \"default\": null,\n",
      "          \"title\": \"Size\"\n",
      "        }\n",
      "      },\n",
      "      \"required\": [\n",
      "        \"count\"\n",
      "      ],\n",
      "      \"title\": \"FooBar\",\n",
      "      \"type\": \"object\"\n",
      "    },\n",
      "    \"Gender\": {\n",
      "      \"enum\": [\n",
      "        \"male\",\n",
      "        \"female\",\n",
      "        \"other\",\n",
      "        \"not_given\"\n",
      "      ],\n",
      "      \"title\": \"Gender\",\n",
      "      \"type\": \"string\"\n",
      "    }\n",
      "  },\n",
      "  \"description\": \"This is the description of the main model\",\n",
      "  \"properties\": {\n",
      "    \"foo_bar\": {\n",
      "      \"$ref\": \"#/$defs/FooBar\"\n",
      "    },\n",
      "    \"Gender\": {\n",
      "      \"anyOf\": [\n",
      "        {\n",
      "          \"$ref\": \"#/$defs/Gender\"\n",
      "        },\n",
      "        {\n",
      "          \"type\": \"null\"\n",
      "        }\n",
      "      ],\n",
      "      \"default\": null\n",
      "    },\n",
      "    \"snap\": {\n",
      "      \"default\": 42,\n",
      "      \"description\": \"this is the value of snap\",\n",
      "      \"exclusiveMaximum\": 50,\n",
      "      \"exclusiveMinimum\": 30,\n",
      "      \"title\": \"The Snap\",\n",
      "      \"type\": \"integer\"\n",
      "    }\n",
      "  },\n",
      "  \"required\": [\n",
      "    \"foo_bar\"\n",
      "  ],\n",
      "  \"title\": \"Main\",\n",
      "  \"type\": \"object\"\n",
      "}\n"
     ]
    }
   ],
   "source": [
    "import json\n",
    "from enum import Enum\n",
    "from typing import Annotated\n",
    "\n",
    "from pydantic import BaseModel, Field\n",
    "from pydantic.config import ConfigDict\n",
    "\n",
    "class FooBar(BaseModel):\n",
    "    count: int\n",
    "    size: float | None = None\n",
    "\n",
    "class Gender(str, Enum):\n",
    "    male = 'male'\n",
    "    female = 'female'\n",
    "    other = 'other'\n",
    "    not_given = 'not_given'\n",
    "\n",
    "class MainModel(BaseModel):\n",
    "    \"\"\"\n",
    "    This is the description of the main model\n",
    "    \"\"\"\n",
    "\n",
    "    model_config = ConfigDict(title='Main')\n",
    "\n",
    "    foo_bar: FooBar\n",
    "    gender: Annotated[Gender | None, Field(alias='Gender')] = None\n",
    "    snap: int = Field(\n",
    "        default=42,\n",
    "        title='The Snap',\n",
    "        description='this is the value of snap',\n",
    "        gt=30,\n",
    "        lt=50,\n",
    "    )\n",
    "\n",
    "main_model_schema = MainModel.model_json_schema()  # (1)!\n",
    "print(json.dumps(main_model_schema, indent=2))  # (2)!"
   ]
  },
  {
   "cell_type": "markdown",
   "id": "9aa8e7fe-bda4-46ca-8b45-b49b957393b4",
   "metadata": {},
   "source": [
    "### Using annotations\n",
    "As mentioned, LLMs are using JSON schemas from Pydantic as instructions on how to return data.<br>\n",
    "To assist them and improve the accuracy of your returned data, it’s helpful to include natural-language descriptions of objects and fields and what they’re used for.<br>\n",
    "Pydantic has support for this with **docstrings** and **Fields**.\n",
    "- https://www.geeksforgeeks.org/python-docstrings/\n",
    "- https://docs.pydantic.dev/latest/concepts/fields/"
   ]
  },
  {
   "cell_type": "code",
   "execution_count": 5,
   "id": "ed08031b-c55c-4fcc-ae23-70bdfb468404",
   "metadata": {},
   "outputs": [],
   "source": [
    "from datetime import datetime\n",
    "\n",
    "class LineItem(BaseModel):\n",
    "    \"\"\"A line item in an invoice.\"\"\"\n",
    "\n",
    "    item_name: str = Field(description=\"The name of this item\")\n",
    "    price: float = Field(description=\"The price of this item\")\n",
    "\n",
    "class Invoice(BaseModel):\n",
    "    \"\"\"A representation of information from an invoice.\"\"\"\n",
    "\n",
    "    invoice_id: str = Field(\n",
    "        description=\"A unique identifier for this invoice, often a number\"\n",
    "    )\n",
    "    date: datetime = Field(description=\"The date this invoice was created\")\n",
    "    line_items: list[LineItem] = Field(\n",
    "        description=\"A list of all the items in this invoice\"\n",
    "    )"
   ]
  },
  {
   "cell_type": "markdown",
   "id": "74a43041-2a1b-47fa-ad2d-5a657233ce42",
   "metadata": {},
   "source": [
    "```json\n",
    "{\n",
    "  \"$defs\": {\n",
    "    \"LineItem\": {\n",
    "      \"description\": \"A line item in an invoice.\",\n",
    "      \"properties\": {\n",
    "        \"item_name\": {\n",
    "          \"description\": \"The name of this item\",\n",
    "          \"title\": \"Item Name\",\n",
    "          \"type\": \"string\"\n",
    "        },\n",
    "        \"price\": {\n",
    "          \"description\": \"The price of this item\",\n",
    "          \"title\": \"Price\",\n",
    "          \"type\": \"number\"\n",
    "        }\n",
    "      },\n",
    "      \"required\": [\n",
    "        \"item_name\",\n",
    "        \"price\"\n",
    "      ],\n",
    "      \"title\": \"LineItem\",\n",
    "      \"type\": \"object\"\n",
    "    }\n",
    "  },\n",
    "  \"description\": \"A representation of information from an invoice.\",\n",
    "  \"properties\": {\n",
    "    \"invoice_id\": {\n",
    "      \"description\": \"A unique identifier for this invoice, often a number\",\n",
    "      \"title\": \"Invoice Id\",\n",
    "      \"type\": \"string\"\n",
    "    },\n",
    "    \"date\": {\n",
    "      \"description\": \"The date this invoice was created\",\n",
    "      \"format\": \"date-time\",\n",
    "      \"title\": \"Date\",\n",
    "      \"type\": \"string\"\n",
    "    },\n",
    "    \"line_items\": {\n",
    "      \"description\": \"A list of all the items in this invoice\",\n",
    "      \"items\": {\n",
    "        \"$ref\": \"#/$defs/LineItem\"\n",
    "      },\n",
    "      \"title\": \"Line Items\",\n",
    "      \"type\": \"array\"\n",
    "    }\n",
    "  },\n",
    "  \"required\": [\n",
    "    \"invoice_id\",\n",
    "    \"date\",\n",
    "    \"line_items\"\n",
    "  ],\n",
    "  \"title\": \"Invoice\",\n",
    "  \"type\": \"object\"\n",
    "}\n",
    "```"
   ]
  },
  {
   "cell_type": "code",
   "execution_count": 6,
   "id": "10e5b405-bc38-4a41-a75a-03db945d7439",
   "metadata": {},
   "outputs": [
    {
     "name": "stdout",
     "output_type": "stream",
     "text": [
      "{\n",
      "  \"$defs\": {\n",
      "    \"LineItem\": {\n",
      "      \"description\": \"A line item in an invoice.\",\n",
      "      \"properties\": {\n",
      "        \"item_name\": {\n",
      "          \"description\": \"The name of this item\",\n",
      "          \"title\": \"Item Name\",\n",
      "          \"type\": \"string\"\n",
      "        },\n",
      "        \"price\": {\n",
      "          \"description\": \"The price of this item\",\n",
      "          \"title\": \"Price\",\n",
      "          \"type\": \"number\"\n",
      "        }\n",
      "      },\n",
      "      \"required\": [\n",
      "        \"item_name\",\n",
      "        \"price\"\n",
      "      ],\n",
      "      \"title\": \"LineItem\",\n",
      "      \"type\": \"object\"\n",
      "    }\n",
      "  },\n",
      "  \"description\": \"A representation of information from an invoice.\",\n",
      "  \"properties\": {\n",
      "    \"invoice_id\": {\n",
      "      \"description\": \"A unique identifier for this invoice, often a number\",\n",
      "      \"title\": \"Invoice Id\",\n",
      "      \"type\": \"string\"\n",
      "    },\n",
      "    \"date\": {\n",
      "      \"description\": \"The date this invoice was created\",\n",
      "      \"format\": \"date-time\",\n",
      "      \"title\": \"Date\",\n",
      "      \"type\": \"string\"\n",
      "    },\n",
      "    \"line_items\": {\n",
      "      \"description\": \"A list of all the items in this invoice\",\n",
      "      \"items\": {\n",
      "        \"$ref\": \"#/$defs/LineItem\"\n",
      "      },\n",
      "      \"title\": \"Line Items\",\n",
      "      \"type\": \"array\"\n",
      "    }\n",
      "  },\n",
      "  \"required\": [\n",
      "    \"invoice_id\",\n",
      "    \"date\",\n",
      "    \"line_items\"\n",
      "  ],\n",
      "  \"title\": \"Invoice\",\n",
      "  \"type\": \"object\"\n",
      "}\n"
     ]
    }
   ],
   "source": [
    "main_model_schema = Invoice.model_json_schema()  # (1)!\n",
    "print(json.dumps(main_model_schema, indent=2))  # (2)!"
   ]
  },
  {
   "cell_type": "markdown",
   "id": "46a5aee9-7f16-46a0-bff1-c7ef907c6982",
   "metadata": {},
   "source": [
    "## Using Structured LLMs"
   ]
  },
  {
   "cell_type": "code",
   "execution_count": 7,
   "id": "2382f37c-fdea-45d0-ba4e-da77a06996ea",
   "metadata": {},
   "outputs": [],
   "source": [
    "from datetime import datetime\n",
    "\n",
    "class LineItem(BaseModel):\n",
    "    \"\"\"A line item in an invoice.\"\"\"\n",
    "\n",
    "    item_name: str = Field(description=\"The name of this item\")\n",
    "    price: float = Field(description=\"The price of this item\")\n",
    "\n",
    "class Invoice(BaseModel):\n",
    "    \"\"\"A representation of information from an invoice.\"\"\"\n",
    "\n",
    "    invoice_id: str = Field(\n",
    "        description=\"A unique identifier for this invoice, often a number\"\n",
    "    )\n",
    "    date: datetime = Field(description=\"The date this invoice was created\")\n",
    "    line_items: list[LineItem] = Field(\n",
    "        description=\"A list of all the items in this invoice\"\n",
    "    )"
   ]
  },
  {
   "cell_type": "markdown",
   "id": "b1f1a51c-de79-43da-955f-eb2526f899c4",
   "metadata": {},
   "source": [
    "Note: for better parsing of PDFs, we recommend **LlamaParse**\n",
    "- https://docs.cloud.llamaindex.ai/llamaparse/getting_started"
   ]
  },
  {
   "cell_type": "code",
   "execution_count": 8,
   "id": "ba58965a-5eae-4d49-9ec7-56544f852bea",
   "metadata": {},
   "outputs": [
    {
     "name": "stdout",
     "output_type": "stream",
     "text": [
      "307\n"
     ]
    }
   ],
   "source": [
    "from llama_index.readers.file import PDFReader\n",
    "from pathlib import Path\n",
    "\n",
    "pdf_reader = PDFReader()\n",
    "# documents = pdf_reader.load_data(file=Path(\"./uber_receipt.pdf\"))\n",
    "documents = pdf_reader.load_data(file=Path(\"./data/uber_2021.pdf\"))  # 307 pages\n",
    "print(len(documents))"
   ]
  },
  {
   "cell_type": "code",
   "execution_count": 9,
   "id": "c6287e48-273f-4727-9313-c1525aaf5ce9",
   "metadata": {},
   "outputs": [],
   "source": [
    "text = documents[0].text"
   ]
  },
  {
   "cell_type": "code",
   "execution_count": 10,
   "id": "7d37dac2-8655-47cb-96ed-ff4a8781fbcd",
   "metadata": {},
   "outputs": [],
   "source": [
    "from llama_index.llms.openai import OpenAI\n",
    "\n",
    "# llm = OpenAI(model=\"gpt-4o\")\n",
    "llm = OpenAI(model=\"gpt-4o-mini\")\n",
    "sllm = llm.as_structured_llm(Invoice)\n",
    "\n",
    "response = sllm.complete(text)"
   ]
  },
  {
   "cell_type": "code",
   "execution_count": 11,
   "id": "9de7e858-fdf1-4510-9d6d-bddfbb156c29",
   "metadata": {},
   "outputs": [
    {
     "name": "stdout",
     "output_type": "stream",
     "text": [
      "{\n",
      "  \"invoice_id\": \"001-38902\",\n",
      "  \"date\": \"2021-12-31T00:00:00Z\",\n",
      "  \"line_items\": [\n",
      "    {\n",
      "      \"item_name\": \"Common Stock\",\n",
      "      \"price\": 1e-05\n",
      "    }\n",
      "  ]\n",
      "}\n"
     ]
    }
   ],
   "source": [
    "json_response = json.loads(response.text)\n",
    "print(json.dumps(json_response, indent=2))"
   ]
  },
  {
   "cell_type": "code",
   "execution_count": 12,
   "id": "00226b33-9821-45d3-9bc9-211903a11c4b",
   "metadata": {},
   "outputs": [
    {
     "name": "stdout",
     "output_type": "stream",
     "text": [
      "UNITED STATES\n",
      "SECURITIES AND EXCHANGE COMMISSIONWashington, D.C. 20549 ____________________________________________ FORM 10-K____________________________________________ (Mark One)☒ ANNUAL REPORT PURSUANT TO SECTION 13 OR 15(d) OF THE SECURITIES EXCHANGE ACT OF 1934For the fiscal year ended  December 31, 2021OR☐ TRANSITION REPORT PURSUANT TO SECTION 13 OR 15(d) OF THE SECURITIES EXCHANGE ACT OF 1934For the transition period from_____ to _____            Commission File Number: 001-38902____________________________________________ UBER TECHNOLOGIES, INC.(Exact name of registrant as specified in its charter)____________________________________________ Delaware45-2647441 (State or other jurisdiction of incorporation or organization)(I.R.S. Employer Identification No.) 1515 3rd StreetSan Francisco, California 94158(Address of principal executive offices, including zip code)(415) 612-8582 (Registrant’s telephone number, including area code) ____________________________________________Securities registered pursuant to Section 12(b) of the Act:Title of each class Trading Symbol(s) Name of each exchange on which registered Common Stock, par value $0.00001 per shareUBER New York Stock Exchange Securities registered pursuant to Section 12(g) of the Act: NoneIndicate by check mark whether the registrant is a well-known seasoned issuer, as defined in Rule 405 of the Securities Act. Yes  ☒  No ☐Indicate by check mark whether the registrant is not required to file reports pursuant to Section 13 or Section 15(d) of the Act. Yes  ☐  No  ☒Indicate by check mark whether the registrant (1) has filed all reports required to be filed by Section 13 or 15(d) of the Securities Exchange Act of 1934 during thepreceding 12 months (or for such shorter period that the registrant was required to file such reports), and (2) has been subject to such filing requirements for thepast 90 days. Yes  ☒  No ☐Indicate by check mark whether the registrant has submitted electronically every Interactive Data File required to be submitted pursuant to Rule 405 of RegulationS-T (§232.405 of this chapter) during the preceding 12 months (or for such shorter period that the registrant was required to submit such files). Yes  ☒  No ☐Indicate by check mark whether the registrant is a large accelerated filer, an accelerated filer, a non-accelerated filer, a smaller reporting company, or an emerginggrowth company. See the definitions of “large accelerated filer,” “accelerated filer,” “smaller reporting company,” and “emerging growth company” in Rule 12b-2of the Exchange Act.\n"
     ]
    }
   ],
   "source": [
    "print(text)"
   ]
  },
  {
   "cell_type": "code",
   "execution_count": 13,
   "id": "b5ee4178-1443-4abd-9fe3-4a7be3e2590e",
   "metadata": {},
   "outputs": [
    {
     "name": "stdout",
     "output_type": "stream",
     "text": [
      "Invoice(invoice_id='001-38902', date=datetime.datetime(2021, 12, 31, 0, 0, tzinfo=TzInfo(UTC)), line_items=[LineItem(item_name='Common Stock', price=1e-05)])\n"
     ]
    }
   ],
   "source": [
    "from pprint import pprint\n",
    "\n",
    "pprint(response.raw)"
   ]
  },
  {
   "cell_type": "code",
   "execution_count": 14,
   "id": "de52e567-b1f0-4f87-8610-e17f81c02383",
   "metadata": {},
   "outputs": [
    {
     "name": "stdout",
     "output_type": "stream",
     "text": [
      "invoice_id='001-38902' date=datetime.datetime(2021, 12, 31, 0, 0, tzinfo=TzInfo(UTC)) line_items=[LineItem(item_name='Common Stock', price=1e-05)]\n"
     ]
    }
   ],
   "source": [
    "print(response.raw)"
   ]
  }
 ],
 "metadata": {
  "kernelspec": {
   "display_name": "Python 3 (ipykernel)",
   "language": "python",
   "name": "python3"
  },
  "language_info": {
   "codemirror_mode": {
    "name": "ipython",
    "version": 3
   },
   "file_extension": ".py",
   "mimetype": "text/x-python",
   "name": "python",
   "nbconvert_exporter": "python",
   "pygments_lexer": "ipython3",
   "version": "3.11.4"
  }
 },
 "nbformat": 4,
 "nbformat_minor": 5
}
