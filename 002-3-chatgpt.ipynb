{
 "cells": [
  {
   "cell_type": "markdown",
   "id": "5ab3af41-4403-47af-874d-9fad67fb05b7",
   "metadata": {},
   "source": [
    "**by ChatGPT**"
   ]
  },
  {
   "cell_type": "markdown",
   "id": "55b3e754-98f4-429e-a4fa-5c41da774503",
   "metadata": {},
   "source": [
    "##  CrewAI AI Agents Example\n",
    "Here's a simple Python application with two different CrewAI agents communicating with each other:"
   ]
  },
  {
   "cell_type": "code",
   "execution_count": 1,
   "id": "861f24a5-e200-4967-ba04-ade21cb556a9",
   "metadata": {},
   "outputs": [],
   "source": [
    "from crewai import Agent, Task, Crew\n",
    "from openai import OpenAI\n",
    "import os\n",
    "\n",
    "from dotenv import load_dotenv"
   ]
  },
  {
   "cell_type": "code",
   "execution_count": 2,
   "id": "204a4cd3-eb61-4ee3-8a9d-ca6d82321811",
   "metadata": {},
   "outputs": [],
   "source": [
    "# Load environment variables \n",
    "# load_dotenv(override = True)\n",
    "# open_api_key = os.getenv('OPENAI_API_KEY')\n",
    "\n",
    "# Set environment variables\n",
    "# os.environ['OPENAI_API_KEY'] = open_api_key"
   ]
  },
  {
   "cell_type": "code",
   "execution_count": 3,
   "id": "68d8590c-1ecc-41fd-8bc5-994bd60fceee",
   "metadata": {},
   "outputs": [],
   "source": [
    "# Load environment variables (for API key)\n",
    "# load_dotenv()\n",
    "\n",
    "# Set up OpenAI API key\n",
    "# api_key = os.getenv(\"OPENAI_API_KEY\")\n",
    "# if not api_key:\n",
    "#     raise ValueError(\"Please set the OPENAI_API_KEY environment variable or add it to a .env file\")\n",
    "\n",
    "# Define the model to use\n",
    "# MODEL = \"gpt-4o-mini\""
   ]
  },
  {
   "cell_type": "code",
   "execution_count": 4,
   "id": "1e54ab7c-09da-46e5-97ae-ca9e823511fd",
   "metadata": {},
   "outputs": [],
   "source": [
    "# Load environment variables\n",
    "load_dotenv()\n",
    "os.environ[\"OPENAI_API_KEY\"] = os.getenv(\"OPENAI_API_KEY\")\n",
    "\n",
    "# Define the model to use\n",
    "MODEL = \"gpt-4o-mini\""
   ]
  },
  {
   "cell_type": "markdown",
   "id": "b1d4ff36-86ba-442a-9f22-96e3ac4586be",
   "metadata": {},
   "source": [
    "### Define two agents"
   ]
  },
  {
   "cell_type": "code",
   "execution_count": 5,
   "id": "08cdbe05-8440-45a5-aa64-d195eb4c29d0",
   "metadata": {},
   "outputs": [],
   "source": [
    "# Define two agents\n",
    "\n",
    "researcher = Agent(\n",
    "    role=\"Researcher\",\n",
    "    goal=\"Gather and summarize information on a given topic.\",\n",
    "    backstory=\"An AI specialized in researching and extracting key insights.\",\n",
    "    verbose=True,\n",
    "    allow_delegation=False,\n",
    "    model=MODEL\n",
    ")\n",
    "\n",
    "writer = Agent(\n",
    "    role=\"Writer\",\n",
    "    goal=\"Write an engaging article based on the research provided.\",\n",
    "    backstory=\"A talented AI writer that transforms research into well-structured content.\",\n",
    "    verbose=True,\n",
    "    allow_delegation=False,\n",
    "    model=MODEL\n",
    ")"
   ]
  },
  {
   "cell_type": "markdown",
   "id": "3acd6d97-99a2-4fe5-92e2-39a947a4582b",
   "metadata": {},
   "source": [
    "### Define tasks"
   ]
  },
  {
   "cell_type": "code",
   "execution_count": 6,
   "id": "1c9e87f1-ee2c-470d-b269-20ee84147159",
   "metadata": {},
   "outputs": [],
   "source": [
    "# Define tasks\n",
    "\n",
    "research_task = Task(\n",
    "    description=\"Find key facts and insights about the latest advancements in AI.\",\n",
    "    agent=researcher,\n",
    "    expected_output=\"\"\"Key facts and insights about the latest advancements in AI, \n",
    "    short answer (5 facts max) in english and czech language, separated as 'EN', 'CZ'.\"\"\",\n",
    ")\n",
    "\n",
    "writing_task = Task(\n",
    "    description=\"Write a short article based on the research findings.\",\n",
    "    agent=writer,\n",
    "    depends_on=[research_task],\n",
    "    expected_output=\"\"\"Short article based on the research findings, \n",
    "    short answer (200 words max) in english and czech language, separated as 'EN', 'CZ'.\"\"\",\n",
    ")"
   ]
  },
  {
   "cell_type": "markdown",
   "id": "a27666d1-487b-4982-971a-89b5488a1a2b",
   "metadata": {},
   "source": [
    "### Create a crew"
   ]
  },
  {
   "cell_type": "code",
   "execution_count": 8,
   "id": "bc8b8990-bd08-40ec-b559-0a8867f7eecc",
   "metadata": {},
   "outputs": [],
   "source": [
    "# Create a crew\n",
    "\n",
    "crew = Crew(\n",
    "    agents=[researcher, writer],\n",
    "    tasks=[research_task, writing_task]\n",
    ")"
   ]
  },
  {
   "cell_type": "markdown",
   "id": "4a64c3b8-03b5-43f6-8ae5-e2e8cb7575ba",
   "metadata": {},
   "source": [
    "### Example usage"
   ]
  },
  {
   "cell_type": "code",
   "execution_count": 9,
   "id": "29595323-e2f6-4b02-8efd-57e5572f3d68",
   "metadata": {},
   "outputs": [
    {
     "name": "stdout",
     "output_type": "stream",
     "text": [
      "\u001b[1m\u001b[94m \n",
      "[2025-03-16 13:41:45][🚀 CREW 'CREW' STARTED, 2AF6B323-152D-457A-AB4F-7CBFDDF17223]: 2025-03-16 13:41:45.724957\u001b[00m\n",
      "\u001b[1m\u001b[94m \n",
      "[2025-03-16 13:41:45][📋 TASK STARTED: FIND KEY FACTS AND INSIGHTS ABOUT THE LATEST ADVANCEMENTS IN AI.]: 2025-03-16 13:41:45.740956\u001b[00m\n",
      "\u001b[1m\u001b[94m \n",
      "[2025-03-16 13:41:45][🤖 AGENT 'RESEARCHER' STARTED TASK]: 2025-03-16 13:41:45.742956\u001b[00m\n",
      "\u001b[1m\u001b[95m# Agent:\u001b[00m \u001b[1m\u001b[92mResearcher\u001b[00m\n",
      "\u001b[95m## Task:\u001b[00m \u001b[92mFind key facts and insights about the latest advancements in AI.\u001b[00m\n",
      "\u001b[1m\u001b[94m \n",
      "[2025-03-16 13:41:45][🤖 LLM CALL STARTED]: 2025-03-16 13:41:45.742956\u001b[00m\n",
      "\u001b[1m\u001b[94m \n",
      "[2025-03-16 13:41:49][✅ LLM CALL COMPLETED]: 2025-03-16 13:41:49.894865\u001b[00m\n",
      "\n",
      "\n",
      "\u001b[1m\u001b[95m# Agent:\u001b[00m \u001b[1m\u001b[92mResearcher\u001b[00m\n",
      "\u001b[95m## Final Answer:\u001b[00m \u001b[92m\n",
      "EN:  \n",
      "1. AI models, like GPT-4, are increasingly capable of understanding context and generating human-like responses.  \n",
      "2. Advancements in AI ethics are being prioritized, focusing on fairness, transparency, and accountability in AI systems.  \n",
      "3. The integration of AI in healthcare is revolutionizing diagnostics and personalized treatment plans, improving patient outcomes.  \n",
      "4. AI-powered automation in industries such as manufacturing and logistics is enhancing efficiency and reducing operational costs.  \n",
      "5. There is a growing trend towards the use of AI in creative fields, including music and visual arts, enabling new forms of artistic expression.  \n",
      "\n",
      "CZ:  \n",
      "1. AI modely, jako je GPT-4, mají stále lepší schopnost chápání kontextu a generování odpovědí podobných lidským.  \n",
      "2. Pokročilé etiky AI jsou prioritou, zaměřují se na spravedlnost, transparentnost a odpovědnost v systémech AI.  \n",
      "3. Integrace AI ve zdravotnictví revolucionalizuje diagnostiku a personalizované léčebné plány, zlepšuje výsledky pacientů.  \n",
      "4. Automatizace poháněná AI v odvětvích, jako je výroba a logistika, zvyšuje efektivitu a snižuje provozní náklady.  \n",
      "5. Roste trend využití AI v kreativních oborech, včetně hudby a výtvarného umění, což umožňuje nové formy uměleckého vyjádření.\u001b[00m\n",
      "\n",
      "\n",
      "\u001b[1m\u001b[94m \n",
      "[2025-03-16 13:41:49][✅ AGENT 'RESEARCHER' COMPLETED TASK]: 2025-03-16 13:41:49.895893\u001b[00m\n",
      "\u001b[1m\u001b[94m \n",
      "[2025-03-16 13:41:49][✅ TASK COMPLETED: FIND KEY FACTS AND INSIGHTS ABOUT THE LATEST ADVANCEMENTS IN AI.]: 2025-03-16 13:41:49.895893\u001b[00m\n",
      "\u001b[1m\u001b[94m \n",
      "[2025-03-16 13:41:49][📋 TASK STARTED: WRITE A SHORT ARTICLE BASED ON THE RESEARCH FINDINGS.]: 2025-03-16 13:41:49.903864\u001b[00m\n",
      "\u001b[1m\u001b[94m \n",
      "[2025-03-16 13:41:49][🤖 AGENT 'WRITER' STARTED TASK]: 2025-03-16 13:41:49.905866\u001b[00m\n",
      "\u001b[1m\u001b[95m# Agent:\u001b[00m \u001b[1m\u001b[92mWriter\u001b[00m\n",
      "\u001b[95m## Task:\u001b[00m \u001b[92mWrite a short article based on the research findings.\u001b[00m\n",
      "\u001b[1m\u001b[94m \n",
      "[2025-03-16 13:41:49][🤖 LLM CALL STARTED]: 2025-03-16 13:41:49.905866\u001b[00m\n",
      "\u001b[1m\u001b[94m \n",
      "[2025-03-16 13:41:56][✅ LLM CALL COMPLETED]: 2025-03-16 13:41:56.441134\u001b[00m\n",
      "\n",
      "\n",
      "\u001b[1m\u001b[95m# Agent:\u001b[00m \u001b[1m\u001b[92mWriter\u001b[00m\n",
      "\u001b[95m## Final Answer:\u001b[00m \u001b[92m\n",
      "**EN:**  \n",
      "Artificial Intelligence (AI) is transforming various sectors through remarkable advancements. Notably, models like GPT-4 are becoming adept at understanding context and generating responses that resemble human conversation. Ethical considerations in AI are gaining momentum, with a focus on ensuring fairness, transparency, and accountability. In healthcare, AI is revolutionizing the industry by enhancing diagnostics and enabling personalized treatment plans, which ultimately leads to better patient outcomes. Furthermore, AI-powered automation is streamlining processes in manufacturing and logistics, significantly improving efficiency and cutting operational costs. Creative fields are also witnessing a surge in AI utilization, as artists explore new avenues of expression in music and visual arts. This evolution of AI showcases its pivotal role in shaping the future across diverse domains.\n",
      "\n",
      "**CZ:**  \n",
      "Umělá inteligence (AI) transformuje různé sektory díky pozoruhodným pokrokům. Modely jako GPT-4 se stávají schopnými chápat kontext a generovat odpovědi, které se podobají lidské konverzaci. Etické aspekty AI nabývají na důležitosti, přičemž se zaměřují na zajištění spravedlnosti, transparentnosti a odpovědnosti. Ve zdravotnictví AI revolucionalizuje odvětví tím, že zlepšuje diagnostiku a umožňuje personalizované léčebné plány, což v konečném důsledku vede k lepším výsledkům pacientů. Dále automatizace poháněná AI zjednodušuje procesy ve výrobě a logistice, zvyšuje efektivitu a snižuje provozní náklady. Kreativní obory rovněž zažívají vzestup využití AI, neboť umělci objevují nové cesty vyjádření v hudbě a výtvarném umění. Tento vývoj AI ukazuje její klíčovou roli při formování budoucnosti v různých oblastech.\u001b[00m\n",
      "\n",
      "\n",
      "\u001b[1m\u001b[94m \n",
      "[2025-03-16 13:41:56][✅ AGENT 'WRITER' COMPLETED TASK]: 2025-03-16 13:41:56.442100\u001b[00m\n",
      "\u001b[1m\u001b[94m \n",
      "[2025-03-16 13:41:56][✅ TASK COMPLETED: WRITE A SHORT ARTICLE BASED ON THE RESEARCH FINDINGS.]: 2025-03-16 13:41:56.442100\u001b[00m\n",
      "\u001b[1m\u001b[94m \n",
      "[2025-03-16 13:41:56][✅ CREW 'CREW' COMPLETED, 2AF6B323-152D-457A-AB4F-7CBFDDF17223]: 2025-03-16 13:41:56.450100\u001b[00m\n"
     ]
    }
   ],
   "source": [
    "# Execute tasks\n",
    "\n",
    "result = crew.kickoff()"
   ]
  },
  {
   "cell_type": "code",
   "execution_count": 10,
   "id": "73a014e7-3bfa-4976-9cb4-32a27f19e345",
   "metadata": {},
   "outputs": [
    {
     "name": "stdout",
     "output_type": "stream",
     "text": [
      "Final Output: **EN:**  \n",
      "Artificial Intelligence (AI) is transforming various sectors through remarkable advancements. Notably, models like GPT-4 are becoming adept at understanding context and generating responses that resemble human conversation. Ethical considerations in AI are gaining momentum, with a focus on ensuring fairness, transparency, and accountability. In healthcare, AI is revolutionizing the industry by enhancing diagnostics and enabling personalized treatment plans, which ultimately leads to better patient outcomes. Furthermore, AI-powered automation is streamlining processes in manufacturing and logistics, significantly improving efficiency and cutting operational costs. Creative fields are also witnessing a surge in AI utilization, as artists explore new avenues of expression in music and visual arts. This evolution of AI showcases its pivotal role in shaping the future across diverse domains.\n",
      "\n",
      "**CZ:**  \n",
      "Umělá inteligence (AI) transformuje různé sektory díky pozoruhodným pokrokům. Modely jako GPT-4 se stávají schopnými chápat kontext a generovat odpovědi, které se podobají lidské konverzaci. Etické aspekty AI nabývají na důležitosti, přičemž se zaměřují na zajištění spravedlnosti, transparentnosti a odpovědnosti. Ve zdravotnictví AI revolucionalizuje odvětví tím, že zlepšuje diagnostiku a umožňuje personalizované léčebné plány, což v konečném důsledku vede k lepším výsledkům pacientů. Dále automatizace poháněná AI zjednodušuje procesy ve výrobě a logistice, zvyšuje efektivitu a snižuje provozní náklady. Kreativní obory rovněž zažívají vzestup využití AI, neboť umělci objevují nové cesty vyjádření v hudbě a výtvarném umění. Tento vývoj AI ukazuje její klíčovou roli při formování budoucnosti v různých oblastech.\n"
     ]
    }
   ],
   "source": [
    "print(\"Final Output:\", result)"
   ]
  },
  {
   "cell_type": "markdown",
   "id": "0f9210f4-5e9d-4cfb-b115-9b20126b8c48",
   "metadata": {
    "jp-MarkdownHeadingCollapsed": true
   },
   "source": [
    "## GENERATED CODE"
   ]
  },
  {
   "cell_type": "code",
   "execution_count": null,
   "id": "9d62f075-173a-41f6-80c2-8b651fbd634d",
   "metadata": {},
   "outputs": [],
   "source": [
    "# # Install required packages\n",
    "# # pip install crewai openai\n",
    "\n",
    "# from crewai import Agent, Task, Crew\n",
    "# from openai import OpenAI\n",
    "# import os\n",
    "\n",
    "# # Set up OpenAI API key\n",
    "# os.environ[\"OPENAI_API_KEY\"] = \"your_openai_api_key_here\"\n",
    "\n",
    "# # Define two agents\n",
    "# researcher = Agent(\n",
    "#     role=\"Researcher\",\n",
    "#     goal=\"Gather and summarize information on a given topic.\",\n",
    "#     backstory=\"An AI specialized in researching and extracting key insights.\",\n",
    "#     verbose=True,\n",
    "#     allow_delegation=False,\n",
    "#     llm=OpenAI(model=\"gpt-4o\")\n",
    "# )\n",
    "\n",
    "# writer = Agent(\n",
    "#     role=\"Writer\",\n",
    "#     goal=\"Write an engaging article based on the research provided.\",\n",
    "#     backstory=\"A talented AI writer that transforms research into well-structured content.\",\n",
    "#     verbose=True,\n",
    "#     allow_delegation=False,\n",
    "#     llm=OpenAI(model=\"gpt-4o\")\n",
    "# )\n",
    "\n",
    "# # Define tasks\n",
    "# research_task = Task(\n",
    "#     description=\"Find key facts and insights about the latest advancements in AI.\",\n",
    "#     agent=researcher\n",
    "# )\n",
    "\n",
    "# writing_task = Task(\n",
    "#     description=\"Write a short article based on the research findings.\",\n",
    "#     agent=writer,\n",
    "#     depends_on=[research_task]\n",
    "# )\n",
    "\n",
    "# # Create a crew\n",
    "# crew = Crew(\n",
    "#     agents=[researcher, writer],\n",
    "#     tasks=[research_task, writing_task]\n",
    "# )\n",
    "\n",
    "# # Execute tasks\n",
    "# result = crew.kickoff()\n",
    "# print(\"Final Output:\", result)"
   ]
  }
 ],
 "metadata": {
  "kernelspec": {
   "display_name": "Python 3 (ipykernel)",
   "language": "python",
   "name": "python3"
  },
  "language_info": {
   "codemirror_mode": {
    "name": "ipython",
    "version": 3
   },
   "file_extension": ".py",
   "mimetype": "text/x-python",
   "name": "python",
   "nbconvert_exporter": "python",
   "pygments_lexer": "ipython3",
   "version": "3.11.4"
  }
 },
 "nbformat": 4,
 "nbformat_minor": 5
}
